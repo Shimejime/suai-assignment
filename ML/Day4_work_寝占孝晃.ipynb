{
 "metadata": {
  "language_info": {
   "codemirror_mode": {
    "name": "ipython",
    "version": 3
   },
   "file_extension": ".py",
   "mimetype": "text/x-python",
   "name": "python",
   "nbconvert_exporter": "python",
   "pygments_lexer": "ipython3",
   "version": "3.7.9-final"
  },
  "orig_nbformat": 2,
  "kernelspec": {
   "name": "python3",
   "display_name": "Python 3.7.9 64-bit ('suai': conda)",
   "metadata": {
    "interpreter": {
     "hash": "4dc3b3aa06714fbd0824c14c5973976af74c501bf341931c3996a815bd0e0e15"
    }
   }
  }
 },
 "nbformat": 4,
 "nbformat_minor": 2,
 "cells": [
  {
   "source": [
    "## 通し課題➀ クラス分類"
   ],
   "cell_type": "markdown",
   "metadata": {}
  },
  {
   "cell_type": "code",
   "execution_count": 1,
   "metadata": {},
   "outputs": [],
   "source": [
    "import numpy as np\n",
    "import pandas as pd\n",
    "import matplotlib.pyplot as plt\n",
    "import seaborn as sns"
   ]
  },
  {
   "source": [
    "### 1. データの読み込みとデータ表示"
   ],
   "cell_type": "markdown",
   "metadata": {}
  },
  {
   "cell_type": "code",
   "execution_count": 2,
   "metadata": {},
   "outputs": [],
   "source": [
    "df = pd.read_csv('input/ks-projects-201801.csv')"
   ]
  },
  {
   "cell_type": "code",
   "execution_count": 3,
   "metadata": {},
   "outputs": [
    {
     "output_type": "display_data",
     "data": {
      "text/plain": "           ID                                               name  \\\n0  1000002330                    The Songs of Adelaide & Abullah   \n1  1000003930      Greeting From Earth: ZGAC Arts Capsule For ET   \n2  1000004038                                     Where is Hank?   \n3  1000007540  ToshiCapital Rekordz Needs Help to Complete Album   \n4  1000011046  Community Film Project: The Art of Neighborhoo...   \n\n         category main_category currency    deadline     goal  \\\n0          Poetry    Publishing      GBP  2015-10-09   1000.0   \n1  Narrative Film  Film & Video      USD  2017-11-01  30000.0   \n2  Narrative Film  Film & Video      USD  2013-02-26  45000.0   \n3           Music         Music      USD  2012-04-16   5000.0   \n4    Film & Video  Film & Video      USD  2015-08-29  19500.0   \n\n              launched  pledged     state  backers country  usd pledged  \\\n0  2015-08-11 12:12:28      0.0    failed        0      GB          0.0   \n1  2017-09-02 04:43:57   2421.0    failed       15      US        100.0   \n2  2013-01-12 00:20:50    220.0    failed        3      US        220.0   \n3  2012-03-17 03:24:11      1.0    failed        1      US          1.0   \n4  2015-07-04 08:35:03   1283.0  canceled       14      US       1283.0   \n\n   usd_pledged_real  usd_goal_real  \n0               0.0        1533.95  \n1            2421.0       30000.00  \n2             220.0       45000.00  \n3               1.0        5000.00  \n4            1283.0       19500.00  ",
      "text/html": "<div>\n<style scoped>\n    .dataframe tbody tr th:only-of-type {\n        vertical-align: middle;\n    }\n\n    .dataframe tbody tr th {\n        vertical-align: top;\n    }\n\n    .dataframe thead th {\n        text-align: right;\n    }\n</style>\n<table border=\"1\" class=\"dataframe\">\n  <thead>\n    <tr style=\"text-align: right;\">\n      <th></th>\n      <th>ID</th>\n      <th>name</th>\n      <th>category</th>\n      <th>main_category</th>\n      <th>currency</th>\n      <th>deadline</th>\n      <th>goal</th>\n      <th>launched</th>\n      <th>pledged</th>\n      <th>state</th>\n      <th>backers</th>\n      <th>country</th>\n      <th>usd pledged</th>\n      <th>usd_pledged_real</th>\n      <th>usd_goal_real</th>\n    </tr>\n  </thead>\n  <tbody>\n    <tr>\n      <th>0</th>\n      <td>1000002330</td>\n      <td>The Songs of Adelaide &amp; Abullah</td>\n      <td>Poetry</td>\n      <td>Publishing</td>\n      <td>GBP</td>\n      <td>2015-10-09</td>\n      <td>1000.0</td>\n      <td>2015-08-11 12:12:28</td>\n      <td>0.0</td>\n      <td>failed</td>\n      <td>0</td>\n      <td>GB</td>\n      <td>0.0</td>\n      <td>0.0</td>\n      <td>1533.95</td>\n    </tr>\n    <tr>\n      <th>1</th>\n      <td>1000003930</td>\n      <td>Greeting From Earth: ZGAC Arts Capsule For ET</td>\n      <td>Narrative Film</td>\n      <td>Film &amp; Video</td>\n      <td>USD</td>\n      <td>2017-11-01</td>\n      <td>30000.0</td>\n      <td>2017-09-02 04:43:57</td>\n      <td>2421.0</td>\n      <td>failed</td>\n      <td>15</td>\n      <td>US</td>\n      <td>100.0</td>\n      <td>2421.0</td>\n      <td>30000.00</td>\n    </tr>\n    <tr>\n      <th>2</th>\n      <td>1000004038</td>\n      <td>Where is Hank?</td>\n      <td>Narrative Film</td>\n      <td>Film &amp; Video</td>\n      <td>USD</td>\n      <td>2013-02-26</td>\n      <td>45000.0</td>\n      <td>2013-01-12 00:20:50</td>\n      <td>220.0</td>\n      <td>failed</td>\n      <td>3</td>\n      <td>US</td>\n      <td>220.0</td>\n      <td>220.0</td>\n      <td>45000.00</td>\n    </tr>\n    <tr>\n      <th>3</th>\n      <td>1000007540</td>\n      <td>ToshiCapital Rekordz Needs Help to Complete Album</td>\n      <td>Music</td>\n      <td>Music</td>\n      <td>USD</td>\n      <td>2012-04-16</td>\n      <td>5000.0</td>\n      <td>2012-03-17 03:24:11</td>\n      <td>1.0</td>\n      <td>failed</td>\n      <td>1</td>\n      <td>US</td>\n      <td>1.0</td>\n      <td>1.0</td>\n      <td>5000.00</td>\n    </tr>\n    <tr>\n      <th>4</th>\n      <td>1000011046</td>\n      <td>Community Film Project: The Art of Neighborhoo...</td>\n      <td>Film &amp; Video</td>\n      <td>Film &amp; Video</td>\n      <td>USD</td>\n      <td>2015-08-29</td>\n      <td>19500.0</td>\n      <td>2015-07-04 08:35:03</td>\n      <td>1283.0</td>\n      <td>canceled</td>\n      <td>14</td>\n      <td>US</td>\n      <td>1283.0</td>\n      <td>1283.0</td>\n      <td>19500.00</td>\n    </tr>\n  </tbody>\n</table>\n</div>"
     },
     "metadata": {}
    }
   ],
   "source": [
    "display(df.head(5))"
   ]
  },
  {
   "cell_type": "code",
   "execution_count": 4,
   "metadata": {},
   "outputs": [
    {
     "output_type": "display_data",
     "data": {
      "text/plain": "                 ID          goal       pledged        backers   usd pledged  \\\ncount  3.786610e+05  3.786610e+05  3.786610e+05  378661.000000  3.748640e+05   \nmean   1.074731e+09  4.908079e+04  9.682979e+03     105.617476  7.036729e+03   \nstd    6.190862e+08  1.183391e+06  9.563601e+04     907.185035  7.863975e+04   \nmin    5.971000e+03  1.000000e-02  0.000000e+00       0.000000  0.000000e+00   \n25%    5.382635e+08  2.000000e+03  3.000000e+01       2.000000  1.698000e+01   \n50%    1.075276e+09  5.200000e+03  6.200000e+02      12.000000  3.947200e+02   \n75%    1.610149e+09  1.600000e+04  4.076000e+03      56.000000  3.034090e+03   \nmax    2.147476e+09  1.000000e+08  2.033899e+07  219382.000000  2.033899e+07   \n\n       usd_pledged_real  usd_goal_real  \ncount      3.786610e+05   3.786610e+05  \nmean       9.058924e+03   4.545440e+04  \nstd        9.097334e+04   1.152950e+06  \nmin        0.000000e+00   1.000000e-02  \n25%        3.100000e+01   2.000000e+03  \n50%        6.243300e+02   5.500000e+03  \n75%        4.050000e+03   1.550000e+04  \nmax        2.033899e+07   1.663614e+08  ",
      "text/html": "<div>\n<style scoped>\n    .dataframe tbody tr th:only-of-type {\n        vertical-align: middle;\n    }\n\n    .dataframe tbody tr th {\n        vertical-align: top;\n    }\n\n    .dataframe thead th {\n        text-align: right;\n    }\n</style>\n<table border=\"1\" class=\"dataframe\">\n  <thead>\n    <tr style=\"text-align: right;\">\n      <th></th>\n      <th>ID</th>\n      <th>goal</th>\n      <th>pledged</th>\n      <th>backers</th>\n      <th>usd pledged</th>\n      <th>usd_pledged_real</th>\n      <th>usd_goal_real</th>\n    </tr>\n  </thead>\n  <tbody>\n    <tr>\n      <th>count</th>\n      <td>3.786610e+05</td>\n      <td>3.786610e+05</td>\n      <td>3.786610e+05</td>\n      <td>378661.000000</td>\n      <td>3.748640e+05</td>\n      <td>3.786610e+05</td>\n      <td>3.786610e+05</td>\n    </tr>\n    <tr>\n      <th>mean</th>\n      <td>1.074731e+09</td>\n      <td>4.908079e+04</td>\n      <td>9.682979e+03</td>\n      <td>105.617476</td>\n      <td>7.036729e+03</td>\n      <td>9.058924e+03</td>\n      <td>4.545440e+04</td>\n    </tr>\n    <tr>\n      <th>std</th>\n      <td>6.190862e+08</td>\n      <td>1.183391e+06</td>\n      <td>9.563601e+04</td>\n      <td>907.185035</td>\n      <td>7.863975e+04</td>\n      <td>9.097334e+04</td>\n      <td>1.152950e+06</td>\n    </tr>\n    <tr>\n      <th>min</th>\n      <td>5.971000e+03</td>\n      <td>1.000000e-02</td>\n      <td>0.000000e+00</td>\n      <td>0.000000</td>\n      <td>0.000000e+00</td>\n      <td>0.000000e+00</td>\n      <td>1.000000e-02</td>\n    </tr>\n    <tr>\n      <th>25%</th>\n      <td>5.382635e+08</td>\n      <td>2.000000e+03</td>\n      <td>3.000000e+01</td>\n      <td>2.000000</td>\n      <td>1.698000e+01</td>\n      <td>3.100000e+01</td>\n      <td>2.000000e+03</td>\n    </tr>\n    <tr>\n      <th>50%</th>\n      <td>1.075276e+09</td>\n      <td>5.200000e+03</td>\n      <td>6.200000e+02</td>\n      <td>12.000000</td>\n      <td>3.947200e+02</td>\n      <td>6.243300e+02</td>\n      <td>5.500000e+03</td>\n    </tr>\n    <tr>\n      <th>75%</th>\n      <td>1.610149e+09</td>\n      <td>1.600000e+04</td>\n      <td>4.076000e+03</td>\n      <td>56.000000</td>\n      <td>3.034090e+03</td>\n      <td>4.050000e+03</td>\n      <td>1.550000e+04</td>\n    </tr>\n    <tr>\n      <th>max</th>\n      <td>2.147476e+09</td>\n      <td>1.000000e+08</td>\n      <td>2.033899e+07</td>\n      <td>219382.000000</td>\n      <td>2.033899e+07</td>\n      <td>2.033899e+07</td>\n      <td>1.663614e+08</td>\n    </tr>\n  </tbody>\n</table>\n</div>"
     },
     "metadata": {}
    },
    {
     "output_type": "stream",
     "name": "stdout",
     "text": [
      "<class 'pandas.core.frame.DataFrame'>\nRangeIndex: 378661 entries, 0 to 378660\nData columns (total 15 columns):\nID                  378661 non-null int64\nname                378657 non-null object\ncategory            378661 non-null object\nmain_category       378661 non-null object\ncurrency            378661 non-null object\ndeadline            378661 non-null object\ngoal                378661 non-null float64\nlaunched            378661 non-null object\npledged             378661 non-null float64\nstate               378661 non-null object\nbackers             378661 non-null int64\ncountry             378661 non-null object\nusd pledged         374864 non-null float64\nusd_pledged_real    378661 non-null float64\nusd_goal_real       378661 non-null float64\ndtypes: float64(5), int64(2), object(8)\nmemory usage: 43.3+ MB\nNone\nID                     0\nname                   4\ncategory               0\nmain_category          0\ncurrency               0\ndeadline               0\ngoal                   0\nlaunched               0\npledged                0\nstate                  0\nbackers                0\ncountry                0\nusd pledged         3797\nusd_pledged_real       0\nusd_goal_real          0\ndtype: int64\n"
     ]
    }
   ],
   "source": [
    "display(df.describe())\n",
    "print(df.info())\n",
    "print(df.isnull().sum())"
   ]
  },
  {
   "cell_type": "code",
   "execution_count": 5,
   "metadata": {},
   "outputs": [
    {
     "output_type": "execute_result",
     "data": {
      "text/plain": [
       "           ID                                               name  \\\n",
       "0  1000002330                    The Songs of Adelaide & Abullah   \n",
       "1  1000003930      Greeting From Earth: ZGAC Arts Capsule For ET   \n",
       "2  1000004038                                     Where is Hank?   \n",
       "3  1000007540  ToshiCapital Rekordz Needs Help to Complete Album   \n",
       "4  1000011046  Community Film Project: The Art of Neighborhoo...   \n",
       "5  1000014025                               Monarch Espresso Bar   \n",
       "6  1000023410  Support Solar Roasted Coffee & Green Energy!  ...   \n",
       "7  1000030581  Chaser Strips. Our Strips make Shots their B*tch!   \n",
       "\n",
       "         category main_category currency   deadline     goal  \\\n",
       "0          Poetry    Publishing      GBP 2015-10-09   1000.0   \n",
       "1  Narrative Film  Film & Video      USD 2017-11-01  30000.0   \n",
       "2  Narrative Film  Film & Video      USD 2013-02-26  45000.0   \n",
       "3           Music         Music      USD 2012-04-16   5000.0   \n",
       "4    Film & Video  Film & Video      USD 2015-08-29  19500.0   \n",
       "5     Restaurants          Food      USD 2016-04-01  50000.0   \n",
       "6            Food          Food      USD 2014-12-21   1000.0   \n",
       "7          Drinks          Food      USD 2016-03-17  25000.0   \n",
       "\n",
       "             launched  pledged  state  backers country  usd pledged  \\\n",
       "0 2015-08-11 12:12:28      0.0      0        0      GB          0.0   \n",
       "1 2017-09-02 04:43:57   2421.0      0       15      US        100.0   \n",
       "2 2013-01-12 00:20:50    220.0      0        3      US        220.0   \n",
       "3 2012-03-17 03:24:11      1.0      0        1      US          1.0   \n",
       "4 2015-07-04 08:35:03   1283.0      0       14      US       1283.0   \n",
       "5 2016-02-26 13:38:27  52375.0      1      224      US      52375.0   \n",
       "6 2014-12-01 18:30:44   1205.0      1       16      US       1205.0   \n",
       "7 2016-02-01 20:05:12    453.0      0       40      US        453.0   \n",
       "\n",
       "   usd_pledged_real  usd_goal_real  duration  \n",
       "0               0.0        1533.95        58  \n",
       "1            2421.0       30000.00        59  \n",
       "2             220.0       45000.00        44  \n",
       "3               1.0        5000.00        29  \n",
       "4            1283.0       19500.00        55  \n",
       "5           52375.0       50000.00        34  \n",
       "6            1205.0        1000.00        19  \n",
       "7             453.0       25000.00        44  "
      ],
      "text/html": "<div>\n<style scoped>\n    .dataframe tbody tr th:only-of-type {\n        vertical-align: middle;\n    }\n\n    .dataframe tbody tr th {\n        vertical-align: top;\n    }\n\n    .dataframe thead th {\n        text-align: right;\n    }\n</style>\n<table border=\"1\" class=\"dataframe\">\n  <thead>\n    <tr style=\"text-align: right;\">\n      <th></th>\n      <th>ID</th>\n      <th>name</th>\n      <th>category</th>\n      <th>main_category</th>\n      <th>currency</th>\n      <th>deadline</th>\n      <th>goal</th>\n      <th>launched</th>\n      <th>pledged</th>\n      <th>state</th>\n      <th>backers</th>\n      <th>country</th>\n      <th>usd pledged</th>\n      <th>usd_pledged_real</th>\n      <th>usd_goal_real</th>\n      <th>duration</th>\n    </tr>\n  </thead>\n  <tbody>\n    <tr>\n      <th>0</th>\n      <td>1000002330</td>\n      <td>The Songs of Adelaide &amp; Abullah</td>\n      <td>Poetry</td>\n      <td>Publishing</td>\n      <td>GBP</td>\n      <td>2015-10-09</td>\n      <td>1000.0</td>\n      <td>2015-08-11 12:12:28</td>\n      <td>0.0</td>\n      <td>0</td>\n      <td>0</td>\n      <td>GB</td>\n      <td>0.0</td>\n      <td>0.0</td>\n      <td>1533.95</td>\n      <td>58</td>\n    </tr>\n    <tr>\n      <th>1</th>\n      <td>1000003930</td>\n      <td>Greeting From Earth: ZGAC Arts Capsule For ET</td>\n      <td>Narrative Film</td>\n      <td>Film &amp; Video</td>\n      <td>USD</td>\n      <td>2017-11-01</td>\n      <td>30000.0</td>\n      <td>2017-09-02 04:43:57</td>\n      <td>2421.0</td>\n      <td>0</td>\n      <td>15</td>\n      <td>US</td>\n      <td>100.0</td>\n      <td>2421.0</td>\n      <td>30000.00</td>\n      <td>59</td>\n    </tr>\n    <tr>\n      <th>2</th>\n      <td>1000004038</td>\n      <td>Where is Hank?</td>\n      <td>Narrative Film</td>\n      <td>Film &amp; Video</td>\n      <td>USD</td>\n      <td>2013-02-26</td>\n      <td>45000.0</td>\n      <td>2013-01-12 00:20:50</td>\n      <td>220.0</td>\n      <td>0</td>\n      <td>3</td>\n      <td>US</td>\n      <td>220.0</td>\n      <td>220.0</td>\n      <td>45000.00</td>\n      <td>44</td>\n    </tr>\n    <tr>\n      <th>3</th>\n      <td>1000007540</td>\n      <td>ToshiCapital Rekordz Needs Help to Complete Album</td>\n      <td>Music</td>\n      <td>Music</td>\n      <td>USD</td>\n      <td>2012-04-16</td>\n      <td>5000.0</td>\n      <td>2012-03-17 03:24:11</td>\n      <td>1.0</td>\n      <td>0</td>\n      <td>1</td>\n      <td>US</td>\n      <td>1.0</td>\n      <td>1.0</td>\n      <td>5000.00</td>\n      <td>29</td>\n    </tr>\n    <tr>\n      <th>4</th>\n      <td>1000011046</td>\n      <td>Community Film Project: The Art of Neighborhoo...</td>\n      <td>Film &amp; Video</td>\n      <td>Film &amp; Video</td>\n      <td>USD</td>\n      <td>2015-08-29</td>\n      <td>19500.0</td>\n      <td>2015-07-04 08:35:03</td>\n      <td>1283.0</td>\n      <td>0</td>\n      <td>14</td>\n      <td>US</td>\n      <td>1283.0</td>\n      <td>1283.0</td>\n      <td>19500.00</td>\n      <td>55</td>\n    </tr>\n    <tr>\n      <th>5</th>\n      <td>1000014025</td>\n      <td>Monarch Espresso Bar</td>\n      <td>Restaurants</td>\n      <td>Food</td>\n      <td>USD</td>\n      <td>2016-04-01</td>\n      <td>50000.0</td>\n      <td>2016-02-26 13:38:27</td>\n      <td>52375.0</td>\n      <td>1</td>\n      <td>224</td>\n      <td>US</td>\n      <td>52375.0</td>\n      <td>52375.0</td>\n      <td>50000.00</td>\n      <td>34</td>\n    </tr>\n    <tr>\n      <th>6</th>\n      <td>1000023410</td>\n      <td>Support Solar Roasted Coffee &amp; Green Energy!  ...</td>\n      <td>Food</td>\n      <td>Food</td>\n      <td>USD</td>\n      <td>2014-12-21</td>\n      <td>1000.0</td>\n      <td>2014-12-01 18:30:44</td>\n      <td>1205.0</td>\n      <td>1</td>\n      <td>16</td>\n      <td>US</td>\n      <td>1205.0</td>\n      <td>1205.0</td>\n      <td>1000.00</td>\n      <td>19</td>\n    </tr>\n    <tr>\n      <th>7</th>\n      <td>1000030581</td>\n      <td>Chaser Strips. Our Strips make Shots their B*tch!</td>\n      <td>Drinks</td>\n      <td>Food</td>\n      <td>USD</td>\n      <td>2016-03-17</td>\n      <td>25000.0</td>\n      <td>2016-02-01 20:05:12</td>\n      <td>453.0</td>\n      <td>0</td>\n      <td>40</td>\n      <td>US</td>\n      <td>453.0</td>\n      <td>453.0</td>\n      <td>25000.00</td>\n      <td>44</td>\n    </tr>\n  </tbody>\n</table>\n</div>"
     },
     "metadata": {},
     "execution_count": 5
    }
   ],
   "source": [
    "# state列のsuccessfulを1、それ以外を0に割り振る\n",
    "df['state'] = (df['state'] == 'successful') * 1\n",
    "\n",
    "# deadlineとlaunchedから新しい特徴量durationを作成\n",
    "df['deadline'] = pd.to_datetime(df['deadline'])\n",
    "df['launched'] = pd.to_datetime(df['launched'])\n",
    "df['duration'] = (df['deadline'] - df['launched']).dt.days\n",
    "df.head(8)"
   ]
  },
  {
   "source": [
    "### 2. データの可視化"
   ],
   "cell_type": "markdown",
   "metadata": {}
  },
  {
   "cell_type": "code",
   "execution_count": 6,
   "metadata": {},
   "outputs": [
    {
     "output_type": "display_data",
     "data": {
      "text/plain": "<Figure size 432x288 with 2 Axes>",
      "image/svg+xml": "<?xml version=\"1.0\" encoding=\"utf-8\" standalone=\"no\"?>\r\n<!DOCTYPE svg PUBLIC \"-//W3C//DTD SVG 1.1//EN\"\r\n  \"http://www.w3.org/Graphics/SVG/1.1/DTD/svg11.dtd\">\r\n<!-- Created with matplotlib (https://matplotlib.org/) -->\r\n<svg height=\"330.179844pt\" version=\"1.1\" viewBox=\"0 0 427.29575 330.179844\" width=\"427.29575pt\" xmlns=\"http://www.w3.org/2000/svg\" xmlns:xlink=\"http://www.w3.org/1999/xlink\">\r\n <defs>\r\n  <style type=\"text/css\">\r\n*{stroke-linecap:butt;stroke-linejoin:round;}\r\n  </style>\r\n </defs>\r\n <g id=\"figure_1\">\r\n  <g id=\"patch_1\">\r\n   <path d=\"M 0 330.179844 \r\nL 427.29575 330.179844 \r\nL 427.29575 0 \r\nL 0 0 \r\nz\r\n\" style=\"fill:none;\"/>\r\n  </g>\r\n  <g id=\"axes_1\">\r\n   <g id=\"patch_2\">\r\n    <path d=\"M 101.740625 228.439219 \r\nL 369.580625 228.439219 \r\nL 369.580625 10.999219 \r\nL 101.740625 10.999219 \r\nz\r\n\" style=\"fill:#ffffff;\"/>\r\n   </g>\r\n   <g id=\"QuadMesh_1\">\r\n    <path clip-path=\"url(#p32a1f05f74)\" d=\"M 101.740625 10.999219 \r\nL 131.500625 10.999219 \r\nL 131.500625 35.159219 \r\nL 101.740625 35.159219 \r\nL 101.740625 10.999219 \r\n\" style=\"fill:#67000d;\"/>\r\n    <path clip-path=\"url(#p32a1f05f74)\" d=\"M 131.500625 10.999219 \r\nL 161.260625 10.999219 \r\nL 161.260625 35.159219 \r\nL 131.500625 35.159219 \r\nL 131.500625 10.999219 \r\n\" style=\"fill:#fff1ea;\"/>\r\n    <path clip-path=\"url(#p32a1f05f74)\" d=\"M 161.260625 10.999219 \r\nL 191.020625 10.999219 \r\nL 191.020625 35.159219 \r\nL 161.260625 35.159219 \r\nL 161.260625 10.999219 \r\n\" style=\"fill:#fff1ea;\"/>\r\n    <path clip-path=\"url(#p32a1f05f74)\" d=\"M 191.020625 10.999219 \r\nL 220.780625 10.999219 \r\nL 220.780625 35.159219 \r\nL 191.020625 35.159219 \r\nL 191.020625 10.999219 \r\n\" style=\"fill:#fff1ea;\"/>\r\n    <path clip-path=\"url(#p32a1f05f74)\" d=\"M 220.780625 10.999219 \r\nL 250.540625 10.999219 \r\nL 250.540625 35.159219 \r\nL 220.780625 35.159219 \r\nL 220.780625 10.999219 \r\n\" style=\"fill:#fff1ea;\"/>\r\n    <path clip-path=\"url(#p32a1f05f74)\" d=\"M 250.540625 10.999219 \r\nL 280.300625 10.999219 \r\nL 280.300625 35.159219 \r\nL 250.540625 35.159219 \r\nL 250.540625 10.999219 \r\n\" style=\"fill:#fff1ea;\"/>\r\n    <path clip-path=\"url(#p32a1f05f74)\" d=\"M 280.300625 10.999219 \r\nL 310.060625 10.999219 \r\nL 310.060625 35.159219 \r\nL 280.300625 35.159219 \r\nL 280.300625 10.999219 \r\n\" style=\"fill:#fff1ea;\"/>\r\n    <path clip-path=\"url(#p32a1f05f74)\" d=\"M 310.060625 10.999219 \r\nL 339.820625 10.999219 \r\nL 339.820625 35.159219 \r\nL 310.060625 35.159219 \r\nL 310.060625 10.999219 \r\n\" style=\"fill:#fff1ea;\"/>\r\n    <path clip-path=\"url(#p32a1f05f74)\" d=\"M 339.820625 10.999219 \r\nL 369.580625 10.999219 \r\nL 369.580625 35.159219 \r\nL 339.820625 35.159219 \r\nL 339.820625 10.999219 \r\n\" style=\"fill:#fff1ea;\"/>\r\n    <path clip-path=\"url(#p32a1f05f74)\" d=\"M 101.740625 35.159219 \r\nL 131.500625 35.159219 \r\nL 131.500625 59.319219 \r\nL 101.740625 59.319219 \r\nL 101.740625 35.159219 \r\n\" style=\"fill:#fff1ea;\"/>\r\n    <path clip-path=\"url(#p32a1f05f74)\" d=\"M 131.500625 35.159219 \r\nL 161.260625 35.159219 \r\nL 161.260625 59.319219 \r\nL 131.500625 59.319219 \r\nL 131.500625 35.159219 \r\n\" style=\"fill:#67000d;\"/>\r\n    <path clip-path=\"url(#p32a1f05f74)\" d=\"M 161.260625 35.159219 \r\nL 191.020625 35.159219 \r\nL 191.020625 59.319219 \r\nL 161.260625 59.319219 \r\nL 161.260625 35.159219 \r\n\" style=\"fill:#fff0e8;\"/>\r\n    <path clip-path=\"url(#p32a1f05f74)\" d=\"M 191.020625 35.159219 \r\nL 220.780625 35.159219 \r\nL 220.780625 59.319219 \r\nL 191.020625 59.319219 \r\nL 191.020625 35.159219 \r\n\" style=\"fill:#fff5f0;\"/>\r\n    <path clip-path=\"url(#p32a1f05f74)\" d=\"M 220.780625 35.159219 \r\nL 250.540625 35.159219 \r\nL 250.540625 59.319219 \r\nL 220.780625 59.319219 \r\nL 220.780625 35.159219 \r\n\" style=\"fill:#fff0e9;\"/>\r\n    <path clip-path=\"url(#p32a1f05f74)\" d=\"M 250.540625 35.159219 \r\nL 280.300625 35.159219 \r\nL 280.300625 59.319219 \r\nL 250.540625 59.319219 \r\nL 250.540625 35.159219 \r\n\" style=\"fill:#fff0e9;\"/>\r\n    <path clip-path=\"url(#p32a1f05f74)\" d=\"M 280.300625 35.159219 \r\nL 310.060625 35.159219 \r\nL 310.060625 59.319219 \r\nL 280.300625 59.319219 \r\nL 280.300625 35.159219 \r\n\" style=\"fill:#fff0e9;\"/>\r\n    <path clip-path=\"url(#p32a1f05f74)\" d=\"M 310.060625 35.159219 \r\nL 339.820625 35.159219 \r\nL 339.820625 59.319219 \r\nL 310.060625 59.319219 \r\nL 310.060625 35.159219 \r\n\" style=\"fill:#820711;\"/>\r\n    <path clip-path=\"url(#p32a1f05f74)\" d=\"M 339.820625 35.159219 \r\nL 369.580625 35.159219 \r\nL 369.580625 59.319219 \r\nL 339.820625 59.319219 \r\nL 339.820625 35.159219 \r\n\" style=\"fill:#fff0e9;\"/>\r\n    <path clip-path=\"url(#p32a1f05f74)\" d=\"M 101.740625 59.319219 \r\nL 131.500625 59.319219 \r\nL 131.500625 83.479219 \r\nL 101.740625 83.479219 \r\nL 101.740625 59.319219 \r\n\" style=\"fill:#fff1ea;\"/>\r\n    <path clip-path=\"url(#p32a1f05f74)\" d=\"M 131.500625 59.319219 \r\nL 161.260625 59.319219 \r\nL 161.260625 83.479219 \r\nL 131.500625 83.479219 \r\nL 131.500625 59.319219 \r\n\" style=\"fill:#fff0e8;\"/>\r\n    <path clip-path=\"url(#p32a1f05f74)\" d=\"M 161.260625 59.319219 \r\nL 191.020625 59.319219 \r\nL 191.020625 83.479219 \r\nL 161.260625 83.479219 \r\nL 161.260625 59.319219 \r\n\" style=\"fill:#67000d;\"/>\r\n    <path clip-path=\"url(#p32a1f05f74)\" d=\"M 191.020625 59.319219 \r\nL 220.780625 59.319219 \r\nL 220.780625 83.479219 \r\nL 191.020625 83.479219 \r\nL 191.020625 59.319219 \r\n\" style=\"fill:#fedecf;\"/>\r\n    <path clip-path=\"url(#p32a1f05f74)\" d=\"M 220.780625 59.319219 \r\nL 250.540625 59.319219 \r\nL 250.540625 83.479219 \r\nL 220.780625 83.479219 \r\nL 220.780625 59.319219 \r\n\" style=\"fill:#d21f20;\"/>\r\n    <path clip-path=\"url(#p32a1f05f74)\" d=\"M 250.540625 59.319219 \r\nL 280.300625 59.319219 \r\nL 280.300625 83.479219 \r\nL 250.540625 83.479219 \r\nL 250.540625 59.319219 \r\n\" style=\"fill:#a91016;\"/>\r\n    <path clip-path=\"url(#p32a1f05f74)\" d=\"M 280.300625 59.319219 \r\nL 310.060625 59.319219 \r\nL 310.060625 83.479219 \r\nL 280.300625 83.479219 \r\nL 280.300625 59.319219 \r\n\" style=\"fill:#7c0510;\"/>\r\n    <path clip-path=\"url(#p32a1f05f74)\" d=\"M 310.060625 59.319219 \r\nL 339.820625 59.319219 \r\nL 339.820625 83.479219 \r\nL 310.060625 83.479219 \r\nL 310.060625 59.319219 \r\n\" style=\"fill:#fff0e9;\"/>\r\n    <path clip-path=\"url(#p32a1f05f74)\" d=\"M 339.820625 59.319219 \r\nL 369.580625 59.319219 \r\nL 369.580625 83.479219 \r\nL 339.820625 83.479219 \r\nL 339.820625 59.319219 \r\n\" style=\"fill:#fff1ea;\"/>\r\n    <path clip-path=\"url(#p32a1f05f74)\" d=\"M 101.740625 83.479219 \r\nL 131.500625 83.479219 \r\nL 131.500625 107.639219 \r\nL 101.740625 107.639219 \r\nL 101.740625 83.479219 \r\n\" style=\"fill:#fff1ea;\"/>\r\n    <path clip-path=\"url(#p32a1f05f74)\" d=\"M 131.500625 83.479219 \r\nL 161.260625 83.479219 \r\nL 161.260625 107.639219 \r\nL 131.500625 107.639219 \r\nL 131.500625 83.479219 \r\n\" style=\"fill:#fff5f0;\"/>\r\n    <path clip-path=\"url(#p32a1f05f74)\" d=\"M 161.260625 83.479219 \r\nL 191.020625 83.479219 \r\nL 191.020625 107.639219 \r\nL 161.260625 107.639219 \r\nL 161.260625 83.479219 \r\n\" style=\"fill:#fedecf;\"/>\r\n    <path clip-path=\"url(#p32a1f05f74)\" d=\"M 191.020625 83.479219 \r\nL 220.780625 83.479219 \r\nL 220.780625 107.639219 \r\nL 191.020625 107.639219 \r\nL 191.020625 83.479219 \r\n\" style=\"fill:#67000d;\"/>\r\n    <path clip-path=\"url(#p32a1f05f74)\" d=\"M 220.780625 83.479219 \r\nL 250.540625 83.479219 \r\nL 250.540625 107.639219 \r\nL 220.780625 107.639219 \r\nL 220.780625 83.479219 \r\n\" style=\"fill:#fed9c9;\"/>\r\n    <path clip-path=\"url(#p32a1f05f74)\" d=\"M 250.540625 83.479219 \r\nL 280.300625 83.479219 \r\nL 280.300625 107.639219 \r\nL 250.540625 107.639219 \r\nL 250.540625 83.479219 \r\n\" style=\"fill:#fee1d4;\"/>\r\n    <path clip-path=\"url(#p32a1f05f74)\" d=\"M 280.300625 83.479219 \r\nL 310.060625 83.479219 \r\nL 310.060625 107.639219 \r\nL 280.300625 107.639219 \r\nL 280.300625 83.479219 \r\n\" style=\"fill:#fedecf;\"/>\r\n    <path clip-path=\"url(#p32a1f05f74)\" d=\"M 310.060625 83.479219 \r\nL 339.820625 83.479219 \r\nL 339.820625 107.639219 \r\nL 310.060625 107.639219 \r\nL 310.060625 83.479219 \r\n\" style=\"fill:#fff5f0;\"/>\r\n    <path clip-path=\"url(#p32a1f05f74)\" d=\"M 339.820625 83.479219 \r\nL 369.580625 83.479219 \r\nL 369.580625 107.639219 \r\nL 339.820625 107.639219 \r\nL 339.820625 83.479219 \r\n\" style=\"fill:#fff5f0;\"/>\r\n    <path clip-path=\"url(#p32a1f05f74)\" d=\"M 101.740625 107.639219 \r\nL 131.500625 107.639219 \r\nL 131.500625 131.799219 \r\nL 101.740625 131.799219 \r\nL 101.740625 107.639219 \r\n\" style=\"fill:#fff1ea;\"/>\r\n    <path clip-path=\"url(#p32a1f05f74)\" d=\"M 131.500625 107.639219 \r\nL 161.260625 107.639219 \r\nL 161.260625 131.799219 \r\nL 131.500625 131.799219 \r\nL 131.500625 107.639219 \r\n\" style=\"fill:#fff0e9;\"/>\r\n    <path clip-path=\"url(#p32a1f05f74)\" d=\"M 161.260625 107.639219 \r\nL 191.020625 107.639219 \r\nL 191.020625 131.799219 \r\nL 161.260625 131.799219 \r\nL 161.260625 107.639219 \r\n\" style=\"fill:#d21f20;\"/>\r\n    <path clip-path=\"url(#p32a1f05f74)\" d=\"M 191.020625 107.639219 \r\nL 220.780625 107.639219 \r\nL 220.780625 131.799219 \r\nL 191.020625 131.799219 \r\nL 191.020625 107.639219 \r\n\" style=\"fill:#fed9c9;\"/>\r\n    <path clip-path=\"url(#p32a1f05f74)\" d=\"M 220.780625 107.639219 \r\nL 250.540625 107.639219 \r\nL 250.540625 131.799219 \r\nL 220.780625 131.799219 \r\nL 220.780625 107.639219 \r\n\" style=\"fill:#67000d;\"/>\r\n    <path clip-path=\"url(#p32a1f05f74)\" d=\"M 250.540625 107.639219 \r\nL 280.300625 107.639219 \r\nL 280.300625 131.799219 \r\nL 250.540625 131.799219 \r\nL 250.540625 107.639219 \r\n\" style=\"fill:#d82422;\"/>\r\n    <path clip-path=\"url(#p32a1f05f74)\" d=\"M 280.300625 107.639219 \r\nL 310.060625 107.639219 \r\nL 310.060625 131.799219 \r\nL 280.300625 131.799219 \r\nL 280.300625 107.639219 \r\n\" style=\"fill:#c8171c;\"/>\r\n    <path clip-path=\"url(#p32a1f05f74)\" d=\"M 310.060625 107.639219 \r\nL 339.820625 107.639219 \r\nL 339.820625 131.799219 \r\nL 310.060625 131.799219 \r\nL 310.060625 107.639219 \r\n\" style=\"fill:#fff0e9;\"/>\r\n    <path clip-path=\"url(#p32a1f05f74)\" d=\"M 339.820625 107.639219 \r\nL 369.580625 107.639219 \r\nL 369.580625 131.799219 \r\nL 339.820625 131.799219 \r\nL 339.820625 107.639219 \r\n\" style=\"fill:#fff1ea;\"/>\r\n    <path clip-path=\"url(#p32a1f05f74)\" d=\"M 101.740625 131.799219 \r\nL 131.500625 131.799219 \r\nL 131.500625 155.959219 \r\nL 101.740625 155.959219 \r\nL 101.740625 131.799219 \r\n\" style=\"fill:#fff1ea;\"/>\r\n    <path clip-path=\"url(#p32a1f05f74)\" d=\"M 131.500625 131.799219 \r\nL 161.260625 131.799219 \r\nL 161.260625 155.959219 \r\nL 131.500625 155.959219 \r\nL 131.500625 131.799219 \r\n\" style=\"fill:#fff0e9;\"/>\r\n    <path clip-path=\"url(#p32a1f05f74)\" d=\"M 161.260625 131.799219 \r\nL 191.020625 131.799219 \r\nL 191.020625 155.959219 \r\nL 161.260625 155.959219 \r\nL 161.260625 131.799219 \r\n\" style=\"fill:#a91016;\"/>\r\n    <path clip-path=\"url(#p32a1f05f74)\" d=\"M 191.020625 131.799219 \r\nL 220.780625 131.799219 \r\nL 220.780625 155.959219 \r\nL 191.020625 155.959219 \r\nL 191.020625 131.799219 \r\n\" style=\"fill:#fee1d4;\"/>\r\n    <path clip-path=\"url(#p32a1f05f74)\" d=\"M 220.780625 131.799219 \r\nL 250.540625 131.799219 \r\nL 250.540625 155.959219 \r\nL 220.780625 155.959219 \r\nL 220.780625 131.799219 \r\n\" style=\"fill:#d82422;\"/>\r\n    <path clip-path=\"url(#p32a1f05f74)\" d=\"M 250.540625 131.799219 \r\nL 280.300625 131.799219 \r\nL 280.300625 155.959219 \r\nL 250.540625 155.959219 \r\nL 250.540625 131.799219 \r\n\" style=\"fill:#67000d;\"/>\r\n    <path clip-path=\"url(#p32a1f05f74)\" d=\"M 280.300625 131.799219 \r\nL 310.060625 131.799219 \r\nL 310.060625 155.959219 \r\nL 280.300625 155.959219 \r\nL 280.300625 131.799219 \r\n\" style=\"fill:#940b13;\"/>\r\n    <path clip-path=\"url(#p32a1f05f74)\" d=\"M 310.060625 131.799219 \r\nL 339.820625 131.799219 \r\nL 339.820625 155.959219 \r\nL 310.060625 155.959219 \r\nL 310.060625 131.799219 \r\n\" style=\"fill:#fff0e8;\"/>\r\n    <path clip-path=\"url(#p32a1f05f74)\" d=\"M 339.820625 131.799219 \r\nL 369.580625 131.799219 \r\nL 369.580625 155.959219 \r\nL 339.820625 155.959219 \r\nL 339.820625 131.799219 \r\n\" style=\"fill:#fff1ea;\"/>\r\n    <path clip-path=\"url(#p32a1f05f74)\" d=\"M 101.740625 155.959219 \r\nL 131.500625 155.959219 \r\nL 131.500625 180.119219 \r\nL 101.740625 180.119219 \r\nL 101.740625 155.959219 \r\n\" style=\"fill:#fff1ea;\"/>\r\n    <path clip-path=\"url(#p32a1f05f74)\" d=\"M 131.500625 155.959219 \r\nL 161.260625 155.959219 \r\nL 161.260625 180.119219 \r\nL 131.500625 180.119219 \r\nL 131.500625 155.959219 \r\n\" style=\"fill:#fff0e9;\"/>\r\n    <path clip-path=\"url(#p32a1f05f74)\" d=\"M 161.260625 155.959219 \r\nL 191.020625 155.959219 \r\nL 191.020625 180.119219 \r\nL 161.260625 180.119219 \r\nL 161.260625 155.959219 \r\n\" style=\"fill:#7c0510;\"/>\r\n    <path clip-path=\"url(#p32a1f05f74)\" d=\"M 191.020625 155.959219 \r\nL 220.780625 155.959219 \r\nL 220.780625 180.119219 \r\nL 191.020625 180.119219 \r\nL 191.020625 155.959219 \r\n\" style=\"fill:#fedecf;\"/>\r\n    <path clip-path=\"url(#p32a1f05f74)\" d=\"M 220.780625 155.959219 \r\nL 250.540625 155.959219 \r\nL 250.540625 180.119219 \r\nL 220.780625 180.119219 \r\nL 220.780625 155.959219 \r\n\" style=\"fill:#c8171c;\"/>\r\n    <path clip-path=\"url(#p32a1f05f74)\" d=\"M 250.540625 155.959219 \r\nL 280.300625 155.959219 \r\nL 280.300625 180.119219 \r\nL 250.540625 180.119219 \r\nL 250.540625 155.959219 \r\n\" style=\"fill:#940b13;\"/>\r\n    <path clip-path=\"url(#p32a1f05f74)\" d=\"M 280.300625 155.959219 \r\nL 310.060625 155.959219 \r\nL 310.060625 180.119219 \r\nL 280.300625 180.119219 \r\nL 280.300625 155.959219 \r\n\" style=\"fill:#67000d;\"/>\r\n    <path clip-path=\"url(#p32a1f05f74)\" d=\"M 310.060625 155.959219 \r\nL 339.820625 155.959219 \r\nL 339.820625 180.119219 \r\nL 310.060625 180.119219 \r\nL 310.060625 155.959219 \r\n\" style=\"fill:#fff0e9;\"/>\r\n    <path clip-path=\"url(#p32a1f05f74)\" d=\"M 339.820625 155.959219 \r\nL 369.580625 155.959219 \r\nL 369.580625 180.119219 \r\nL 339.820625 180.119219 \r\nL 339.820625 155.959219 \r\n\" style=\"fill:#fff1ea;\"/>\r\n    <path clip-path=\"url(#p32a1f05f74)\" d=\"M 101.740625 180.119219 \r\nL 131.500625 180.119219 \r\nL 131.500625 204.279219 \r\nL 101.740625 204.279219 \r\nL 101.740625 180.119219 \r\n\" style=\"fill:#fff1ea;\"/>\r\n    <path clip-path=\"url(#p32a1f05f74)\" d=\"M 131.500625 180.119219 \r\nL 161.260625 180.119219 \r\nL 161.260625 204.279219 \r\nL 131.500625 204.279219 \r\nL 131.500625 180.119219 \r\n\" style=\"fill:#820711;\"/>\r\n    <path clip-path=\"url(#p32a1f05f74)\" d=\"M 161.260625 180.119219 \r\nL 191.020625 180.119219 \r\nL 191.020625 204.279219 \r\nL 161.260625 204.279219 \r\nL 161.260625 180.119219 \r\n\" style=\"fill:#fff0e9;\"/>\r\n    <path clip-path=\"url(#p32a1f05f74)\" d=\"M 191.020625 180.119219 \r\nL 220.780625 180.119219 \r\nL 220.780625 204.279219 \r\nL 191.020625 204.279219 \r\nL 191.020625 180.119219 \r\n\" style=\"fill:#fff5f0;\"/>\r\n    <path clip-path=\"url(#p32a1f05f74)\" d=\"M 220.780625 180.119219 \r\nL 250.540625 180.119219 \r\nL 250.540625 204.279219 \r\nL 220.780625 204.279219 \r\nL 220.780625 180.119219 \r\n\" style=\"fill:#fff0e9;\"/>\r\n    <path clip-path=\"url(#p32a1f05f74)\" d=\"M 250.540625 180.119219 \r\nL 280.300625 180.119219 \r\nL 280.300625 204.279219 \r\nL 250.540625 204.279219 \r\nL 250.540625 180.119219 \r\n\" style=\"fill:#fff0e8;\"/>\r\n    <path clip-path=\"url(#p32a1f05f74)\" d=\"M 280.300625 180.119219 \r\nL 310.060625 180.119219 \r\nL 310.060625 204.279219 \r\nL 280.300625 204.279219 \r\nL 280.300625 180.119219 \r\n\" style=\"fill:#fff0e9;\"/>\r\n    <path clip-path=\"url(#p32a1f05f74)\" d=\"M 310.060625 180.119219 \r\nL 339.820625 180.119219 \r\nL 339.820625 204.279219 \r\nL 310.060625 204.279219 \r\nL 310.060625 180.119219 \r\n\" style=\"fill:#67000d;\"/>\r\n    <path clip-path=\"url(#p32a1f05f74)\" d=\"M 339.820625 180.119219 \r\nL 369.580625 180.119219 \r\nL 369.580625 204.279219 \r\nL 339.820625 204.279219 \r\nL 339.820625 180.119219 \r\n\" style=\"fill:#fff0e9;\"/>\r\n    <path clip-path=\"url(#p32a1f05f74)\" d=\"M 101.740625 204.279219 \r\nL 131.500625 204.279219 \r\nL 131.500625 228.439219 \r\nL 101.740625 228.439219 \r\nL 101.740625 204.279219 \r\n\" style=\"fill:#fff1ea;\"/>\r\n    <path clip-path=\"url(#p32a1f05f74)\" d=\"M 131.500625 204.279219 \r\nL 161.260625 204.279219 \r\nL 161.260625 228.439219 \r\nL 131.500625 228.439219 \r\nL 131.500625 204.279219 \r\n\" style=\"fill:#fff0e9;\"/>\r\n    <path clip-path=\"url(#p32a1f05f74)\" d=\"M 161.260625 204.279219 \r\nL 191.020625 204.279219 \r\nL 191.020625 228.439219 \r\nL 161.260625 228.439219 \r\nL 161.260625 204.279219 \r\n\" style=\"fill:#fff1ea;\"/>\r\n    <path clip-path=\"url(#p32a1f05f74)\" d=\"M 191.020625 204.279219 \r\nL 220.780625 204.279219 \r\nL 220.780625 228.439219 \r\nL 191.020625 228.439219 \r\nL 191.020625 204.279219 \r\n\" style=\"fill:#fff5f0;\"/>\r\n    <path clip-path=\"url(#p32a1f05f74)\" d=\"M 220.780625 204.279219 \r\nL 250.540625 204.279219 \r\nL 250.540625 228.439219 \r\nL 220.780625 228.439219 \r\nL 220.780625 204.279219 \r\n\" style=\"fill:#fff1ea;\"/>\r\n    <path clip-path=\"url(#p32a1f05f74)\" d=\"M 250.540625 204.279219 \r\nL 280.300625 204.279219 \r\nL 280.300625 228.439219 \r\nL 250.540625 228.439219 \r\nL 250.540625 204.279219 \r\n\" style=\"fill:#fff1ea;\"/>\r\n    <path clip-path=\"url(#p32a1f05f74)\" d=\"M 280.300625 204.279219 \r\nL 310.060625 204.279219 \r\nL 310.060625 228.439219 \r\nL 280.300625 228.439219 \r\nL 280.300625 204.279219 \r\n\" style=\"fill:#fff1ea;\"/>\r\n    <path clip-path=\"url(#p32a1f05f74)\" d=\"M 310.060625 204.279219 \r\nL 339.820625 204.279219 \r\nL 339.820625 228.439219 \r\nL 310.060625 228.439219 \r\nL 310.060625 204.279219 \r\n\" style=\"fill:#fff0e9;\"/>\r\n    <path clip-path=\"url(#p32a1f05f74)\" d=\"M 339.820625 204.279219 \r\nL 369.580625 204.279219 \r\nL 369.580625 228.439219 \r\nL 339.820625 228.439219 \r\nL 339.820625 204.279219 \r\n\" style=\"fill:#67000d;\"/>\r\n   </g>\r\n   <g id=\"matplotlib.axis_1\">\r\n    <g id=\"xtick_1\">\r\n     <g id=\"line2d_1\">\r\n      <defs>\r\n       <path d=\"M 0 0 \r\nL 0 3.5 \r\n\" id=\"mea41beb274\" style=\"stroke:#000000;stroke-width:0.8;\"/>\r\n      </defs>\r\n      <g>\r\n       <use style=\"stroke:#000000;stroke-width:0.8;\" x=\"116.620625\" xlink:href=\"#mea41beb274\" y=\"228.439219\"/>\r\n      </g>\r\n     </g>\r\n     <g id=\"text_1\">\r\n      <!-- ID -->\r\n      <defs>\r\n       <path d=\"M 9.8125 72.90625 \r\nL 19.671875 72.90625 \r\nL 19.671875 0 \r\nL 9.8125 0 \r\nz\r\n\" id=\"DejaVuSans-73\"/>\r\n       <path d=\"M 19.671875 64.796875 \r\nL 19.671875 8.109375 \r\nL 31.59375 8.109375 \r\nQ 46.6875 8.109375 53.6875 14.9375 \r\nQ 60.6875 21.78125 60.6875 36.53125 \r\nQ 60.6875 51.171875 53.6875 57.984375 \r\nQ 46.6875 64.796875 31.59375 64.796875 \r\nz\r\nM 9.8125 72.90625 \r\nL 30.078125 72.90625 \r\nQ 51.265625 72.90625 61.171875 64.09375 \r\nQ 71.09375 55.28125 71.09375 36.53125 \r\nQ 71.09375 17.671875 61.125 8.828125 \r\nQ 51.171875 0 30.078125 0 \r\nL 9.8125 0 \r\nz\r\n\" id=\"DejaVuSans-68\"/>\r\n      </defs>\r\n      <g transform=\"translate(119.38 246.089219)rotate(-90)scale(0.1 -0.1)\">\r\n       <use xlink:href=\"#DejaVuSans-73\"/>\r\n       <use x=\"29.492188\" xlink:href=\"#DejaVuSans-68\"/>\r\n      </g>\r\n     </g>\r\n    </g>\r\n    <g id=\"xtick_2\">\r\n     <g id=\"line2d_2\">\r\n      <g>\r\n       <use style=\"stroke:#000000;stroke-width:0.8;\" x=\"146.380625\" xlink:href=\"#mea41beb274\" y=\"228.439219\"/>\r\n      </g>\r\n     </g>\r\n     <g id=\"text_2\">\r\n      <!-- goal -->\r\n      <defs>\r\n       <path d=\"M 45.40625 27.984375 \r\nQ 45.40625 37.75 41.375 43.109375 \r\nQ 37.359375 48.484375 30.078125 48.484375 \r\nQ 22.859375 48.484375 18.828125 43.109375 \r\nQ 14.796875 37.75 14.796875 27.984375 \r\nQ 14.796875 18.265625 18.828125 12.890625 \r\nQ 22.859375 7.515625 30.078125 7.515625 \r\nQ 37.359375 7.515625 41.375 12.890625 \r\nQ 45.40625 18.265625 45.40625 27.984375 \r\nz\r\nM 54.390625 6.78125 \r\nQ 54.390625 -7.171875 48.1875 -13.984375 \r\nQ 42 -20.796875 29.203125 -20.796875 \r\nQ 24.46875 -20.796875 20.265625 -20.09375 \r\nQ 16.0625 -19.390625 12.109375 -17.921875 \r\nL 12.109375 -9.1875 \r\nQ 16.0625 -11.328125 19.921875 -12.34375 \r\nQ 23.78125 -13.375 27.78125 -13.375 \r\nQ 36.625 -13.375 41.015625 -8.765625 \r\nQ 45.40625 -4.15625 45.40625 5.171875 \r\nL 45.40625 9.625 \r\nQ 42.625 4.78125 38.28125 2.390625 \r\nQ 33.9375 0 27.875 0 \r\nQ 17.828125 0 11.671875 7.65625 \r\nQ 5.515625 15.328125 5.515625 27.984375 \r\nQ 5.515625 40.671875 11.671875 48.328125 \r\nQ 17.828125 56 27.875 56 \r\nQ 33.9375 56 38.28125 53.609375 \r\nQ 42.625 51.21875 45.40625 46.390625 \r\nL 45.40625 54.6875 \r\nL 54.390625 54.6875 \r\nz\r\n\" id=\"DejaVuSans-103\"/>\r\n       <path d=\"M 30.609375 48.390625 \r\nQ 23.390625 48.390625 19.1875 42.75 \r\nQ 14.984375 37.109375 14.984375 27.296875 \r\nQ 14.984375 17.484375 19.15625 11.84375 \r\nQ 23.34375 6.203125 30.609375 6.203125 \r\nQ 37.796875 6.203125 41.984375 11.859375 \r\nQ 46.1875 17.53125 46.1875 27.296875 \r\nQ 46.1875 37.015625 41.984375 42.703125 \r\nQ 37.796875 48.390625 30.609375 48.390625 \r\nz\r\nM 30.609375 56 \r\nQ 42.328125 56 49.015625 48.375 \r\nQ 55.71875 40.765625 55.71875 27.296875 \r\nQ 55.71875 13.875 49.015625 6.21875 \r\nQ 42.328125 -1.421875 30.609375 -1.421875 \r\nQ 18.84375 -1.421875 12.171875 6.21875 \r\nQ 5.515625 13.875 5.515625 27.296875 \r\nQ 5.515625 40.765625 12.171875 48.375 \r\nQ 18.84375 56 30.609375 56 \r\nz\r\n\" id=\"DejaVuSans-111\"/>\r\n       <path d=\"M 34.28125 27.484375 \r\nQ 23.390625 27.484375 19.1875 25 \r\nQ 14.984375 22.515625 14.984375 16.5 \r\nQ 14.984375 11.71875 18.140625 8.90625 \r\nQ 21.296875 6.109375 26.703125 6.109375 \r\nQ 34.1875 6.109375 38.703125 11.40625 \r\nQ 43.21875 16.703125 43.21875 25.484375 \r\nL 43.21875 27.484375 \r\nz\r\nM 52.203125 31.203125 \r\nL 52.203125 0 \r\nL 43.21875 0 \r\nL 43.21875 8.296875 \r\nQ 40.140625 3.328125 35.546875 0.953125 \r\nQ 30.953125 -1.421875 24.3125 -1.421875 \r\nQ 15.921875 -1.421875 10.953125 3.296875 \r\nQ 6 8.015625 6 15.921875 \r\nQ 6 25.140625 12.171875 29.828125 \r\nQ 18.359375 34.515625 30.609375 34.515625 \r\nL 43.21875 34.515625 \r\nL 43.21875 35.40625 \r\nQ 43.21875 41.609375 39.140625 45 \r\nQ 35.0625 48.390625 27.6875 48.390625 \r\nQ 23 48.390625 18.546875 47.265625 \r\nQ 14.109375 46.140625 10.015625 43.890625 \r\nL 10.015625 52.203125 \r\nQ 14.9375 54.109375 19.578125 55.046875 \r\nQ 24.21875 56 28.609375 56 \r\nQ 40.484375 56 46.34375 49.84375 \r\nQ 52.203125 43.703125 52.203125 31.203125 \r\nz\r\n\" id=\"DejaVuSans-97\"/>\r\n       <path d=\"M 9.421875 75.984375 \r\nL 18.40625 75.984375 \r\nL 18.40625 0 \r\nL 9.421875 0 \r\nz\r\n\" id=\"DejaVuSans-108\"/>\r\n      </defs>\r\n      <g transform=\"translate(149.14 256.812656)rotate(-90)scale(0.1 -0.1)\">\r\n       <use xlink:href=\"#DejaVuSans-103\"/>\r\n       <use x=\"63.476562\" xlink:href=\"#DejaVuSans-111\"/>\r\n       <use x=\"124.658203\" xlink:href=\"#DejaVuSans-97\"/>\r\n       <use x=\"185.9375\" xlink:href=\"#DejaVuSans-108\"/>\r\n      </g>\r\n     </g>\r\n    </g>\r\n    <g id=\"xtick_3\">\r\n     <g id=\"line2d_3\">\r\n      <g>\r\n       <use style=\"stroke:#000000;stroke-width:0.8;\" x=\"176.140625\" xlink:href=\"#mea41beb274\" y=\"228.439219\"/>\r\n      </g>\r\n     </g>\r\n     <g id=\"text_3\">\r\n      <!-- pledged -->\r\n      <defs>\r\n       <path d=\"M 18.109375 8.203125 \r\nL 18.109375 -20.796875 \r\nL 9.078125 -20.796875 \r\nL 9.078125 54.6875 \r\nL 18.109375 54.6875 \r\nL 18.109375 46.390625 \r\nQ 20.953125 51.265625 25.265625 53.625 \r\nQ 29.59375 56 35.59375 56 \r\nQ 45.5625 56 51.78125 48.09375 \r\nQ 58.015625 40.1875 58.015625 27.296875 \r\nQ 58.015625 14.40625 51.78125 6.484375 \r\nQ 45.5625 -1.421875 35.59375 -1.421875 \r\nQ 29.59375 -1.421875 25.265625 0.953125 \r\nQ 20.953125 3.328125 18.109375 8.203125 \r\nz\r\nM 48.6875 27.296875 \r\nQ 48.6875 37.203125 44.609375 42.84375 \r\nQ 40.53125 48.484375 33.40625 48.484375 \r\nQ 26.265625 48.484375 22.1875 42.84375 \r\nQ 18.109375 37.203125 18.109375 27.296875 \r\nQ 18.109375 17.390625 22.1875 11.75 \r\nQ 26.265625 6.109375 33.40625 6.109375 \r\nQ 40.53125 6.109375 44.609375 11.75 \r\nQ 48.6875 17.390625 48.6875 27.296875 \r\nz\r\n\" id=\"DejaVuSans-112\"/>\r\n       <path d=\"M 56.203125 29.59375 \r\nL 56.203125 25.203125 \r\nL 14.890625 25.203125 \r\nQ 15.484375 15.921875 20.484375 11.0625 \r\nQ 25.484375 6.203125 34.421875 6.203125 \r\nQ 39.59375 6.203125 44.453125 7.46875 \r\nQ 49.3125 8.734375 54.109375 11.28125 \r\nL 54.109375 2.78125 \r\nQ 49.265625 0.734375 44.1875 -0.34375 \r\nQ 39.109375 -1.421875 33.890625 -1.421875 \r\nQ 20.796875 -1.421875 13.15625 6.1875 \r\nQ 5.515625 13.8125 5.515625 26.8125 \r\nQ 5.515625 40.234375 12.765625 48.109375 \r\nQ 20.015625 56 32.328125 56 \r\nQ 43.359375 56 49.78125 48.890625 \r\nQ 56.203125 41.796875 56.203125 29.59375 \r\nz\r\nM 47.21875 32.234375 \r\nQ 47.125 39.59375 43.09375 43.984375 \r\nQ 39.0625 48.390625 32.421875 48.390625 \r\nQ 24.90625 48.390625 20.390625 44.140625 \r\nQ 15.875 39.890625 15.1875 32.171875 \r\nz\r\n\" id=\"DejaVuSans-101\"/>\r\n       <path d=\"M 45.40625 46.390625 \r\nL 45.40625 75.984375 \r\nL 54.390625 75.984375 \r\nL 54.390625 0 \r\nL 45.40625 0 \r\nL 45.40625 8.203125 \r\nQ 42.578125 3.328125 38.25 0.953125 \r\nQ 33.9375 -1.421875 27.875 -1.421875 \r\nQ 17.96875 -1.421875 11.734375 6.484375 \r\nQ 5.515625 14.40625 5.515625 27.296875 \r\nQ 5.515625 40.1875 11.734375 48.09375 \r\nQ 17.96875 56 27.875 56 \r\nQ 33.9375 56 38.25 53.625 \r\nQ 42.578125 51.265625 45.40625 46.390625 \r\nz\r\nM 14.796875 27.296875 \r\nQ 14.796875 17.390625 18.875 11.75 \r\nQ 22.953125 6.109375 30.078125 6.109375 \r\nQ 37.203125 6.109375 41.296875 11.75 \r\nQ 45.40625 17.390625 45.40625 27.296875 \r\nQ 45.40625 37.203125 41.296875 42.84375 \r\nQ 37.203125 48.484375 30.078125 48.484375 \r\nQ 22.953125 48.484375 18.875 42.84375 \r\nQ 14.796875 37.203125 14.796875 27.296875 \r\nz\r\n\" id=\"DejaVuSans-100\"/>\r\n      </defs>\r\n      <g transform=\"translate(178.9 275.917344)rotate(-90)scale(0.1 -0.1)\">\r\n       <use xlink:href=\"#DejaVuSans-112\"/>\r\n       <use x=\"63.476562\" xlink:href=\"#DejaVuSans-108\"/>\r\n       <use x=\"91.259766\" xlink:href=\"#DejaVuSans-101\"/>\r\n       <use x=\"152.783203\" xlink:href=\"#DejaVuSans-100\"/>\r\n       <use x=\"216.259766\" xlink:href=\"#DejaVuSans-103\"/>\r\n       <use x=\"279.736328\" xlink:href=\"#DejaVuSans-101\"/>\r\n       <use x=\"341.259766\" xlink:href=\"#DejaVuSans-100\"/>\r\n      </g>\r\n     </g>\r\n    </g>\r\n    <g id=\"xtick_4\">\r\n     <g id=\"line2d_4\">\r\n      <g>\r\n       <use style=\"stroke:#000000;stroke-width:0.8;\" x=\"205.900625\" xlink:href=\"#mea41beb274\" y=\"228.439219\"/>\r\n      </g>\r\n     </g>\r\n     <g id=\"text_4\">\r\n      <!-- state -->\r\n      <defs>\r\n       <path d=\"M 44.28125 53.078125 \r\nL 44.28125 44.578125 \r\nQ 40.484375 46.53125 36.375 47.5 \r\nQ 32.28125 48.484375 27.875 48.484375 \r\nQ 21.1875 48.484375 17.84375 46.4375 \r\nQ 14.5 44.390625 14.5 40.28125 \r\nQ 14.5 37.15625 16.890625 35.375 \r\nQ 19.28125 33.59375 26.515625 31.984375 \r\nL 29.59375 31.296875 \r\nQ 39.15625 29.25 43.1875 25.515625 \r\nQ 47.21875 21.78125 47.21875 15.09375 \r\nQ 47.21875 7.46875 41.1875 3.015625 \r\nQ 35.15625 -1.421875 24.609375 -1.421875 \r\nQ 20.21875 -1.421875 15.453125 -0.5625 \r\nQ 10.6875 0.296875 5.421875 2 \r\nL 5.421875 11.28125 \r\nQ 10.40625 8.6875 15.234375 7.390625 \r\nQ 20.0625 6.109375 24.8125 6.109375 \r\nQ 31.15625 6.109375 34.5625 8.28125 \r\nQ 37.984375 10.453125 37.984375 14.40625 \r\nQ 37.984375 18.0625 35.515625 20.015625 \r\nQ 33.0625 21.96875 24.703125 23.78125 \r\nL 21.578125 24.515625 \r\nQ 13.234375 26.265625 9.515625 29.90625 \r\nQ 5.8125 33.546875 5.8125 39.890625 \r\nQ 5.8125 47.609375 11.28125 51.796875 \r\nQ 16.75 56 26.8125 56 \r\nQ 31.78125 56 36.171875 55.265625 \r\nQ 40.578125 54.546875 44.28125 53.078125 \r\nz\r\n\" id=\"DejaVuSans-115\"/>\r\n       <path d=\"M 18.3125 70.21875 \r\nL 18.3125 54.6875 \r\nL 36.8125 54.6875 \r\nL 36.8125 47.703125 \r\nL 18.3125 47.703125 \r\nL 18.3125 18.015625 \r\nQ 18.3125 11.328125 20.140625 9.421875 \r\nQ 21.96875 7.515625 27.59375 7.515625 \r\nL 36.8125 7.515625 \r\nL 36.8125 0 \r\nL 27.59375 0 \r\nQ 17.1875 0 13.234375 3.875 \r\nQ 9.28125 7.765625 9.28125 18.015625 \r\nL 9.28125 47.703125 \r\nL 2.6875 47.703125 \r\nL 2.6875 54.6875 \r\nL 9.28125 54.6875 \r\nL 9.28125 70.21875 \r\nz\r\n\" id=\"DejaVuSans-116\"/>\r\n      </defs>\r\n      <g transform=\"translate(208.66 260.770469)rotate(-90)scale(0.1 -0.1)\">\r\n       <use xlink:href=\"#DejaVuSans-115\"/>\r\n       <use x=\"52.099609\" xlink:href=\"#DejaVuSans-116\"/>\r\n       <use x=\"91.308594\" xlink:href=\"#DejaVuSans-97\"/>\r\n       <use x=\"152.587891\" xlink:href=\"#DejaVuSans-116\"/>\r\n       <use x=\"191.796875\" xlink:href=\"#DejaVuSans-101\"/>\r\n      </g>\r\n     </g>\r\n    </g>\r\n    <g id=\"xtick_5\">\r\n     <g id=\"line2d_5\">\r\n      <g>\r\n       <use style=\"stroke:#000000;stroke-width:0.8;\" x=\"235.660625\" xlink:href=\"#mea41beb274\" y=\"228.439219\"/>\r\n      </g>\r\n     </g>\r\n     <g id=\"text_5\">\r\n      <!-- backers -->\r\n      <defs>\r\n       <path d=\"M 48.6875 27.296875 \r\nQ 48.6875 37.203125 44.609375 42.84375 \r\nQ 40.53125 48.484375 33.40625 48.484375 \r\nQ 26.265625 48.484375 22.1875 42.84375 \r\nQ 18.109375 37.203125 18.109375 27.296875 \r\nQ 18.109375 17.390625 22.1875 11.75 \r\nQ 26.265625 6.109375 33.40625 6.109375 \r\nQ 40.53125 6.109375 44.609375 11.75 \r\nQ 48.6875 17.390625 48.6875 27.296875 \r\nz\r\nM 18.109375 46.390625 \r\nQ 20.953125 51.265625 25.265625 53.625 \r\nQ 29.59375 56 35.59375 56 \r\nQ 45.5625 56 51.78125 48.09375 \r\nQ 58.015625 40.1875 58.015625 27.296875 \r\nQ 58.015625 14.40625 51.78125 6.484375 \r\nQ 45.5625 -1.421875 35.59375 -1.421875 \r\nQ 29.59375 -1.421875 25.265625 0.953125 \r\nQ 20.953125 3.328125 18.109375 8.203125 \r\nL 18.109375 0 \r\nL 9.078125 0 \r\nL 9.078125 75.984375 \r\nL 18.109375 75.984375 \r\nz\r\n\" id=\"DejaVuSans-98\"/>\r\n       <path d=\"M 48.78125 52.59375 \r\nL 48.78125 44.1875 \r\nQ 44.96875 46.296875 41.140625 47.34375 \r\nQ 37.3125 48.390625 33.40625 48.390625 \r\nQ 24.65625 48.390625 19.8125 42.84375 \r\nQ 14.984375 37.3125 14.984375 27.296875 \r\nQ 14.984375 17.28125 19.8125 11.734375 \r\nQ 24.65625 6.203125 33.40625 6.203125 \r\nQ 37.3125 6.203125 41.140625 7.25 \r\nQ 44.96875 8.296875 48.78125 10.40625 \r\nL 48.78125 2.09375 \r\nQ 45.015625 0.34375 40.984375 -0.53125 \r\nQ 36.96875 -1.421875 32.421875 -1.421875 \r\nQ 20.0625 -1.421875 12.78125 6.34375 \r\nQ 5.515625 14.109375 5.515625 27.296875 \r\nQ 5.515625 40.671875 12.859375 48.328125 \r\nQ 20.21875 56 33.015625 56 \r\nQ 37.15625 56 41.109375 55.140625 \r\nQ 45.0625 54.296875 48.78125 52.59375 \r\nz\r\n\" id=\"DejaVuSans-99\"/>\r\n       <path d=\"M 9.078125 75.984375 \r\nL 18.109375 75.984375 \r\nL 18.109375 31.109375 \r\nL 44.921875 54.6875 \r\nL 56.390625 54.6875 \r\nL 27.390625 29.109375 \r\nL 57.625 0 \r\nL 45.90625 0 \r\nL 18.109375 26.703125 \r\nL 18.109375 0 \r\nL 9.078125 0 \r\nz\r\n\" id=\"DejaVuSans-107\"/>\r\n       <path d=\"M 41.109375 46.296875 \r\nQ 39.59375 47.171875 37.8125 47.578125 \r\nQ 36.03125 48 33.890625 48 \r\nQ 26.265625 48 22.1875 43.046875 \r\nQ 18.109375 38.09375 18.109375 28.8125 \r\nL 18.109375 0 \r\nL 9.078125 0 \r\nL 9.078125 54.6875 \r\nL 18.109375 54.6875 \r\nL 18.109375 46.1875 \r\nQ 20.953125 51.171875 25.484375 53.578125 \r\nQ 30.03125 56 36.53125 56 \r\nQ 37.453125 56 38.578125 55.875 \r\nQ 39.703125 55.765625 41.0625 55.515625 \r\nz\r\n\" id=\"DejaVuSans-114\"/>\r\n      </defs>\r\n      <g transform=\"translate(238.42 274.673594)rotate(-90)scale(0.1 -0.1)\">\r\n       <use xlink:href=\"#DejaVuSans-98\"/>\r\n       <use x=\"63.476562\" xlink:href=\"#DejaVuSans-97\"/>\r\n       <use x=\"124.755859\" xlink:href=\"#DejaVuSans-99\"/>\r\n       <use x=\"179.736328\" xlink:href=\"#DejaVuSans-107\"/>\r\n       <use x=\"237.599609\" xlink:href=\"#DejaVuSans-101\"/>\r\n       <use x=\"299.123047\" xlink:href=\"#DejaVuSans-114\"/>\r\n       <use x=\"340.236328\" xlink:href=\"#DejaVuSans-115\"/>\r\n      </g>\r\n     </g>\r\n    </g>\r\n    <g id=\"xtick_6\">\r\n     <g id=\"line2d_6\">\r\n      <g>\r\n       <use style=\"stroke:#000000;stroke-width:0.8;\" x=\"265.420625\" xlink:href=\"#mea41beb274\" y=\"228.439219\"/>\r\n      </g>\r\n     </g>\r\n     <g id=\"text_6\">\r\n      <!-- usd pledged -->\r\n      <defs>\r\n       <path d=\"M 8.5 21.578125 \r\nL 8.5 54.6875 \r\nL 17.484375 54.6875 \r\nL 17.484375 21.921875 \r\nQ 17.484375 14.15625 20.5 10.265625 \r\nQ 23.53125 6.390625 29.59375 6.390625 \r\nQ 36.859375 6.390625 41.078125 11.03125 \r\nQ 45.3125 15.671875 45.3125 23.6875 \r\nL 45.3125 54.6875 \r\nL 54.296875 54.6875 \r\nL 54.296875 0 \r\nL 45.3125 0 \r\nL 45.3125 8.40625 \r\nQ 42.046875 3.421875 37.71875 1 \r\nQ 33.40625 -1.421875 27.6875 -1.421875 \r\nQ 18.265625 -1.421875 13.375 4.4375 \r\nQ 8.5 10.296875 8.5 21.578125 \r\nz\r\nM 31.109375 56 \r\nz\r\n\" id=\"DejaVuSans-117\"/>\r\n       <path id=\"DejaVuSans-32\"/>\r\n      </defs>\r\n      <g transform=\"translate(268.18 296.990781)rotate(-90)scale(0.1 -0.1)\">\r\n       <use xlink:href=\"#DejaVuSans-117\"/>\r\n       <use x=\"63.378906\" xlink:href=\"#DejaVuSans-115\"/>\r\n       <use x=\"115.478516\" xlink:href=\"#DejaVuSans-100\"/>\r\n       <use x=\"178.955078\" xlink:href=\"#DejaVuSans-32\"/>\r\n       <use x=\"210.742188\" xlink:href=\"#DejaVuSans-112\"/>\r\n       <use x=\"274.21875\" xlink:href=\"#DejaVuSans-108\"/>\r\n       <use x=\"302.001953\" xlink:href=\"#DejaVuSans-101\"/>\r\n       <use x=\"363.525391\" xlink:href=\"#DejaVuSans-100\"/>\r\n       <use x=\"427.001953\" xlink:href=\"#DejaVuSans-103\"/>\r\n       <use x=\"490.478516\" xlink:href=\"#DejaVuSans-101\"/>\r\n       <use x=\"552.001953\" xlink:href=\"#DejaVuSans-100\"/>\r\n      </g>\r\n     </g>\r\n    </g>\r\n    <g id=\"xtick_7\">\r\n     <g id=\"line2d_7\">\r\n      <g>\r\n       <use style=\"stroke:#000000;stroke-width:0.8;\" x=\"295.180625\" xlink:href=\"#mea41beb274\" y=\"228.439219\"/>\r\n      </g>\r\n     </g>\r\n     <g id=\"text_7\">\r\n      <!-- usd_pledged_real -->\r\n      <defs>\r\n       <path d=\"M 50.984375 -16.609375 \r\nL 50.984375 -23.578125 \r\nL -0.984375 -23.578125 \r\nL -0.984375 -16.609375 \r\nz\r\n\" id=\"DejaVuSans-95\"/>\r\n      </defs>\r\n      <g transform=\"translate(297.800937 322.979844)rotate(-90)scale(0.1 -0.1)\">\r\n       <use xlink:href=\"#DejaVuSans-117\"/>\r\n       <use x=\"63.378906\" xlink:href=\"#DejaVuSans-115\"/>\r\n       <use x=\"115.478516\" xlink:href=\"#DejaVuSans-100\"/>\r\n       <use x=\"178.955078\" xlink:href=\"#DejaVuSans-95\"/>\r\n       <use x=\"228.955078\" xlink:href=\"#DejaVuSans-112\"/>\r\n       <use x=\"292.431641\" xlink:href=\"#DejaVuSans-108\"/>\r\n       <use x=\"320.214844\" xlink:href=\"#DejaVuSans-101\"/>\r\n       <use x=\"381.738281\" xlink:href=\"#DejaVuSans-100\"/>\r\n       <use x=\"445.214844\" xlink:href=\"#DejaVuSans-103\"/>\r\n       <use x=\"508.691406\" xlink:href=\"#DejaVuSans-101\"/>\r\n       <use x=\"570.214844\" xlink:href=\"#DejaVuSans-100\"/>\r\n       <use x=\"633.691406\" xlink:href=\"#DejaVuSans-95\"/>\r\n       <use x=\"683.691406\" xlink:href=\"#DejaVuSans-114\"/>\r\n       <use x=\"724.773438\" xlink:href=\"#DejaVuSans-101\"/>\r\n       <use x=\"786.296875\" xlink:href=\"#DejaVuSans-97\"/>\r\n       <use x=\"847.576172\" xlink:href=\"#DejaVuSans-108\"/>\r\n      </g>\r\n     </g>\r\n    </g>\r\n    <g id=\"xtick_8\">\r\n     <g id=\"line2d_8\">\r\n      <g>\r\n       <use style=\"stroke:#000000;stroke-width:0.8;\" x=\"324.940625\" xlink:href=\"#mea41beb274\" y=\"228.439219\"/>\r\n      </g>\r\n     </g>\r\n     <g id=\"text_8\">\r\n      <!-- usd_goal_real -->\r\n      <g transform=\"translate(327.560938 303.875156)rotate(-90)scale(0.1 -0.1)\">\r\n       <use xlink:href=\"#DejaVuSans-117\"/>\r\n       <use x=\"63.378906\" xlink:href=\"#DejaVuSans-115\"/>\r\n       <use x=\"115.478516\" xlink:href=\"#DejaVuSans-100\"/>\r\n       <use x=\"178.955078\" xlink:href=\"#DejaVuSans-95\"/>\r\n       <use x=\"228.955078\" xlink:href=\"#DejaVuSans-103\"/>\r\n       <use x=\"292.431641\" xlink:href=\"#DejaVuSans-111\"/>\r\n       <use x=\"353.613281\" xlink:href=\"#DejaVuSans-97\"/>\r\n       <use x=\"414.892578\" xlink:href=\"#DejaVuSans-108\"/>\r\n       <use x=\"442.675781\" xlink:href=\"#DejaVuSans-95\"/>\r\n       <use x=\"492.675781\" xlink:href=\"#DejaVuSans-114\"/>\r\n       <use x=\"533.757812\" xlink:href=\"#DejaVuSans-101\"/>\r\n       <use x=\"595.28125\" xlink:href=\"#DejaVuSans-97\"/>\r\n       <use x=\"656.560547\" xlink:href=\"#DejaVuSans-108\"/>\r\n      </g>\r\n     </g>\r\n    </g>\r\n    <g id=\"xtick_9\">\r\n     <g id=\"line2d_9\">\r\n      <g>\r\n       <use style=\"stroke:#000000;stroke-width:0.8;\" x=\"354.700625\" xlink:href=\"#mea41beb274\" y=\"228.439219\"/>\r\n      </g>\r\n     </g>\r\n     <g id=\"text_9\">\r\n      <!-- duration -->\r\n      <defs>\r\n       <path d=\"M 9.421875 54.6875 \r\nL 18.40625 54.6875 \r\nL 18.40625 0 \r\nL 9.421875 0 \r\nz\r\nM 9.421875 75.984375 \r\nL 18.40625 75.984375 \r\nL 18.40625 64.59375 \r\nL 9.421875 64.59375 \r\nz\r\n\" id=\"DejaVuSans-105\"/>\r\n       <path d=\"M 54.890625 33.015625 \r\nL 54.890625 0 \r\nL 45.90625 0 \r\nL 45.90625 32.71875 \r\nQ 45.90625 40.484375 42.875 44.328125 \r\nQ 39.84375 48.1875 33.796875 48.1875 \r\nQ 26.515625 48.1875 22.3125 43.546875 \r\nQ 18.109375 38.921875 18.109375 30.90625 \r\nL 18.109375 0 \r\nL 9.078125 0 \r\nL 9.078125 54.6875 \r\nL 18.109375 54.6875 \r\nL 18.109375 46.1875 \r\nQ 21.34375 51.125 25.703125 53.5625 \r\nQ 30.078125 56 35.796875 56 \r\nQ 45.21875 56 50.046875 50.171875 \r\nQ 54.890625 44.34375 54.890625 33.015625 \r\nz\r\n\" id=\"DejaVuSans-110\"/>\r\n      </defs>\r\n      <g transform=\"translate(357.46 277.518906)rotate(-90)scale(0.1 -0.1)\">\r\n       <use xlink:href=\"#DejaVuSans-100\"/>\r\n       <use x=\"63.476562\" xlink:href=\"#DejaVuSans-117\"/>\r\n       <use x=\"126.855469\" xlink:href=\"#DejaVuSans-114\"/>\r\n       <use x=\"167.96875\" xlink:href=\"#DejaVuSans-97\"/>\r\n       <use x=\"229.248047\" xlink:href=\"#DejaVuSans-116\"/>\r\n       <use x=\"268.457031\" xlink:href=\"#DejaVuSans-105\"/>\r\n       <use x=\"296.240234\" xlink:href=\"#DejaVuSans-111\"/>\r\n       <use x=\"357.421875\" xlink:href=\"#DejaVuSans-110\"/>\r\n      </g>\r\n     </g>\r\n    </g>\r\n   </g>\r\n   <g id=\"matplotlib.axis_2\">\r\n    <g id=\"ytick_1\">\r\n     <g id=\"line2d_10\">\r\n      <defs>\r\n       <path d=\"M 0 0 \r\nL -3.5 0 \r\n\" id=\"m947380ca8c\" style=\"stroke:#000000;stroke-width:0.8;\"/>\r\n      </defs>\r\n      <g>\r\n       <use style=\"stroke:#000000;stroke-width:0.8;\" x=\"101.740625\" xlink:href=\"#m947380ca8c\" y=\"23.079219\"/>\r\n      </g>\r\n     </g>\r\n     <g id=\"text_10\">\r\n      <!-- ID -->\r\n      <g transform=\"translate(84.090625 26.878438)scale(0.1 -0.1)\">\r\n       <use xlink:href=\"#DejaVuSans-73\"/>\r\n       <use x=\"29.492188\" xlink:href=\"#DejaVuSans-68\"/>\r\n      </g>\r\n     </g>\r\n    </g>\r\n    <g id=\"ytick_2\">\r\n     <g id=\"line2d_11\">\r\n      <g>\r\n       <use style=\"stroke:#000000;stroke-width:0.8;\" x=\"101.740625\" xlink:href=\"#m947380ca8c\" y=\"47.239219\"/>\r\n      </g>\r\n     </g>\r\n     <g id=\"text_11\">\r\n      <!-- goal -->\r\n      <g transform=\"translate(73.367188 51.038438)scale(0.1 -0.1)\">\r\n       <use xlink:href=\"#DejaVuSans-103\"/>\r\n       <use x=\"63.476562\" xlink:href=\"#DejaVuSans-111\"/>\r\n       <use x=\"124.658203\" xlink:href=\"#DejaVuSans-97\"/>\r\n       <use x=\"185.9375\" xlink:href=\"#DejaVuSans-108\"/>\r\n      </g>\r\n     </g>\r\n    </g>\r\n    <g id=\"ytick_3\">\r\n     <g id=\"line2d_12\">\r\n      <g>\r\n       <use style=\"stroke:#000000;stroke-width:0.8;\" x=\"101.740625\" xlink:href=\"#m947380ca8c\" y=\"71.399219\"/>\r\n      </g>\r\n     </g>\r\n     <g id=\"text_12\">\r\n      <!-- pledged -->\r\n      <g transform=\"translate(54.2625 75.198438)scale(0.1 -0.1)\">\r\n       <use xlink:href=\"#DejaVuSans-112\"/>\r\n       <use x=\"63.476562\" xlink:href=\"#DejaVuSans-108\"/>\r\n       <use x=\"91.259766\" xlink:href=\"#DejaVuSans-101\"/>\r\n       <use x=\"152.783203\" xlink:href=\"#DejaVuSans-100\"/>\r\n       <use x=\"216.259766\" xlink:href=\"#DejaVuSans-103\"/>\r\n       <use x=\"279.736328\" xlink:href=\"#DejaVuSans-101\"/>\r\n       <use x=\"341.259766\" xlink:href=\"#DejaVuSans-100\"/>\r\n      </g>\r\n     </g>\r\n    </g>\r\n    <g id=\"ytick_4\">\r\n     <g id=\"line2d_13\">\r\n      <g>\r\n       <use style=\"stroke:#000000;stroke-width:0.8;\" x=\"101.740625\" xlink:href=\"#m947380ca8c\" y=\"95.559219\"/>\r\n      </g>\r\n     </g>\r\n     <g id=\"text_13\">\r\n      <!-- state -->\r\n      <g transform=\"translate(69.409375 99.358438)scale(0.1 -0.1)\">\r\n       <use xlink:href=\"#DejaVuSans-115\"/>\r\n       <use x=\"52.099609\" xlink:href=\"#DejaVuSans-116\"/>\r\n       <use x=\"91.308594\" xlink:href=\"#DejaVuSans-97\"/>\r\n       <use x=\"152.587891\" xlink:href=\"#DejaVuSans-116\"/>\r\n       <use x=\"191.796875\" xlink:href=\"#DejaVuSans-101\"/>\r\n      </g>\r\n     </g>\r\n    </g>\r\n    <g id=\"ytick_5\">\r\n     <g id=\"line2d_14\">\r\n      <g>\r\n       <use style=\"stroke:#000000;stroke-width:0.8;\" x=\"101.740625\" xlink:href=\"#m947380ca8c\" y=\"119.719219\"/>\r\n      </g>\r\n     </g>\r\n     <g id=\"text_14\">\r\n      <!-- backers -->\r\n      <g transform=\"translate(55.50625 123.518438)scale(0.1 -0.1)\">\r\n       <use xlink:href=\"#DejaVuSans-98\"/>\r\n       <use x=\"63.476562\" xlink:href=\"#DejaVuSans-97\"/>\r\n       <use x=\"124.755859\" xlink:href=\"#DejaVuSans-99\"/>\r\n       <use x=\"179.736328\" xlink:href=\"#DejaVuSans-107\"/>\r\n       <use x=\"237.599609\" xlink:href=\"#DejaVuSans-101\"/>\r\n       <use x=\"299.123047\" xlink:href=\"#DejaVuSans-114\"/>\r\n       <use x=\"340.236328\" xlink:href=\"#DejaVuSans-115\"/>\r\n      </g>\r\n     </g>\r\n    </g>\r\n    <g id=\"ytick_6\">\r\n     <g id=\"line2d_15\">\r\n      <g>\r\n       <use style=\"stroke:#000000;stroke-width:0.8;\" x=\"101.740625\" xlink:href=\"#m947380ca8c\" y=\"143.879219\"/>\r\n      </g>\r\n     </g>\r\n     <g id=\"text_15\">\r\n      <!-- usd pledged -->\r\n      <g transform=\"translate(33.189062 147.678438)scale(0.1 -0.1)\">\r\n       <use xlink:href=\"#DejaVuSans-117\"/>\r\n       <use x=\"63.378906\" xlink:href=\"#DejaVuSans-115\"/>\r\n       <use x=\"115.478516\" xlink:href=\"#DejaVuSans-100\"/>\r\n       <use x=\"178.955078\" xlink:href=\"#DejaVuSans-32\"/>\r\n       <use x=\"210.742188\" xlink:href=\"#DejaVuSans-112\"/>\r\n       <use x=\"274.21875\" xlink:href=\"#DejaVuSans-108\"/>\r\n       <use x=\"302.001953\" xlink:href=\"#DejaVuSans-101\"/>\r\n       <use x=\"363.525391\" xlink:href=\"#DejaVuSans-100\"/>\r\n       <use x=\"427.001953\" xlink:href=\"#DejaVuSans-103\"/>\r\n       <use x=\"490.478516\" xlink:href=\"#DejaVuSans-101\"/>\r\n       <use x=\"552.001953\" xlink:href=\"#DejaVuSans-100\"/>\r\n      </g>\r\n     </g>\r\n    </g>\r\n    <g id=\"ytick_7\">\r\n     <g id=\"line2d_16\">\r\n      <g>\r\n       <use style=\"stroke:#000000;stroke-width:0.8;\" x=\"101.740625\" xlink:href=\"#m947380ca8c\" y=\"168.039219\"/>\r\n      </g>\r\n     </g>\r\n     <g id=\"text_16\">\r\n      <!-- usd_pledged_real -->\r\n      <g transform=\"translate(7.2 171.838438)scale(0.1 -0.1)\">\r\n       <use xlink:href=\"#DejaVuSans-117\"/>\r\n       <use x=\"63.378906\" xlink:href=\"#DejaVuSans-115\"/>\r\n       <use x=\"115.478516\" xlink:href=\"#DejaVuSans-100\"/>\r\n       <use x=\"178.955078\" xlink:href=\"#DejaVuSans-95\"/>\r\n       <use x=\"228.955078\" xlink:href=\"#DejaVuSans-112\"/>\r\n       <use x=\"292.431641\" xlink:href=\"#DejaVuSans-108\"/>\r\n       <use x=\"320.214844\" xlink:href=\"#DejaVuSans-101\"/>\r\n       <use x=\"381.738281\" xlink:href=\"#DejaVuSans-100\"/>\r\n       <use x=\"445.214844\" xlink:href=\"#DejaVuSans-103\"/>\r\n       <use x=\"508.691406\" xlink:href=\"#DejaVuSans-101\"/>\r\n       <use x=\"570.214844\" xlink:href=\"#DejaVuSans-100\"/>\r\n       <use x=\"633.691406\" xlink:href=\"#DejaVuSans-95\"/>\r\n       <use x=\"683.691406\" xlink:href=\"#DejaVuSans-114\"/>\r\n       <use x=\"724.773438\" xlink:href=\"#DejaVuSans-101\"/>\r\n       <use x=\"786.296875\" xlink:href=\"#DejaVuSans-97\"/>\r\n       <use x=\"847.576172\" xlink:href=\"#DejaVuSans-108\"/>\r\n      </g>\r\n     </g>\r\n    </g>\r\n    <g id=\"ytick_8\">\r\n     <g id=\"line2d_17\">\r\n      <g>\r\n       <use style=\"stroke:#000000;stroke-width:0.8;\" x=\"101.740625\" xlink:href=\"#m947380ca8c\" y=\"192.199219\"/>\r\n      </g>\r\n     </g>\r\n     <g id=\"text_17\">\r\n      <!-- usd_goal_real -->\r\n      <g transform=\"translate(26.304687 195.998438)scale(0.1 -0.1)\">\r\n       <use xlink:href=\"#DejaVuSans-117\"/>\r\n       <use x=\"63.378906\" xlink:href=\"#DejaVuSans-115\"/>\r\n       <use x=\"115.478516\" xlink:href=\"#DejaVuSans-100\"/>\r\n       <use x=\"178.955078\" xlink:href=\"#DejaVuSans-95\"/>\r\n       <use x=\"228.955078\" xlink:href=\"#DejaVuSans-103\"/>\r\n       <use x=\"292.431641\" xlink:href=\"#DejaVuSans-111\"/>\r\n       <use x=\"353.613281\" xlink:href=\"#DejaVuSans-97\"/>\r\n       <use x=\"414.892578\" xlink:href=\"#DejaVuSans-108\"/>\r\n       <use x=\"442.675781\" xlink:href=\"#DejaVuSans-95\"/>\r\n       <use x=\"492.675781\" xlink:href=\"#DejaVuSans-114\"/>\r\n       <use x=\"533.757812\" xlink:href=\"#DejaVuSans-101\"/>\r\n       <use x=\"595.28125\" xlink:href=\"#DejaVuSans-97\"/>\r\n       <use x=\"656.560547\" xlink:href=\"#DejaVuSans-108\"/>\r\n      </g>\r\n     </g>\r\n    </g>\r\n    <g id=\"ytick_9\">\r\n     <g id=\"line2d_18\">\r\n      <g>\r\n       <use style=\"stroke:#000000;stroke-width:0.8;\" x=\"101.740625\" xlink:href=\"#m947380ca8c\" y=\"216.359219\"/>\r\n      </g>\r\n     </g>\r\n     <g id=\"text_18\">\r\n      <!-- duration -->\r\n      <g transform=\"translate(52.660937 220.158438)scale(0.1 -0.1)\">\r\n       <use xlink:href=\"#DejaVuSans-100\"/>\r\n       <use x=\"63.476562\" xlink:href=\"#DejaVuSans-117\"/>\r\n       <use x=\"126.855469\" xlink:href=\"#DejaVuSans-114\"/>\r\n       <use x=\"167.96875\" xlink:href=\"#DejaVuSans-97\"/>\r\n       <use x=\"229.248047\" xlink:href=\"#DejaVuSans-116\"/>\r\n       <use x=\"268.457031\" xlink:href=\"#DejaVuSans-105\"/>\r\n       <use x=\"296.240234\" xlink:href=\"#DejaVuSans-111\"/>\r\n       <use x=\"357.421875\" xlink:href=\"#DejaVuSans-110\"/>\r\n      </g>\r\n     </g>\r\n    </g>\r\n   </g>\r\n  </g>\r\n  <g id=\"axes_2\">\r\n   <g id=\"patch_3\">\r\n    <path clip-path=\"url(#p7b1d54644f)\" d=\"M 386.320625 228.439219 \r\nL 386.320625 227.589844 \r\nL 386.320625 11.848594 \r\nL 386.320625 10.999219 \r\nL 397.192625 10.999219 \r\nL 397.192625 11.848594 \r\nL 397.192625 227.589844 \r\nL 397.192625 228.439219 \r\nz\r\n\" style=\"fill:#ffffff;stroke:#ffffff;stroke-linejoin:miter;stroke-width:0.01;\"/>\r\n   </g>\r\n   <image height=\"217\" id=\"imageb46cb17a47\" transform=\"scale(1 -1)translate(0 -217)\" width=\"11\" x=\"386\" xlink:href=\"data:image/png;base64,\r\niVBORw0KGgoAAAANSUhEUgAAAAsAAADZCAYAAAD2WsoCAAAABHNCSVQICAgIfAhkiAAAATJJREFUaIHt2bEKAkEQA9AV7v9/1cbybtfWcp8QyInWIWSSzLDqY72ea2x+jjG2seMYi8AzxixgG3Ab2+NGLMGVkzHFjVxFW8q/jS0aMOdGbFOodbkB57UPth20AXM+w4BoXcfJjcWdHBDA1rpbuhFjvqj8HQPmDqO50ZEgte7n+xx0o2PA3Kbcshu57Y7JCBbp78aX4FXiRnC7O45MiXUlccsVxe9WVP5cNzoGtE2p0Gzny+L+9/mDOeZzi3XiBjHDs06Z5TdGYp7mM8iYuQFFM5y6ZChBN3Jx/7p1WP5cggIWzRcNuK9CwWSdMENDtUjCbJopbvkPKCdjxmRY+YX56ojbErRQBNziBoBzms9Y+XG7RYYwn/QqiMnIWUeaa9wgZtCMfQawPS+FuSXujgSF+Q3lMbvkg8LPswAAAABJRU5ErkJggg==\" y=\"-11\"/>\r\n   <g id=\"matplotlib.axis_3\"/>\r\n   <g id=\"matplotlib.axis_4\">\r\n    <g id=\"ytick_10\">\r\n     <g id=\"line2d_19\">\r\n      <defs>\r\n       <path d=\"M 0 0 \r\nL 3.5 0 \r\n\" id=\"m385dfbd02a\" style=\"stroke:#000000;stroke-width:0.8;\"/>\r\n      </defs>\r\n      <g>\r\n       <use style=\"stroke:#000000;stroke-width:0.8;\" x=\"397.192625\" xlink:href=\"#m385dfbd02a\" y=\"222.909235\"/>\r\n      </g>\r\n     </g>\r\n     <g id=\"text_19\">\r\n      <!-- 0.0 -->\r\n      <defs>\r\n       <path d=\"M 31.78125 66.40625 \r\nQ 24.171875 66.40625 20.328125 58.90625 \r\nQ 16.5 51.421875 16.5 36.375 \r\nQ 16.5 21.390625 20.328125 13.890625 \r\nQ 24.171875 6.390625 31.78125 6.390625 \r\nQ 39.453125 6.390625 43.28125 13.890625 \r\nQ 47.125 21.390625 47.125 36.375 \r\nQ 47.125 51.421875 43.28125 58.90625 \r\nQ 39.453125 66.40625 31.78125 66.40625 \r\nz\r\nM 31.78125 74.21875 \r\nQ 44.046875 74.21875 50.515625 64.515625 \r\nQ 56.984375 54.828125 56.984375 36.375 \r\nQ 56.984375 17.96875 50.515625 8.265625 \r\nQ 44.046875 -1.421875 31.78125 -1.421875 \r\nQ 19.53125 -1.421875 13.0625 8.265625 \r\nQ 6.59375 17.96875 6.59375 36.375 \r\nQ 6.59375 54.828125 13.0625 64.515625 \r\nQ 19.53125 74.21875 31.78125 74.21875 \r\nz\r\n\" id=\"DejaVuSans-48\"/>\r\n       <path d=\"M 10.6875 12.40625 \r\nL 21 12.40625 \r\nL 21 0 \r\nL 10.6875 0 \r\nz\r\n\" id=\"DejaVuSans-46\"/>\r\n      </defs>\r\n      <g transform=\"translate(404.192625 226.708453)scale(0.1 -0.1)\">\r\n       <use xlink:href=\"#DejaVuSans-48\"/>\r\n       <use x=\"63.623047\" xlink:href=\"#DejaVuSans-46\"/>\r\n       <use x=\"95.410156\" xlink:href=\"#DejaVuSans-48\"/>\r\n      </g>\r\n     </g>\r\n    </g>\r\n    <g id=\"ytick_11\">\r\n     <g id=\"line2d_20\">\r\n      <g>\r\n       <use style=\"stroke:#000000;stroke-width:0.8;\" x=\"397.192625\" xlink:href=\"#m385dfbd02a\" y=\"180.527232\"/>\r\n      </g>\r\n     </g>\r\n     <g id=\"text_20\">\r\n      <!-- 0.2 -->\r\n      <defs>\r\n       <path d=\"M 19.1875 8.296875 \r\nL 53.609375 8.296875 \r\nL 53.609375 0 \r\nL 7.328125 0 \r\nL 7.328125 8.296875 \r\nQ 12.9375 14.109375 22.625 23.890625 \r\nQ 32.328125 33.6875 34.8125 36.53125 \r\nQ 39.546875 41.84375 41.421875 45.53125 \r\nQ 43.3125 49.21875 43.3125 52.78125 \r\nQ 43.3125 58.59375 39.234375 62.25 \r\nQ 35.15625 65.921875 28.609375 65.921875 \r\nQ 23.96875 65.921875 18.8125 64.3125 \r\nQ 13.671875 62.703125 7.8125 59.421875 \r\nL 7.8125 69.390625 \r\nQ 13.765625 71.78125 18.9375 73 \r\nQ 24.125 74.21875 28.421875 74.21875 \r\nQ 39.75 74.21875 46.484375 68.546875 \r\nQ 53.21875 62.890625 53.21875 53.421875 \r\nQ 53.21875 48.921875 51.53125 44.890625 \r\nQ 49.859375 40.875 45.40625 35.40625 \r\nQ 44.1875 33.984375 37.640625 27.21875 \r\nQ 31.109375 20.453125 19.1875 8.296875 \r\nz\r\n\" id=\"DejaVuSans-50\"/>\r\n      </defs>\r\n      <g transform=\"translate(404.192625 184.32645)scale(0.1 -0.1)\">\r\n       <use xlink:href=\"#DejaVuSans-48\"/>\r\n       <use x=\"63.623047\" xlink:href=\"#DejaVuSans-46\"/>\r\n       <use x=\"95.410156\" xlink:href=\"#DejaVuSans-50\"/>\r\n      </g>\r\n     </g>\r\n    </g>\r\n    <g id=\"ytick_12\">\r\n     <g id=\"line2d_21\">\r\n      <g>\r\n       <use style=\"stroke:#000000;stroke-width:0.8;\" x=\"397.192625\" xlink:href=\"#m385dfbd02a\" y=\"138.145228\"/>\r\n      </g>\r\n     </g>\r\n     <g id=\"text_21\">\r\n      <!-- 0.4 -->\r\n      <defs>\r\n       <path d=\"M 37.796875 64.3125 \r\nL 12.890625 25.390625 \r\nL 37.796875 25.390625 \r\nz\r\nM 35.203125 72.90625 \r\nL 47.609375 72.90625 \r\nL 47.609375 25.390625 \r\nL 58.015625 25.390625 \r\nL 58.015625 17.1875 \r\nL 47.609375 17.1875 \r\nL 47.609375 0 \r\nL 37.796875 0 \r\nL 37.796875 17.1875 \r\nL 4.890625 17.1875 \r\nL 4.890625 26.703125 \r\nz\r\n\" id=\"DejaVuSans-52\"/>\r\n      </defs>\r\n      <g transform=\"translate(404.192625 141.944447)scale(0.1 -0.1)\">\r\n       <use xlink:href=\"#DejaVuSans-48\"/>\r\n       <use x=\"63.623047\" xlink:href=\"#DejaVuSans-46\"/>\r\n       <use x=\"95.410156\" xlink:href=\"#DejaVuSans-52\"/>\r\n      </g>\r\n     </g>\r\n    </g>\r\n    <g id=\"ytick_13\">\r\n     <g id=\"line2d_22\">\r\n      <g>\r\n       <use style=\"stroke:#000000;stroke-width:0.8;\" x=\"397.192625\" xlink:href=\"#m385dfbd02a\" y=\"95.763225\"/>\r\n      </g>\r\n     </g>\r\n     <g id=\"text_22\">\r\n      <!-- 0.6 -->\r\n      <defs>\r\n       <path d=\"M 33.015625 40.375 \r\nQ 26.375 40.375 22.484375 35.828125 \r\nQ 18.609375 31.296875 18.609375 23.390625 \r\nQ 18.609375 15.53125 22.484375 10.953125 \r\nQ 26.375 6.390625 33.015625 6.390625 \r\nQ 39.65625 6.390625 43.53125 10.953125 \r\nQ 47.40625 15.53125 47.40625 23.390625 \r\nQ 47.40625 31.296875 43.53125 35.828125 \r\nQ 39.65625 40.375 33.015625 40.375 \r\nz\r\nM 52.59375 71.296875 \r\nL 52.59375 62.3125 \r\nQ 48.875 64.0625 45.09375 64.984375 \r\nQ 41.3125 65.921875 37.59375 65.921875 \r\nQ 27.828125 65.921875 22.671875 59.328125 \r\nQ 17.53125 52.734375 16.796875 39.40625 \r\nQ 19.671875 43.65625 24.015625 45.921875 \r\nQ 28.375 48.1875 33.59375 48.1875 \r\nQ 44.578125 48.1875 50.953125 41.515625 \r\nQ 57.328125 34.859375 57.328125 23.390625 \r\nQ 57.328125 12.15625 50.6875 5.359375 \r\nQ 44.046875 -1.421875 33.015625 -1.421875 \r\nQ 20.359375 -1.421875 13.671875 8.265625 \r\nQ 6.984375 17.96875 6.984375 36.375 \r\nQ 6.984375 53.65625 15.1875 63.9375 \r\nQ 23.390625 74.21875 37.203125 74.21875 \r\nQ 40.921875 74.21875 44.703125 73.484375 \r\nQ 48.484375 72.75 52.59375 71.296875 \r\nz\r\n\" id=\"DejaVuSans-54\"/>\r\n      </defs>\r\n      <g transform=\"translate(404.192625 99.562444)scale(0.1 -0.1)\">\r\n       <use xlink:href=\"#DejaVuSans-48\"/>\r\n       <use x=\"63.623047\" xlink:href=\"#DejaVuSans-46\"/>\r\n       <use x=\"95.410156\" xlink:href=\"#DejaVuSans-54\"/>\r\n      </g>\r\n     </g>\r\n    </g>\r\n    <g id=\"ytick_14\">\r\n     <g id=\"line2d_23\">\r\n      <g>\r\n       <use style=\"stroke:#000000;stroke-width:0.8;\" x=\"397.192625\" xlink:href=\"#m385dfbd02a\" y=\"53.381222\"/>\r\n      </g>\r\n     </g>\r\n     <g id=\"text_23\">\r\n      <!-- 0.8 -->\r\n      <defs>\r\n       <path d=\"M 31.78125 34.625 \r\nQ 24.75 34.625 20.71875 30.859375 \r\nQ 16.703125 27.09375 16.703125 20.515625 \r\nQ 16.703125 13.921875 20.71875 10.15625 \r\nQ 24.75 6.390625 31.78125 6.390625 \r\nQ 38.8125 6.390625 42.859375 10.171875 \r\nQ 46.921875 13.96875 46.921875 20.515625 \r\nQ 46.921875 27.09375 42.890625 30.859375 \r\nQ 38.875 34.625 31.78125 34.625 \r\nz\r\nM 21.921875 38.8125 \r\nQ 15.578125 40.375 12.03125 44.71875 \r\nQ 8.5 49.078125 8.5 55.328125 \r\nQ 8.5 64.0625 14.71875 69.140625 \r\nQ 20.953125 74.21875 31.78125 74.21875 \r\nQ 42.671875 74.21875 48.875 69.140625 \r\nQ 55.078125 64.0625 55.078125 55.328125 \r\nQ 55.078125 49.078125 51.53125 44.71875 \r\nQ 48 40.375 41.703125 38.8125 \r\nQ 48.828125 37.15625 52.796875 32.3125 \r\nQ 56.78125 27.484375 56.78125 20.515625 \r\nQ 56.78125 9.90625 50.3125 4.234375 \r\nQ 43.84375 -1.421875 31.78125 -1.421875 \r\nQ 19.734375 -1.421875 13.25 4.234375 \r\nQ 6.78125 9.90625 6.78125 20.515625 \r\nQ 6.78125 27.484375 10.78125 32.3125 \r\nQ 14.796875 37.15625 21.921875 38.8125 \r\nz\r\nM 18.3125 54.390625 \r\nQ 18.3125 48.734375 21.84375 45.5625 \r\nQ 25.390625 42.390625 31.78125 42.390625 \r\nQ 38.140625 42.390625 41.71875 45.5625 \r\nQ 45.3125 48.734375 45.3125 54.390625 \r\nQ 45.3125 60.0625 41.71875 63.234375 \r\nQ 38.140625 66.40625 31.78125 66.40625 \r\nQ 25.390625 66.40625 21.84375 63.234375 \r\nQ 18.3125 60.0625 18.3125 54.390625 \r\nz\r\n\" id=\"DejaVuSans-56\"/>\r\n      </defs>\r\n      <g transform=\"translate(404.192625 57.180441)scale(0.1 -0.1)\">\r\n       <use xlink:href=\"#DejaVuSans-48\"/>\r\n       <use x=\"63.623047\" xlink:href=\"#DejaVuSans-46\"/>\r\n       <use x=\"95.410156\" xlink:href=\"#DejaVuSans-56\"/>\r\n      </g>\r\n     </g>\r\n    </g>\r\n    <g id=\"ytick_15\">\r\n     <g id=\"line2d_24\">\r\n      <g>\r\n       <use style=\"stroke:#000000;stroke-width:0.8;\" x=\"397.192625\" xlink:href=\"#m385dfbd02a\" y=\"10.999219\"/>\r\n      </g>\r\n     </g>\r\n     <g id=\"text_24\">\r\n      <!-- 1.0 -->\r\n      <defs>\r\n       <path d=\"M 12.40625 8.296875 \r\nL 28.515625 8.296875 \r\nL 28.515625 63.921875 \r\nL 10.984375 60.40625 \r\nL 10.984375 69.390625 \r\nL 28.421875 72.90625 \r\nL 38.28125 72.90625 \r\nL 38.28125 8.296875 \r\nL 54.390625 8.296875 \r\nL 54.390625 0 \r\nL 12.40625 0 \r\nz\r\n\" id=\"DejaVuSans-49\"/>\r\n      </defs>\r\n      <g transform=\"translate(404.192625 14.798438)scale(0.1 -0.1)\">\r\n       <use xlink:href=\"#DejaVuSans-49\"/>\r\n       <use x=\"63.623047\" xlink:href=\"#DejaVuSans-46\"/>\r\n       <use x=\"95.410156\" xlink:href=\"#DejaVuSans-48\"/>\r\n      </g>\r\n     </g>\r\n    </g>\r\n   </g>\r\n   <g id=\"patch_4\">\r\n    <path d=\"M 386.320625 228.439219 \r\nL 386.320625 227.589844 \r\nL 386.320625 11.848594 \r\nL 386.320625 10.999219 \r\nL 397.192625 10.999219 \r\nL 397.192625 11.848594 \r\nL 397.192625 227.589844 \r\nL 397.192625 228.439219 \r\nz\r\n\" style=\"fill:none;\"/>\r\n   </g>\r\n  </g>\r\n </g>\r\n <defs>\r\n  <clipPath id=\"p32a1f05f74\">\r\n   <rect height=\"217.44\" width=\"267.84\" x=\"101.740625\" y=\"10.999219\"/>\r\n  </clipPath>\r\n  <clipPath id=\"p7b1d54644f\">\r\n   <rect height=\"217.44\" width=\"10.872\" x=\"386.320625\" y=\"10.999219\"/>\r\n  </clipPath>\r\n </defs>\r\n</svg>\r\n",
      "image/png": "[encoded data removed]"
     },
     "metadata": {
      "needs_background": "light"
     }
    }
   ],
   "source": [
    "sns.heatmap(df.corr(), cmap=\"Reds\")\n",
    "plt.show()"
   ]
  },
  {
   "cell_type": "code",
   "execution_count": null,
   "metadata": {},
   "outputs": [],
   "source": []
  },
  {
   "source": [
    "### 3. データの前処理"
   ],
   "cell_type": "markdown",
   "metadata": {}
  },
  {
   "cell_type": "code",
   "execution_count": 7,
   "metadata": {},
   "outputs": [],
   "source": [
    "# 不要な列の削除\n",
    "drop_columns_list = ['ID', 'name', 'goal', 'pledged', 'usd pledged', 'deadline', 'launched', 'category']\n",
    "df.drop(drop_columns_list, axis=1, inplace=True)\n",
    "\n",
    "# カテゴリ変数を数値に変換する\n",
    "from sklearn.preprocessing import LabelEncoder\n",
    "encoder = LabelEncoder()\n",
    "categorical_feature = ['main_category', 'currency', 'country']\n",
    "df[categorical_feature] = df[categorical_feature].apply(encoder.fit_transform)"
   ]
  },
  {
   "cell_type": "code",
   "execution_count": 8,
   "metadata": {},
   "outputs": [
    {
     "output_type": "display_data",
     "data": {
      "text/plain": "   main_category  currency  state  backers  country  usd_pledged_real  \\\n0             12         5      0        0        9               0.0   \n1              6        13      0       15       22            2421.0   \n2              6        13      0        3       22             220.0   \n3             10        13      0        1       22               1.0   \n4              6        13      0       14       22            1283.0   \n5              7        13      1      224       22           52375.0   \n6              7        13      1       16       22            1205.0   \n7              7        13      0       40       22             453.0   \n\n   usd_goal_real  duration  \n0        1533.95        58  \n1       30000.00        59  \n2       45000.00        44  \n3        5000.00        29  \n4       19500.00        55  \n5       50000.00        34  \n6        1000.00        19  \n7       25000.00        44  ",
      "text/html": "<div>\n<style scoped>\n    .dataframe tbody tr th:only-of-type {\n        vertical-align: middle;\n    }\n\n    .dataframe tbody tr th {\n        vertical-align: top;\n    }\n\n    .dataframe thead th {\n        text-align: right;\n    }\n</style>\n<table border=\"1\" class=\"dataframe\">\n  <thead>\n    <tr style=\"text-align: right;\">\n      <th></th>\n      <th>main_category</th>\n      <th>currency</th>\n      <th>state</th>\n      <th>backers</th>\n      <th>country</th>\n      <th>usd_pledged_real</th>\n      <th>usd_goal_real</th>\n      <th>duration</th>\n    </tr>\n  </thead>\n  <tbody>\n    <tr>\n      <th>0</th>\n      <td>12</td>\n      <td>5</td>\n      <td>0</td>\n      <td>0</td>\n      <td>9</td>\n      <td>0.0</td>\n      <td>1533.95</td>\n      <td>58</td>\n    </tr>\n    <tr>\n      <th>1</th>\n      <td>6</td>\n      <td>13</td>\n      <td>0</td>\n      <td>15</td>\n      <td>22</td>\n      <td>2421.0</td>\n      <td>30000.00</td>\n      <td>59</td>\n    </tr>\n    <tr>\n      <th>2</th>\n      <td>6</td>\n      <td>13</td>\n      <td>0</td>\n      <td>3</td>\n      <td>22</td>\n      <td>220.0</td>\n      <td>45000.00</td>\n      <td>44</td>\n    </tr>\n    <tr>\n      <th>3</th>\n      <td>10</td>\n      <td>13</td>\n      <td>0</td>\n      <td>1</td>\n      <td>22</td>\n      <td>1.0</td>\n      <td>5000.00</td>\n      <td>29</td>\n    </tr>\n    <tr>\n      <th>4</th>\n      <td>6</td>\n      <td>13</td>\n      <td>0</td>\n      <td>14</td>\n      <td>22</td>\n      <td>1283.0</td>\n      <td>19500.00</td>\n      <td>55</td>\n    </tr>\n    <tr>\n      <th>5</th>\n      <td>7</td>\n      <td>13</td>\n      <td>1</td>\n      <td>224</td>\n      <td>22</td>\n      <td>52375.0</td>\n      <td>50000.00</td>\n      <td>34</td>\n    </tr>\n    <tr>\n      <th>6</th>\n      <td>7</td>\n      <td>13</td>\n      <td>1</td>\n      <td>16</td>\n      <td>22</td>\n      <td>1205.0</td>\n      <td>1000.00</td>\n      <td>19</td>\n    </tr>\n    <tr>\n      <th>7</th>\n      <td>7</td>\n      <td>13</td>\n      <td>0</td>\n      <td>40</td>\n      <td>22</td>\n      <td>453.0</td>\n      <td>25000.00</td>\n      <td>44</td>\n    </tr>\n  </tbody>\n</table>\n</div>"
     },
     "metadata": {}
    },
    {
     "output_type": "display_data",
     "data": {
      "text/plain": "       main_category       currency          state        backers  \\\ncount  378661.000000  378661.000000  378661.000000  378661.000000   \nmean        7.513010      11.000578       0.353762     105.617476   \nstd         3.904719       3.944783       0.478137     907.185035   \nmin         0.000000       0.000000       0.000000       0.000000   \n25%         5.000000      13.000000       0.000000       2.000000   \n50%         7.000000      13.000000       0.000000      12.000000   \n75%        10.000000      13.000000       1.000000      56.000000   \nmax        14.000000      13.000000       1.000000  219382.000000   \n\n             country  usd_pledged_real  usd_goal_real       duration  \ncount  378661.000000      3.786610e+05   3.786610e+05  378661.000000  \nmean       18.850764      9.058924e+03   4.545440e+04      33.481122  \nstd         6.270406      9.097334e+04   1.152950e+06      65.909172  \nmin         0.000000      0.000000e+00   1.000000e-02       0.000000  \n25%        22.000000      3.100000e+01   2.000000e+03      29.000000  \n50%        22.000000      6.243300e+02   5.500000e+03      29.000000  \n75%        22.000000      4.050000e+03   1.550000e+04      36.000000  \nmax        22.000000      2.033899e+07   1.663614e+08   16738.000000  ",
      "text/html": "<div>\n<style scoped>\n    .dataframe tbody tr th:only-of-type {\n        vertical-align: middle;\n    }\n\n    .dataframe tbody tr th {\n        vertical-align: top;\n    }\n\n    .dataframe thead th {\n        text-align: right;\n    }\n</style>\n<table border=\"1\" class=\"dataframe\">\n  <thead>\n    <tr style=\"text-align: right;\">\n      <th></th>\n      <th>main_category</th>\n      <th>currency</th>\n      <th>state</th>\n      <th>backers</th>\n      <th>country</th>\n      <th>usd_pledged_real</th>\n      <th>usd_goal_real</th>\n      <th>duration</th>\n    </tr>\n  </thead>\n  <tbody>\n    <tr>\n      <th>count</th>\n      <td>378661.000000</td>\n      <td>378661.000000</td>\n      <td>378661.000000</td>\n      <td>378661.000000</td>\n      <td>378661.000000</td>\n      <td>3.786610e+05</td>\n      <td>3.786610e+05</td>\n      <td>378661.000000</td>\n    </tr>\n    <tr>\n      <th>mean</th>\n      <td>7.513010</td>\n      <td>11.000578</td>\n      <td>0.353762</td>\n      <td>105.617476</td>\n      <td>18.850764</td>\n      <td>9.058924e+03</td>\n      <td>4.545440e+04</td>\n      <td>33.481122</td>\n    </tr>\n    <tr>\n      <th>std</th>\n      <td>3.904719</td>\n      <td>3.944783</td>\n      <td>0.478137</td>\n      <td>907.185035</td>\n      <td>6.270406</td>\n      <td>9.097334e+04</td>\n      <td>1.152950e+06</td>\n      <td>65.909172</td>\n    </tr>\n    <tr>\n      <th>min</th>\n      <td>0.000000</td>\n      <td>0.000000</td>\n      <td>0.000000</td>\n      <td>0.000000</td>\n      <td>0.000000</td>\n      <td>0.000000e+00</td>\n      <td>1.000000e-02</td>\n      <td>0.000000</td>\n    </tr>\n    <tr>\n      <th>25%</th>\n      <td>5.000000</td>\n      <td>13.000000</td>\n      <td>0.000000</td>\n      <td>2.000000</td>\n      <td>22.000000</td>\n      <td>3.100000e+01</td>\n      <td>2.000000e+03</td>\n      <td>29.000000</td>\n    </tr>\n    <tr>\n      <th>50%</th>\n      <td>7.000000</td>\n      <td>13.000000</td>\n      <td>0.000000</td>\n      <td>12.000000</td>\n      <td>22.000000</td>\n      <td>6.243300e+02</td>\n      <td>5.500000e+03</td>\n      <td>29.000000</td>\n    </tr>\n    <tr>\n      <th>75%</th>\n      <td>10.000000</td>\n      <td>13.000000</td>\n      <td>1.000000</td>\n      <td>56.000000</td>\n      <td>22.000000</td>\n      <td>4.050000e+03</td>\n      <td>1.550000e+04</td>\n      <td>36.000000</td>\n    </tr>\n    <tr>\n      <th>max</th>\n      <td>14.000000</td>\n      <td>13.000000</td>\n      <td>1.000000</td>\n      <td>219382.000000</td>\n      <td>22.000000</td>\n      <td>2.033899e+07</td>\n      <td>1.663614e+08</td>\n      <td>16738.000000</td>\n    </tr>\n  </tbody>\n</table>\n</div>"
     },
     "metadata": {}
    },
    {
     "output_type": "stream",
     "name": "stdout",
     "text": [
      "<class 'pandas.core.frame.DataFrame'>\nRangeIndex: 378661 entries, 0 to 378660\nData columns (total 8 columns):\nmain_category       378661 non-null int32\ncurrency            378661 non-null int32\nstate               378661 non-null int32\nbackers             378661 non-null int64\ncountry             378661 non-null int32\nusd_pledged_real    378661 non-null float64\nusd_goal_real       378661 non-null float64\nduration            378661 non-null int64\ndtypes: float64(2), int32(4), int64(2)\nmemory usage: 17.3 MB\n"
     ]
    }
   ],
   "source": [
    "display(df.head(8))\n",
    "display(df.describe())\n",
    "df.info()"
   ]
  },
  {
   "cell_type": "code",
   "execution_count": 9,
   "metadata": {},
   "outputs": [],
   "source": [
    "from sklearn.model_selection import train_test_split\n",
    "from sklearn.preprocessing import StandardScaler\n",
    "# データを訓練用とテスト用に分ける。\n",
    "X = df.drop('state', axis=1).values\n",
    "y = df['state'].values\n",
    "X_train, X_test, y_train, y_test = train_test_split(X, y, test_size=0.2, random_state=2020, shuffle=True)\n",
    "\n",
    "# 標準化を行う。\n",
    "scaler = StandardScaler()\n",
    "X_train = scaler.fit_transform(X_train)\n",
    "X_test = scaler.transform(X_test)"
   ]
  },
  {
   "source": [
    "### 4. モデルの学習と評価\n",
    "#### 4.1 K交差検証法を用いて各モデルの精度を確認する\n"
   ],
   "cell_type": "markdown",
   "metadata": {}
  },
  {
   "cell_type": "code",
   "execution_count": 10,
   "metadata": {},
   "outputs": [],
   "source": [
    "from sklearn.model_selection import KFold\n",
    "from sklearn.model_selection import GridSearchCV\n",
    "from sklearn.linear_model import SGDClassifier\n",
    "from sklearn.ensemble import RandomForestClassifier, AdaBoostClassifier\n",
    "from sklearn.tree import DecisionTreeClassifier\n",
    "from sklearn.svm import SVC\n",
    "from sklearn.metrics import log_loss, accuracy_score, confusion_matrix, precision_recall_fscore_support"
   ]
  },
  {
   "cell_type": "code",
   "execution_count": 11,
   "metadata": {},
   "outputs": [],
   "source": [
    "def train_model(X, y, model_name='log_regr', use_scaler=False):\n",
    "    '''\n",
    "    k-交差検証法によるモデル評価\n",
    "    '''\n",
    "    n_split = 5\n",
    "\n",
    "    cross_valid_accuracy = 0\n",
    "    split_num = 1\n",
    "\n",
    "    for train_idx, test_idx in KFold(n_splits=n_split, shuffle=True, random_state=2020).split(X, y):\n",
    "        X_train, y_train = X[train_idx], y[train_idx]\n",
    "        X_test, y_test = X[test_idx], y[test_idx]\n",
    "\n",
    "        if use_scaler:\n",
    "            scaler = StandardScaler()\n",
    "            X_train = scaler.fit_transform(X_train)\n",
    "            X_test = scaler.transform(X_test)\n",
    "        \n",
    "        if model_name == 'support_vector_machine':\n",
    "            model = SVC(C=10, kernel='rbf', gamma='scale')\n",
    "        elif model_name == 'random_forest':\n",
    "            model = RandomForestClassifier(n_estimators=50, max_depth=10, criterion=\"gini\", min_samples_leaf=2, min_samples_split=2, random_state=2020)\n",
    "        elif model_name == 'adaboost':\n",
    "            model = AdaBoostClassifier(DecisionTreeClassifier(max_depth=10, min_samples_leaf=2, min_samples_split=2, random_state=2020, criterion=\"gini\"), n_estimators=30, random_state=2020)\n",
    "        else:\n",
    "            model = SGDClassifier(loss='log', penalty='l2', alpha=0.01, max_iter=10000, fit_intercept=True, random_state=2020, tol=1e-3)\n",
    "        \n",
    "        model.fit(X_train, y_train)\n",
    "\n",
    "        # テストデータに対する予測\n",
    "        y_pred_test = model.predict(X_test)\n",
    "        \n",
    "        # テストデータに対する正答率を計算\n",
    "        accuracy =  accuracy_score(y_test, y_pred_test)\n",
    "        print(\"Fold %s\"%split_num)\n",
    "        print('正答率（Accuracy） = {:.3f}%\\n'.format(100 * accuracy))\n",
    "        \n",
    "        cross_valid_accuracy += accuracy\n",
    "        split_num += 1\n",
    "\n",
    "    # 平均正答率を最終的な汎化誤差値とする\n",
    "    final_accuracy = cross_valid_accuracy / n_split\n",
    "    print('Cross Validation Accuracy = {:.3f}%'.format(100 * final_accuracy))"
   ]
  },
  {
   "cell_type": "code",
   "execution_count": 12,
   "metadata": {},
   "outputs": [],
   "source": [
    "X = df.drop('state', axis=1).values\n",
    "y = df['state'].values"
   ]
  },
  {
   "cell_type": "code",
   "execution_count": 13,
   "metadata": {},
   "outputs": [
    {
     "output_type": "stream",
     "name": "stdout",
     "text": [
      "Fold 1\n",
      "正答率（Accuracy） = 70.249%\n",
      "\n",
      "Fold 2\n",
      "正答率（Accuracy） = 70.133%\n",
      "\n",
      "Fold 3\n",
      "正答率（Accuracy） = 70.100%\n",
      "\n",
      "Fold 4\n",
      "正答率（Accuracy） = 69.945%\n",
      "\n",
      "Fold 5\n",
      "正答率（Accuracy） = 69.948%\n",
      "\n",
      "Cross Validation Accuracy = 70.075%\n"
     ]
    }
   ],
   "source": [
    "train_model(X, y, model_name='log_regr', use_scaler=True)"
   ]
  },
  {
   "cell_type": "code",
   "execution_count": 14,
   "metadata": {},
   "outputs": [
    {
     "output_type": "stream",
     "name": "stdout",
     "text": [
      "Fold 1\n",
      "正答率（Accuracy） = 98.707%\n",
      "\n",
      "Fold 2\n",
      "正答率（Accuracy） = 98.695%\n",
      "\n",
      "Fold 3\n",
      "正答率（Accuracy） = 98.707%\n",
      "\n",
      "Fold 4\n",
      "正答率（Accuracy） = 98.711%\n",
      "\n",
      "Fold 5\n",
      "正答率（Accuracy） = 98.719%\n",
      "\n",
      "Cross Validation Accuracy = 98.708%\n"
     ]
    }
   ],
   "source": [
    "train_model(X, y, model_name='random_forest', use_scaler=True)"
   ]
  },
  {
   "cell_type": "code",
   "execution_count": 15,
   "metadata": {},
   "outputs": [
    {
     "output_type": "stream",
     "name": "stdout",
     "text": [
      "Fold 1\n",
      "正答率（Accuracy） = 99.249%\n",
      "\n",
      "Fold 2\n",
      "正答率（Accuracy） = 99.217%\n",
      "\n",
      "Fold 3\n",
      "正答率（Accuracy） = 99.259%\n",
      "\n",
      "Fold 4\n",
      "正答率（Accuracy） = 99.206%\n",
      "\n",
      "Fold 5\n",
      "正答率（Accuracy） = 99.241%\n",
      "\n",
      "Cross Validation Accuracy = 99.234%\n"
     ]
    }
   ],
   "source": [
    "train_model(X, y, model_name='adaboost', use_scaler=True)"
   ]
  },
  {
   "source": [
    "#### 4.2 GridSearchCVを用いて最適なハイパーパラメータを探索する"
   ],
   "cell_type": "markdown",
   "metadata": {}
  },
  {
   "cell_type": "code",
   "execution_count": 16,
   "metadata": {},
   "outputs": [],
   "source": [
    "def grid_search(X_train, y_train, model, parameters):\n",
    "    clf = GridSearchCV(model, parameters, cv=5, verbose=2, n_jobs=5)\n",
    "    clf.fit(X_train, y_train)\n",
    "    print(clf.best_params_)\n",
    "    return clf.best_params_"
   ]
  },
  {
   "cell_type": "code",
   "execution_count": 17,
   "metadata": {},
   "outputs": [
    {
     "output_type": "stream",
     "name": "stdout",
     "text": [
      "Fitting 5 folds for each of 9 candidates, totalling 45 fits\n",
      "[Parallel(n_jobs=5)]: Using backend LokyBackend with 5 concurrent workers.\n",
      "[Parallel(n_jobs=5)]: Done  31 tasks      | elapsed:   41.6s\n",
      "[Parallel(n_jobs=5)]: Done  45 out of  45 | elapsed:  1.1min finished\n",
      "{'max_depth': 30, 'n_estimators': 50}\n"
     ]
    },
    {
     "output_type": "execute_result",
     "data": {
      "text/plain": [
       "RandomForestClassifier(bootstrap=True, class_weight=None, criterion='gini',\n",
       "            max_depth=30, max_features='auto', max_leaf_nodes=None,\n",
       "            min_impurity_decrease=0.0, min_impurity_split=None,\n",
       "            min_samples_leaf=2, min_samples_split=2,\n",
       "            min_weight_fraction_leaf=0.0, n_estimators=50, n_jobs=None,\n",
       "            oob_score=False, random_state=2020, verbose=0,\n",
       "            warm_start=False)"
      ]
     },
     "metadata": {},
     "execution_count": 17
    }
   ],
   "source": [
    "parameters = {\n",
    "    'n_estimators': [10, 30, 50],\n",
    "    'max_depth': [5, 10, 30]\n",
    "}\n",
    "random_forest = RandomForestClassifier(criterion=\"gini\", min_samples_leaf=2, min_samples_split=2, random_state=2020)\n",
    "best_params = grid_search(X_train, y_train, random_forest, parameters)\n",
    "random_forest = RandomForestClassifier(**best_params, criterion=\"gini\", min_samples_leaf=2, min_samples_split=2, random_state=2020)\n",
    "random_forest.fit(X_train, y_train)"
   ]
  },
  {
   "cell_type": "code",
   "execution_count": 19,
   "metadata": {},
   "outputs": [
    {
     "output_type": "stream",
     "name": "stdout",
     "text": [
      "Fitting 5 folds for each of 18 candidates, totalling 90 fits\n",
      "[Parallel(n_jobs=5)]: Using backend LokyBackend with 5 concurrent workers.\n",
      "[Parallel(n_jobs=5)]: Done  31 tasks      | elapsed:  2.1min\n",
      "[Parallel(n_jobs=5)]: Done  90 out of  90 | elapsed:  8.7min finished\n",
      "{'base_estimator': DecisionTreeClassifier(class_weight=None, criterion='gini', max_depth=5,\n",
      "            max_features=None, max_leaf_nodes=None,\n",
      "            min_impurity_decrease=0.0, min_impurity_split=None,\n",
      "            min_samples_leaf=2, min_samples_split=2,\n",
      "            min_weight_fraction_leaf=0.0, presort=False, random_state=2020,\n",
      "            splitter='best'), 'learning_rate': 0.5, 'n_estimators': 50}\n"
     ]
    },
    {
     "output_type": "execute_result",
     "data": {
      "text/plain": [
       "AdaBoostClassifier(algorithm='SAMME.R',\n",
       "          base_estimator=DecisionTreeClassifier(class_weight=None, criterion='gini', max_depth=5,\n",
       "            max_features=None, max_leaf_nodes=None,\n",
       "            min_impurity_decrease=0.0, min_impurity_split=None,\n",
       "            min_samples_leaf=2, min_samples_split=2,\n",
       "            min_weight_fraction_leaf=0.0, presort=False, random_state=2020,\n",
       "            splitter='best'),\n",
       "          learning_rate=0.5, n_estimators=50, random_state=None)"
      ]
     },
     "metadata": {},
     "execution_count": 19
    }
   ],
   "source": [
    "# アダブーストの最終モデル\n",
    "parameters = {\n",
    "    'base_estimator': [DecisionTreeClassifier(max_depth=x, min_samples_leaf=2, min_samples_split=2, random_state=2020, criterion=\"gini\") for x in [3, 5, 10]],\n",
    "    'learning_rate': [0.1, 0.5, 1],\n",
    "    'n_estimators': [30, 50]\n",
    "}\n",
    "adaboost = AdaBoostClassifier(DecisionTreeClassifier(min_samples_leaf=2, min_samples_split=2, random_state=2020, criterion=\"gini\"), random_state=2020)\n",
    "best_params = grid_search(X_train, y_train, adaboost, parameters)\n",
    "adaboost = AdaBoostClassifier(**best_params)\n",
    "adaboost.fit(X_train, y_train)"
   ]
  },
  {
   "source": [
    "#### 4.3 モデルの評価"
   ],
   "cell_type": "markdown",
   "metadata": {}
  },
  {
   "cell_type": "code",
   "execution_count": 20,
   "metadata": {},
   "outputs": [],
   "source": [
    "def evaluate_model(model, X_test, y_test):\n",
    "    '''\n",
    "    テストデータに対する評価\n",
    "    '''\n",
    "    # ラベルを予測\n",
    "    y_pred = model.predict(X_test)\n",
    "\n",
    "    # 対数尤度を表示\n",
    "    print('対数尤度 = {:.3f}'.format(-log_loss(y_test, y_pred)))\n",
    "\n",
    "    # 正答率を計算\n",
    "    accuracy =  accuracy_score(y_test, y_pred)\n",
    "    print('正答率（Accuracy） = {:.3f}%'.format(100 * accuracy))\n",
    "\n",
    "    # Precision, Recall, F1-scoreを計算\n",
    "    precision, recall, f1_score, _ = precision_recall_fscore_support(y_test, y_pred)\n",
    "\n",
    "    # Precision, Recall, F1-scoreを表示\n",
    "    print('適合率（Precision） = {:.3f}%'.format(100 * precision[1]))\n",
    "    print('再現率（Recall） = {:.3f}%'.format(100 * recall[1]))\n",
    "    print('F1値（F1-score） = {:.3f}%'.format(100 * f1_score[1]))\n",
    "\n",
    "    # 予測値と正解のクロス集計（混同行列）\n",
    "    conf_mat = confusion_matrix(y_test, y_pred)\n",
    "    conf_mat = pd.DataFrame(conf_mat, index=['正解', '正解'], columns=['予測', '予測'])\n",
    "    display(conf_mat)"
   ]
  },
  {
   "cell_type": "code",
   "execution_count": 21,
   "metadata": {},
   "outputs": [
    {
     "output_type": "stream",
     "name": "stdout",
     "text": [
      "対数尤度 = -0.239\n正答率（Accuracy） = 99.309%\n適合率（Precision） = 98.270%\n再現率（Recall） = 99.802%\nF1値（F1-score） = 99.030%\n"
     ]
    },
    {
     "output_type": "display_data",
     "data": {
      "text/plain": "       予測     予測\n正解  48518    470\n正解     53  26692",
      "text/html": "<div>\n<style scoped>\n    .dataframe tbody tr th:only-of-type {\n        vertical-align: middle;\n    }\n\n    .dataframe tbody tr th {\n        vertical-align: top;\n    }\n\n    .dataframe thead th {\n        text-align: right;\n    }\n</style>\n<table border=\"1\" class=\"dataframe\">\n  <thead>\n    <tr style=\"text-align: right;\">\n      <th></th>\n      <th>予測</th>\n      <th>予測</th>\n    </tr>\n  </thead>\n  <tbody>\n    <tr>\n      <th>正解</th>\n      <td>48518</td>\n      <td>470</td>\n    </tr>\n    <tr>\n      <th>正解</th>\n      <td>53</td>\n      <td>26692</td>\n    </tr>\n  </tbody>\n</table>\n</div>"
     },
     "metadata": {}
    }
   ],
   "source": [
    "evaluate_model(random_forest, X_test, y_test)"
   ]
  },
  {
   "cell_type": "code",
   "execution_count": 22,
   "metadata": {},
   "outputs": [
    {
     "output_type": "stream",
     "name": "stdout",
     "text": [
      "対数尤度 = -0.192\n正答率（Accuracy） = 99.443%\n適合率（Precision） = 98.647%\n再現率（Recall） = 99.791%\nF1値（F1-score） = 99.216%\n"
     ]
    },
    {
     "output_type": "display_data",
     "data": {
      "text/plain": "       予測     予測\n正解  48622    366\n正解     56  26689",
      "text/html": "<div>\n<style scoped>\n    .dataframe tbody tr th:only-of-type {\n        vertical-align: middle;\n    }\n\n    .dataframe tbody tr th {\n        vertical-align: top;\n    }\n\n    .dataframe thead th {\n        text-align: right;\n    }\n</style>\n<table border=\"1\" class=\"dataframe\">\n  <thead>\n    <tr style=\"text-align: right;\">\n      <th></th>\n      <th>予測</th>\n      <th>予測</th>\n    </tr>\n  </thead>\n  <tbody>\n    <tr>\n      <th>正解</th>\n      <td>48622</td>\n      <td>366</td>\n    </tr>\n    <tr>\n      <th>正解</th>\n      <td>56</td>\n      <td>26689</td>\n    </tr>\n  </tbody>\n</table>\n</div>"
     },
     "metadata": {}
    }
   ],
   "source": [
    "evaluate_model(adaboost, X_test, y_test)"
   ]
  }
 ]
}