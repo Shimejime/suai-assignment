{
 "metadata": {
  "language_info": {
   "codemirror_mode": {
    "name": "ipython",
    "version": 3
   },
   "file_extension": ".py",
   "mimetype": "text/x-python",
   "name": "python",
   "nbconvert_exporter": "python",
   "pygments_lexer": "ipython3",
   "version": "3.7.9-final"
  },
  "orig_nbformat": 2,
  "kernelspec": {
   "name": "python3",
   "display_name": "Python 3"
  }
 },
 "nbformat": 4,
 "nbformat_minor": 2,
 "cells": [
  {
   "source": [
    "## 通し課題➀ クラス分類"
   ],
   "cell_type": "markdown",
   "metadata": {}
  },
  {
   "cell_type": "code",
   "execution_count": 1,
   "metadata": {},
   "outputs": [],
   "source": [
    "import numpy as np\n",
    "import pandas as pd\n",
    "import matplotlib.pyplot as plt\n",
    "from sklearn.linear_model import SGDClassifier\n",
    "from sklearn.metrics import log_loss, accuracy_score, confusion_matrix\n",
    "from sklearn.preprocessing import StandardScaler"
   ]
  },
  {
   "source": [
    "### 1. データの読み込み"
   ],
   "cell_type": "markdown",
   "metadata": {}
  },
  {
   "cell_type": "code",
   "execution_count": 2,
   "metadata": {},
   "outputs": [],
   "source": [
    "df = pd.read_csv('input/ks-projects-201801.csv')"
   ]
  },
  {
   "cell_type": "code",
   "execution_count": 9,
   "metadata": {},
   "outputs": [
    {
     "output_type": "display_data",
     "data": {
      "text/plain": "           ID                                               name  \\\n0  1000002330                    The Songs of Adelaide & Abullah   \n1  1000003930      Greeting From Earth: ZGAC Arts Capsule For ET   \n2  1000004038                                     Where is Hank?   \n3  1000007540  ToshiCapital Rekordz Needs Help to Complete Album   \n4  1000011046  Community Film Project: The Art of Neighborhoo...   \n5  1000014025                               Monarch Espresso Bar   \n6  1000023410  Support Solar Roasted Coffee & Green Energy!  ...   \n7  1000030581  Chaser Strips. Our Strips make Shots their B*tch!   \n8  1000034518  SPIN - Premium Retractable In-Ear Headphones w...   \n9   100004195  STUDIO IN THE SKY - A Documentary Feature Film...   \n\n         category main_category currency    deadline      goal  \\\n0          Poetry    Publishing      GBP  2015-10-09    1000.0   \n1  Narrative Film  Film & Video      USD  2017-11-01   30000.0   \n2  Narrative Film  Film & Video      USD  2013-02-26   45000.0   \n3           Music         Music      USD  2012-04-16    5000.0   \n4    Film & Video  Film & Video      USD  2015-08-29   19500.0   \n5     Restaurants          Food      USD  2016-04-01   50000.0   \n6            Food          Food      USD  2014-12-21    1000.0   \n7          Drinks          Food      USD  2016-03-17   25000.0   \n8  Product Design        Design      USD  2014-05-29  125000.0   \n9     Documentary  Film & Video      USD  2014-08-10   65000.0   \n\n              launched   pledged       state  backers country  usd pledged  \\\n0  2015-08-11 12:12:28      0.00      failed        0      GB         0.00   \n1  2017-09-02 04:43:57   2421.00      failed       15      US       100.00   \n2  2013-01-12 00:20:50    220.00      failed        3      US       220.00   \n3  2012-03-17 03:24:11      1.00      failed        1      US         1.00   \n4  2015-07-04 08:35:03   1283.00    canceled       14      US      1283.00   \n5  2016-02-26 13:38:27  52375.00  successful      224      US     52375.00   \n6  2014-12-01 18:30:44   1205.00  successful       16      US      1205.00   \n7  2016-02-01 20:05:12    453.00      failed       40      US       453.00   \n8  2014-04-24 18:14:43   8233.00    canceled       58      US      8233.00   \n9  2014-07-11 21:55:48   6240.57    canceled       43      US      6240.57   \n\n   usd_pledged_real  usd_goal_real  \n0              0.00        1533.95  \n1           2421.00       30000.00  \n2            220.00       45000.00  \n3              1.00        5000.00  \n4           1283.00       19500.00  \n5          52375.00       50000.00  \n6           1205.00        1000.00  \n7            453.00       25000.00  \n8           8233.00      125000.00  \n9           6240.57       65000.00  ",
      "text/html": "<div>\n<style scoped>\n    .dataframe tbody tr th:only-of-type {\n        vertical-align: middle;\n    }\n\n    .dataframe tbody tr th {\n        vertical-align: top;\n    }\n\n    .dataframe thead th {\n        text-align: right;\n    }\n</style>\n<table border=\"1\" class=\"dataframe\">\n  <thead>\n    <tr style=\"text-align: right;\">\n      <th></th>\n      <th>ID</th>\n      <th>name</th>\n      <th>category</th>\n      <th>main_category</th>\n      <th>currency</th>\n      <th>deadline</th>\n      <th>goal</th>\n      <th>launched</th>\n      <th>pledged</th>\n      <th>state</th>\n      <th>backers</th>\n      <th>country</th>\n      <th>usd pledged</th>\n      <th>usd_pledged_real</th>\n      <th>usd_goal_real</th>\n    </tr>\n  </thead>\n  <tbody>\n    <tr>\n      <th>0</th>\n      <td>1000002330</td>\n      <td>The Songs of Adelaide &amp; Abullah</td>\n      <td>Poetry</td>\n      <td>Publishing</td>\n      <td>GBP</td>\n      <td>2015-10-09</td>\n      <td>1000.0</td>\n      <td>2015-08-11 12:12:28</td>\n      <td>0.00</td>\n      <td>failed</td>\n      <td>0</td>\n      <td>GB</td>\n      <td>0.00</td>\n      <td>0.00</td>\n      <td>1533.95</td>\n    </tr>\n    <tr>\n      <th>1</th>\n      <td>1000003930</td>\n      <td>Greeting From Earth: ZGAC Arts Capsule For ET</td>\n      <td>Narrative Film</td>\n      <td>Film &amp; Video</td>\n      <td>USD</td>\n      <td>2017-11-01</td>\n      <td>30000.0</td>\n      <td>2017-09-02 04:43:57</td>\n      <td>2421.00</td>\n      <td>failed</td>\n      <td>15</td>\n      <td>US</td>\n      <td>100.00</td>\n      <td>2421.00</td>\n      <td>30000.00</td>\n    </tr>\n    <tr>\n      <th>2</th>\n      <td>1000004038</td>\n      <td>Where is Hank?</td>\n      <td>Narrative Film</td>\n      <td>Film &amp; Video</td>\n      <td>USD</td>\n      <td>2013-02-26</td>\n      <td>45000.0</td>\n      <td>2013-01-12 00:20:50</td>\n      <td>220.00</td>\n      <td>failed</td>\n      <td>3</td>\n      <td>US</td>\n      <td>220.00</td>\n      <td>220.00</td>\n      <td>45000.00</td>\n    </tr>\n    <tr>\n      <th>3</th>\n      <td>1000007540</td>\n      <td>ToshiCapital Rekordz Needs Help to Complete Album</td>\n      <td>Music</td>\n      <td>Music</td>\n      <td>USD</td>\n      <td>2012-04-16</td>\n      <td>5000.0</td>\n      <td>2012-03-17 03:24:11</td>\n      <td>1.00</td>\n      <td>failed</td>\n      <td>1</td>\n      <td>US</td>\n      <td>1.00</td>\n      <td>1.00</td>\n      <td>5000.00</td>\n    </tr>\n    <tr>\n      <th>4</th>\n      <td>1000011046</td>\n      <td>Community Film Project: The Art of Neighborhoo...</td>\n      <td>Film &amp; Video</td>\n      <td>Film &amp; Video</td>\n      <td>USD</td>\n      <td>2015-08-29</td>\n      <td>19500.0</td>\n      <td>2015-07-04 08:35:03</td>\n      <td>1283.00</td>\n      <td>canceled</td>\n      <td>14</td>\n      <td>US</td>\n      <td>1283.00</td>\n      <td>1283.00</td>\n      <td>19500.00</td>\n    </tr>\n    <tr>\n      <th>5</th>\n      <td>1000014025</td>\n      <td>Monarch Espresso Bar</td>\n      <td>Restaurants</td>\n      <td>Food</td>\n      <td>USD</td>\n      <td>2016-04-01</td>\n      <td>50000.0</td>\n      <td>2016-02-26 13:38:27</td>\n      <td>52375.00</td>\n      <td>successful</td>\n      <td>224</td>\n      <td>US</td>\n      <td>52375.00</td>\n      <td>52375.00</td>\n      <td>50000.00</td>\n    </tr>\n    <tr>\n      <th>6</th>\n      <td>1000023410</td>\n      <td>Support Solar Roasted Coffee &amp; Green Energy!  ...</td>\n      <td>Food</td>\n      <td>Food</td>\n      <td>USD</td>\n      <td>2014-12-21</td>\n      <td>1000.0</td>\n      <td>2014-12-01 18:30:44</td>\n      <td>1205.00</td>\n      <td>successful</td>\n      <td>16</td>\n      <td>US</td>\n      <td>1205.00</td>\n      <td>1205.00</td>\n      <td>1000.00</td>\n    </tr>\n    <tr>\n      <th>7</th>\n      <td>1000030581</td>\n      <td>Chaser Strips. Our Strips make Shots their B*tch!</td>\n      <td>Drinks</td>\n      <td>Food</td>\n      <td>USD</td>\n      <td>2016-03-17</td>\n      <td>25000.0</td>\n      <td>2016-02-01 20:05:12</td>\n      <td>453.00</td>\n      <td>failed</td>\n      <td>40</td>\n      <td>US</td>\n      <td>453.00</td>\n      <td>453.00</td>\n      <td>25000.00</td>\n    </tr>\n    <tr>\n      <th>8</th>\n      <td>1000034518</td>\n      <td>SPIN - Premium Retractable In-Ear Headphones w...</td>\n      <td>Product Design</td>\n      <td>Design</td>\n      <td>USD</td>\n      <td>2014-05-29</td>\n      <td>125000.0</td>\n      <td>2014-04-24 18:14:43</td>\n      <td>8233.00</td>\n      <td>canceled</td>\n      <td>58</td>\n      <td>US</td>\n      <td>8233.00</td>\n      <td>8233.00</td>\n      <td>125000.00</td>\n    </tr>\n    <tr>\n      <th>9</th>\n      <td>100004195</td>\n      <td>STUDIO IN THE SKY - A Documentary Feature Film...</td>\n      <td>Documentary</td>\n      <td>Film &amp; Video</td>\n      <td>USD</td>\n      <td>2014-08-10</td>\n      <td>65000.0</td>\n      <td>2014-07-11 21:55:48</td>\n      <td>6240.57</td>\n      <td>canceled</td>\n      <td>43</td>\n      <td>US</td>\n      <td>6240.57</td>\n      <td>6240.57</td>\n      <td>65000.00</td>\n    </tr>\n  </tbody>\n</table>\n</div>"
     },
     "metadata": {}
    }
   ],
   "source": [
    "display(df.head(10))"
   ]
  },
  {
   "cell_type": "code",
   "execution_count": 7,
   "metadata": {},
   "outputs": [
    {
     "output_type": "stream",
     "name": "stdout",
     "text": [
      "<class 'pandas.core.frame.DataFrame'>\nRangeIndex: 378661 entries, 0 to 378660\nData columns (total 15 columns):\nID                  378661 non-null int64\nname                378657 non-null object\ncategory            378661 non-null object\nmain_category       378661 non-null object\ncurrency            378661 non-null object\ndeadline            378661 non-null object\ngoal                378661 non-null float64\nlaunched            378661 non-null object\npledged             378661 non-null float64\nstate               378661 non-null object\nbackers             378661 non-null int64\ncountry             378661 non-null object\nusd pledged         374864 non-null float64\nusd_pledged_real    378661 non-null float64\nusd_goal_real       378661 non-null float64\ndtypes: float64(5), int64(2), object(8)\nmemory usage: 43.3+ MB\n"
     ]
    },
    {
     "output_type": "display_data",
     "data": {
      "text/plain": "None"
     },
     "metadata": {}
    },
    {
     "output_type": "execute_result",
     "data": {
      "text/plain": [
       "                 ID          goal       pledged        backers   usd pledged  \\\n",
       "count  3.786610e+05  3.786610e+05  3.786610e+05  378661.000000  3.748640e+05   \n",
       "mean   1.074731e+09  4.908079e+04  9.682979e+03     105.617476  7.036729e+03   \n",
       "std    6.190862e+08  1.183391e+06  9.563601e+04     907.185035  7.863975e+04   \n",
       "min    5.971000e+03  1.000000e-02  0.000000e+00       0.000000  0.000000e+00   \n",
       "25%    5.382635e+08  2.000000e+03  3.000000e+01       2.000000  1.698000e+01   \n",
       "50%    1.075276e+09  5.200000e+03  6.200000e+02      12.000000  3.947200e+02   \n",
       "75%    1.610149e+09  1.600000e+04  4.076000e+03      56.000000  3.034090e+03   \n",
       "max    2.147476e+09  1.000000e+08  2.033899e+07  219382.000000  2.033899e+07   \n",
       "\n",
       "       usd_pledged_real  usd_goal_real  \n",
       "count      3.786610e+05   3.786610e+05  \n",
       "mean       9.058924e+03   4.545440e+04  \n",
       "std        9.097334e+04   1.152950e+06  \n",
       "min        0.000000e+00   1.000000e-02  \n",
       "25%        3.100000e+01   2.000000e+03  \n",
       "50%        6.243300e+02   5.500000e+03  \n",
       "75%        4.050000e+03   1.550000e+04  \n",
       "max        2.033899e+07   1.663614e+08  "
      ],
      "text/html": "<div>\n<style scoped>\n    .dataframe tbody tr th:only-of-type {\n        vertical-align: middle;\n    }\n\n    .dataframe tbody tr th {\n        vertical-align: top;\n    }\n\n    .dataframe thead th {\n        text-align: right;\n    }\n</style>\n<table border=\"1\" class=\"dataframe\">\n  <thead>\n    <tr style=\"text-align: right;\">\n      <th></th>\n      <th>ID</th>\n      <th>goal</th>\n      <th>pledged</th>\n      <th>backers</th>\n      <th>usd pledged</th>\n      <th>usd_pledged_real</th>\n      <th>usd_goal_real</th>\n    </tr>\n  </thead>\n  <tbody>\n    <tr>\n      <th>count</th>\n      <td>3.786610e+05</td>\n      <td>3.786610e+05</td>\n      <td>3.786610e+05</td>\n      <td>378661.000000</td>\n      <td>3.748640e+05</td>\n      <td>3.786610e+05</td>\n      <td>3.786610e+05</td>\n    </tr>\n    <tr>\n      <th>mean</th>\n      <td>1.074731e+09</td>\n      <td>4.908079e+04</td>\n      <td>9.682979e+03</td>\n      <td>105.617476</td>\n      <td>7.036729e+03</td>\n      <td>9.058924e+03</td>\n      <td>4.545440e+04</td>\n    </tr>\n    <tr>\n      <th>std</th>\n      <td>6.190862e+08</td>\n      <td>1.183391e+06</td>\n      <td>9.563601e+04</td>\n      <td>907.185035</td>\n      <td>7.863975e+04</td>\n      <td>9.097334e+04</td>\n      <td>1.152950e+06</td>\n    </tr>\n    <tr>\n      <th>min</th>\n      <td>5.971000e+03</td>\n      <td>1.000000e-02</td>\n      <td>0.000000e+00</td>\n      <td>0.000000</td>\n      <td>0.000000e+00</td>\n      <td>0.000000e+00</td>\n      <td>1.000000e-02</td>\n    </tr>\n    <tr>\n      <th>25%</th>\n      <td>5.382635e+08</td>\n      <td>2.000000e+03</td>\n      <td>3.000000e+01</td>\n      <td>2.000000</td>\n      <td>1.698000e+01</td>\n      <td>3.100000e+01</td>\n      <td>2.000000e+03</td>\n    </tr>\n    <tr>\n      <th>50%</th>\n      <td>1.075276e+09</td>\n      <td>5.200000e+03</td>\n      <td>6.200000e+02</td>\n      <td>12.000000</td>\n      <td>3.947200e+02</td>\n      <td>6.243300e+02</td>\n      <td>5.500000e+03</td>\n    </tr>\n    <tr>\n      <th>75%</th>\n      <td>1.610149e+09</td>\n      <td>1.600000e+04</td>\n      <td>4.076000e+03</td>\n      <td>56.000000</td>\n      <td>3.034090e+03</td>\n      <td>4.050000e+03</td>\n      <td>1.550000e+04</td>\n    </tr>\n    <tr>\n      <th>max</th>\n      <td>2.147476e+09</td>\n      <td>1.000000e+08</td>\n      <td>2.033899e+07</td>\n      <td>219382.000000</td>\n      <td>2.033899e+07</td>\n      <td>2.033899e+07</td>\n      <td>1.663614e+08</td>\n    </tr>\n  </tbody>\n</table>\n</div>"
     },
     "metadata": {},
     "execution_count": 7
    }
   ],
   "source": [
    "display(df.info())\n",
    "df.describe()"
   ]
  },
  {
   "cell_type": "code",
   "execution_count": 14,
   "metadata": {},
   "outputs": [
    {
     "output_type": "error",
     "ename": "TypeError",
     "evalue": "'<=' not supported between instances of 'int' and 'numpy.str_'",
     "traceback": [
      "\u001b[1;31m---------------------------------------------------------------------------\u001b[0m",
      "\u001b[1;31mTypeError\u001b[0m                                 Traceback (most recent call last)",
      "\u001b[1;32m<ipython-input-14-a479f62fc42f>\u001b[0m in \u001b[0;36m<module>\u001b[1;34m\u001b[0m\n\u001b[1;32m----> 1\u001b[1;33m \u001b[0mdf\u001b[0m\u001b[1;33m.\u001b[0m\u001b[0mdescribe\u001b[0m\u001b[1;33m(\u001b[0m\u001b[1;34m'state'\u001b[0m\u001b[1;33m)\u001b[0m\u001b[1;33m\u001b[0m\u001b[1;33m\u001b[0m\u001b[0m\n\u001b[0m",
      "\u001b[1;32m~\\anaconda3\\envs\\suai\\lib\\site-packages\\pandas\\core\\generic.py\u001b[0m in \u001b[0;36mdescribe\u001b[1;34m(self, percentiles, include, exclude)\u001b[0m\n\u001b[0;32m   9726\u001b[0m \u001b[1;33m\u001b[0m\u001b[0m\n\u001b[0;32m   9727\u001b[0m             \u001b[1;31m# get them all to be in [0, 1]\u001b[0m\u001b[1;33m\u001b[0m\u001b[1;33m\u001b[0m\u001b[1;33m\u001b[0m\u001b[0m\n\u001b[1;32m-> 9728\u001b[1;33m             \u001b[0mself\u001b[0m\u001b[1;33m.\u001b[0m\u001b[0m_check_percentile\u001b[0m\u001b[1;33m(\u001b[0m\u001b[0mpercentiles\u001b[0m\u001b[1;33m)\u001b[0m\u001b[1;33m\u001b[0m\u001b[1;33m\u001b[0m\u001b[0m\n\u001b[0m\u001b[0;32m   9729\u001b[0m \u001b[1;33m\u001b[0m\u001b[0m\n\u001b[0;32m   9730\u001b[0m             \u001b[1;31m# median should always be included\u001b[0m\u001b[1;33m\u001b[0m\u001b[1;33m\u001b[0m\u001b[1;33m\u001b[0m\u001b[0m\n",
      "\u001b[1;32m~\\anaconda3\\envs\\suai\\lib\\site-packages\\pandas\\core\\generic.py\u001b[0m in \u001b[0;36m_check_percentile\u001b[1;34m(self, q)\u001b[0m\n\u001b[0;32m   9827\u001b[0m                 \u001b[1;32mraise\u001b[0m \u001b[0mValueError\u001b[0m\u001b[1;33m(\u001b[0m\u001b[0mmsg\u001b[0m\u001b[1;33m.\u001b[0m\u001b[0mformat\u001b[0m\u001b[1;33m(\u001b[0m\u001b[0mq\u001b[0m \u001b[1;33m/\u001b[0m \u001b[1;36m100.0\u001b[0m\u001b[1;33m)\u001b[0m\u001b[1;33m)\u001b[0m\u001b[1;33m\u001b[0m\u001b[1;33m\u001b[0m\u001b[0m\n\u001b[0;32m   9828\u001b[0m         \u001b[1;32melse\u001b[0m\u001b[1;33m:\u001b[0m\u001b[1;33m\u001b[0m\u001b[1;33m\u001b[0m\u001b[0m\n\u001b[1;32m-> 9829\u001b[1;33m             \u001b[1;32mif\u001b[0m \u001b[1;32mnot\u001b[0m \u001b[0mall\u001b[0m\u001b[1;33m(\u001b[0m\u001b[1;36m0\u001b[0m \u001b[1;33m<=\u001b[0m \u001b[0mqs\u001b[0m \u001b[1;33m<=\u001b[0m \u001b[1;36m1\u001b[0m \u001b[1;32mfor\u001b[0m \u001b[0mqs\u001b[0m \u001b[1;32min\u001b[0m \u001b[0mq\u001b[0m\u001b[1;33m)\u001b[0m\u001b[1;33m:\u001b[0m\u001b[1;33m\u001b[0m\u001b[1;33m\u001b[0m\u001b[0m\n\u001b[0m\u001b[0;32m   9830\u001b[0m                 \u001b[1;32mraise\u001b[0m \u001b[0mValueError\u001b[0m\u001b[1;33m(\u001b[0m\u001b[0mmsg\u001b[0m\u001b[1;33m.\u001b[0m\u001b[0mformat\u001b[0m\u001b[1;33m(\u001b[0m\u001b[0mq\u001b[0m \u001b[1;33m/\u001b[0m \u001b[1;36m100.0\u001b[0m\u001b[1;33m)\u001b[0m\u001b[1;33m)\u001b[0m\u001b[1;33m\u001b[0m\u001b[1;33m\u001b[0m\u001b[0m\n\u001b[0;32m   9831\u001b[0m         \u001b[1;32mreturn\u001b[0m \u001b[0mq\u001b[0m\u001b[1;33m\u001b[0m\u001b[1;33m\u001b[0m\u001b[0m\n",
      "\u001b[1;32m~\\anaconda3\\envs\\suai\\lib\\site-packages\\pandas\\core\\generic.py\u001b[0m in \u001b[0;36m<genexpr>\u001b[1;34m(.0)\u001b[0m\n\u001b[0;32m   9827\u001b[0m                 \u001b[1;32mraise\u001b[0m \u001b[0mValueError\u001b[0m\u001b[1;33m(\u001b[0m\u001b[0mmsg\u001b[0m\u001b[1;33m.\u001b[0m\u001b[0mformat\u001b[0m\u001b[1;33m(\u001b[0m\u001b[0mq\u001b[0m \u001b[1;33m/\u001b[0m \u001b[1;36m100.0\u001b[0m\u001b[1;33m)\u001b[0m\u001b[1;33m)\u001b[0m\u001b[1;33m\u001b[0m\u001b[1;33m\u001b[0m\u001b[0m\n\u001b[0;32m   9828\u001b[0m         \u001b[1;32melse\u001b[0m\u001b[1;33m:\u001b[0m\u001b[1;33m\u001b[0m\u001b[1;33m\u001b[0m\u001b[0m\n\u001b[1;32m-> 9829\u001b[1;33m             \u001b[1;32mif\u001b[0m \u001b[1;32mnot\u001b[0m \u001b[0mall\u001b[0m\u001b[1;33m(\u001b[0m\u001b[1;36m0\u001b[0m \u001b[1;33m<=\u001b[0m \u001b[0mqs\u001b[0m \u001b[1;33m<=\u001b[0m \u001b[1;36m1\u001b[0m \u001b[1;32mfor\u001b[0m \u001b[0mqs\u001b[0m \u001b[1;32min\u001b[0m \u001b[0mq\u001b[0m\u001b[1;33m)\u001b[0m\u001b[1;33m:\u001b[0m\u001b[1;33m\u001b[0m\u001b[1;33m\u001b[0m\u001b[0m\n\u001b[0m\u001b[0;32m   9830\u001b[0m                 \u001b[1;32mraise\u001b[0m \u001b[0mValueError\u001b[0m\u001b[1;33m(\u001b[0m\u001b[0mmsg\u001b[0m\u001b[1;33m.\u001b[0m\u001b[0mformat\u001b[0m\u001b[1;33m(\u001b[0m\u001b[0mq\u001b[0m \u001b[1;33m/\u001b[0m \u001b[1;36m100.0\u001b[0m\u001b[1;33m)\u001b[0m\u001b[1;33m)\u001b[0m\u001b[1;33m\u001b[0m\u001b[1;33m\u001b[0m\u001b[0m\n\u001b[0;32m   9831\u001b[0m         \u001b[1;32mreturn\u001b[0m \u001b[0mq\u001b[0m\u001b[1;33m\u001b[0m\u001b[1;33m\u001b[0m\u001b[0m\n",
      "\u001b[1;31mTypeError\u001b[0m: '<=' not supported between instances of 'int' and 'numpy.str_'"
     ]
    }
   ],
   "source": [
    "df.describe('state')"
   ]
  },
  {
   "cell_type": "code",
   "execution_count": null,
   "metadata": {},
   "outputs": [],
   "source": []
  }
 ]
}