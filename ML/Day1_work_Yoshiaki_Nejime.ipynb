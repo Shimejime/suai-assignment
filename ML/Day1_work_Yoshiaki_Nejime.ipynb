{
 "metadata": {
  "language_info": {
   "codemirror_mode": {
    "name": "ipython",
    "version": 3
   },
   "file_extension": ".py",
   "mimetype": "text/x-python",
   "name": "python",
   "nbconvert_exporter": "python",
   "pygments_lexer": "ipython3",
   "version": "3.7.9-final"
  },
  "orig_nbformat": 2,
  "kernelspec": {
   "name": "python3",
   "display_name": "Python 3"
  }
 },
 "nbformat": 4,
 "nbformat_minor": 2,
 "cells": [
  {
   "source": [
    "## 通し課題➀ クラス分類"
   ],
   "cell_type": "markdown",
   "metadata": {}
  },
  {
   "cell_type": "code",
   "execution_count": 1,
   "metadata": {},
   "outputs": [],
   "source": [
    "import numpy as np\n",
    "import pandas as pd\n",
    "import matplotlib.pyplot as plt\n",
    "import seaborn as sns"
   ]
  },
  {
   "source": [],
   "cell_type": "markdown",
   "metadata": {}
  },
  {
   "source": [
    "### 1. データの読み込みとデータ表示"
   ],
   "cell_type": "markdown",
   "metadata": {}
  },
  {
   "cell_type": "code",
   "execution_count": 2,
   "metadata": {},
   "outputs": [],
   "source": [
    "original = pd.read_csv('input/ks-projects-201801.csv')\n",
    "df = original.copy()"
   ]
  },
  {
   "cell_type": "code",
   "execution_count": 3,
   "metadata": {},
   "outputs": [
    {
     "output_type": "display_data",
     "data": {
      "text/plain": "           ID                                               name  \\\n0  1000002330                    The Songs of Adelaide & Abullah   \n1  1000003930      Greeting From Earth: ZGAC Arts Capsule For ET   \n2  1000004038                                     Where is Hank?   \n3  1000007540  ToshiCapital Rekordz Needs Help to Complete Album   \n4  1000011046  Community Film Project: The Art of Neighborhoo...   \n\n         category main_category currency    deadline     goal  \\\n0          Poetry    Publishing      GBP  2015-10-09   1000.0   \n1  Narrative Film  Film & Video      USD  2017-11-01  30000.0   \n2  Narrative Film  Film & Video      USD  2013-02-26  45000.0   \n3           Music         Music      USD  2012-04-16   5000.0   \n4    Film & Video  Film & Video      USD  2015-08-29  19500.0   \n\n              launched  pledged     state  backers country  usd pledged  \\\n0  2015-08-11 12:12:28      0.0    failed        0      GB          0.0   \n1  2017-09-02 04:43:57   2421.0    failed       15      US        100.0   \n2  2013-01-12 00:20:50    220.0    failed        3      US        220.0   \n3  2012-03-17 03:24:11      1.0    failed        1      US          1.0   \n4  2015-07-04 08:35:03   1283.0  canceled       14      US       1283.0   \n\n   usd_pledged_real  usd_goal_real  \n0               0.0        1533.95  \n1            2421.0       30000.00  \n2             220.0       45000.00  \n3               1.0        5000.00  \n4            1283.0       19500.00  ",
      "text/html": "<div>\n<style scoped>\n    .dataframe tbody tr th:only-of-type {\n        vertical-align: middle;\n    }\n\n    .dataframe tbody tr th {\n        vertical-align: top;\n    }\n\n    .dataframe thead th {\n        text-align: right;\n    }\n</style>\n<table border=\"1\" class=\"dataframe\">\n  <thead>\n    <tr style=\"text-align: right;\">\n      <th></th>\n      <th>ID</th>\n      <th>name</th>\n      <th>category</th>\n      <th>main_category</th>\n      <th>currency</th>\n      <th>deadline</th>\n      <th>goal</th>\n      <th>launched</th>\n      <th>pledged</th>\n      <th>state</th>\n      <th>backers</th>\n      <th>country</th>\n      <th>usd pledged</th>\n      <th>usd_pledged_real</th>\n      <th>usd_goal_real</th>\n    </tr>\n  </thead>\n  <tbody>\n    <tr>\n      <th>0</th>\n      <td>1000002330</td>\n      <td>The Songs of Adelaide &amp; Abullah</td>\n      <td>Poetry</td>\n      <td>Publishing</td>\n      <td>GBP</td>\n      <td>2015-10-09</td>\n      <td>1000.0</td>\n      <td>2015-08-11 12:12:28</td>\n      <td>0.0</td>\n      <td>failed</td>\n      <td>0</td>\n      <td>GB</td>\n      <td>0.0</td>\n      <td>0.0</td>\n      <td>1533.95</td>\n    </tr>\n    <tr>\n      <th>1</th>\n      <td>1000003930</td>\n      <td>Greeting From Earth: ZGAC Arts Capsule For ET</td>\n      <td>Narrative Film</td>\n      <td>Film &amp; Video</td>\n      <td>USD</td>\n      <td>2017-11-01</td>\n      <td>30000.0</td>\n      <td>2017-09-02 04:43:57</td>\n      <td>2421.0</td>\n      <td>failed</td>\n      <td>15</td>\n      <td>US</td>\n      <td>100.0</td>\n      <td>2421.0</td>\n      <td>30000.00</td>\n    </tr>\n    <tr>\n      <th>2</th>\n      <td>1000004038</td>\n      <td>Where is Hank?</td>\n      <td>Narrative Film</td>\n      <td>Film &amp; Video</td>\n      <td>USD</td>\n      <td>2013-02-26</td>\n      <td>45000.0</td>\n      <td>2013-01-12 00:20:50</td>\n      <td>220.0</td>\n      <td>failed</td>\n      <td>3</td>\n      <td>US</td>\n      <td>220.0</td>\n      <td>220.0</td>\n      <td>45000.00</td>\n    </tr>\n    <tr>\n      <th>3</th>\n      <td>1000007540</td>\n      <td>ToshiCapital Rekordz Needs Help to Complete Album</td>\n      <td>Music</td>\n      <td>Music</td>\n      <td>USD</td>\n      <td>2012-04-16</td>\n      <td>5000.0</td>\n      <td>2012-03-17 03:24:11</td>\n      <td>1.0</td>\n      <td>failed</td>\n      <td>1</td>\n      <td>US</td>\n      <td>1.0</td>\n      <td>1.0</td>\n      <td>5000.00</td>\n    </tr>\n    <tr>\n      <th>4</th>\n      <td>1000011046</td>\n      <td>Community Film Project: The Art of Neighborhoo...</td>\n      <td>Film &amp; Video</td>\n      <td>Film &amp; Video</td>\n      <td>USD</td>\n      <td>2015-08-29</td>\n      <td>19500.0</td>\n      <td>2015-07-04 08:35:03</td>\n      <td>1283.0</td>\n      <td>canceled</td>\n      <td>14</td>\n      <td>US</td>\n      <td>1283.0</td>\n      <td>1283.0</td>\n      <td>19500.00</td>\n    </tr>\n  </tbody>\n</table>\n</div>"
     },
     "metadata": {}
    }
   ],
   "source": [
    "display(df.head(5))"
   ]
  },
  {
   "cell_type": "code",
   "execution_count": 4,
   "metadata": {},
   "outputs": [
    {
     "output_type": "display_data",
     "data": {
      "text/plain": "                 ID          goal       pledged        backers   usd pledged  \\\ncount  3.786610e+05  3.786610e+05  3.786610e+05  378661.000000  3.748640e+05   \nmean   1.074731e+09  4.908079e+04  9.682979e+03     105.617476  7.036729e+03   \nstd    6.190862e+08  1.183391e+06  9.563601e+04     907.185035  7.863975e+04   \nmin    5.971000e+03  1.000000e-02  0.000000e+00       0.000000  0.000000e+00   \n25%    5.382635e+08  2.000000e+03  3.000000e+01       2.000000  1.698000e+01   \n50%    1.075276e+09  5.200000e+03  6.200000e+02      12.000000  3.947200e+02   \n75%    1.610149e+09  1.600000e+04  4.076000e+03      56.000000  3.034090e+03   \nmax    2.147476e+09  1.000000e+08  2.033899e+07  219382.000000  2.033899e+07   \n\n       usd_pledged_real  usd_goal_real  \ncount      3.786610e+05   3.786610e+05  \nmean       9.058924e+03   4.545440e+04  \nstd        9.097334e+04   1.152950e+06  \nmin        0.000000e+00   1.000000e-02  \n25%        3.100000e+01   2.000000e+03  \n50%        6.243300e+02   5.500000e+03  \n75%        4.050000e+03   1.550000e+04  \nmax        2.033899e+07   1.663614e+08  ",
      "text/html": "<div>\n<style scoped>\n    .dataframe tbody tr th:only-of-type {\n        vertical-align: middle;\n    }\n\n    .dataframe tbody tr th {\n        vertical-align: top;\n    }\n\n    .dataframe thead th {\n        text-align: right;\n    }\n</style>\n<table border=\"1\" class=\"dataframe\">\n  <thead>\n    <tr style=\"text-align: right;\">\n      <th></th>\n      <th>ID</th>\n      <th>goal</th>\n      <th>pledged</th>\n      <th>backers</th>\n      <th>usd pledged</th>\n      <th>usd_pledged_real</th>\n      <th>usd_goal_real</th>\n    </tr>\n  </thead>\n  <tbody>\n    <tr>\n      <th>count</th>\n      <td>3.786610e+05</td>\n      <td>3.786610e+05</td>\n      <td>3.786610e+05</td>\n      <td>378661.000000</td>\n      <td>3.748640e+05</td>\n      <td>3.786610e+05</td>\n      <td>3.786610e+05</td>\n    </tr>\n    <tr>\n      <th>mean</th>\n      <td>1.074731e+09</td>\n      <td>4.908079e+04</td>\n      <td>9.682979e+03</td>\n      <td>105.617476</td>\n      <td>7.036729e+03</td>\n      <td>9.058924e+03</td>\n      <td>4.545440e+04</td>\n    </tr>\n    <tr>\n      <th>std</th>\n      <td>6.190862e+08</td>\n      <td>1.183391e+06</td>\n      <td>9.563601e+04</td>\n      <td>907.185035</td>\n      <td>7.863975e+04</td>\n      <td>9.097334e+04</td>\n      <td>1.152950e+06</td>\n    </tr>\n    <tr>\n      <th>min</th>\n      <td>5.971000e+03</td>\n      <td>1.000000e-02</td>\n      <td>0.000000e+00</td>\n      <td>0.000000</td>\n      <td>0.000000e+00</td>\n      <td>0.000000e+00</td>\n      <td>1.000000e-02</td>\n    </tr>\n    <tr>\n      <th>25%</th>\n      <td>5.382635e+08</td>\n      <td>2.000000e+03</td>\n      <td>3.000000e+01</td>\n      <td>2.000000</td>\n      <td>1.698000e+01</td>\n      <td>3.100000e+01</td>\n      <td>2.000000e+03</td>\n    </tr>\n    <tr>\n      <th>50%</th>\n      <td>1.075276e+09</td>\n      <td>5.200000e+03</td>\n      <td>6.200000e+02</td>\n      <td>12.000000</td>\n      <td>3.947200e+02</td>\n      <td>6.243300e+02</td>\n      <td>5.500000e+03</td>\n    </tr>\n    <tr>\n      <th>75%</th>\n      <td>1.610149e+09</td>\n      <td>1.600000e+04</td>\n      <td>4.076000e+03</td>\n      <td>56.000000</td>\n      <td>3.034090e+03</td>\n      <td>4.050000e+03</td>\n      <td>1.550000e+04</td>\n    </tr>\n    <tr>\n      <th>max</th>\n      <td>2.147476e+09</td>\n      <td>1.000000e+08</td>\n      <td>2.033899e+07</td>\n      <td>219382.000000</td>\n      <td>2.033899e+07</td>\n      <td>2.033899e+07</td>\n      <td>1.663614e+08</td>\n    </tr>\n  </tbody>\n</table>\n</div>"
     },
     "metadata": {}
    },
    {
     "output_type": "stream",
     "name": "stdout",
     "text": [
      "<class 'pandas.core.frame.DataFrame'>\nRangeIndex: 378661 entries, 0 to 378660\nData columns (total 15 columns):\nID                  378661 non-null int64\nname                378657 non-null object\ncategory            378661 non-null object\nmain_category       378661 non-null object\ncurrency            378661 non-null object\ndeadline            378661 non-null object\ngoal                378661 non-null float64\nlaunched            378661 non-null object\npledged             378661 non-null float64\nstate               378661 non-null object\nbackers             378661 non-null int64\ncountry             378661 non-null object\nusd pledged         374864 non-null float64\nusd_pledged_real    378661 non-null float64\nusd_goal_real       378661 non-null float64\ndtypes: float64(5), int64(2), object(8)\nmemory usage: 43.3+ MB\nNone\nID                     0\nname                   4\ncategory               0\nmain_category          0\ncurrency               0\ndeadline               0\ngoal                   0\nlaunched               0\npledged                0\nstate                  0\nbackers                0\ncountry                0\nusd pledged         3797\nusd_pledged_real       0\nusd_goal_real          0\ndtype: int64\n"
     ]
    }
   ],
   "source": [
    "display(df.describe())\n",
    "print(df.info())\n",
    "print(df.isnull().sum())"
   ]
  },
  {
   "cell_type": "code",
   "execution_count": 5,
   "metadata": {},
   "outputs": [
    {
     "output_type": "execute_result",
     "data": {
      "text/plain": [
       "failed        197719\n",
       "successful    133956\n",
       "canceled       38779\n",
       "undefined       3562\n",
       "live            2799\n",
       "suspended       1846\n",
       "Name: state, dtype: int64"
      ]
     },
     "metadata": {},
     "execution_count": 5
    }
   ],
   "source": [
    "# state列が取る値を確認\n",
    "df['state'].value_counts()"
   ]
  },
  {
   "cell_type": "code",
   "execution_count": 6,
   "metadata": {},
   "outputs": [],
   "source": [
    "# state列のsuccessfulをTrue、それ以外をFalseに割り振る\n",
    "df['state'] = (df['state'] == 'successful')"
   ]
  },
  {
   "cell_type": "code",
   "execution_count": 7,
   "metadata": {},
   "outputs": [
    {
     "output_type": "error",
     "ename": "NameError",
     "evalue": "name 'deadlineとlaunchedから新しい特徴量durationを作成' is not defined",
     "traceback": [
      "\u001b[1;31m---------------------------------------------------------------------------\u001b[0m",
      "\u001b[1;31mNameError\u001b[0m                                 Traceback (most recent call last)",
      "\u001b[1;32m<ipython-input-7-477f4eaf8d33>\u001b[0m in \u001b[0;36m<module>\u001b[1;34m\u001b[0m\n\u001b[1;32m----> 1\u001b[1;33m \u001b[0mdeadlineとlaunchedから新しい特徴量durationを作成\u001b[0m\u001b[1;33m\u001b[0m\u001b[1;33m\u001b[0m\u001b[0m\n\u001b[0m\u001b[0;32m      2\u001b[0m \u001b[0mdf\u001b[0m\u001b[1;33m[\u001b[0m\u001b[1;34m'deadline'\u001b[0m\u001b[1;33m]\u001b[0m \u001b[1;33m=\u001b[0m \u001b[0mpd\u001b[0m\u001b[1;33m.\u001b[0m\u001b[0mto_datetime\u001b[0m\u001b[1;33m(\u001b[0m\u001b[0mdf\u001b[0m\u001b[1;33m[\u001b[0m\u001b[1;34m'deadline'\u001b[0m\u001b[1;33m]\u001b[0m\u001b[1;33m)\u001b[0m\u001b[1;33m\u001b[0m\u001b[1;33m\u001b[0m\u001b[0m\n\u001b[0;32m      3\u001b[0m \u001b[0mdf\u001b[0m\u001b[1;33m[\u001b[0m\u001b[1;34m'launched'\u001b[0m\u001b[1;33m]\u001b[0m \u001b[1;33m=\u001b[0m \u001b[0mpd\u001b[0m\u001b[1;33m.\u001b[0m\u001b[0mto_datetime\u001b[0m\u001b[1;33m(\u001b[0m\u001b[0mdf\u001b[0m\u001b[1;33m[\u001b[0m\u001b[1;34m'launched'\u001b[0m\u001b[1;33m]\u001b[0m\u001b[1;33m)\u001b[0m\u001b[1;33m\u001b[0m\u001b[1;33m\u001b[0m\u001b[0m\n\u001b[0;32m      4\u001b[0m \u001b[0mdf\u001b[0m\u001b[1;33m[\u001b[0m\u001b[1;34m'duration'\u001b[0m\u001b[1;33m]\u001b[0m \u001b[1;33m=\u001b[0m \u001b[1;33m(\u001b[0m\u001b[0mdf\u001b[0m\u001b[1;33m[\u001b[0m\u001b[1;34m'deadline'\u001b[0m\u001b[1;33m]\u001b[0m \u001b[1;33m-\u001b[0m \u001b[0mdf\u001b[0m\u001b[1;33m[\u001b[0m\u001b[1;34m'launched'\u001b[0m\u001b[1;33m]\u001b[0m\u001b[1;33m)\u001b[0m\u001b[1;33m.\u001b[0m\u001b[0mdt\u001b[0m\u001b[1;33m.\u001b[0m\u001b[0mdays\u001b[0m\u001b[1;33m\u001b[0m\u001b[1;33m\u001b[0m\u001b[0m\n\u001b[0;32m      5\u001b[0m \u001b[0mdf\u001b[0m\u001b[1;33m.\u001b[0m\u001b[0mhead\u001b[0m\u001b[1;33m(\u001b[0m\u001b[1;36m8\u001b[0m\u001b[1;33m)\u001b[0m\u001b[1;33m\u001b[0m\u001b[1;33m\u001b[0m\u001b[0m\n",
      "\u001b[1;31mNameError\u001b[0m: name 'deadlineとlaunchedから新しい特徴量durationを作成' is not defined"
     ]
    }
   ],
   "source": [
    "deadlineとlaunchedから新しい特徴量durationを作成\n",
    "df['deadline'] = pd.to_datetime(df['deadline'])\n",
    "df['launched'] = pd.to_datetime(df['launched'])\n",
    "df['duration'] = (df['deadline'] - df['launched']).dt.days\n",
    "df.head(8)"
   ]
  },
  {
   "source": [
    "### 2. データの可視化と前処理"
   ],
   "cell_type": "markdown",
   "metadata": {}
  },
  {
   "cell_type": "code",
   "execution_count": 8,
   "metadata": {},
   "outputs": [
    {
     "output_type": "display_data",
     "data": {
      "text/plain": "<Figure size 432x288 with 2 Axes>",
      "image/svg+xml": "<?xml version=\"1.0\" encoding=\"utf-8\" standalone=\"no\"?>\r\n<!DOCTYPE svg PUBLIC \"-//W3C//DTD SVG 1.1//EN\"\r\n  \"http://www.w3.org/Graphics/SVG/1.1/DTD/svg11.dtd\">\r\n<!-- Created with matplotlib (https://matplotlib.org/) -->\r\n<svg height=\"330.179844pt\" version=\"1.1\" viewBox=\"0 0 427.29575 330.179844\" width=\"427.29575pt\" xmlns=\"http://www.w3.org/2000/svg\" xmlns:xlink=\"http://www.w3.org/1999/xlink\">\r\n <defs>\r\n  <style type=\"text/css\">\r\n*{stroke-linecap:butt;stroke-linejoin:round;}\r\n  </style>\r\n </defs>\r\n <g id=\"figure_1\">\r\n  <g id=\"patch_1\">\r\n   <path d=\"M 0 330.179844 \r\nL 427.29575 330.179844 \r\nL 427.29575 0 \r\nL 0 0 \r\nz\r\n\" style=\"fill:none;\"/>\r\n  </g>\r\n  <g id=\"axes_1\">\r\n   <g id=\"patch_2\">\r\n    <path d=\"M 101.740625 228.439219 \r\nL 369.580625 228.439219 \r\nL 369.580625 10.999219 \r\nL 101.740625 10.999219 \r\nz\r\n\" style=\"fill:#ffffff;\"/>\r\n   </g>\r\n   <g id=\"QuadMesh_1\">\r\n    <path clip-path=\"url(#p77f0ef56ec)\" d=\"M 101.740625 10.999219 \r\nL 135.220625 10.999219 \r\nL 135.220625 38.179219 \r\nL 101.740625 38.179219 \r\nL 101.740625 10.999219 \r\n\" style=\"fill:#67000d;\"/>\r\n    <path clip-path=\"url(#p77f0ef56ec)\" d=\"M 135.220625 10.999219 \r\nL 168.700625 10.999219 \r\nL 168.700625 38.179219 \r\nL 135.220625 38.179219 \r\nL 135.220625 10.999219 \r\n\" style=\"fill:#fff1ea;\"/>\r\n    <path clip-path=\"url(#p77f0ef56ec)\" d=\"M 168.700625 10.999219 \r\nL 202.180625 10.999219 \r\nL 202.180625 38.179219 \r\nL 168.700625 38.179219 \r\nL 168.700625 10.999219 \r\n\" style=\"fill:#fff1ea;\"/>\r\n    <path clip-path=\"url(#p77f0ef56ec)\" d=\"M 202.180625 10.999219 \r\nL 235.660625 10.999219 \r\nL 235.660625 38.179219 \r\nL 202.180625 38.179219 \r\nL 202.180625 10.999219 \r\n\" style=\"fill:#fff2eb;\"/>\r\n    <path clip-path=\"url(#p77f0ef56ec)\" d=\"M 235.660625 10.999219 \r\nL 269.140625 10.999219 \r\nL 269.140625 38.179219 \r\nL 235.660625 38.179219 \r\nL 235.660625 10.999219 \r\n\" style=\"fill:#fff1ea;\"/>\r\n    <path clip-path=\"url(#p77f0ef56ec)\" d=\"M 269.140625 10.999219 \r\nL 302.620625 10.999219 \r\nL 302.620625 38.179219 \r\nL 269.140625 38.179219 \r\nL 269.140625 10.999219 \r\n\" style=\"fill:#fff2eb;\"/>\r\n    <path clip-path=\"url(#p77f0ef56ec)\" d=\"M 302.620625 10.999219 \r\nL 336.100625 10.999219 \r\nL 336.100625 38.179219 \r\nL 302.620625 38.179219 \r\nL 302.620625 10.999219 \r\n\" style=\"fill:#fff1ea;\"/>\r\n    <path clip-path=\"url(#p77f0ef56ec)\" d=\"M 336.100625 10.999219 \r\nL 369.580625 10.999219 \r\nL 369.580625 38.179219 \r\nL 336.100625 38.179219 \r\nL 336.100625 10.999219 \r\n\" style=\"fill:#fff1ea;\"/>\r\n    <path clip-path=\"url(#p77f0ef56ec)\" d=\"M 101.740625 38.179219 \r\nL 135.220625 38.179219 \r\nL 135.220625 65.359219 \r\nL 101.740625 65.359219 \r\nL 101.740625 38.179219 \r\n\" style=\"fill:#fff1ea;\"/>\r\n    <path clip-path=\"url(#p77f0ef56ec)\" d=\"M 135.220625 38.179219 \r\nL 168.700625 38.179219 \r\nL 168.700625 65.359219 \r\nL 135.220625 65.359219 \r\nL 135.220625 38.179219 \r\n\" style=\"fill:#67000d;\"/>\r\n    <path clip-path=\"url(#p77f0ef56ec)\" d=\"M 168.700625 38.179219 \r\nL 202.180625 38.179219 \r\nL 202.180625 65.359219 \r\nL 168.700625 65.359219 \r\nL 168.700625 38.179219 \r\n\" style=\"fill:#fff0e9;\"/>\r\n    <path clip-path=\"url(#p77f0ef56ec)\" d=\"M 202.180625 38.179219 \r\nL 235.660625 38.179219 \r\nL 235.660625 65.359219 \r\nL 202.180625 65.359219 \r\nL 202.180625 38.179219 \r\n\" style=\"fill:#fff5f0;\"/>\r\n    <path clip-path=\"url(#p77f0ef56ec)\" d=\"M 235.660625 38.179219 \r\nL 269.140625 38.179219 \r\nL 269.140625 65.359219 \r\nL 235.660625 65.359219 \r\nL 235.660625 38.179219 \r\n\" style=\"fill:#fff0e9;\"/>\r\n    <path clip-path=\"url(#p77f0ef56ec)\" d=\"M 269.140625 38.179219 \r\nL 302.620625 38.179219 \r\nL 302.620625 65.359219 \r\nL 269.140625 65.359219 \r\nL 269.140625 38.179219 \r\n\" style=\"fill:#fff0e9;\"/>\r\n    <path clip-path=\"url(#p77f0ef56ec)\" d=\"M 302.620625 38.179219 \r\nL 336.100625 38.179219 \r\nL 336.100625 65.359219 \r\nL 302.620625 65.359219 \r\nL 302.620625 38.179219 \r\n\" style=\"fill:#fff0e9;\"/>\r\n    <path clip-path=\"url(#p77f0ef56ec)\" d=\"M 336.100625 38.179219 \r\nL 369.580625 38.179219 \r\nL 369.580625 65.359219 \r\nL 336.100625 65.359219 \r\nL 336.100625 38.179219 \r\n\" style=\"fill:#820711;\"/>\r\n    <path clip-path=\"url(#p77f0ef56ec)\" d=\"M 101.740625 65.359219 \r\nL 135.220625 65.359219 \r\nL 135.220625 92.539219 \r\nL 101.740625 92.539219 \r\nL 101.740625 65.359219 \r\n\" style=\"fill:#fff1ea;\"/>\r\n    <path clip-path=\"url(#p77f0ef56ec)\" d=\"M 135.220625 65.359219 \r\nL 168.700625 65.359219 \r\nL 168.700625 92.539219 \r\nL 135.220625 92.539219 \r\nL 135.220625 65.359219 \r\n\" style=\"fill:#fff0e9;\"/>\r\n    <path clip-path=\"url(#p77f0ef56ec)\" d=\"M 168.700625 65.359219 \r\nL 202.180625 65.359219 \r\nL 202.180625 92.539219 \r\nL 168.700625 92.539219 \r\nL 168.700625 65.359219 \r\n\" style=\"fill:#67000d;\"/>\r\n    <path clip-path=\"url(#p77f0ef56ec)\" d=\"M 202.180625 65.359219 \r\nL 235.660625 65.359219 \r\nL 235.660625 92.539219 \r\nL 202.180625 92.539219 \r\nL 202.180625 65.359219 \r\n\" style=\"fill:#fedfd0;\"/>\r\n    <path clip-path=\"url(#p77f0ef56ec)\" d=\"M 235.660625 65.359219 \r\nL 269.140625 65.359219 \r\nL 269.140625 92.539219 \r\nL 235.660625 92.539219 \r\nL 235.660625 65.359219 \r\n\" style=\"fill:#d21f20;\"/>\r\n    <path clip-path=\"url(#p77f0ef56ec)\" d=\"M 269.140625 65.359219 \r\nL 302.620625 65.359219 \r\nL 302.620625 92.539219 \r\nL 269.140625 92.539219 \r\nL 269.140625 65.359219 \r\n\" style=\"fill:#a91016;\"/>\r\n    <path clip-path=\"url(#p77f0ef56ec)\" d=\"M 302.620625 65.359219 \r\nL 336.100625 65.359219 \r\nL 336.100625 92.539219 \r\nL 302.620625 92.539219 \r\nL 302.620625 65.359219 \r\n\" style=\"fill:#7c0510;\"/>\r\n    <path clip-path=\"url(#p77f0ef56ec)\" d=\"M 336.100625 65.359219 \r\nL 369.580625 65.359219 \r\nL 369.580625 92.539219 \r\nL 336.100625 92.539219 \r\nL 336.100625 65.359219 \r\n\" style=\"fill:#fff0e9;\"/>\r\n    <path clip-path=\"url(#p77f0ef56ec)\" d=\"M 101.740625 92.539219 \r\nL 135.220625 92.539219 \r\nL 135.220625 119.719219 \r\nL 101.740625 119.719219 \r\nL 101.740625 92.539219 \r\n\" style=\"fill:#fff2eb;\"/>\r\n    <path clip-path=\"url(#p77f0ef56ec)\" d=\"M 135.220625 92.539219 \r\nL 168.700625 92.539219 \r\nL 168.700625 119.719219 \r\nL 135.220625 119.719219 \r\nL 135.220625 92.539219 \r\n\" style=\"fill:#fff5f0;\"/>\r\n    <path clip-path=\"url(#p77f0ef56ec)\" d=\"M 168.700625 92.539219 \r\nL 202.180625 92.539219 \r\nL 202.180625 119.719219 \r\nL 168.700625 119.719219 \r\nL 168.700625 92.539219 \r\n\" style=\"fill:#fedfd0;\"/>\r\n    <path clip-path=\"url(#p77f0ef56ec)\" d=\"M 202.180625 92.539219 \r\nL 235.660625 92.539219 \r\nL 235.660625 119.719219 \r\nL 202.180625 119.719219 \r\nL 202.180625 92.539219 \r\n\" style=\"fill:#67000d;\"/>\r\n    <path clip-path=\"url(#p77f0ef56ec)\" d=\"M 235.660625 92.539219 \r\nL 269.140625 92.539219 \r\nL 269.140625 119.719219 \r\nL 235.660625 119.719219 \r\nL 235.660625 92.539219 \r\n\" style=\"fill:#fed9c9;\"/>\r\n    <path clip-path=\"url(#p77f0ef56ec)\" d=\"M 269.140625 92.539219 \r\nL 302.620625 92.539219 \r\nL 302.620625 119.719219 \r\nL 269.140625 119.719219 \r\nL 269.140625 92.539219 \r\n\" style=\"fill:#fee1d4;\"/>\r\n    <path clip-path=\"url(#p77f0ef56ec)\" d=\"M 302.620625 92.539219 \r\nL 336.100625 92.539219 \r\nL 336.100625 119.719219 \r\nL 302.620625 119.719219 \r\nL 302.620625 92.539219 \r\n\" style=\"fill:#fedfd0;\"/>\r\n    <path clip-path=\"url(#p77f0ef56ec)\" d=\"M 336.100625 92.539219 \r\nL 369.580625 92.539219 \r\nL 369.580625 119.719219 \r\nL 336.100625 119.719219 \r\nL 336.100625 92.539219 \r\n\" style=\"fill:#fff5f0;\"/>\r\n    <path clip-path=\"url(#p77f0ef56ec)\" d=\"M 101.740625 119.719219 \r\nL 135.220625 119.719219 \r\nL 135.220625 146.899219 \r\nL 101.740625 146.899219 \r\nL 101.740625 119.719219 \r\n\" style=\"fill:#fff1ea;\"/>\r\n    <path clip-path=\"url(#p77f0ef56ec)\" d=\"M 135.220625 119.719219 \r\nL 168.700625 119.719219 \r\nL 168.700625 146.899219 \r\nL 135.220625 146.899219 \r\nL 135.220625 119.719219 \r\n\" style=\"fill:#fff0e9;\"/>\r\n    <path clip-path=\"url(#p77f0ef56ec)\" d=\"M 168.700625 119.719219 \r\nL 202.180625 119.719219 \r\nL 202.180625 146.899219 \r\nL 168.700625 146.899219 \r\nL 168.700625 119.719219 \r\n\" style=\"fill:#d21f20;\"/>\r\n    <path clip-path=\"url(#p77f0ef56ec)\" d=\"M 202.180625 119.719219 \r\nL 235.660625 119.719219 \r\nL 235.660625 146.899219 \r\nL 202.180625 146.899219 \r\nL 202.180625 119.719219 \r\n\" style=\"fill:#fed9c9;\"/>\r\n    <path clip-path=\"url(#p77f0ef56ec)\" d=\"M 235.660625 119.719219 \r\nL 269.140625 119.719219 \r\nL 269.140625 146.899219 \r\nL 235.660625 146.899219 \r\nL 235.660625 119.719219 \r\n\" style=\"fill:#67000d;\"/>\r\n    <path clip-path=\"url(#p77f0ef56ec)\" d=\"M 269.140625 119.719219 \r\nL 302.620625 119.719219 \r\nL 302.620625 146.899219 \r\nL 269.140625 146.899219 \r\nL 269.140625 119.719219 \r\n\" style=\"fill:#d82422;\"/>\r\n    <path clip-path=\"url(#p77f0ef56ec)\" d=\"M 302.620625 119.719219 \r\nL 336.100625 119.719219 \r\nL 336.100625 146.899219 \r\nL 302.620625 146.899219 \r\nL 302.620625 119.719219 \r\n\" style=\"fill:#c8171c;\"/>\r\n    <path clip-path=\"url(#p77f0ef56ec)\" d=\"M 336.100625 119.719219 \r\nL 369.580625 119.719219 \r\nL 369.580625 146.899219 \r\nL 336.100625 146.899219 \r\nL 336.100625 119.719219 \r\n\" style=\"fill:#fff0e9;\"/>\r\n    <path clip-path=\"url(#p77f0ef56ec)\" d=\"M 101.740625 146.899219 \r\nL 135.220625 146.899219 \r\nL 135.220625 174.079219 \r\nL 101.740625 174.079219 \r\nL 101.740625 146.899219 \r\n\" style=\"fill:#fff2eb;\"/>\r\n    <path clip-path=\"url(#p77f0ef56ec)\" d=\"M 135.220625 146.899219 \r\nL 168.700625 146.899219 \r\nL 168.700625 174.079219 \r\nL 135.220625 174.079219 \r\nL 135.220625 146.899219 \r\n\" style=\"fill:#fff0e9;\"/>\r\n    <path clip-path=\"url(#p77f0ef56ec)\" d=\"M 168.700625 146.899219 \r\nL 202.180625 146.899219 \r\nL 202.180625 174.079219 \r\nL 168.700625 174.079219 \r\nL 168.700625 146.899219 \r\n\" style=\"fill:#a91016;\"/>\r\n    <path clip-path=\"url(#p77f0ef56ec)\" d=\"M 202.180625 146.899219 \r\nL 235.660625 146.899219 \r\nL 235.660625 174.079219 \r\nL 202.180625 174.079219 \r\nL 202.180625 146.899219 \r\n\" style=\"fill:#fee1d4;\"/>\r\n    <path clip-path=\"url(#p77f0ef56ec)\" d=\"M 235.660625 146.899219 \r\nL 269.140625 146.899219 \r\nL 269.140625 174.079219 \r\nL 235.660625 174.079219 \r\nL 235.660625 146.899219 \r\n\" style=\"fill:#d82422;\"/>\r\n    <path clip-path=\"url(#p77f0ef56ec)\" d=\"M 269.140625 146.899219 \r\nL 302.620625 146.899219 \r\nL 302.620625 174.079219 \r\nL 269.140625 174.079219 \r\nL 269.140625 146.899219 \r\n\" style=\"fill:#67000d;\"/>\r\n    <path clip-path=\"url(#p77f0ef56ec)\" d=\"M 302.620625 146.899219 \r\nL 336.100625 146.899219 \r\nL 336.100625 174.079219 \r\nL 302.620625 174.079219 \r\nL 302.620625 146.899219 \r\n\" style=\"fill:#940b13;\"/>\r\n    <path clip-path=\"url(#p77f0ef56ec)\" d=\"M 336.100625 146.899219 \r\nL 369.580625 146.899219 \r\nL 369.580625 174.079219 \r\nL 336.100625 174.079219 \r\nL 336.100625 146.899219 \r\n\" style=\"fill:#fff0e9;\"/>\r\n    <path clip-path=\"url(#p77f0ef56ec)\" d=\"M 101.740625 174.079219 \r\nL 135.220625 174.079219 \r\nL 135.220625 201.259219 \r\nL 101.740625 201.259219 \r\nL 101.740625 174.079219 \r\n\" style=\"fill:#fff1ea;\"/>\r\n    <path clip-path=\"url(#p77f0ef56ec)\" d=\"M 135.220625 174.079219 \r\nL 168.700625 174.079219 \r\nL 168.700625 201.259219 \r\nL 135.220625 201.259219 \r\nL 135.220625 174.079219 \r\n\" style=\"fill:#fff0e9;\"/>\r\n    <path clip-path=\"url(#p77f0ef56ec)\" d=\"M 168.700625 174.079219 \r\nL 202.180625 174.079219 \r\nL 202.180625 201.259219 \r\nL 168.700625 201.259219 \r\nL 168.700625 174.079219 \r\n\" style=\"fill:#7c0510;\"/>\r\n    <path clip-path=\"url(#p77f0ef56ec)\" d=\"M 202.180625 174.079219 \r\nL 235.660625 174.079219 \r\nL 235.660625 201.259219 \r\nL 202.180625 201.259219 \r\nL 202.180625 174.079219 \r\n\" style=\"fill:#fedfd0;\"/>\r\n    <path clip-path=\"url(#p77f0ef56ec)\" d=\"M 235.660625 174.079219 \r\nL 269.140625 174.079219 \r\nL 269.140625 201.259219 \r\nL 235.660625 201.259219 \r\nL 235.660625 174.079219 \r\n\" style=\"fill:#c8171c;\"/>\r\n    <path clip-path=\"url(#p77f0ef56ec)\" d=\"M 269.140625 174.079219 \r\nL 302.620625 174.079219 \r\nL 302.620625 201.259219 \r\nL 269.140625 201.259219 \r\nL 269.140625 174.079219 \r\n\" style=\"fill:#940b13;\"/>\r\n    <path clip-path=\"url(#p77f0ef56ec)\" d=\"M 302.620625 174.079219 \r\nL 336.100625 174.079219 \r\nL 336.100625 201.259219 \r\nL 302.620625 201.259219 \r\nL 302.620625 174.079219 \r\n\" style=\"fill:#67000d;\"/>\r\n    <path clip-path=\"url(#p77f0ef56ec)\" d=\"M 336.100625 174.079219 \r\nL 369.580625 174.079219 \r\nL 369.580625 201.259219 \r\nL 336.100625 201.259219 \r\nL 336.100625 174.079219 \r\n\" style=\"fill:#fff0e9;\"/>\r\n    <path clip-path=\"url(#p77f0ef56ec)\" d=\"M 101.740625 201.259219 \r\nL 135.220625 201.259219 \r\nL 135.220625 228.439219 \r\nL 101.740625 228.439219 \r\nL 101.740625 201.259219 \r\n\" style=\"fill:#fff1ea;\"/>\r\n    <path clip-path=\"url(#p77f0ef56ec)\" d=\"M 135.220625 201.259219 \r\nL 168.700625 201.259219 \r\nL 168.700625 228.439219 \r\nL 135.220625 228.439219 \r\nL 135.220625 201.259219 \r\n\" style=\"fill:#820711;\"/>\r\n    <path clip-path=\"url(#p77f0ef56ec)\" d=\"M 168.700625 201.259219 \r\nL 202.180625 201.259219 \r\nL 202.180625 228.439219 \r\nL 168.700625 228.439219 \r\nL 168.700625 201.259219 \r\n\" style=\"fill:#fff0e9;\"/>\r\n    <path clip-path=\"url(#p77f0ef56ec)\" d=\"M 202.180625 201.259219 \r\nL 235.660625 201.259219 \r\nL 235.660625 228.439219 \r\nL 202.180625 228.439219 \r\nL 202.180625 201.259219 \r\n\" style=\"fill:#fff5f0;\"/>\r\n    <path clip-path=\"url(#p77f0ef56ec)\" d=\"M 235.660625 201.259219 \r\nL 269.140625 201.259219 \r\nL 269.140625 228.439219 \r\nL 235.660625 228.439219 \r\nL 235.660625 201.259219 \r\n\" style=\"fill:#fff0e9;\"/>\r\n    <path clip-path=\"url(#p77f0ef56ec)\" d=\"M 269.140625 201.259219 \r\nL 302.620625 201.259219 \r\nL 302.620625 228.439219 \r\nL 269.140625 228.439219 \r\nL 269.140625 201.259219 \r\n\" style=\"fill:#fff0e9;\"/>\r\n    <path clip-path=\"url(#p77f0ef56ec)\" d=\"M 302.620625 201.259219 \r\nL 336.100625 201.259219 \r\nL 336.100625 228.439219 \r\nL 302.620625 228.439219 \r\nL 302.620625 201.259219 \r\n\" style=\"fill:#fff0e9;\"/>\r\n    <path clip-path=\"url(#p77f0ef56ec)\" d=\"M 336.100625 201.259219 \r\nL 369.580625 201.259219 \r\nL 369.580625 228.439219 \r\nL 336.100625 228.439219 \r\nL 336.100625 201.259219 \r\n\" style=\"fill:#67000d;\"/>\r\n   </g>\r\n   <g id=\"matplotlib.axis_1\">\r\n    <g id=\"xtick_1\">\r\n     <g id=\"line2d_1\">\r\n      <defs>\r\n       <path d=\"M 0 0 \r\nL 0 3.5 \r\n\" id=\"m028d3b64f8\" style=\"stroke:#000000;stroke-width:0.8;\"/>\r\n      </defs>\r\n      <g>\r\n       <use style=\"stroke:#000000;stroke-width:0.8;\" x=\"118.480625\" xlink:href=\"#m028d3b64f8\" y=\"228.439219\"/>\r\n      </g>\r\n     </g>\r\n     <g id=\"text_1\">\r\n      <!-- ID -->\r\n      <defs>\r\n       <path d=\"M 9.8125 72.90625 \r\nL 19.671875 72.90625 \r\nL 19.671875 0 \r\nL 9.8125 0 \r\nz\r\n\" id=\"DejaVuSans-73\"/>\r\n       <path d=\"M 19.671875 64.796875 \r\nL 19.671875 8.109375 \r\nL 31.59375 8.109375 \r\nQ 46.6875 8.109375 53.6875 14.9375 \r\nQ 60.6875 21.78125 60.6875 36.53125 \r\nQ 60.6875 51.171875 53.6875 57.984375 \r\nQ 46.6875 64.796875 31.59375 64.796875 \r\nz\r\nM 9.8125 72.90625 \r\nL 30.078125 72.90625 \r\nQ 51.265625 72.90625 61.171875 64.09375 \r\nQ 71.09375 55.28125 71.09375 36.53125 \r\nQ 71.09375 17.671875 61.125 8.828125 \r\nQ 51.171875 0 30.078125 0 \r\nL 9.8125 0 \r\nz\r\n\" id=\"DejaVuSans-68\"/>\r\n      </defs>\r\n      <g transform=\"translate(121.24 246.089219)rotate(-90)scale(0.1 -0.1)\">\r\n       <use xlink:href=\"#DejaVuSans-73\"/>\r\n       <use x=\"29.492188\" xlink:href=\"#DejaVuSans-68\"/>\r\n      </g>\r\n     </g>\r\n    </g>\r\n    <g id=\"xtick_2\">\r\n     <g id=\"line2d_2\">\r\n      <g>\r\n       <use style=\"stroke:#000000;stroke-width:0.8;\" x=\"151.960625\" xlink:href=\"#m028d3b64f8\" y=\"228.439219\"/>\r\n      </g>\r\n     </g>\r\n     <g id=\"text_2\">\r\n      <!-- goal -->\r\n      <defs>\r\n       <path d=\"M 45.40625 27.984375 \r\nQ 45.40625 37.75 41.375 43.109375 \r\nQ 37.359375 48.484375 30.078125 48.484375 \r\nQ 22.859375 48.484375 18.828125 43.109375 \r\nQ 14.796875 37.75 14.796875 27.984375 \r\nQ 14.796875 18.265625 18.828125 12.890625 \r\nQ 22.859375 7.515625 30.078125 7.515625 \r\nQ 37.359375 7.515625 41.375 12.890625 \r\nQ 45.40625 18.265625 45.40625 27.984375 \r\nz\r\nM 54.390625 6.78125 \r\nQ 54.390625 -7.171875 48.1875 -13.984375 \r\nQ 42 -20.796875 29.203125 -20.796875 \r\nQ 24.46875 -20.796875 20.265625 -20.09375 \r\nQ 16.0625 -19.390625 12.109375 -17.921875 \r\nL 12.109375 -9.1875 \r\nQ 16.0625 -11.328125 19.921875 -12.34375 \r\nQ 23.78125 -13.375 27.78125 -13.375 \r\nQ 36.625 -13.375 41.015625 -8.765625 \r\nQ 45.40625 -4.15625 45.40625 5.171875 \r\nL 45.40625 9.625 \r\nQ 42.625 4.78125 38.28125 2.390625 \r\nQ 33.9375 0 27.875 0 \r\nQ 17.828125 0 11.671875 7.65625 \r\nQ 5.515625 15.328125 5.515625 27.984375 \r\nQ 5.515625 40.671875 11.671875 48.328125 \r\nQ 17.828125 56 27.875 56 \r\nQ 33.9375 56 38.28125 53.609375 \r\nQ 42.625 51.21875 45.40625 46.390625 \r\nL 45.40625 54.6875 \r\nL 54.390625 54.6875 \r\nz\r\n\" id=\"DejaVuSans-103\"/>\r\n       <path d=\"M 30.609375 48.390625 \r\nQ 23.390625 48.390625 19.1875 42.75 \r\nQ 14.984375 37.109375 14.984375 27.296875 \r\nQ 14.984375 17.484375 19.15625 11.84375 \r\nQ 23.34375 6.203125 30.609375 6.203125 \r\nQ 37.796875 6.203125 41.984375 11.859375 \r\nQ 46.1875 17.53125 46.1875 27.296875 \r\nQ 46.1875 37.015625 41.984375 42.703125 \r\nQ 37.796875 48.390625 30.609375 48.390625 \r\nz\r\nM 30.609375 56 \r\nQ 42.328125 56 49.015625 48.375 \r\nQ 55.71875 40.765625 55.71875 27.296875 \r\nQ 55.71875 13.875 49.015625 6.21875 \r\nQ 42.328125 -1.421875 30.609375 -1.421875 \r\nQ 18.84375 -1.421875 12.171875 6.21875 \r\nQ 5.515625 13.875 5.515625 27.296875 \r\nQ 5.515625 40.765625 12.171875 48.375 \r\nQ 18.84375 56 30.609375 56 \r\nz\r\n\" id=\"DejaVuSans-111\"/>\r\n       <path d=\"M 34.28125 27.484375 \r\nQ 23.390625 27.484375 19.1875 25 \r\nQ 14.984375 22.515625 14.984375 16.5 \r\nQ 14.984375 11.71875 18.140625 8.90625 \r\nQ 21.296875 6.109375 26.703125 6.109375 \r\nQ 34.1875 6.109375 38.703125 11.40625 \r\nQ 43.21875 16.703125 43.21875 25.484375 \r\nL 43.21875 27.484375 \r\nz\r\nM 52.203125 31.203125 \r\nL 52.203125 0 \r\nL 43.21875 0 \r\nL 43.21875 8.296875 \r\nQ 40.140625 3.328125 35.546875 0.953125 \r\nQ 30.953125 -1.421875 24.3125 -1.421875 \r\nQ 15.921875 -1.421875 10.953125 3.296875 \r\nQ 6 8.015625 6 15.921875 \r\nQ 6 25.140625 12.171875 29.828125 \r\nQ 18.359375 34.515625 30.609375 34.515625 \r\nL 43.21875 34.515625 \r\nL 43.21875 35.40625 \r\nQ 43.21875 41.609375 39.140625 45 \r\nQ 35.0625 48.390625 27.6875 48.390625 \r\nQ 23 48.390625 18.546875 47.265625 \r\nQ 14.109375 46.140625 10.015625 43.890625 \r\nL 10.015625 52.203125 \r\nQ 14.9375 54.109375 19.578125 55.046875 \r\nQ 24.21875 56 28.609375 56 \r\nQ 40.484375 56 46.34375 49.84375 \r\nQ 52.203125 43.703125 52.203125 31.203125 \r\nz\r\n\" id=\"DejaVuSans-97\"/>\r\n       <path d=\"M 9.421875 75.984375 \r\nL 18.40625 75.984375 \r\nL 18.40625 0 \r\nL 9.421875 0 \r\nz\r\n\" id=\"DejaVuSans-108\"/>\r\n      </defs>\r\n      <g transform=\"translate(154.72 256.812656)rotate(-90)scale(0.1 -0.1)\">\r\n       <use xlink:href=\"#DejaVuSans-103\"/>\r\n       <use x=\"63.476562\" xlink:href=\"#DejaVuSans-111\"/>\r\n       <use x=\"124.658203\" xlink:href=\"#DejaVuSans-97\"/>\r\n       <use x=\"185.9375\" xlink:href=\"#DejaVuSans-108\"/>\r\n      </g>\r\n     </g>\r\n    </g>\r\n    <g id=\"xtick_3\">\r\n     <g id=\"line2d_3\">\r\n      <g>\r\n       <use style=\"stroke:#000000;stroke-width:0.8;\" x=\"185.440625\" xlink:href=\"#m028d3b64f8\" y=\"228.439219\"/>\r\n      </g>\r\n     </g>\r\n     <g id=\"text_3\">\r\n      <!-- pledged -->\r\n      <defs>\r\n       <path d=\"M 18.109375 8.203125 \r\nL 18.109375 -20.796875 \r\nL 9.078125 -20.796875 \r\nL 9.078125 54.6875 \r\nL 18.109375 54.6875 \r\nL 18.109375 46.390625 \r\nQ 20.953125 51.265625 25.265625 53.625 \r\nQ 29.59375 56 35.59375 56 \r\nQ 45.5625 56 51.78125 48.09375 \r\nQ 58.015625 40.1875 58.015625 27.296875 \r\nQ 58.015625 14.40625 51.78125 6.484375 \r\nQ 45.5625 -1.421875 35.59375 -1.421875 \r\nQ 29.59375 -1.421875 25.265625 0.953125 \r\nQ 20.953125 3.328125 18.109375 8.203125 \r\nz\r\nM 48.6875 27.296875 \r\nQ 48.6875 37.203125 44.609375 42.84375 \r\nQ 40.53125 48.484375 33.40625 48.484375 \r\nQ 26.265625 48.484375 22.1875 42.84375 \r\nQ 18.109375 37.203125 18.109375 27.296875 \r\nQ 18.109375 17.390625 22.1875 11.75 \r\nQ 26.265625 6.109375 33.40625 6.109375 \r\nQ 40.53125 6.109375 44.609375 11.75 \r\nQ 48.6875 17.390625 48.6875 27.296875 \r\nz\r\n\" id=\"DejaVuSans-112\"/>\r\n       <path d=\"M 56.203125 29.59375 \r\nL 56.203125 25.203125 \r\nL 14.890625 25.203125 \r\nQ 15.484375 15.921875 20.484375 11.0625 \r\nQ 25.484375 6.203125 34.421875 6.203125 \r\nQ 39.59375 6.203125 44.453125 7.46875 \r\nQ 49.3125 8.734375 54.109375 11.28125 \r\nL 54.109375 2.78125 \r\nQ 49.265625 0.734375 44.1875 -0.34375 \r\nQ 39.109375 -1.421875 33.890625 -1.421875 \r\nQ 20.796875 -1.421875 13.15625 6.1875 \r\nQ 5.515625 13.8125 5.515625 26.8125 \r\nQ 5.515625 40.234375 12.765625 48.109375 \r\nQ 20.015625 56 32.328125 56 \r\nQ 43.359375 56 49.78125 48.890625 \r\nQ 56.203125 41.796875 56.203125 29.59375 \r\nz\r\nM 47.21875 32.234375 \r\nQ 47.125 39.59375 43.09375 43.984375 \r\nQ 39.0625 48.390625 32.421875 48.390625 \r\nQ 24.90625 48.390625 20.390625 44.140625 \r\nQ 15.875 39.890625 15.1875 32.171875 \r\nz\r\n\" id=\"DejaVuSans-101\"/>\r\n       <path d=\"M 45.40625 46.390625 \r\nL 45.40625 75.984375 \r\nL 54.390625 75.984375 \r\nL 54.390625 0 \r\nL 45.40625 0 \r\nL 45.40625 8.203125 \r\nQ 42.578125 3.328125 38.25 0.953125 \r\nQ 33.9375 -1.421875 27.875 -1.421875 \r\nQ 17.96875 -1.421875 11.734375 6.484375 \r\nQ 5.515625 14.40625 5.515625 27.296875 \r\nQ 5.515625 40.1875 11.734375 48.09375 \r\nQ 17.96875 56 27.875 56 \r\nQ 33.9375 56 38.25 53.625 \r\nQ 42.578125 51.265625 45.40625 46.390625 \r\nz\r\nM 14.796875 27.296875 \r\nQ 14.796875 17.390625 18.875 11.75 \r\nQ 22.953125 6.109375 30.078125 6.109375 \r\nQ 37.203125 6.109375 41.296875 11.75 \r\nQ 45.40625 17.390625 45.40625 27.296875 \r\nQ 45.40625 37.203125 41.296875 42.84375 \r\nQ 37.203125 48.484375 30.078125 48.484375 \r\nQ 22.953125 48.484375 18.875 42.84375 \r\nQ 14.796875 37.203125 14.796875 27.296875 \r\nz\r\n\" id=\"DejaVuSans-100\"/>\r\n      </defs>\r\n      <g transform=\"translate(188.2 275.917344)rotate(-90)scale(0.1 -0.1)\">\r\n       <use xlink:href=\"#DejaVuSans-112\"/>\r\n       <use x=\"63.476562\" xlink:href=\"#DejaVuSans-108\"/>\r\n       <use x=\"91.259766\" xlink:href=\"#DejaVuSans-101\"/>\r\n       <use x=\"152.783203\" xlink:href=\"#DejaVuSans-100\"/>\r\n       <use x=\"216.259766\" xlink:href=\"#DejaVuSans-103\"/>\r\n       <use x=\"279.736328\" xlink:href=\"#DejaVuSans-101\"/>\r\n       <use x=\"341.259766\" xlink:href=\"#DejaVuSans-100\"/>\r\n      </g>\r\n     </g>\r\n    </g>\r\n    <g id=\"xtick_4\">\r\n     <g id=\"line2d_4\">\r\n      <g>\r\n       <use style=\"stroke:#000000;stroke-width:0.8;\" x=\"218.920625\" xlink:href=\"#m028d3b64f8\" y=\"228.439219\"/>\r\n      </g>\r\n     </g>\r\n     <g id=\"text_4\">\r\n      <!-- state -->\r\n      <defs>\r\n       <path d=\"M 44.28125 53.078125 \r\nL 44.28125 44.578125 \r\nQ 40.484375 46.53125 36.375 47.5 \r\nQ 32.28125 48.484375 27.875 48.484375 \r\nQ 21.1875 48.484375 17.84375 46.4375 \r\nQ 14.5 44.390625 14.5 40.28125 \r\nQ 14.5 37.15625 16.890625 35.375 \r\nQ 19.28125 33.59375 26.515625 31.984375 \r\nL 29.59375 31.296875 \r\nQ 39.15625 29.25 43.1875 25.515625 \r\nQ 47.21875 21.78125 47.21875 15.09375 \r\nQ 47.21875 7.46875 41.1875 3.015625 \r\nQ 35.15625 -1.421875 24.609375 -1.421875 \r\nQ 20.21875 -1.421875 15.453125 -0.5625 \r\nQ 10.6875 0.296875 5.421875 2 \r\nL 5.421875 11.28125 \r\nQ 10.40625 8.6875 15.234375 7.390625 \r\nQ 20.0625 6.109375 24.8125 6.109375 \r\nQ 31.15625 6.109375 34.5625 8.28125 \r\nQ 37.984375 10.453125 37.984375 14.40625 \r\nQ 37.984375 18.0625 35.515625 20.015625 \r\nQ 33.0625 21.96875 24.703125 23.78125 \r\nL 21.578125 24.515625 \r\nQ 13.234375 26.265625 9.515625 29.90625 \r\nQ 5.8125 33.546875 5.8125 39.890625 \r\nQ 5.8125 47.609375 11.28125 51.796875 \r\nQ 16.75 56 26.8125 56 \r\nQ 31.78125 56 36.171875 55.265625 \r\nQ 40.578125 54.546875 44.28125 53.078125 \r\nz\r\n\" id=\"DejaVuSans-115\"/>\r\n       <path d=\"M 18.3125 70.21875 \r\nL 18.3125 54.6875 \r\nL 36.8125 54.6875 \r\nL 36.8125 47.703125 \r\nL 18.3125 47.703125 \r\nL 18.3125 18.015625 \r\nQ 18.3125 11.328125 20.140625 9.421875 \r\nQ 21.96875 7.515625 27.59375 7.515625 \r\nL 36.8125 7.515625 \r\nL 36.8125 0 \r\nL 27.59375 0 \r\nQ 17.1875 0 13.234375 3.875 \r\nQ 9.28125 7.765625 9.28125 18.015625 \r\nL 9.28125 47.703125 \r\nL 2.6875 47.703125 \r\nL 2.6875 54.6875 \r\nL 9.28125 54.6875 \r\nL 9.28125 70.21875 \r\nz\r\n\" id=\"DejaVuSans-116\"/>\r\n      </defs>\r\n      <g transform=\"translate(221.68 260.770469)rotate(-90)scale(0.1 -0.1)\">\r\n       <use xlink:href=\"#DejaVuSans-115\"/>\r\n       <use x=\"52.099609\" xlink:href=\"#DejaVuSans-116\"/>\r\n       <use x=\"91.308594\" xlink:href=\"#DejaVuSans-97\"/>\r\n       <use x=\"152.587891\" xlink:href=\"#DejaVuSans-116\"/>\r\n       <use x=\"191.796875\" xlink:href=\"#DejaVuSans-101\"/>\r\n      </g>\r\n     </g>\r\n    </g>\r\n    <g id=\"xtick_5\">\r\n     <g id=\"line2d_5\">\r\n      <g>\r\n       <use style=\"stroke:#000000;stroke-width:0.8;\" x=\"252.400625\" xlink:href=\"#m028d3b64f8\" y=\"228.439219\"/>\r\n      </g>\r\n     </g>\r\n     <g id=\"text_5\">\r\n      <!-- backers -->\r\n      <defs>\r\n       <path d=\"M 48.6875 27.296875 \r\nQ 48.6875 37.203125 44.609375 42.84375 \r\nQ 40.53125 48.484375 33.40625 48.484375 \r\nQ 26.265625 48.484375 22.1875 42.84375 \r\nQ 18.109375 37.203125 18.109375 27.296875 \r\nQ 18.109375 17.390625 22.1875 11.75 \r\nQ 26.265625 6.109375 33.40625 6.109375 \r\nQ 40.53125 6.109375 44.609375 11.75 \r\nQ 48.6875 17.390625 48.6875 27.296875 \r\nz\r\nM 18.109375 46.390625 \r\nQ 20.953125 51.265625 25.265625 53.625 \r\nQ 29.59375 56 35.59375 56 \r\nQ 45.5625 56 51.78125 48.09375 \r\nQ 58.015625 40.1875 58.015625 27.296875 \r\nQ 58.015625 14.40625 51.78125 6.484375 \r\nQ 45.5625 -1.421875 35.59375 -1.421875 \r\nQ 29.59375 -1.421875 25.265625 0.953125 \r\nQ 20.953125 3.328125 18.109375 8.203125 \r\nL 18.109375 0 \r\nL 9.078125 0 \r\nL 9.078125 75.984375 \r\nL 18.109375 75.984375 \r\nz\r\n\" id=\"DejaVuSans-98\"/>\r\n       <path d=\"M 48.78125 52.59375 \r\nL 48.78125 44.1875 \r\nQ 44.96875 46.296875 41.140625 47.34375 \r\nQ 37.3125 48.390625 33.40625 48.390625 \r\nQ 24.65625 48.390625 19.8125 42.84375 \r\nQ 14.984375 37.3125 14.984375 27.296875 \r\nQ 14.984375 17.28125 19.8125 11.734375 \r\nQ 24.65625 6.203125 33.40625 6.203125 \r\nQ 37.3125 6.203125 41.140625 7.25 \r\nQ 44.96875 8.296875 48.78125 10.40625 \r\nL 48.78125 2.09375 \r\nQ 45.015625 0.34375 40.984375 -0.53125 \r\nQ 36.96875 -1.421875 32.421875 -1.421875 \r\nQ 20.0625 -1.421875 12.78125 6.34375 \r\nQ 5.515625 14.109375 5.515625 27.296875 \r\nQ 5.515625 40.671875 12.859375 48.328125 \r\nQ 20.21875 56 33.015625 56 \r\nQ 37.15625 56 41.109375 55.140625 \r\nQ 45.0625 54.296875 48.78125 52.59375 \r\nz\r\n\" id=\"DejaVuSans-99\"/>\r\n       <path d=\"M 9.078125 75.984375 \r\nL 18.109375 75.984375 \r\nL 18.109375 31.109375 \r\nL 44.921875 54.6875 \r\nL 56.390625 54.6875 \r\nL 27.390625 29.109375 \r\nL 57.625 0 \r\nL 45.90625 0 \r\nL 18.109375 26.703125 \r\nL 18.109375 0 \r\nL 9.078125 0 \r\nz\r\n\" id=\"DejaVuSans-107\"/>\r\n       <path d=\"M 41.109375 46.296875 \r\nQ 39.59375 47.171875 37.8125 47.578125 \r\nQ 36.03125 48 33.890625 48 \r\nQ 26.265625 48 22.1875 43.046875 \r\nQ 18.109375 38.09375 18.109375 28.8125 \r\nL 18.109375 0 \r\nL 9.078125 0 \r\nL 9.078125 54.6875 \r\nL 18.109375 54.6875 \r\nL 18.109375 46.1875 \r\nQ 20.953125 51.171875 25.484375 53.578125 \r\nQ 30.03125 56 36.53125 56 \r\nQ 37.453125 56 38.578125 55.875 \r\nQ 39.703125 55.765625 41.0625 55.515625 \r\nz\r\n\" id=\"DejaVuSans-114\"/>\r\n      </defs>\r\n      <g transform=\"translate(255.16 274.673594)rotate(-90)scale(0.1 -0.1)\">\r\n       <use xlink:href=\"#DejaVuSans-98\"/>\r\n       <use x=\"63.476562\" xlink:href=\"#DejaVuSans-97\"/>\r\n       <use x=\"124.755859\" xlink:href=\"#DejaVuSans-99\"/>\r\n       <use x=\"179.736328\" xlink:href=\"#DejaVuSans-107\"/>\r\n       <use x=\"237.599609\" xlink:href=\"#DejaVuSans-101\"/>\r\n       <use x=\"299.123047\" xlink:href=\"#DejaVuSans-114\"/>\r\n       <use x=\"340.236328\" xlink:href=\"#DejaVuSans-115\"/>\r\n      </g>\r\n     </g>\r\n    </g>\r\n    <g id=\"xtick_6\">\r\n     <g id=\"line2d_6\">\r\n      <g>\r\n       <use style=\"stroke:#000000;stroke-width:0.8;\" x=\"285.880625\" xlink:href=\"#m028d3b64f8\" y=\"228.439219\"/>\r\n      </g>\r\n     </g>\r\n     <g id=\"text_6\">\r\n      <!-- usd pledged -->\r\n      <defs>\r\n       <path d=\"M 8.5 21.578125 \r\nL 8.5 54.6875 \r\nL 17.484375 54.6875 \r\nL 17.484375 21.921875 \r\nQ 17.484375 14.15625 20.5 10.265625 \r\nQ 23.53125 6.390625 29.59375 6.390625 \r\nQ 36.859375 6.390625 41.078125 11.03125 \r\nQ 45.3125 15.671875 45.3125 23.6875 \r\nL 45.3125 54.6875 \r\nL 54.296875 54.6875 \r\nL 54.296875 0 \r\nL 45.3125 0 \r\nL 45.3125 8.40625 \r\nQ 42.046875 3.421875 37.71875 1 \r\nQ 33.40625 -1.421875 27.6875 -1.421875 \r\nQ 18.265625 -1.421875 13.375 4.4375 \r\nQ 8.5 10.296875 8.5 21.578125 \r\nz\r\nM 31.109375 56 \r\nz\r\n\" id=\"DejaVuSans-117\"/>\r\n       <path id=\"DejaVuSans-32\"/>\r\n      </defs>\r\n      <g transform=\"translate(288.64 296.990781)rotate(-90)scale(0.1 -0.1)\">\r\n       <use xlink:href=\"#DejaVuSans-117\"/>\r\n       <use x=\"63.378906\" xlink:href=\"#DejaVuSans-115\"/>\r\n       <use x=\"115.478516\" xlink:href=\"#DejaVuSans-100\"/>\r\n       <use x=\"178.955078\" xlink:href=\"#DejaVuSans-32\"/>\r\n       <use x=\"210.742188\" xlink:href=\"#DejaVuSans-112\"/>\r\n       <use x=\"274.21875\" xlink:href=\"#DejaVuSans-108\"/>\r\n       <use x=\"302.001953\" xlink:href=\"#DejaVuSans-101\"/>\r\n       <use x=\"363.525391\" xlink:href=\"#DejaVuSans-100\"/>\r\n       <use x=\"427.001953\" xlink:href=\"#DejaVuSans-103\"/>\r\n       <use x=\"490.478516\" xlink:href=\"#DejaVuSans-101\"/>\r\n       <use x=\"552.001953\" xlink:href=\"#DejaVuSans-100\"/>\r\n      </g>\r\n     </g>\r\n    </g>\r\n    <g id=\"xtick_7\">\r\n     <g id=\"line2d_7\">\r\n      <g>\r\n       <use style=\"stroke:#000000;stroke-width:0.8;\" x=\"319.360625\" xlink:href=\"#m028d3b64f8\" y=\"228.439219\"/>\r\n      </g>\r\n     </g>\r\n     <g id=\"text_7\">\r\n      <!-- usd_pledged_real -->\r\n      <defs>\r\n       <path d=\"M 50.984375 -16.609375 \r\nL 50.984375 -23.578125 \r\nL -0.984375 -23.578125 \r\nL -0.984375 -16.609375 \r\nz\r\n\" id=\"DejaVuSans-95\"/>\r\n      </defs>\r\n      <g transform=\"translate(321.980938 322.979844)rotate(-90)scale(0.1 -0.1)\">\r\n       <use xlink:href=\"#DejaVuSans-117\"/>\r\n       <use x=\"63.378906\" xlink:href=\"#DejaVuSans-115\"/>\r\n       <use x=\"115.478516\" xlink:href=\"#DejaVuSans-100\"/>\r\n       <use x=\"178.955078\" xlink:href=\"#DejaVuSans-95\"/>\r\n       <use x=\"228.955078\" xlink:href=\"#DejaVuSans-112\"/>\r\n       <use x=\"292.431641\" xlink:href=\"#DejaVuSans-108\"/>\r\n       <use x=\"320.214844\" xlink:href=\"#DejaVuSans-101\"/>\r\n       <use x=\"381.738281\" xlink:href=\"#DejaVuSans-100\"/>\r\n       <use x=\"445.214844\" xlink:href=\"#DejaVuSans-103\"/>\r\n       <use x=\"508.691406\" xlink:href=\"#DejaVuSans-101\"/>\r\n       <use x=\"570.214844\" xlink:href=\"#DejaVuSans-100\"/>\r\n       <use x=\"633.691406\" xlink:href=\"#DejaVuSans-95\"/>\r\n       <use x=\"683.691406\" xlink:href=\"#DejaVuSans-114\"/>\r\n       <use x=\"724.773438\" xlink:href=\"#DejaVuSans-101\"/>\r\n       <use x=\"786.296875\" xlink:href=\"#DejaVuSans-97\"/>\r\n       <use x=\"847.576172\" xlink:href=\"#DejaVuSans-108\"/>\r\n      </g>\r\n     </g>\r\n    </g>\r\n    <g id=\"xtick_8\">\r\n     <g id=\"line2d_8\">\r\n      <g>\r\n       <use style=\"stroke:#000000;stroke-width:0.8;\" x=\"352.840625\" xlink:href=\"#m028d3b64f8\" y=\"228.439219\"/>\r\n      </g>\r\n     </g>\r\n     <g id=\"text_8\">\r\n      <!-- usd_goal_real -->\r\n      <g transform=\"translate(355.460938 303.875156)rotate(-90)scale(0.1 -0.1)\">\r\n       <use xlink:href=\"#DejaVuSans-117\"/>\r\n       <use x=\"63.378906\" xlink:href=\"#DejaVuSans-115\"/>\r\n       <use x=\"115.478516\" xlink:href=\"#DejaVuSans-100\"/>\r\n       <use x=\"178.955078\" xlink:href=\"#DejaVuSans-95\"/>\r\n       <use x=\"228.955078\" xlink:href=\"#DejaVuSans-103\"/>\r\n       <use x=\"292.431641\" xlink:href=\"#DejaVuSans-111\"/>\r\n       <use x=\"353.613281\" xlink:href=\"#DejaVuSans-97\"/>\r\n       <use x=\"414.892578\" xlink:href=\"#DejaVuSans-108\"/>\r\n       <use x=\"442.675781\" xlink:href=\"#DejaVuSans-95\"/>\r\n       <use x=\"492.675781\" xlink:href=\"#DejaVuSans-114\"/>\r\n       <use x=\"533.757812\" xlink:href=\"#DejaVuSans-101\"/>\r\n       <use x=\"595.28125\" xlink:href=\"#DejaVuSans-97\"/>\r\n       <use x=\"656.560547\" xlink:href=\"#DejaVuSans-108\"/>\r\n      </g>\r\n     </g>\r\n    </g>\r\n   </g>\r\n   <g id=\"matplotlib.axis_2\">\r\n    <g id=\"ytick_1\">\r\n     <g id=\"line2d_9\">\r\n      <defs>\r\n       <path d=\"M 0 0 \r\nL -3.5 0 \r\n\" id=\"mb3c414d79d\" style=\"stroke:#000000;stroke-width:0.8;\"/>\r\n      </defs>\r\n      <g>\r\n       <use style=\"stroke:#000000;stroke-width:0.8;\" x=\"101.740625\" xlink:href=\"#mb3c414d79d\" y=\"24.589219\"/>\r\n      </g>\r\n     </g>\r\n     <g id=\"text_9\">\r\n      <!-- ID -->\r\n      <g transform=\"translate(84.090625 28.388438)scale(0.1 -0.1)\">\r\n       <use xlink:href=\"#DejaVuSans-73\"/>\r\n       <use x=\"29.492188\" xlink:href=\"#DejaVuSans-68\"/>\r\n      </g>\r\n     </g>\r\n    </g>\r\n    <g id=\"ytick_2\">\r\n     <g id=\"line2d_10\">\r\n      <g>\r\n       <use style=\"stroke:#000000;stroke-width:0.8;\" x=\"101.740625\" xlink:href=\"#mb3c414d79d\" y=\"51.769219\"/>\r\n      </g>\r\n     </g>\r\n     <g id=\"text_10\">\r\n      <!-- goal -->\r\n      <g transform=\"translate(73.367188 55.568438)scale(0.1 -0.1)\">\r\n       <use xlink:href=\"#DejaVuSans-103\"/>\r\n       <use x=\"63.476562\" xlink:href=\"#DejaVuSans-111\"/>\r\n       <use x=\"124.658203\" xlink:href=\"#DejaVuSans-97\"/>\r\n       <use x=\"185.9375\" xlink:href=\"#DejaVuSans-108\"/>\r\n      </g>\r\n     </g>\r\n    </g>\r\n    <g id=\"ytick_3\">\r\n     <g id=\"line2d_11\">\r\n      <g>\r\n       <use style=\"stroke:#000000;stroke-width:0.8;\" x=\"101.740625\" xlink:href=\"#mb3c414d79d\" y=\"78.949219\"/>\r\n      </g>\r\n     </g>\r\n     <g id=\"text_11\">\r\n      <!-- pledged -->\r\n      <g transform=\"translate(54.2625 82.748438)scale(0.1 -0.1)\">\r\n       <use xlink:href=\"#DejaVuSans-112\"/>\r\n       <use x=\"63.476562\" xlink:href=\"#DejaVuSans-108\"/>\r\n       <use x=\"91.259766\" xlink:href=\"#DejaVuSans-101\"/>\r\n       <use x=\"152.783203\" xlink:href=\"#DejaVuSans-100\"/>\r\n       <use x=\"216.259766\" xlink:href=\"#DejaVuSans-103\"/>\r\n       <use x=\"279.736328\" xlink:href=\"#DejaVuSans-101\"/>\r\n       <use x=\"341.259766\" xlink:href=\"#DejaVuSans-100\"/>\r\n      </g>\r\n     </g>\r\n    </g>\r\n    <g id=\"ytick_4\">\r\n     <g id=\"line2d_12\">\r\n      <g>\r\n       <use style=\"stroke:#000000;stroke-width:0.8;\" x=\"101.740625\" xlink:href=\"#mb3c414d79d\" y=\"106.129219\"/>\r\n      </g>\r\n     </g>\r\n     <g id=\"text_12\">\r\n      <!-- state -->\r\n      <g transform=\"translate(69.409375 109.928438)scale(0.1 -0.1)\">\r\n       <use xlink:href=\"#DejaVuSans-115\"/>\r\n       <use x=\"52.099609\" xlink:href=\"#DejaVuSans-116\"/>\r\n       <use x=\"91.308594\" xlink:href=\"#DejaVuSans-97\"/>\r\n       <use x=\"152.587891\" xlink:href=\"#DejaVuSans-116\"/>\r\n       <use x=\"191.796875\" xlink:href=\"#DejaVuSans-101\"/>\r\n      </g>\r\n     </g>\r\n    </g>\r\n    <g id=\"ytick_5\">\r\n     <g id=\"line2d_13\">\r\n      <g>\r\n       <use style=\"stroke:#000000;stroke-width:0.8;\" x=\"101.740625\" xlink:href=\"#mb3c414d79d\" y=\"133.309219\"/>\r\n      </g>\r\n     </g>\r\n     <g id=\"text_13\">\r\n      <!-- backers -->\r\n      <g transform=\"translate(55.50625 137.108438)scale(0.1 -0.1)\">\r\n       <use xlink:href=\"#DejaVuSans-98\"/>\r\n       <use x=\"63.476562\" xlink:href=\"#DejaVuSans-97\"/>\r\n       <use x=\"124.755859\" xlink:href=\"#DejaVuSans-99\"/>\r\n       <use x=\"179.736328\" xlink:href=\"#DejaVuSans-107\"/>\r\n       <use x=\"237.599609\" xlink:href=\"#DejaVuSans-101\"/>\r\n       <use x=\"299.123047\" xlink:href=\"#DejaVuSans-114\"/>\r\n       <use x=\"340.236328\" xlink:href=\"#DejaVuSans-115\"/>\r\n      </g>\r\n     </g>\r\n    </g>\r\n    <g id=\"ytick_6\">\r\n     <g id=\"line2d_14\">\r\n      <g>\r\n       <use style=\"stroke:#000000;stroke-width:0.8;\" x=\"101.740625\" xlink:href=\"#mb3c414d79d\" y=\"160.489219\"/>\r\n      </g>\r\n     </g>\r\n     <g id=\"text_14\">\r\n      <!-- usd pledged -->\r\n      <g transform=\"translate(33.189062 164.288438)scale(0.1 -0.1)\">\r\n       <use xlink:href=\"#DejaVuSans-117\"/>\r\n       <use x=\"63.378906\" xlink:href=\"#DejaVuSans-115\"/>\r\n       <use x=\"115.478516\" xlink:href=\"#DejaVuSans-100\"/>\r\n       <use x=\"178.955078\" xlink:href=\"#DejaVuSans-32\"/>\r\n       <use x=\"210.742188\" xlink:href=\"#DejaVuSans-112\"/>\r\n       <use x=\"274.21875\" xlink:href=\"#DejaVuSans-108\"/>\r\n       <use x=\"302.001953\" xlink:href=\"#DejaVuSans-101\"/>\r\n       <use x=\"363.525391\" xlink:href=\"#DejaVuSans-100\"/>\r\n       <use x=\"427.001953\" xlink:href=\"#DejaVuSans-103\"/>\r\n       <use x=\"490.478516\" xlink:href=\"#DejaVuSans-101\"/>\r\n       <use x=\"552.001953\" xlink:href=\"#DejaVuSans-100\"/>\r\n      </g>\r\n     </g>\r\n    </g>\r\n    <g id=\"ytick_7\">\r\n     <g id=\"line2d_15\">\r\n      <g>\r\n       <use style=\"stroke:#000000;stroke-width:0.8;\" x=\"101.740625\" xlink:href=\"#mb3c414d79d\" y=\"187.669219\"/>\r\n      </g>\r\n     </g>\r\n     <g id=\"text_15\">\r\n      <!-- usd_pledged_real -->\r\n      <g transform=\"translate(7.2 191.468438)scale(0.1 -0.1)\">\r\n       <use xlink:href=\"#DejaVuSans-117\"/>\r\n       <use x=\"63.378906\" xlink:href=\"#DejaVuSans-115\"/>\r\n       <use x=\"115.478516\" xlink:href=\"#DejaVuSans-100\"/>\r\n       <use x=\"178.955078\" xlink:href=\"#DejaVuSans-95\"/>\r\n       <use x=\"228.955078\" xlink:href=\"#DejaVuSans-112\"/>\r\n       <use x=\"292.431641\" xlink:href=\"#DejaVuSans-108\"/>\r\n       <use x=\"320.214844\" xlink:href=\"#DejaVuSans-101\"/>\r\n       <use x=\"381.738281\" xlink:href=\"#DejaVuSans-100\"/>\r\n       <use x=\"445.214844\" xlink:href=\"#DejaVuSans-103\"/>\r\n       <use x=\"508.691406\" xlink:href=\"#DejaVuSans-101\"/>\r\n       <use x=\"570.214844\" xlink:href=\"#DejaVuSans-100\"/>\r\n       <use x=\"633.691406\" xlink:href=\"#DejaVuSans-95\"/>\r\n       <use x=\"683.691406\" xlink:href=\"#DejaVuSans-114\"/>\r\n       <use x=\"724.773438\" xlink:href=\"#DejaVuSans-101\"/>\r\n       <use x=\"786.296875\" xlink:href=\"#DejaVuSans-97\"/>\r\n       <use x=\"847.576172\" xlink:href=\"#DejaVuSans-108\"/>\r\n      </g>\r\n     </g>\r\n    </g>\r\n    <g id=\"ytick_8\">\r\n     <g id=\"line2d_16\">\r\n      <g>\r\n       <use style=\"stroke:#000000;stroke-width:0.8;\" x=\"101.740625\" xlink:href=\"#mb3c414d79d\" y=\"214.849219\"/>\r\n      </g>\r\n     </g>\r\n     <g id=\"text_16\">\r\n      <!-- usd_goal_real -->\r\n      <g transform=\"translate(26.304687 218.648438)scale(0.1 -0.1)\">\r\n       <use xlink:href=\"#DejaVuSans-117\"/>\r\n       <use x=\"63.378906\" xlink:href=\"#DejaVuSans-115\"/>\r\n       <use x=\"115.478516\" xlink:href=\"#DejaVuSans-100\"/>\r\n       <use x=\"178.955078\" xlink:href=\"#DejaVuSans-95\"/>\r\n       <use x=\"228.955078\" xlink:href=\"#DejaVuSans-103\"/>\r\n       <use x=\"292.431641\" xlink:href=\"#DejaVuSans-111\"/>\r\n       <use x=\"353.613281\" xlink:href=\"#DejaVuSans-97\"/>\r\n       <use x=\"414.892578\" xlink:href=\"#DejaVuSans-108\"/>\r\n       <use x=\"442.675781\" xlink:href=\"#DejaVuSans-95\"/>\r\n       <use x=\"492.675781\" xlink:href=\"#DejaVuSans-114\"/>\r\n       <use x=\"533.757812\" xlink:href=\"#DejaVuSans-101\"/>\r\n       <use x=\"595.28125\" xlink:href=\"#DejaVuSans-97\"/>\r\n       <use x=\"656.560547\" xlink:href=\"#DejaVuSans-108\"/>\r\n      </g>\r\n     </g>\r\n    </g>\r\n   </g>\r\n  </g>\r\n  <g id=\"axes_2\">\r\n   <g id=\"patch_3\">\r\n    <path clip-path=\"url(#p6ea5a4c680)\" d=\"M 386.320625 228.439219 \r\nL 386.320625 227.589844 \r\nL 386.320625 11.848594 \r\nL 386.320625 10.999219 \r\nL 397.192625 10.999219 \r\nL 397.192625 11.848594 \r\nL 397.192625 227.589844 \r\nL 397.192625 228.439219 \r\nz\r\n\" style=\"fill:#ffffff;stroke:#ffffff;stroke-linejoin:miter;stroke-width:0.01;\"/>\r\n   </g>\r\n   <image height=\"217\" id=\"image90eddac858\" transform=\"scale(1 -1)translate(0 -217)\" width=\"11\" x=\"386\" xlink:href=\"data:image/png;base64,\r\niVBORw0KGgoAAAANSUhEUgAAAAsAAADZCAYAAAD2WsoCAAAABHNCSVQICAgIfAhkiAAAATJJREFUaIHt2bEKAkEQA9AV7v9/1cbybtfWcp8QyInWIWSSzLDqY72ea2x+jjG2seMYi8AzxixgG3Ab2+NGLMGVkzHFjVxFW8q/jS0aMOdGbFOodbkB57UPth20AXM+w4BoXcfJjcWdHBDA1rpbuhFjvqj8HQPmDqO50ZEgte7n+xx0o2PA3Kbcshu57Y7JCBbp78aX4FXiRnC7O45MiXUlccsVxe9WVP5cNzoGtE2p0Gzny+L+9/mDOeZzi3XiBjHDs06Z5TdGYp7mM8iYuQFFM5y6ZChBN3Jx/7p1WP5cggIWzRcNuK9CwWSdMENDtUjCbJopbvkPKCdjxmRY+YX56ojbErRQBNziBoBzms9Y+XG7RYYwn/QqiMnIWUeaa9wgZtCMfQawPS+FuSXujgSF+Q3lMbvkg8LPswAAAABJRU5ErkJggg==\" y=\"-11\"/>\r\n   <g id=\"matplotlib.axis_3\"/>\r\n   <g id=\"matplotlib.axis_4\">\r\n    <g id=\"ytick_9\">\r\n     <g id=\"line2d_17\">\r\n      <defs>\r\n       <path d=\"M 0 0 \r\nL 3.5 0 \r\n\" id=\"m00e06cd568\" style=\"stroke:#000000;stroke-width:0.8;\"/>\r\n      </defs>\r\n      <g>\r\n       <use style=\"stroke:#000000;stroke-width:0.8;\" x=\"397.192625\" xlink:href=\"#m00e06cd568\" y=\"223.274114\"/>\r\n      </g>\r\n     </g>\r\n     <g id=\"text_17\">\r\n      <!-- 0.0 -->\r\n      <defs>\r\n       <path d=\"M 31.78125 66.40625 \r\nQ 24.171875 66.40625 20.328125 58.90625 \r\nQ 16.5 51.421875 16.5 36.375 \r\nQ 16.5 21.390625 20.328125 13.890625 \r\nQ 24.171875 6.390625 31.78125 6.390625 \r\nQ 39.453125 6.390625 43.28125 13.890625 \r\nQ 47.125 21.390625 47.125 36.375 \r\nQ 47.125 51.421875 43.28125 58.90625 \r\nQ 39.453125 66.40625 31.78125 66.40625 \r\nz\r\nM 31.78125 74.21875 \r\nQ 44.046875 74.21875 50.515625 64.515625 \r\nQ 56.984375 54.828125 56.984375 36.375 \r\nQ 56.984375 17.96875 50.515625 8.265625 \r\nQ 44.046875 -1.421875 31.78125 -1.421875 \r\nQ 19.53125 -1.421875 13.0625 8.265625 \r\nQ 6.59375 17.96875 6.59375 36.375 \r\nQ 6.59375 54.828125 13.0625 64.515625 \r\nQ 19.53125 74.21875 31.78125 74.21875 \r\nz\r\n\" id=\"DejaVuSans-48\"/>\r\n       <path d=\"M 10.6875 12.40625 \r\nL 21 12.40625 \r\nL 21 0 \r\nL 10.6875 0 \r\nz\r\n\" id=\"DejaVuSans-46\"/>\r\n      </defs>\r\n      <g transform=\"translate(404.192625 227.073333)scale(0.1 -0.1)\">\r\n       <use xlink:href=\"#DejaVuSans-48\"/>\r\n       <use x=\"63.623047\" xlink:href=\"#DejaVuSans-46\"/>\r\n       <use x=\"95.410156\" xlink:href=\"#DejaVuSans-48\"/>\r\n      </g>\r\n     </g>\r\n    </g>\r\n    <g id=\"ytick_10\">\r\n     <g id=\"line2d_18\">\r\n      <g>\r\n       <use style=\"stroke:#000000;stroke-width:0.8;\" x=\"397.192625\" xlink:href=\"#m00e06cd568\" y=\"180.819135\"/>\r\n      </g>\r\n     </g>\r\n     <g id=\"text_18\">\r\n      <!-- 0.2 -->\r\n      <defs>\r\n       <path d=\"M 19.1875 8.296875 \r\nL 53.609375 8.296875 \r\nL 53.609375 0 \r\nL 7.328125 0 \r\nL 7.328125 8.296875 \r\nQ 12.9375 14.109375 22.625 23.890625 \r\nQ 32.328125 33.6875 34.8125 36.53125 \r\nQ 39.546875 41.84375 41.421875 45.53125 \r\nQ 43.3125 49.21875 43.3125 52.78125 \r\nQ 43.3125 58.59375 39.234375 62.25 \r\nQ 35.15625 65.921875 28.609375 65.921875 \r\nQ 23.96875 65.921875 18.8125 64.3125 \r\nQ 13.671875 62.703125 7.8125 59.421875 \r\nL 7.8125 69.390625 \r\nQ 13.765625 71.78125 18.9375 73 \r\nQ 24.125 74.21875 28.421875 74.21875 \r\nQ 39.75 74.21875 46.484375 68.546875 \r\nQ 53.21875 62.890625 53.21875 53.421875 \r\nQ 53.21875 48.921875 51.53125 44.890625 \r\nQ 49.859375 40.875 45.40625 35.40625 \r\nQ 44.1875 33.984375 37.640625 27.21875 \r\nQ 31.109375 20.453125 19.1875 8.296875 \r\nz\r\n\" id=\"DejaVuSans-50\"/>\r\n      </defs>\r\n      <g transform=\"translate(404.192625 184.618354)scale(0.1 -0.1)\">\r\n       <use xlink:href=\"#DejaVuSans-48\"/>\r\n       <use x=\"63.623047\" xlink:href=\"#DejaVuSans-46\"/>\r\n       <use x=\"95.410156\" xlink:href=\"#DejaVuSans-50\"/>\r\n      </g>\r\n     </g>\r\n    </g>\r\n    <g id=\"ytick_11\">\r\n     <g id=\"line2d_19\">\r\n      <g>\r\n       <use style=\"stroke:#000000;stroke-width:0.8;\" x=\"397.192625\" xlink:href=\"#m00e06cd568\" y=\"138.364156\"/>\r\n      </g>\r\n     </g>\r\n     <g id=\"text_19\">\r\n      <!-- 0.4 -->\r\n      <defs>\r\n       <path d=\"M 37.796875 64.3125 \r\nL 12.890625 25.390625 \r\nL 37.796875 25.390625 \r\nz\r\nM 35.203125 72.90625 \r\nL 47.609375 72.90625 \r\nL 47.609375 25.390625 \r\nL 58.015625 25.390625 \r\nL 58.015625 17.1875 \r\nL 47.609375 17.1875 \r\nL 47.609375 0 \r\nL 37.796875 0 \r\nL 37.796875 17.1875 \r\nL 4.890625 17.1875 \r\nL 4.890625 26.703125 \r\nz\r\n\" id=\"DejaVuSans-52\"/>\r\n      </defs>\r\n      <g transform=\"translate(404.192625 142.163375)scale(0.1 -0.1)\">\r\n       <use xlink:href=\"#DejaVuSans-48\"/>\r\n       <use x=\"63.623047\" xlink:href=\"#DejaVuSans-46\"/>\r\n       <use x=\"95.410156\" xlink:href=\"#DejaVuSans-52\"/>\r\n      </g>\r\n     </g>\r\n    </g>\r\n    <g id=\"ytick_12\">\r\n     <g id=\"line2d_20\">\r\n      <g>\r\n       <use style=\"stroke:#000000;stroke-width:0.8;\" x=\"397.192625\" xlink:href=\"#m00e06cd568\" y=\"95.909177\"/>\r\n      </g>\r\n     </g>\r\n     <g id=\"text_20\">\r\n      <!-- 0.6 -->\r\n      <defs>\r\n       <path d=\"M 33.015625 40.375 \r\nQ 26.375 40.375 22.484375 35.828125 \r\nQ 18.609375 31.296875 18.609375 23.390625 \r\nQ 18.609375 15.53125 22.484375 10.953125 \r\nQ 26.375 6.390625 33.015625 6.390625 \r\nQ 39.65625 6.390625 43.53125 10.953125 \r\nQ 47.40625 15.53125 47.40625 23.390625 \r\nQ 47.40625 31.296875 43.53125 35.828125 \r\nQ 39.65625 40.375 33.015625 40.375 \r\nz\r\nM 52.59375 71.296875 \r\nL 52.59375 62.3125 \r\nQ 48.875 64.0625 45.09375 64.984375 \r\nQ 41.3125 65.921875 37.59375 65.921875 \r\nQ 27.828125 65.921875 22.671875 59.328125 \r\nQ 17.53125 52.734375 16.796875 39.40625 \r\nQ 19.671875 43.65625 24.015625 45.921875 \r\nQ 28.375 48.1875 33.59375 48.1875 \r\nQ 44.578125 48.1875 50.953125 41.515625 \r\nQ 57.328125 34.859375 57.328125 23.390625 \r\nQ 57.328125 12.15625 50.6875 5.359375 \r\nQ 44.046875 -1.421875 33.015625 -1.421875 \r\nQ 20.359375 -1.421875 13.671875 8.265625 \r\nQ 6.984375 17.96875 6.984375 36.375 \r\nQ 6.984375 53.65625 15.1875 63.9375 \r\nQ 23.390625 74.21875 37.203125 74.21875 \r\nQ 40.921875 74.21875 44.703125 73.484375 \r\nQ 48.484375 72.75 52.59375 71.296875 \r\nz\r\n\" id=\"DejaVuSans-54\"/>\r\n      </defs>\r\n      <g transform=\"translate(404.192625 99.708396)scale(0.1 -0.1)\">\r\n       <use xlink:href=\"#DejaVuSans-48\"/>\r\n       <use x=\"63.623047\" xlink:href=\"#DejaVuSans-46\"/>\r\n       <use x=\"95.410156\" xlink:href=\"#DejaVuSans-54\"/>\r\n      </g>\r\n     </g>\r\n    </g>\r\n    <g id=\"ytick_13\">\r\n     <g id=\"line2d_21\">\r\n      <g>\r\n       <use style=\"stroke:#000000;stroke-width:0.8;\" x=\"397.192625\" xlink:href=\"#m00e06cd568\" y=\"53.454198\"/>\r\n      </g>\r\n     </g>\r\n     <g id=\"text_21\">\r\n      <!-- 0.8 -->\r\n      <defs>\r\n       <path d=\"M 31.78125 34.625 \r\nQ 24.75 34.625 20.71875 30.859375 \r\nQ 16.703125 27.09375 16.703125 20.515625 \r\nQ 16.703125 13.921875 20.71875 10.15625 \r\nQ 24.75 6.390625 31.78125 6.390625 \r\nQ 38.8125 6.390625 42.859375 10.171875 \r\nQ 46.921875 13.96875 46.921875 20.515625 \r\nQ 46.921875 27.09375 42.890625 30.859375 \r\nQ 38.875 34.625 31.78125 34.625 \r\nz\r\nM 21.921875 38.8125 \r\nQ 15.578125 40.375 12.03125 44.71875 \r\nQ 8.5 49.078125 8.5 55.328125 \r\nQ 8.5 64.0625 14.71875 69.140625 \r\nQ 20.953125 74.21875 31.78125 74.21875 \r\nQ 42.671875 74.21875 48.875 69.140625 \r\nQ 55.078125 64.0625 55.078125 55.328125 \r\nQ 55.078125 49.078125 51.53125 44.71875 \r\nQ 48 40.375 41.703125 38.8125 \r\nQ 48.828125 37.15625 52.796875 32.3125 \r\nQ 56.78125 27.484375 56.78125 20.515625 \r\nQ 56.78125 9.90625 50.3125 4.234375 \r\nQ 43.84375 -1.421875 31.78125 -1.421875 \r\nQ 19.734375 -1.421875 13.25 4.234375 \r\nQ 6.78125 9.90625 6.78125 20.515625 \r\nQ 6.78125 27.484375 10.78125 32.3125 \r\nQ 14.796875 37.15625 21.921875 38.8125 \r\nz\r\nM 18.3125 54.390625 \r\nQ 18.3125 48.734375 21.84375 45.5625 \r\nQ 25.390625 42.390625 31.78125 42.390625 \r\nQ 38.140625 42.390625 41.71875 45.5625 \r\nQ 45.3125 48.734375 45.3125 54.390625 \r\nQ 45.3125 60.0625 41.71875 63.234375 \r\nQ 38.140625 66.40625 31.78125 66.40625 \r\nQ 25.390625 66.40625 21.84375 63.234375 \r\nQ 18.3125 60.0625 18.3125 54.390625 \r\nz\r\n\" id=\"DejaVuSans-56\"/>\r\n      </defs>\r\n      <g transform=\"translate(404.192625 57.253417)scale(0.1 -0.1)\">\r\n       <use xlink:href=\"#DejaVuSans-48\"/>\r\n       <use x=\"63.623047\" xlink:href=\"#DejaVuSans-46\"/>\r\n       <use x=\"95.410156\" xlink:href=\"#DejaVuSans-56\"/>\r\n      </g>\r\n     </g>\r\n    </g>\r\n    <g id=\"ytick_14\">\r\n     <g id=\"line2d_22\">\r\n      <g>\r\n       <use style=\"stroke:#000000;stroke-width:0.8;\" x=\"397.192625\" xlink:href=\"#m00e06cd568\" y=\"10.999219\"/>\r\n      </g>\r\n     </g>\r\n     <g id=\"text_22\">\r\n      <!-- 1.0 -->\r\n      <defs>\r\n       <path d=\"M 12.40625 8.296875 \r\nL 28.515625 8.296875 \r\nL 28.515625 63.921875 \r\nL 10.984375 60.40625 \r\nL 10.984375 69.390625 \r\nL 28.421875 72.90625 \r\nL 38.28125 72.90625 \r\nL 38.28125 8.296875 \r\nL 54.390625 8.296875 \r\nL 54.390625 0 \r\nL 12.40625 0 \r\nz\r\n\" id=\"DejaVuSans-49\"/>\r\n      </defs>\r\n      <g transform=\"translate(404.192625 14.798437)scale(0.1 -0.1)\">\r\n       <use xlink:href=\"#DejaVuSans-49\"/>\r\n       <use x=\"63.623047\" xlink:href=\"#DejaVuSans-46\"/>\r\n       <use x=\"95.410156\" xlink:href=\"#DejaVuSans-48\"/>\r\n      </g>\r\n     </g>\r\n    </g>\r\n   </g>\r\n   <g id=\"patch_4\">\r\n    <path d=\"M 386.320625 228.439219 \r\nL 386.320625 227.589844 \r\nL 386.320625 11.848594 \r\nL 386.320625 10.999219 \r\nL 397.192625 10.999219 \r\nL 397.192625 11.848594 \r\nL 397.192625 227.589844 \r\nL 397.192625 228.439219 \r\nz\r\n\" style=\"fill:none;\"/>\r\n   </g>\r\n  </g>\r\n </g>\r\n <defs>\r\n  <clipPath id=\"p77f0ef56ec\">\r\n   <rect height=\"217.44\" width=\"267.84\" x=\"101.740625\" y=\"10.999219\"/>\r\n  </clipPath>\r\n  <clipPath id=\"p6ea5a4c680\">\r\n   <rect height=\"217.44\" width=\"10.872\" x=\"386.320625\" y=\"10.999219\"/>\r\n  </clipPath>\r\n </defs>\r\n</svg>\r\n",
      "image/png": "[encoded data removed]"
     },
     "metadata": {
      "needs_background": "light"
     }
    }
   ],
   "source": [
    "sns.heatmap(df.corr(), cmap=\"Reds\")\n",
    "plt.show()"
   ]
  },
  {
   "cell_type": "code",
   "execution_count": 9,
   "metadata": {},
   "outputs": [],
   "source": [
    "# データを成功、失敗で分ける\n",
    "df_successful = df[df['state'] == True]\n",
    "df_failed = df[df['state'] == False]"
   ]
  },
  {
   "source": [
    "#### goalとusd_goal_realの比較"
   ],
   "cell_type": "markdown",
   "metadata": {}
  },
  {
   "cell_type": "code",
   "execution_count": 10,
   "metadata": {},
   "outputs": [],
   "source": [
    "# plt.plot(np.log(df_successful['goal']), np.log(df_successful['usd_goal_real']), '.', color='blue', label='successful')\n",
    "# plt.plot(np.log(df_failed['goal']), np.log(df_failed['usd_goal_real']), 'x', color='red', label='failed')\n",
    "# plt.xlabel('goal')\n",
    "# plt.ylabel('usd_goal_real')\n",
    "# plt.legend()\n",
    "# plt.show()"
   ]
  },
  {
   "source": [
    "#### pledgedとusd_pledged_realの比較"
   ],
   "cell_type": "markdown",
   "metadata": {}
  },
  {
   "cell_type": "code",
   "execution_count": 11,
   "metadata": {},
   "outputs": [],
   "source": [
    "# plt.plot(np.log(df_successful['pledged']), np.log(df_successful['usd_pledged_real']), '.', color='blue', label='successful')\n",
    "# plt.plot(np.log(df_failed['pledged']), np.log(df_failed['usd_pledged_real']), 'x', color='red', label='failed')\n",
    "# plt.xlabel('pledged')\n",
    "# plt.ylabel('usd_pledged_real')\n",
    "# plt.legend()\n",
    "# plt.show()"
   ]
  },
  {
   "source": [
    "#### pledgedとusd pledgedの比較"
   ],
   "cell_type": "markdown",
   "metadata": {}
  },
  {
   "cell_type": "code",
   "execution_count": 12,
   "metadata": {},
   "outputs": [],
   "source": [
    "# plt.plot(np.log(df_successful['pledged']), np.log(df_successful['usd pledged']), '.', color='blue', label='successful')\n",
    "# plt.plot(np.log(df_failed['pledged']), np.log(df_failed['usd pledged']), 'x', color='red', label='failed')\n",
    "# plt.xlabel('pledged')\n",
    "# plt.ylabel('usd_pledged_real')\n",
    "# plt.legend()\n",
    "# plt.show()"
   ]
  },
  {
   "source": [
    "goalとusd_goal_realは相関が強いので片方だけで目的変数を説明できそう。  \n",
    "同様に、pledgedとusd pledged、usd_pledged_realも一つだけ採用すればよさそう。"
   ],
   "cell_type": "markdown",
   "metadata": {}
  },
  {
   "source": [
    "#### 不要な列の削除"
   ],
   "cell_type": "markdown",
   "metadata": {}
  },
  {
   "cell_type": "code",
   "execution_count": 13,
   "metadata": {},
   "outputs": [
    {
     "output_type": "execute_result",
     "data": {
      "text/plain": [
       "  main_category currency  state  backers country  usd_pledged_real  \\\n",
       "0    Publishing      GBP  False        0      GB               0.0   \n",
       "1  Film & Video      USD  False       15      US            2421.0   \n",
       "2  Film & Video      USD  False        3      US             220.0   \n",
       "3         Music      USD  False        1      US               1.0   \n",
       "4  Film & Video      USD  False       14      US            1283.0   \n",
       "\n",
       "   usd_goal_real  \n",
       "0        1533.95  \n",
       "1       30000.00  \n",
       "2       45000.00  \n",
       "3        5000.00  \n",
       "4       19500.00  "
      ],
      "text/html": "<div>\n<style scoped>\n    .dataframe tbody tr th:only-of-type {\n        vertical-align: middle;\n    }\n\n    .dataframe tbody tr th {\n        vertical-align: top;\n    }\n\n    .dataframe thead th {\n        text-align: right;\n    }\n</style>\n<table border=\"1\" class=\"dataframe\">\n  <thead>\n    <tr style=\"text-align: right;\">\n      <th></th>\n      <th>main_category</th>\n      <th>currency</th>\n      <th>state</th>\n      <th>backers</th>\n      <th>country</th>\n      <th>usd_pledged_real</th>\n      <th>usd_goal_real</th>\n    </tr>\n  </thead>\n  <tbody>\n    <tr>\n      <th>0</th>\n      <td>Publishing</td>\n      <td>GBP</td>\n      <td>False</td>\n      <td>0</td>\n      <td>GB</td>\n      <td>0.0</td>\n      <td>1533.95</td>\n    </tr>\n    <tr>\n      <th>1</th>\n      <td>Film &amp; Video</td>\n      <td>USD</td>\n      <td>False</td>\n      <td>15</td>\n      <td>US</td>\n      <td>2421.0</td>\n      <td>30000.00</td>\n    </tr>\n    <tr>\n      <th>2</th>\n      <td>Film &amp; Video</td>\n      <td>USD</td>\n      <td>False</td>\n      <td>3</td>\n      <td>US</td>\n      <td>220.0</td>\n      <td>45000.00</td>\n    </tr>\n    <tr>\n      <th>3</th>\n      <td>Music</td>\n      <td>USD</td>\n      <td>False</td>\n      <td>1</td>\n      <td>US</td>\n      <td>1.0</td>\n      <td>5000.00</td>\n    </tr>\n    <tr>\n      <th>4</th>\n      <td>Film &amp; Video</td>\n      <td>USD</td>\n      <td>False</td>\n      <td>14</td>\n      <td>US</td>\n      <td>1283.0</td>\n      <td>19500.00</td>\n    </tr>\n  </tbody>\n</table>\n</div>"
     },
     "metadata": {},
     "execution_count": 13
    }
   ],
   "source": [
    "drop_columns_list = ['ID', 'name', 'goal', 'pledged', 'usd pledged', 'category', 'deadline', 'launched']\n",
    "df.drop(drop_columns_list, axis=1, inplace=True)\n",
    "df.head()"
   ]
  },
  {
   "source": [
    "#### カテゴリ変数を数値に変換する"
   ],
   "cell_type": "markdown",
   "metadata": {}
  },
  {
   "cell_type": "code",
   "execution_count": 14,
   "metadata": {},
   "outputs": [
    {
     "output_type": "execute_result",
     "data": {
      "text/plain": [
       "   main_category  currency  state  backers  country  usd_pledged_real  \\\n",
       "0             12         5  False        0        9               0.0   \n",
       "1              6        13  False       15       22            2421.0   \n",
       "2              6        13  False        3       22             220.0   \n",
       "3             10        13  False        1       22               1.0   \n",
       "4              6        13  False       14       22            1283.0   \n",
       "5              7        13   True      224       22           52375.0   \n",
       "6              7        13   True       16       22            1205.0   \n",
       "7              7        13  False       40       22             453.0   \n",
       "\n",
       "   usd_goal_real  \n",
       "0        1533.95  \n",
       "1       30000.00  \n",
       "2       45000.00  \n",
       "3        5000.00  \n",
       "4       19500.00  \n",
       "5       50000.00  \n",
       "6        1000.00  \n",
       "7       25000.00  "
      ],
      "text/html": "<div>\n<style scoped>\n    .dataframe tbody tr th:only-of-type {\n        vertical-align: middle;\n    }\n\n    .dataframe tbody tr th {\n        vertical-align: top;\n    }\n\n    .dataframe thead th {\n        text-align: right;\n    }\n</style>\n<table border=\"1\" class=\"dataframe\">\n  <thead>\n    <tr style=\"text-align: right;\">\n      <th></th>\n      <th>main_category</th>\n      <th>currency</th>\n      <th>state</th>\n      <th>backers</th>\n      <th>country</th>\n      <th>usd_pledged_real</th>\n      <th>usd_goal_real</th>\n    </tr>\n  </thead>\n  <tbody>\n    <tr>\n      <th>0</th>\n      <td>12</td>\n      <td>5</td>\n      <td>False</td>\n      <td>0</td>\n      <td>9</td>\n      <td>0.0</td>\n      <td>1533.95</td>\n    </tr>\n    <tr>\n      <th>1</th>\n      <td>6</td>\n      <td>13</td>\n      <td>False</td>\n      <td>15</td>\n      <td>22</td>\n      <td>2421.0</td>\n      <td>30000.00</td>\n    </tr>\n    <tr>\n      <th>2</th>\n      <td>6</td>\n      <td>13</td>\n      <td>False</td>\n      <td>3</td>\n      <td>22</td>\n      <td>220.0</td>\n      <td>45000.00</td>\n    </tr>\n    <tr>\n      <th>3</th>\n      <td>10</td>\n      <td>13</td>\n      <td>False</td>\n      <td>1</td>\n      <td>22</td>\n      <td>1.0</td>\n      <td>5000.00</td>\n    </tr>\n    <tr>\n      <th>4</th>\n      <td>6</td>\n      <td>13</td>\n      <td>False</td>\n      <td>14</td>\n      <td>22</td>\n      <td>1283.0</td>\n      <td>19500.00</td>\n    </tr>\n    <tr>\n      <th>5</th>\n      <td>7</td>\n      <td>13</td>\n      <td>True</td>\n      <td>224</td>\n      <td>22</td>\n      <td>52375.0</td>\n      <td>50000.00</td>\n    </tr>\n    <tr>\n      <th>6</th>\n      <td>7</td>\n      <td>13</td>\n      <td>True</td>\n      <td>16</td>\n      <td>22</td>\n      <td>1205.0</td>\n      <td>1000.00</td>\n    </tr>\n    <tr>\n      <th>7</th>\n      <td>7</td>\n      <td>13</td>\n      <td>False</td>\n      <td>40</td>\n      <td>22</td>\n      <td>453.0</td>\n      <td>25000.00</td>\n    </tr>\n  </tbody>\n</table>\n</div>"
     },
     "metadata": {},
     "execution_count": 14
    }
   ],
   "source": [
    "from sklearn.preprocessing import LabelEncoder\n",
    "encoder = LabelEncoder()\n",
    "categorical_feature = ['main_category', 'currency', 'country']\n",
    "df[categorical_feature] = df[categorical_feature].apply(encoder.fit_transform)\n",
    "df.head(8)"
   ]
  },
  {
   "source": [
    "### 4. モデル作成と学習"
   ],
   "cell_type": "markdown",
   "metadata": {}
  },
  {
   "cell_type": "code",
   "execution_count": 15,
   "metadata": {},
   "outputs": [],
   "source": [
    "from sklearn.linear_model import SGDClassifier\n",
    "from sklearn.metrics import log_loss, accuracy_score, confusion_matrix, precision_recall_fscore_support"
   ]
  },
  {
   "cell_type": "code",
   "execution_count": 16,
   "metadata": {},
   "outputs": [
    {
     "output_type": "execute_result",
     "data": {
      "text/plain": [
       "SGDClassifier(alpha=0.0001, average=False, class_weight=None,\n",
       "       early_stopping=False, epsilon=0.1, eta0=0.0, fit_intercept=True,\n",
       "       l1_ratio=0.15, learning_rate='optimal', loss='log', max_iter=10000,\n",
       "       n_iter=None, n_iter_no_change=5, n_jobs=None, penalty='none',\n",
       "       power_t=0.5, random_state=2020, shuffle=True, tol=0.001,\n",
       "       validation_fraction=0.1, verbose=0, warm_start=False)"
      ]
     },
     "metadata": {},
     "execution_count": 16
    }
   ],
   "source": [
    "y = df['state'].values\n",
    "X = df.drop('state', axis=1).values\n",
    "\n",
    "clf = SGDClassifier(loss='log', penalty='none', max_iter=10000, fit_intercept=True, random_state=2020, tol=1e-3)\n",
    "clf.fit(X, y)"
   ]
  },
  {
   "source": [
    "### 5. モデルの評価"
   ],
   "cell_type": "markdown",
   "metadata": {}
  },
  {
   "cell_type": "code",
   "execution_count": 17,
   "metadata": {},
   "outputs": [
    {
     "output_type": "stream",
     "name": "stdout",
     "text": [
      "weight1: -1234.595\nweight2: -386.965\nweight3: 3310.154\nweight4: -47.335\nweight5: 211.294\nweight6: -221.961\n"
     ]
    }
   ],
   "source": [
    "for i, weight in enumerate(clf.coef_[0]):\n",
    "    print(\"weight{}: {:.3f}\".format(i + 1, weight))"
   ]
  },
  {
   "cell_type": "code",
   "execution_count": 18,
   "metadata": {},
   "outputs": [
    {
     "output_type": "stream",
     "name": "stdout",
     "text": [
      "対数尤度 = -0.538\n正答率（Accuracy） = 98.442%\n適合率（Precision） = 97.589%\n再現率（Recall） = 98.018%\nF1値（F1-score） = 97.803%\n"
     ]
    }
   ],
   "source": [
    "# ラベルを予測\n",
    "y_pred = clf.predict(X)\n",
    "\n",
    "# 対数尤度を表示\n",
    "print('対数尤度 = {:.3f}'.format(-log_loss(y, y_pred)))\n",
    "\n",
    "# 正答率を計算\n",
    "accuracy =  accuracy_score(y, y_pred)\n",
    "print('正答率（Accuracy） = {:.3f}%'.format(100 * accuracy))\n",
    "\n",
    "# Precision, Recall, F1-scoreを計算\n",
    "precision, recall, f1_score, _ = precision_recall_fscore_support(y, y_pred)\n",
    "\n",
    "# Precision, Recall, F1-scoreを表示\n",
    "print('適合率（Precision） = {:.3f}%'.format(100 * precision[1]))\n",
    "print('再現率（Recall） = {:.3f}%'.format(100 * recall[1]))\n",
    "print('F1値（F1-score） = {:.3f}%'.format(100 * f1_score[1]))"
   ]
  },
  {
   "cell_type": "code",
   "execution_count": 19,
   "metadata": {},
   "outputs": [
    {
     "output_type": "execute_result",
     "data": {
      "text/plain": [
       "        予測      予測\n",
       "正解  241461    3244\n",
       "正解    2655  131301"
      ],
      "text/html": "<div>\n<style scoped>\n    .dataframe tbody tr th:only-of-type {\n        vertical-align: middle;\n    }\n\n    .dataframe tbody tr th {\n        vertical-align: top;\n    }\n\n    .dataframe thead th {\n        text-align: right;\n    }\n</style>\n<table border=\"1\" class=\"dataframe\">\n  <thead>\n    <tr style=\"text-align: right;\">\n      <th></th>\n      <th>予測</th>\n      <th>予測</th>\n    </tr>\n  </thead>\n  <tbody>\n    <tr>\n      <th>正解</th>\n      <td>241461</td>\n      <td>3244</td>\n    </tr>\n    <tr>\n      <th>正解</th>\n      <td>2655</td>\n      <td>131301</td>\n    </tr>\n  </tbody>\n</table>\n</div>"
     },
     "metadata": {},
     "execution_count": 19
    }
   ],
   "source": [
    "# 予測値と正解のクロス集計（混同行列）\n",
    "conf_mat = confusion_matrix(y, y_pred)\n",
    "conf_mat = pd.DataFrame(conf_mat, index=['正解', '正解'], columns=['予測', '予測'])\n",
    "conf_mat"
   ]
  }
 ]
}