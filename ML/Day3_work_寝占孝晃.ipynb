{
 "metadata": {
  "language_info": {
   "codemirror_mode": {
    "name": "ipython",
    "version": 3
   },
   "file_extension": ".py",
   "mimetype": "text/x-python",
   "name": "python",
   "nbconvert_exporter": "python",
   "pygments_lexer": "ipython3",
   "version": "3.7.9-final"
  },
  "orig_nbformat": 2,
  "kernelspec": {
   "name": "python3",
   "display_name": "Python 3.7.9 64-bit ('suai': conda)",
   "metadata": {
    "interpreter": {
     "hash": "4dc3b3aa06714fbd0824c14c5973976af74c501bf341931c3996a815bd0e0e15"
    }
   }
  }
 },
 "nbformat": 4,
 "nbformat_minor": 2,
 "cells": [
  {
   "source": [
    "## 通し課題➀ クラス分類"
   ],
   "cell_type": "markdown",
   "metadata": {}
  },
  {
   "cell_type": "code",
   "execution_count": 1,
   "metadata": {},
   "outputs": [],
   "source": [
    "import numpy as np\n",
    "import pandas as pd\n",
    "import matplotlib.pyplot as plt\n",
    "import seaborn as sns"
   ]
  },
  {
   "source": [
    "### 1. データの読み込みとデータ表示"
   ],
   "cell_type": "markdown",
   "metadata": {}
  },
  {
   "cell_type": "code",
   "execution_count": 2,
   "metadata": {},
   "outputs": [],
   "source": [
    "df = pd.read_csv('input/ks-projects-201801.csv')"
   ]
  },
  {
   "cell_type": "code",
   "execution_count": 3,
   "metadata": {},
   "outputs": [
    {
     "output_type": "display_data",
     "data": {
      "text/plain": "           ID                                               name  \\\n0  1000002330                    The Songs of Adelaide & Abullah   \n1  1000003930      Greeting From Earth: ZGAC Arts Capsule For ET   \n2  1000004038                                     Where is Hank?   \n3  1000007540  ToshiCapital Rekordz Needs Help to Complete Album   \n4  1000011046  Community Film Project: The Art of Neighborhoo...   \n\n         category main_category currency    deadline     goal  \\\n0          Poetry    Publishing      GBP  2015-10-09   1000.0   \n1  Narrative Film  Film & Video      USD  2017-11-01  30000.0   \n2  Narrative Film  Film & Video      USD  2013-02-26  45000.0   \n3           Music         Music      USD  2012-04-16   5000.0   \n4    Film & Video  Film & Video      USD  2015-08-29  19500.0   \n\n              launched  pledged     state  backers country  usd pledged  \\\n0  2015-08-11 12:12:28      0.0    failed        0      GB          0.0   \n1  2017-09-02 04:43:57   2421.0    failed       15      US        100.0   \n2  2013-01-12 00:20:50    220.0    failed        3      US        220.0   \n3  2012-03-17 03:24:11      1.0    failed        1      US          1.0   \n4  2015-07-04 08:35:03   1283.0  canceled       14      US       1283.0   \n\n   usd_pledged_real  usd_goal_real  \n0               0.0        1533.95  \n1            2421.0       30000.00  \n2             220.0       45000.00  \n3               1.0        5000.00  \n4            1283.0       19500.00  ",
      "text/html": "<div>\n<style scoped>\n    .dataframe tbody tr th:only-of-type {\n        vertical-align: middle;\n    }\n\n    .dataframe tbody tr th {\n        vertical-align: top;\n    }\n\n    .dataframe thead th {\n        text-align: right;\n    }\n</style>\n<table border=\"1\" class=\"dataframe\">\n  <thead>\n    <tr style=\"text-align: right;\">\n      <th></th>\n      <th>ID</th>\n      <th>name</th>\n      <th>category</th>\n      <th>main_category</th>\n      <th>currency</th>\n      <th>deadline</th>\n      <th>goal</th>\n      <th>launched</th>\n      <th>pledged</th>\n      <th>state</th>\n      <th>backers</th>\n      <th>country</th>\n      <th>usd pledged</th>\n      <th>usd_pledged_real</th>\n      <th>usd_goal_real</th>\n    </tr>\n  </thead>\n  <tbody>\n    <tr>\n      <th>0</th>\n      <td>1000002330</td>\n      <td>The Songs of Adelaide &amp; Abullah</td>\n      <td>Poetry</td>\n      <td>Publishing</td>\n      <td>GBP</td>\n      <td>2015-10-09</td>\n      <td>1000.0</td>\n      <td>2015-08-11 12:12:28</td>\n      <td>0.0</td>\n      <td>failed</td>\n      <td>0</td>\n      <td>GB</td>\n      <td>0.0</td>\n      <td>0.0</td>\n      <td>1533.95</td>\n    </tr>\n    <tr>\n      <th>1</th>\n      <td>1000003930</td>\n      <td>Greeting From Earth: ZGAC Arts Capsule For ET</td>\n      <td>Narrative Film</td>\n      <td>Film &amp; Video</td>\n      <td>USD</td>\n      <td>2017-11-01</td>\n      <td>30000.0</td>\n      <td>2017-09-02 04:43:57</td>\n      <td>2421.0</td>\n      <td>failed</td>\n      <td>15</td>\n      <td>US</td>\n      <td>100.0</td>\n      <td>2421.0</td>\n      <td>30000.00</td>\n    </tr>\n    <tr>\n      <th>2</th>\n      <td>1000004038</td>\n      <td>Where is Hank?</td>\n      <td>Narrative Film</td>\n      <td>Film &amp; Video</td>\n      <td>USD</td>\n      <td>2013-02-26</td>\n      <td>45000.0</td>\n      <td>2013-01-12 00:20:50</td>\n      <td>220.0</td>\n      <td>failed</td>\n      <td>3</td>\n      <td>US</td>\n      <td>220.0</td>\n      <td>220.0</td>\n      <td>45000.00</td>\n    </tr>\n    <tr>\n      <th>3</th>\n      <td>1000007540</td>\n      <td>ToshiCapital Rekordz Needs Help to Complete Album</td>\n      <td>Music</td>\n      <td>Music</td>\n      <td>USD</td>\n      <td>2012-04-16</td>\n      <td>5000.0</td>\n      <td>2012-03-17 03:24:11</td>\n      <td>1.0</td>\n      <td>failed</td>\n      <td>1</td>\n      <td>US</td>\n      <td>1.0</td>\n      <td>1.0</td>\n      <td>5000.00</td>\n    </tr>\n    <tr>\n      <th>4</th>\n      <td>1000011046</td>\n      <td>Community Film Project: The Art of Neighborhoo...</td>\n      <td>Film &amp; Video</td>\n      <td>Film &amp; Video</td>\n      <td>USD</td>\n      <td>2015-08-29</td>\n      <td>19500.0</td>\n      <td>2015-07-04 08:35:03</td>\n      <td>1283.0</td>\n      <td>canceled</td>\n      <td>14</td>\n      <td>US</td>\n      <td>1283.0</td>\n      <td>1283.0</td>\n      <td>19500.00</td>\n    </tr>\n  </tbody>\n</table>\n</div>"
     },
     "metadata": {}
    }
   ],
   "source": [
    "display(df.head(5))"
   ]
  },
  {
   "cell_type": "code",
   "execution_count": 4,
   "metadata": {},
   "outputs": [
    {
     "output_type": "display_data",
     "data": {
      "text/plain": "                 ID          goal       pledged        backers   usd pledged  \\\ncount  3.786610e+05  3.786610e+05  3.786610e+05  378661.000000  3.748640e+05   \nmean   1.074731e+09  4.908079e+04  9.682979e+03     105.617476  7.036729e+03   \nstd    6.190862e+08  1.183391e+06  9.563601e+04     907.185035  7.863975e+04   \nmin    5.971000e+03  1.000000e-02  0.000000e+00       0.000000  0.000000e+00   \n25%    5.382635e+08  2.000000e+03  3.000000e+01       2.000000  1.698000e+01   \n50%    1.075276e+09  5.200000e+03  6.200000e+02      12.000000  3.947200e+02   \n75%    1.610149e+09  1.600000e+04  4.076000e+03      56.000000  3.034090e+03   \nmax    2.147476e+09  1.000000e+08  2.033899e+07  219382.000000  2.033899e+07   \n\n       usd_pledged_real  usd_goal_real  \ncount      3.786610e+05   3.786610e+05  \nmean       9.058924e+03   4.545440e+04  \nstd        9.097334e+04   1.152950e+06  \nmin        0.000000e+00   1.000000e-02  \n25%        3.100000e+01   2.000000e+03  \n50%        6.243300e+02   5.500000e+03  \n75%        4.050000e+03   1.550000e+04  \nmax        2.033899e+07   1.663614e+08  ",
      "text/html": "<div>\n<style scoped>\n    .dataframe tbody tr th:only-of-type {\n        vertical-align: middle;\n    }\n\n    .dataframe tbody tr th {\n        vertical-align: top;\n    }\n\n    .dataframe thead th {\n        text-align: right;\n    }\n</style>\n<table border=\"1\" class=\"dataframe\">\n  <thead>\n    <tr style=\"text-align: right;\">\n      <th></th>\n      <th>ID</th>\n      <th>goal</th>\n      <th>pledged</th>\n      <th>backers</th>\n      <th>usd pledged</th>\n      <th>usd_pledged_real</th>\n      <th>usd_goal_real</th>\n    </tr>\n  </thead>\n  <tbody>\n    <tr>\n      <th>count</th>\n      <td>3.786610e+05</td>\n      <td>3.786610e+05</td>\n      <td>3.786610e+05</td>\n      <td>378661.000000</td>\n      <td>3.748640e+05</td>\n      <td>3.786610e+05</td>\n      <td>3.786610e+05</td>\n    </tr>\n    <tr>\n      <th>mean</th>\n      <td>1.074731e+09</td>\n      <td>4.908079e+04</td>\n      <td>9.682979e+03</td>\n      <td>105.617476</td>\n      <td>7.036729e+03</td>\n      <td>9.058924e+03</td>\n      <td>4.545440e+04</td>\n    </tr>\n    <tr>\n      <th>std</th>\n      <td>6.190862e+08</td>\n      <td>1.183391e+06</td>\n      <td>9.563601e+04</td>\n      <td>907.185035</td>\n      <td>7.863975e+04</td>\n      <td>9.097334e+04</td>\n      <td>1.152950e+06</td>\n    </tr>\n    <tr>\n      <th>min</th>\n      <td>5.971000e+03</td>\n      <td>1.000000e-02</td>\n      <td>0.000000e+00</td>\n      <td>0.000000</td>\n      <td>0.000000e+00</td>\n      <td>0.000000e+00</td>\n      <td>1.000000e-02</td>\n    </tr>\n    <tr>\n      <th>25%</th>\n      <td>5.382635e+08</td>\n      <td>2.000000e+03</td>\n      <td>3.000000e+01</td>\n      <td>2.000000</td>\n      <td>1.698000e+01</td>\n      <td>3.100000e+01</td>\n      <td>2.000000e+03</td>\n    </tr>\n    <tr>\n      <th>50%</th>\n      <td>1.075276e+09</td>\n      <td>5.200000e+03</td>\n      <td>6.200000e+02</td>\n      <td>12.000000</td>\n      <td>3.947200e+02</td>\n      <td>6.243300e+02</td>\n      <td>5.500000e+03</td>\n    </tr>\n    <tr>\n      <th>75%</th>\n      <td>1.610149e+09</td>\n      <td>1.600000e+04</td>\n      <td>4.076000e+03</td>\n      <td>56.000000</td>\n      <td>3.034090e+03</td>\n      <td>4.050000e+03</td>\n      <td>1.550000e+04</td>\n    </tr>\n    <tr>\n      <th>max</th>\n      <td>2.147476e+09</td>\n      <td>1.000000e+08</td>\n      <td>2.033899e+07</td>\n      <td>219382.000000</td>\n      <td>2.033899e+07</td>\n      <td>2.033899e+07</td>\n      <td>1.663614e+08</td>\n    </tr>\n  </tbody>\n</table>\n</div>"
     },
     "metadata": {}
    },
    {
     "output_type": "stream",
     "name": "stdout",
     "text": [
      "<class 'pandas.core.frame.DataFrame'>\nRangeIndex: 378661 entries, 0 to 378660\nData columns (total 15 columns):\nID                  378661 non-null int64\nname                378657 non-null object\ncategory            378661 non-null object\nmain_category       378661 non-null object\ncurrency            378661 non-null object\ndeadline            378661 non-null object\ngoal                378661 non-null float64\nlaunched            378661 non-null object\npledged             378661 non-null float64\nstate               378661 non-null object\nbackers             378661 non-null int64\ncountry             378661 non-null object\nusd pledged         374864 non-null float64\nusd_pledged_real    378661 non-null float64\nusd_goal_real       378661 non-null float64\ndtypes: float64(5), int64(2), object(8)\nmemory usage: 43.3+ MB\nNone\nID                     0\nname                   4\ncategory               0\nmain_category          0\ncurrency               0\ndeadline               0\ngoal                   0\nlaunched               0\npledged                0\nstate                  0\nbackers                0\ncountry                0\nusd pledged         3797\nusd_pledged_real       0\nusd_goal_real          0\ndtype: int64\n"
     ]
    }
   ],
   "source": [
    "display(df.describe())\n",
    "print(df.info())\n",
    "print(df.isnull().sum())"
   ]
  },
  {
   "cell_type": "code",
   "execution_count": 5,
   "metadata": {},
   "outputs": [
    {
     "output_type": "execute_result",
     "data": {
      "text/plain": [
       "           ID                                               name  \\\n",
       "0  1000002330                    The Songs of Adelaide & Abullah   \n",
       "1  1000003930      Greeting From Earth: ZGAC Arts Capsule For ET   \n",
       "2  1000004038                                     Where is Hank?   \n",
       "3  1000007540  ToshiCapital Rekordz Needs Help to Complete Album   \n",
       "4  1000011046  Community Film Project: The Art of Neighborhoo...   \n",
       "5  1000014025                               Monarch Espresso Bar   \n",
       "6  1000023410  Support Solar Roasted Coffee & Green Energy!  ...   \n",
       "7  1000030581  Chaser Strips. Our Strips make Shots their B*tch!   \n",
       "\n",
       "         category main_category currency   deadline     goal  \\\n",
       "0          Poetry    Publishing      GBP 2015-10-09   1000.0   \n",
       "1  Narrative Film  Film & Video      USD 2017-11-01  30000.0   \n",
       "2  Narrative Film  Film & Video      USD 2013-02-26  45000.0   \n",
       "3           Music         Music      USD 2012-04-16   5000.0   \n",
       "4    Film & Video  Film & Video      USD 2015-08-29  19500.0   \n",
       "5     Restaurants          Food      USD 2016-04-01  50000.0   \n",
       "6            Food          Food      USD 2014-12-21   1000.0   \n",
       "7          Drinks          Food      USD 2016-03-17  25000.0   \n",
       "\n",
       "             launched  pledged  state  backers country  usd pledged  \\\n",
       "0 2015-08-11 12:12:28      0.0      0        0      GB          0.0   \n",
       "1 2017-09-02 04:43:57   2421.0      0       15      US        100.0   \n",
       "2 2013-01-12 00:20:50    220.0      0        3      US        220.0   \n",
       "3 2012-03-17 03:24:11      1.0      0        1      US          1.0   \n",
       "4 2015-07-04 08:35:03   1283.0      0       14      US       1283.0   \n",
       "5 2016-02-26 13:38:27  52375.0      1      224      US      52375.0   \n",
       "6 2014-12-01 18:30:44   1205.0      1       16      US       1205.0   \n",
       "7 2016-02-01 20:05:12    453.0      0       40      US        453.0   \n",
       "\n",
       "   usd_pledged_real  usd_goal_real  duration  \n",
       "0               0.0        1533.95        58  \n",
       "1            2421.0       30000.00        59  \n",
       "2             220.0       45000.00        44  \n",
       "3               1.0        5000.00        29  \n",
       "4            1283.0       19500.00        55  \n",
       "5           52375.0       50000.00        34  \n",
       "6            1205.0        1000.00        19  \n",
       "7             453.0       25000.00        44  "
      ],
      "text/html": "<div>\n<style scoped>\n    .dataframe tbody tr th:only-of-type {\n        vertical-align: middle;\n    }\n\n    .dataframe tbody tr th {\n        vertical-align: top;\n    }\n\n    .dataframe thead th {\n        text-align: right;\n    }\n</style>\n<table border=\"1\" class=\"dataframe\">\n  <thead>\n    <tr style=\"text-align: right;\">\n      <th></th>\n      <th>ID</th>\n      <th>name</th>\n      <th>category</th>\n      <th>main_category</th>\n      <th>currency</th>\n      <th>deadline</th>\n      <th>goal</th>\n      <th>launched</th>\n      <th>pledged</th>\n      <th>state</th>\n      <th>backers</th>\n      <th>country</th>\n      <th>usd pledged</th>\n      <th>usd_pledged_real</th>\n      <th>usd_goal_real</th>\n      <th>duration</th>\n    </tr>\n  </thead>\n  <tbody>\n    <tr>\n      <th>0</th>\n      <td>1000002330</td>\n      <td>The Songs of Adelaide &amp; Abullah</td>\n      <td>Poetry</td>\n      <td>Publishing</td>\n      <td>GBP</td>\n      <td>2015-10-09</td>\n      <td>1000.0</td>\n      <td>2015-08-11 12:12:28</td>\n      <td>0.0</td>\n      <td>0</td>\n      <td>0</td>\n      <td>GB</td>\n      <td>0.0</td>\n      <td>0.0</td>\n      <td>1533.95</td>\n      <td>58</td>\n    </tr>\n    <tr>\n      <th>1</th>\n      <td>1000003930</td>\n      <td>Greeting From Earth: ZGAC Arts Capsule For ET</td>\n      <td>Narrative Film</td>\n      <td>Film &amp; Video</td>\n      <td>USD</td>\n      <td>2017-11-01</td>\n      <td>30000.0</td>\n      <td>2017-09-02 04:43:57</td>\n      <td>2421.0</td>\n      <td>0</td>\n      <td>15</td>\n      <td>US</td>\n      <td>100.0</td>\n      <td>2421.0</td>\n      <td>30000.00</td>\n      <td>59</td>\n    </tr>\n    <tr>\n      <th>2</th>\n      <td>1000004038</td>\n      <td>Where is Hank?</td>\n      <td>Narrative Film</td>\n      <td>Film &amp; Video</td>\n      <td>USD</td>\n      <td>2013-02-26</td>\n      <td>45000.0</td>\n      <td>2013-01-12 00:20:50</td>\n      <td>220.0</td>\n      <td>0</td>\n      <td>3</td>\n      <td>US</td>\n      <td>220.0</td>\n      <td>220.0</td>\n      <td>45000.00</td>\n      <td>44</td>\n    </tr>\n    <tr>\n      <th>3</th>\n      <td>1000007540</td>\n      <td>ToshiCapital Rekordz Needs Help to Complete Album</td>\n      <td>Music</td>\n      <td>Music</td>\n      <td>USD</td>\n      <td>2012-04-16</td>\n      <td>5000.0</td>\n      <td>2012-03-17 03:24:11</td>\n      <td>1.0</td>\n      <td>0</td>\n      <td>1</td>\n      <td>US</td>\n      <td>1.0</td>\n      <td>1.0</td>\n      <td>5000.00</td>\n      <td>29</td>\n    </tr>\n    <tr>\n      <th>4</th>\n      <td>1000011046</td>\n      <td>Community Film Project: The Art of Neighborhoo...</td>\n      <td>Film &amp; Video</td>\n      <td>Film &amp; Video</td>\n      <td>USD</td>\n      <td>2015-08-29</td>\n      <td>19500.0</td>\n      <td>2015-07-04 08:35:03</td>\n      <td>1283.0</td>\n      <td>0</td>\n      <td>14</td>\n      <td>US</td>\n      <td>1283.0</td>\n      <td>1283.0</td>\n      <td>19500.00</td>\n      <td>55</td>\n    </tr>\n    <tr>\n      <th>5</th>\n      <td>1000014025</td>\n      <td>Monarch Espresso Bar</td>\n      <td>Restaurants</td>\n      <td>Food</td>\n      <td>USD</td>\n      <td>2016-04-01</td>\n      <td>50000.0</td>\n      <td>2016-02-26 13:38:27</td>\n      <td>52375.0</td>\n      <td>1</td>\n      <td>224</td>\n      <td>US</td>\n      <td>52375.0</td>\n      <td>52375.0</td>\n      <td>50000.00</td>\n      <td>34</td>\n    </tr>\n    <tr>\n      <th>6</th>\n      <td>1000023410</td>\n      <td>Support Solar Roasted Coffee &amp; Green Energy!  ...</td>\n      <td>Food</td>\n      <td>Food</td>\n      <td>USD</td>\n      <td>2014-12-21</td>\n      <td>1000.0</td>\n      <td>2014-12-01 18:30:44</td>\n      <td>1205.0</td>\n      <td>1</td>\n      <td>16</td>\n      <td>US</td>\n      <td>1205.0</td>\n      <td>1205.0</td>\n      <td>1000.00</td>\n      <td>19</td>\n    </tr>\n    <tr>\n      <th>7</th>\n      <td>1000030581</td>\n      <td>Chaser Strips. Our Strips make Shots their B*tch!</td>\n      <td>Drinks</td>\n      <td>Food</td>\n      <td>USD</td>\n      <td>2016-03-17</td>\n      <td>25000.0</td>\n      <td>2016-02-01 20:05:12</td>\n      <td>453.0</td>\n      <td>0</td>\n      <td>40</td>\n      <td>US</td>\n      <td>453.0</td>\n      <td>453.0</td>\n      <td>25000.00</td>\n      <td>44</td>\n    </tr>\n  </tbody>\n</table>\n</div>"
     },
     "metadata": {},
     "execution_count": 5
    }
   ],
   "source": [
    "# state列のsuccessfulを1、それ以外を0に割り振る\n",
    "df['state'] = (df['state'] == 'successful') * 1\n",
    "\n",
    "# deadlineとlaunchedから新しい特徴量durationを作成\n",
    "df['deadline'] = pd.to_datetime(df['deadline'])\n",
    "df['launched'] = pd.to_datetime(df['launched'])\n",
    "df['duration'] = (df['deadline'] - df['launched']).dt.days\n",
    "df.head(8)"
   ]
  },
  {
   "source": [
    "### 2. データの可視化 (省略)"
   ],
   "cell_type": "markdown",
   "metadata": {}
  },
  {
   "source": [
    "### 3. データの前処理"
   ],
   "cell_type": "markdown",
   "metadata": {}
  },
  {
   "cell_type": "code",
   "execution_count": 6,
   "metadata": {},
   "outputs": [],
   "source": [
    "# 不要な列の削除\n",
    "drop_columns_list = ['ID', 'name', 'goal', 'pledged', 'usd pledged', 'deadline', 'launched', 'category']\n",
    "df.drop(drop_columns_list, axis=1, inplace=True)\n",
    "\n",
    "# カテゴリ変数を数値に変換する\n",
    "from sklearn.preprocessing import LabelEncoder\n",
    "encoder = LabelEncoder()\n",
    "categorical_feature = ['main_category', 'currency', 'country']\n",
    "df[categorical_feature] = df[categorical_feature].apply(encoder.fit_transform)"
   ]
  },
  {
   "cell_type": "code",
   "execution_count": 7,
   "metadata": {},
   "outputs": [
    {
     "output_type": "display_data",
     "data": {
      "text/plain": "   main_category  currency  state  backers  country  usd_pledged_real  \\\n0             12         5      0        0        9               0.0   \n1              6        13      0       15       22            2421.0   \n2              6        13      0        3       22             220.0   \n3             10        13      0        1       22               1.0   \n4              6        13      0       14       22            1283.0   \n5              7        13      1      224       22           52375.0   \n6              7        13      1       16       22            1205.0   \n7              7        13      0       40       22             453.0   \n\n   usd_goal_real  duration  \n0        1533.95        58  \n1       30000.00        59  \n2       45000.00        44  \n3        5000.00        29  \n4       19500.00        55  \n5       50000.00        34  \n6        1000.00        19  \n7       25000.00        44  ",
      "text/html": "<div>\n<style scoped>\n    .dataframe tbody tr th:only-of-type {\n        vertical-align: middle;\n    }\n\n    .dataframe tbody tr th {\n        vertical-align: top;\n    }\n\n    .dataframe thead th {\n        text-align: right;\n    }\n</style>\n<table border=\"1\" class=\"dataframe\">\n  <thead>\n    <tr style=\"text-align: right;\">\n      <th></th>\n      <th>main_category</th>\n      <th>currency</th>\n      <th>state</th>\n      <th>backers</th>\n      <th>country</th>\n      <th>usd_pledged_real</th>\n      <th>usd_goal_real</th>\n      <th>duration</th>\n    </tr>\n  </thead>\n  <tbody>\n    <tr>\n      <th>0</th>\n      <td>12</td>\n      <td>5</td>\n      <td>0</td>\n      <td>0</td>\n      <td>9</td>\n      <td>0.0</td>\n      <td>1533.95</td>\n      <td>58</td>\n    </tr>\n    <tr>\n      <th>1</th>\n      <td>6</td>\n      <td>13</td>\n      <td>0</td>\n      <td>15</td>\n      <td>22</td>\n      <td>2421.0</td>\n      <td>30000.00</td>\n      <td>59</td>\n    </tr>\n    <tr>\n      <th>2</th>\n      <td>6</td>\n      <td>13</td>\n      <td>0</td>\n      <td>3</td>\n      <td>22</td>\n      <td>220.0</td>\n      <td>45000.00</td>\n      <td>44</td>\n    </tr>\n    <tr>\n      <th>3</th>\n      <td>10</td>\n      <td>13</td>\n      <td>0</td>\n      <td>1</td>\n      <td>22</td>\n      <td>1.0</td>\n      <td>5000.00</td>\n      <td>29</td>\n    </tr>\n    <tr>\n      <th>4</th>\n      <td>6</td>\n      <td>13</td>\n      <td>0</td>\n      <td>14</td>\n      <td>22</td>\n      <td>1283.0</td>\n      <td>19500.00</td>\n      <td>55</td>\n    </tr>\n    <tr>\n      <th>5</th>\n      <td>7</td>\n      <td>13</td>\n      <td>1</td>\n      <td>224</td>\n      <td>22</td>\n      <td>52375.0</td>\n      <td>50000.00</td>\n      <td>34</td>\n    </tr>\n    <tr>\n      <th>6</th>\n      <td>7</td>\n      <td>13</td>\n      <td>1</td>\n      <td>16</td>\n      <td>22</td>\n      <td>1205.0</td>\n      <td>1000.00</td>\n      <td>19</td>\n    </tr>\n    <tr>\n      <th>7</th>\n      <td>7</td>\n      <td>13</td>\n      <td>0</td>\n      <td>40</td>\n      <td>22</td>\n      <td>453.0</td>\n      <td>25000.00</td>\n      <td>44</td>\n    </tr>\n  </tbody>\n</table>\n</div>"
     },
     "metadata": {}
    },
    {
     "output_type": "display_data",
     "data": {
      "text/plain": "       main_category       currency          state        backers  \\\ncount  378661.000000  378661.000000  378661.000000  378661.000000   \nmean        7.513010      11.000578       0.353762     105.617476   \nstd         3.904719       3.944783       0.478137     907.185035   \nmin         0.000000       0.000000       0.000000       0.000000   \n25%         5.000000      13.000000       0.000000       2.000000   \n50%         7.000000      13.000000       0.000000      12.000000   \n75%        10.000000      13.000000       1.000000      56.000000   \nmax        14.000000      13.000000       1.000000  219382.000000   \n\n             country  usd_pledged_real  usd_goal_real       duration  \ncount  378661.000000      3.786610e+05   3.786610e+05  378661.000000  \nmean       18.850764      9.058924e+03   4.545440e+04      33.481122  \nstd         6.270406      9.097334e+04   1.152950e+06      65.909172  \nmin         0.000000      0.000000e+00   1.000000e-02       0.000000  \n25%        22.000000      3.100000e+01   2.000000e+03      29.000000  \n50%        22.000000      6.243300e+02   5.500000e+03      29.000000  \n75%        22.000000      4.050000e+03   1.550000e+04      36.000000  \nmax        22.000000      2.033899e+07   1.663614e+08   16738.000000  ",
      "text/html": "<div>\n<style scoped>\n    .dataframe tbody tr th:only-of-type {\n        vertical-align: middle;\n    }\n\n    .dataframe tbody tr th {\n        vertical-align: top;\n    }\n\n    .dataframe thead th {\n        text-align: right;\n    }\n</style>\n<table border=\"1\" class=\"dataframe\">\n  <thead>\n    <tr style=\"text-align: right;\">\n      <th></th>\n      <th>main_category</th>\n      <th>currency</th>\n      <th>state</th>\n      <th>backers</th>\n      <th>country</th>\n      <th>usd_pledged_real</th>\n      <th>usd_goal_real</th>\n      <th>duration</th>\n    </tr>\n  </thead>\n  <tbody>\n    <tr>\n      <th>count</th>\n      <td>378661.000000</td>\n      <td>378661.000000</td>\n      <td>378661.000000</td>\n      <td>378661.000000</td>\n      <td>378661.000000</td>\n      <td>3.786610e+05</td>\n      <td>3.786610e+05</td>\n      <td>378661.000000</td>\n    </tr>\n    <tr>\n      <th>mean</th>\n      <td>7.513010</td>\n      <td>11.000578</td>\n      <td>0.353762</td>\n      <td>105.617476</td>\n      <td>18.850764</td>\n      <td>9.058924e+03</td>\n      <td>4.545440e+04</td>\n      <td>33.481122</td>\n    </tr>\n    <tr>\n      <th>std</th>\n      <td>3.904719</td>\n      <td>3.944783</td>\n      <td>0.478137</td>\n      <td>907.185035</td>\n      <td>6.270406</td>\n      <td>9.097334e+04</td>\n      <td>1.152950e+06</td>\n      <td>65.909172</td>\n    </tr>\n    <tr>\n      <th>min</th>\n      <td>0.000000</td>\n      <td>0.000000</td>\n      <td>0.000000</td>\n      <td>0.000000</td>\n      <td>0.000000</td>\n      <td>0.000000e+00</td>\n      <td>1.000000e-02</td>\n      <td>0.000000</td>\n    </tr>\n    <tr>\n      <th>25%</th>\n      <td>5.000000</td>\n      <td>13.000000</td>\n      <td>0.000000</td>\n      <td>2.000000</td>\n      <td>22.000000</td>\n      <td>3.100000e+01</td>\n      <td>2.000000e+03</td>\n      <td>29.000000</td>\n    </tr>\n    <tr>\n      <th>50%</th>\n      <td>7.000000</td>\n      <td>13.000000</td>\n      <td>0.000000</td>\n      <td>12.000000</td>\n      <td>22.000000</td>\n      <td>6.243300e+02</td>\n      <td>5.500000e+03</td>\n      <td>29.000000</td>\n    </tr>\n    <tr>\n      <th>75%</th>\n      <td>10.000000</td>\n      <td>13.000000</td>\n      <td>1.000000</td>\n      <td>56.000000</td>\n      <td>22.000000</td>\n      <td>4.050000e+03</td>\n      <td>1.550000e+04</td>\n      <td>36.000000</td>\n    </tr>\n    <tr>\n      <th>max</th>\n      <td>14.000000</td>\n      <td>13.000000</td>\n      <td>1.000000</td>\n      <td>219382.000000</td>\n      <td>22.000000</td>\n      <td>2.033899e+07</td>\n      <td>1.663614e+08</td>\n      <td>16738.000000</td>\n    </tr>\n  </tbody>\n</table>\n</div>"
     },
     "metadata": {}
    },
    {
     "output_type": "stream",
     "name": "stdout",
     "text": [
      "<class 'pandas.core.frame.DataFrame'>\nRangeIndex: 378661 entries, 0 to 378660\nData columns (total 8 columns):\nmain_category       378661 non-null int32\ncurrency            378661 non-null int32\nstate               378661 non-null int32\nbackers             378661 non-null int64\ncountry             378661 non-null int32\nusd_pledged_real    378661 non-null float64\nusd_goal_real       378661 non-null float64\nduration            378661 non-null int64\ndtypes: float64(2), int32(4), int64(2)\nmemory usage: 17.3 MB\n"
     ]
    }
   ],
   "source": [
    "display(df.head(8))\n",
    "display(df.describe())\n",
    "df.info()"
   ]
  },
  {
   "source": [
    "### 4. モデルの学習と評価\n",
    "#### 4.1 K交差検証法を用いて各モデルの精度を確認する\n"
   ],
   "cell_type": "markdown",
   "metadata": {}
  },
  {
   "cell_type": "code",
   "execution_count": 8,
   "metadata": {},
   "outputs": [],
   "source": [
    "from sklearn.preprocessing import StandardScaler\n",
    "from sklearn.model_selection import train_test_split\n",
    "from sklearn.model_selection import KFold\n",
    "from sklearn.model_selection import GridSearchCV\n",
    "from sklearn.linear_model import SGDClassifier\n",
    "from sklearn.ensemble import RandomForestClassifier, AdaBoostClassifier\n",
    "from sklearn.tree import DecisionTreeClassifier\n",
    "from sklearn.svm import SVC\n",
    "from sklearn.metrics import log_loss, accuracy_score, confusion_matrix, precision_recall_fscore_support"
   ]
  },
  {
   "cell_type": "code",
   "execution_count": 9,
   "metadata": {},
   "outputs": [],
   "source": [
    "def train_model(X, y, model_name='log_regr', use_scaler=False):\n",
    "    '''\n",
    "    k-交差検証法によるモデル評価\n",
    "    '''\n",
    "    n_split = 5\n",
    "\n",
    "    cross_valid_accuracy = 0\n",
    "    split_num = 1\n",
    "\n",
    "    for train_idx, test_idx in KFold(n_splits=n_split, shuffle=True, random_state=2020).split(X, y):\n",
    "        X_train, y_train = X[train_idx], y[train_idx]\n",
    "        X_test, y_test = X[test_idx], y[test_idx]\n",
    "\n",
    "        if use_scaler:\n",
    "            scaler = StandardScaler()\n",
    "            X_train = scaler.fit_transform(X_train)\n",
    "            X_test = scaler.transform(X_test)\n",
    "        \n",
    "        if model_name == 'support_vector_machine':\n",
    "            model = SVC(C=10, kernel='rbf', gamma='scale')\n",
    "        elif model_name == 'random_forest':\n",
    "            model = RandomForestClassifier(n_estimators=10, max_depth=2, criterion=\"gini\", min_samples_leaf=2, min_samples_split=2, random_state=2020)\n",
    "        elif model_name == 'adaboost':\n",
    "            model = AdaBoostClassifier(DecisionTreeClassifier(max_depth=3, min_samples_leaf=2, min_samples_split=2, random_state=2020, criterion=\"gini\"), n_estimators=10, random_state=1234)\n",
    "        else:\n",
    "            model = SGDClassifier(loss='log', penalty='l2', max_iter=10000, fit_intercept=True, random_state=2020, tol=1e-3)\n",
    "        \n",
    "        model.fit(X_train, y_train)\n",
    "\n",
    "        # テストデータに対する予測\n",
    "        y_pred_test = model.predict(X_test)\n",
    "        \n",
    "        # テストデータに対する正答率を計算\n",
    "        accuracy =  accuracy_score(y_test, y_pred_test)\n",
    "        print(\"Fold %s\"%split_num)\n",
    "        print('正答率（Accuracy） = {:.3f}%\\n'.format(100 * accuracy))\n",
    "        \n",
    "        cross_valid_accuracy += accuracy\n",
    "        split_num += 1\n",
    "\n",
    "    # 平均正答率を最終的な汎化誤差値とする\n",
    "    final_accuracy = cross_valid_accuracy / n_split\n",
    "    print('Cross Validation Accuracy = {:.3f}%'.format(100 * final_accuracy))"
   ]
  },
  {
   "cell_type": "code",
   "execution_count": 10,
   "metadata": {},
   "outputs": [],
   "source": [
    "X = df.drop('state', axis=1).values\n",
    "y = df['state'].values"
   ]
  },
  {
   "cell_type": "code",
   "execution_count": 11,
   "metadata": {},
   "outputs": [
    {
     "output_type": "stream",
     "name": "stdout",
     "text": [
      "Fold 1\n",
      "正答率（Accuracy） = 96.036%\n",
      "\n",
      "Fold 2\n",
      "正答率（Accuracy） = 99.123%\n",
      "\n",
      "Fold 3\n",
      "正答率（Accuracy） = 97.471%\n",
      "\n",
      "Fold 4\n",
      "正答率（Accuracy） = 99.099%\n",
      "\n",
      "Fold 5\n",
      "正答率（Accuracy） = 99.095%\n",
      "\n",
      "Cross Validation Accuracy = 98.165%\n"
     ]
    }
   ],
   "source": [
    "train_model(X, y, model_name='log_regr', use_scaler=False)"
   ]
  },
  {
   "cell_type": "code",
   "execution_count": 12,
   "metadata": {},
   "outputs": [
    {
     "output_type": "stream",
     "name": "stdout",
     "text": [
      "Fold 1\n",
      "正答率（Accuracy） = 98.637%\n",
      "\n",
      "Fold 2\n",
      "正答率（Accuracy） = 98.327%\n",
      "\n",
      "Fold 3\n",
      "正答率（Accuracy） = 98.452%\n",
      "\n",
      "Fold 4\n",
      "正答率（Accuracy） = 98.439%\n",
      "\n",
      "Fold 5\n",
      "正答率（Accuracy） = 98.393%\n",
      "\n",
      "Cross Validation Accuracy = 98.450%\n"
     ]
    }
   ],
   "source": [
    "train_model(X, y, model_name='adaboost', use_scaler=False)"
   ]
  },
  {
   "source": [
    "##### ラッパー法を使って不要な特徴量を探し、削除する"
   ],
   "cell_type": "markdown",
   "metadata": {}
  },
  {
   "cell_type": "code",
   "execution_count": 13,
   "metadata": {},
   "outputs": [],
   "source": [
    "def feature_selection_wrapper(df):\n",
    "    from sklearn.feature_selection import RFECV\n",
    "    X = df.drop('state', axis=1).values\n",
    "    y = df['state'].values\n",
    "    estimator = SGDClassifier(loss='log', penalty='l2', fit_intercept=True, random_state=2020, tol=1e-3)\n",
    "    rfecv = RFECV(estimator, cv=5, verbose=2, n_jobs=5)\n",
    "    rfecv.fit(X, y)\n",
    "\n",
    "    plt.plot(range(1, len(rfecv.grid_scores_) + 1), rfecv.grid_scores_)\n",
    "    plt.show()\n",
    "\n",
    "    # 特徴のランキングを表示\n",
    "    print('Feature ranking: \\n{}'.format(rfecv.ranking_))\n",
    "\n",
    "    # 削除してもよい特徴の名前を取得する\n",
    "    remove_idx = ~rfecv.support_\n",
    "    remove_feature = df.drop('state', axis=1).columns[remove_idx]\n",
    "    print(remove_feature)\n",
    "    return df.drop(remove_feature, axis=1)"
   ]
  },
  {
   "cell_type": "code",
   "execution_count": 14,
   "metadata": {},
   "outputs": [
    {
     "output_type": "display_data",
     "data": {
      "text/plain": "<Figure size 432x288 with 1 Axes>",
      "image/svg+xml": "<?xml version=\"1.0\" encoding=\"utf-8\" standalone=\"no\"?>\r\n<!DOCTYPE svg PUBLIC \"-//W3C//DTD SVG 1.1//EN\"\r\n  \"http://www.w3.org/Graphics/SVG/1.1/DTD/svg11.dtd\">\r\n<!-- Created with matplotlib (https://matplotlib.org/) -->\r\n<svg height=\"252.018125pt\" version=\"1.1\" viewBox=\"0 0 381.965625 252.018125\" width=\"381.965625pt\" xmlns=\"http://www.w3.org/2000/svg\" xmlns:xlink=\"http://www.w3.org/1999/xlink\">\r\n <defs>\r\n  <style type=\"text/css\">\r\n*{stroke-linecap:butt;stroke-linejoin:round;}\r\n  </style>\r\n </defs>\r\n <g id=\"figure_1\">\r\n  <g id=\"patch_1\">\r\n   <path d=\"M 0 252.018125 \r\nL 381.965625 252.018125 \r\nL 381.965625 0 \r\nL 0 0 \r\nz\r\n\" style=\"fill:none;\"/>\r\n  </g>\r\n  <g id=\"axes_1\">\r\n   <g id=\"patch_2\">\r\n    <path d=\"M 36.465625 228.14 \r\nL 371.265625 228.14 \r\nL 371.265625 10.7 \r\nL 36.465625 10.7 \r\nz\r\n\" style=\"fill:#ffffff;\"/>\r\n   </g>\r\n   <g id=\"matplotlib.axis_1\">\r\n    <g id=\"xtick_1\">\r\n     <g id=\"line2d_1\">\r\n      <defs>\r\n       <path d=\"M 0 0 \r\nL 0 3.5 \r\n\" id=\"m3edd68346d\" style=\"stroke:#000000;stroke-width:0.8;\"/>\r\n      </defs>\r\n      <g>\r\n       <use style=\"stroke:#000000;stroke-width:0.8;\" x=\"51.683807\" xlink:href=\"#m3edd68346d\" y=\"228.14\"/>\r\n      </g>\r\n     </g>\r\n     <g id=\"text_1\">\r\n      <!-- 1 -->\r\n      <defs>\r\n       <path d=\"M 12.40625 8.296875 \r\nL 28.515625 8.296875 \r\nL 28.515625 63.921875 \r\nL 10.984375 60.40625 \r\nL 10.984375 69.390625 \r\nL 28.421875 72.90625 \r\nL 38.28125 72.90625 \r\nL 38.28125 8.296875 \r\nL 54.390625 8.296875 \r\nL 54.390625 0 \r\nL 12.40625 0 \r\nz\r\n\" id=\"DejaVuSans-49\"/>\r\n      </defs>\r\n      <g transform=\"translate(48.502557 242.738437)scale(0.1 -0.1)\">\r\n       <use xlink:href=\"#DejaVuSans-49\"/>\r\n      </g>\r\n     </g>\r\n    </g>\r\n    <g id=\"xtick_2\">\r\n     <g id=\"line2d_2\">\r\n      <g>\r\n       <use style=\"stroke:#000000;stroke-width:0.8;\" x=\"102.41108\" xlink:href=\"#m3edd68346d\" y=\"228.14\"/>\r\n      </g>\r\n     </g>\r\n     <g id=\"text_2\">\r\n      <!-- 2 -->\r\n      <defs>\r\n       <path d=\"M 19.1875 8.296875 \r\nL 53.609375 8.296875 \r\nL 53.609375 0 \r\nL 7.328125 0 \r\nL 7.328125 8.296875 \r\nQ 12.9375 14.109375 22.625 23.890625 \r\nQ 32.328125 33.6875 34.8125 36.53125 \r\nQ 39.546875 41.84375 41.421875 45.53125 \r\nQ 43.3125 49.21875 43.3125 52.78125 \r\nQ 43.3125 58.59375 39.234375 62.25 \r\nQ 35.15625 65.921875 28.609375 65.921875 \r\nQ 23.96875 65.921875 18.8125 64.3125 \r\nQ 13.671875 62.703125 7.8125 59.421875 \r\nL 7.8125 69.390625 \r\nQ 13.765625 71.78125 18.9375 73 \r\nQ 24.125 74.21875 28.421875 74.21875 \r\nQ 39.75 74.21875 46.484375 68.546875 \r\nQ 53.21875 62.890625 53.21875 53.421875 \r\nQ 53.21875 48.921875 51.53125 44.890625 \r\nQ 49.859375 40.875 45.40625 35.40625 \r\nQ 44.1875 33.984375 37.640625 27.21875 \r\nQ 31.109375 20.453125 19.1875 8.296875 \r\nz\r\n\" id=\"DejaVuSans-50\"/>\r\n      </defs>\r\n      <g transform=\"translate(99.22983 242.738437)scale(0.1 -0.1)\">\r\n       <use xlink:href=\"#DejaVuSans-50\"/>\r\n      </g>\r\n     </g>\r\n    </g>\r\n    <g id=\"xtick_3\">\r\n     <g id=\"line2d_3\">\r\n      <g>\r\n       <use style=\"stroke:#000000;stroke-width:0.8;\" x=\"153.138352\" xlink:href=\"#m3edd68346d\" y=\"228.14\"/>\r\n      </g>\r\n     </g>\r\n     <g id=\"text_3\">\r\n      <!-- 3 -->\r\n      <defs>\r\n       <path d=\"M 40.578125 39.3125 \r\nQ 47.65625 37.796875 51.625 33 \r\nQ 55.609375 28.21875 55.609375 21.1875 \r\nQ 55.609375 10.40625 48.1875 4.484375 \r\nQ 40.765625 -1.421875 27.09375 -1.421875 \r\nQ 22.515625 -1.421875 17.65625 -0.515625 \r\nQ 12.796875 0.390625 7.625 2.203125 \r\nL 7.625 11.71875 \r\nQ 11.71875 9.328125 16.59375 8.109375 \r\nQ 21.484375 6.890625 26.8125 6.890625 \r\nQ 36.078125 6.890625 40.9375 10.546875 \r\nQ 45.796875 14.203125 45.796875 21.1875 \r\nQ 45.796875 27.640625 41.28125 31.265625 \r\nQ 36.765625 34.90625 28.71875 34.90625 \r\nL 20.21875 34.90625 \r\nL 20.21875 43.015625 \r\nL 29.109375 43.015625 \r\nQ 36.375 43.015625 40.234375 45.921875 \r\nQ 44.09375 48.828125 44.09375 54.296875 \r\nQ 44.09375 59.90625 40.109375 62.90625 \r\nQ 36.140625 65.921875 28.71875 65.921875 \r\nQ 24.65625 65.921875 20.015625 65.03125 \r\nQ 15.375 64.15625 9.8125 62.3125 \r\nL 9.8125 71.09375 \r\nQ 15.4375 72.65625 20.34375 73.4375 \r\nQ 25.25 74.21875 29.59375 74.21875 \r\nQ 40.828125 74.21875 47.359375 69.109375 \r\nQ 53.90625 64.015625 53.90625 55.328125 \r\nQ 53.90625 49.265625 50.4375 45.09375 \r\nQ 46.96875 40.921875 40.578125 39.3125 \r\nz\r\n\" id=\"DejaVuSans-51\"/>\r\n      </defs>\r\n      <g transform=\"translate(149.957102 242.738437)scale(0.1 -0.1)\">\r\n       <use xlink:href=\"#DejaVuSans-51\"/>\r\n      </g>\r\n     </g>\r\n    </g>\r\n    <g id=\"xtick_4\">\r\n     <g id=\"line2d_4\">\r\n      <g>\r\n       <use style=\"stroke:#000000;stroke-width:0.8;\" x=\"203.865625\" xlink:href=\"#m3edd68346d\" y=\"228.14\"/>\r\n      </g>\r\n     </g>\r\n     <g id=\"text_4\">\r\n      <!-- 4 -->\r\n      <defs>\r\n       <path d=\"M 37.796875 64.3125 \r\nL 12.890625 25.390625 \r\nL 37.796875 25.390625 \r\nz\r\nM 35.203125 72.90625 \r\nL 47.609375 72.90625 \r\nL 47.609375 25.390625 \r\nL 58.015625 25.390625 \r\nL 58.015625 17.1875 \r\nL 47.609375 17.1875 \r\nL 47.609375 0 \r\nL 37.796875 0 \r\nL 37.796875 17.1875 \r\nL 4.890625 17.1875 \r\nL 4.890625 26.703125 \r\nz\r\n\" id=\"DejaVuSans-52\"/>\r\n      </defs>\r\n      <g transform=\"translate(200.684375 242.738437)scale(0.1 -0.1)\">\r\n       <use xlink:href=\"#DejaVuSans-52\"/>\r\n      </g>\r\n     </g>\r\n    </g>\r\n    <g id=\"xtick_5\">\r\n     <g id=\"line2d_5\">\r\n      <g>\r\n       <use style=\"stroke:#000000;stroke-width:0.8;\" x=\"254.592898\" xlink:href=\"#m3edd68346d\" y=\"228.14\"/>\r\n      </g>\r\n     </g>\r\n     <g id=\"text_5\">\r\n      <!-- 5 -->\r\n      <defs>\r\n       <path d=\"M 10.796875 72.90625 \r\nL 49.515625 72.90625 \r\nL 49.515625 64.59375 \r\nL 19.828125 64.59375 \r\nL 19.828125 46.734375 \r\nQ 21.96875 47.46875 24.109375 47.828125 \r\nQ 26.265625 48.1875 28.421875 48.1875 \r\nQ 40.625 48.1875 47.75 41.5 \r\nQ 54.890625 34.8125 54.890625 23.390625 \r\nQ 54.890625 11.625 47.5625 5.09375 \r\nQ 40.234375 -1.421875 26.90625 -1.421875 \r\nQ 22.3125 -1.421875 17.546875 -0.640625 \r\nQ 12.796875 0.140625 7.71875 1.703125 \r\nL 7.71875 11.625 \r\nQ 12.109375 9.234375 16.796875 8.0625 \r\nQ 21.484375 6.890625 26.703125 6.890625 \r\nQ 35.15625 6.890625 40.078125 11.328125 \r\nQ 45.015625 15.765625 45.015625 23.390625 \r\nQ 45.015625 31 40.078125 35.4375 \r\nQ 35.15625 39.890625 26.703125 39.890625 \r\nQ 22.75 39.890625 18.8125 39.015625 \r\nQ 14.890625 38.140625 10.796875 36.28125 \r\nz\r\n\" id=\"DejaVuSans-53\"/>\r\n      </defs>\r\n      <g transform=\"translate(251.411648 242.738437)scale(0.1 -0.1)\">\r\n       <use xlink:href=\"#DejaVuSans-53\"/>\r\n      </g>\r\n     </g>\r\n    </g>\r\n    <g id=\"xtick_6\">\r\n     <g id=\"line2d_6\">\r\n      <g>\r\n       <use style=\"stroke:#000000;stroke-width:0.8;\" x=\"305.32017\" xlink:href=\"#m3edd68346d\" y=\"228.14\"/>\r\n      </g>\r\n     </g>\r\n     <g id=\"text_6\">\r\n      <!-- 6 -->\r\n      <defs>\r\n       <path d=\"M 33.015625 40.375 \r\nQ 26.375 40.375 22.484375 35.828125 \r\nQ 18.609375 31.296875 18.609375 23.390625 \r\nQ 18.609375 15.53125 22.484375 10.953125 \r\nQ 26.375 6.390625 33.015625 6.390625 \r\nQ 39.65625 6.390625 43.53125 10.953125 \r\nQ 47.40625 15.53125 47.40625 23.390625 \r\nQ 47.40625 31.296875 43.53125 35.828125 \r\nQ 39.65625 40.375 33.015625 40.375 \r\nz\r\nM 52.59375 71.296875 \r\nL 52.59375 62.3125 \r\nQ 48.875 64.0625 45.09375 64.984375 \r\nQ 41.3125 65.921875 37.59375 65.921875 \r\nQ 27.828125 65.921875 22.671875 59.328125 \r\nQ 17.53125 52.734375 16.796875 39.40625 \r\nQ 19.671875 43.65625 24.015625 45.921875 \r\nQ 28.375 48.1875 33.59375 48.1875 \r\nQ 44.578125 48.1875 50.953125 41.515625 \r\nQ 57.328125 34.859375 57.328125 23.390625 \r\nQ 57.328125 12.15625 50.6875 5.359375 \r\nQ 44.046875 -1.421875 33.015625 -1.421875 \r\nQ 20.359375 -1.421875 13.671875 8.265625 \r\nQ 6.984375 17.96875 6.984375 36.375 \r\nQ 6.984375 53.65625 15.1875 63.9375 \r\nQ 23.390625 74.21875 37.203125 74.21875 \r\nQ 40.921875 74.21875 44.703125 73.484375 \r\nQ 48.484375 72.75 52.59375 71.296875 \r\nz\r\n\" id=\"DejaVuSans-54\"/>\r\n      </defs>\r\n      <g transform=\"translate(302.13892 242.738437)scale(0.1 -0.1)\">\r\n       <use xlink:href=\"#DejaVuSans-54\"/>\r\n      </g>\r\n     </g>\r\n    </g>\r\n    <g id=\"xtick_7\">\r\n     <g id=\"line2d_7\">\r\n      <g>\r\n       <use style=\"stroke:#000000;stroke-width:0.8;\" x=\"356.047443\" xlink:href=\"#m3edd68346d\" y=\"228.14\"/>\r\n      </g>\r\n     </g>\r\n     <g id=\"text_7\">\r\n      <!-- 7 -->\r\n      <defs>\r\n       <path d=\"M 8.203125 72.90625 \r\nL 55.078125 72.90625 \r\nL 55.078125 68.703125 \r\nL 28.609375 0 \r\nL 18.3125 0 \r\nL 43.21875 64.59375 \r\nL 8.203125 64.59375 \r\nz\r\n\" id=\"DejaVuSans-55\"/>\r\n      </defs>\r\n      <g transform=\"translate(352.866193 242.738437)scale(0.1 -0.1)\">\r\n       <use xlink:href=\"#DejaVuSans-55\"/>\r\n      </g>\r\n     </g>\r\n    </g>\r\n   </g>\r\n   <g id=\"matplotlib.axis_2\">\r\n    <g id=\"ytick_1\">\r\n     <g id=\"line2d_8\">\r\n      <defs>\r\n       <path d=\"M 0 0 \r\nL -3.5 0 \r\n\" id=\"mb5d1b45b2b\" style=\"stroke:#000000;stroke-width:0.8;\"/>\r\n      </defs>\r\n      <g>\r\n       <use style=\"stroke:#000000;stroke-width:0.8;\" x=\"36.465625\" xlink:href=\"#mb5d1b45b2b\" y=\"220.639377\"/>\r\n      </g>\r\n     </g>\r\n     <g id=\"text_8\">\r\n      <!-- 0.65 -->\r\n      <defs>\r\n       <path d=\"M 31.78125 66.40625 \r\nQ 24.171875 66.40625 20.328125 58.90625 \r\nQ 16.5 51.421875 16.5 36.375 \r\nQ 16.5 21.390625 20.328125 13.890625 \r\nQ 24.171875 6.390625 31.78125 6.390625 \r\nQ 39.453125 6.390625 43.28125 13.890625 \r\nQ 47.125 21.390625 47.125 36.375 \r\nQ 47.125 51.421875 43.28125 58.90625 \r\nQ 39.453125 66.40625 31.78125 66.40625 \r\nz\r\nM 31.78125 74.21875 \r\nQ 44.046875 74.21875 50.515625 64.515625 \r\nQ 56.984375 54.828125 56.984375 36.375 \r\nQ 56.984375 17.96875 50.515625 8.265625 \r\nQ 44.046875 -1.421875 31.78125 -1.421875 \r\nQ 19.53125 -1.421875 13.0625 8.265625 \r\nQ 6.59375 17.96875 6.59375 36.375 \r\nQ 6.59375 54.828125 13.0625 64.515625 \r\nQ 19.53125 74.21875 31.78125 74.21875 \r\nz\r\n\" id=\"DejaVuSans-48\"/>\r\n       <path d=\"M 10.6875 12.40625 \r\nL 21 12.40625 \r\nL 21 0 \r\nL 10.6875 0 \r\nz\r\n\" id=\"DejaVuSans-46\"/>\r\n      </defs>\r\n      <g transform=\"translate(7.2 224.438596)scale(0.1 -0.1)\">\r\n       <use xlink:href=\"#DejaVuSans-48\"/>\r\n       <use x=\"63.623047\" xlink:href=\"#DejaVuSans-46\"/>\r\n       <use x=\"95.410156\" xlink:href=\"#DejaVuSans-54\"/>\r\n       <use x=\"159.033203\" xlink:href=\"#DejaVuSans-53\"/>\r\n      </g>\r\n     </g>\r\n    </g>\r\n    <g id=\"ytick_2\">\r\n     <g id=\"line2d_9\">\r\n      <g>\r\n       <use style=\"stroke:#000000;stroke-width:0.8;\" x=\"36.465625\" xlink:href=\"#mb5d1b45b2b\" y=\"190.709513\"/>\r\n      </g>\r\n     </g>\r\n     <g id=\"text_9\">\r\n      <!-- 0.70 -->\r\n      <g transform=\"translate(7.2 194.508731)scale(0.1 -0.1)\">\r\n       <use xlink:href=\"#DejaVuSans-48\"/>\r\n       <use x=\"63.623047\" xlink:href=\"#DejaVuSans-46\"/>\r\n       <use x=\"95.410156\" xlink:href=\"#DejaVuSans-55\"/>\r\n       <use x=\"159.033203\" xlink:href=\"#DejaVuSans-48\"/>\r\n      </g>\r\n     </g>\r\n    </g>\r\n    <g id=\"ytick_3\">\r\n     <g id=\"line2d_10\">\r\n      <g>\r\n       <use style=\"stroke:#000000;stroke-width:0.8;\" x=\"36.465625\" xlink:href=\"#mb5d1b45b2b\" y=\"160.779648\"/>\r\n      </g>\r\n     </g>\r\n     <g id=\"text_10\">\r\n      <!-- 0.75 -->\r\n      <g transform=\"translate(7.2 164.578867)scale(0.1 -0.1)\">\r\n       <use xlink:href=\"#DejaVuSans-48\"/>\r\n       <use x=\"63.623047\" xlink:href=\"#DejaVuSans-46\"/>\r\n       <use x=\"95.410156\" xlink:href=\"#DejaVuSans-55\"/>\r\n       <use x=\"159.033203\" xlink:href=\"#DejaVuSans-53\"/>\r\n      </g>\r\n     </g>\r\n    </g>\r\n    <g id=\"ytick_4\">\r\n     <g id=\"line2d_11\">\r\n      <g>\r\n       <use style=\"stroke:#000000;stroke-width:0.8;\" x=\"36.465625\" xlink:href=\"#mb5d1b45b2b\" y=\"130.849783\"/>\r\n      </g>\r\n     </g>\r\n     <g id=\"text_11\">\r\n      <!-- 0.80 -->\r\n      <defs>\r\n       <path d=\"M 31.78125 34.625 \r\nQ 24.75 34.625 20.71875 30.859375 \r\nQ 16.703125 27.09375 16.703125 20.515625 \r\nQ 16.703125 13.921875 20.71875 10.15625 \r\nQ 24.75 6.390625 31.78125 6.390625 \r\nQ 38.8125 6.390625 42.859375 10.171875 \r\nQ 46.921875 13.96875 46.921875 20.515625 \r\nQ 46.921875 27.09375 42.890625 30.859375 \r\nQ 38.875 34.625 31.78125 34.625 \r\nz\r\nM 21.921875 38.8125 \r\nQ 15.578125 40.375 12.03125 44.71875 \r\nQ 8.5 49.078125 8.5 55.328125 \r\nQ 8.5 64.0625 14.71875 69.140625 \r\nQ 20.953125 74.21875 31.78125 74.21875 \r\nQ 42.671875 74.21875 48.875 69.140625 \r\nQ 55.078125 64.0625 55.078125 55.328125 \r\nQ 55.078125 49.078125 51.53125 44.71875 \r\nQ 48 40.375 41.703125 38.8125 \r\nQ 48.828125 37.15625 52.796875 32.3125 \r\nQ 56.78125 27.484375 56.78125 20.515625 \r\nQ 56.78125 9.90625 50.3125 4.234375 \r\nQ 43.84375 -1.421875 31.78125 -1.421875 \r\nQ 19.734375 -1.421875 13.25 4.234375 \r\nQ 6.78125 9.90625 6.78125 20.515625 \r\nQ 6.78125 27.484375 10.78125 32.3125 \r\nQ 14.796875 37.15625 21.921875 38.8125 \r\nz\r\nM 18.3125 54.390625 \r\nQ 18.3125 48.734375 21.84375 45.5625 \r\nQ 25.390625 42.390625 31.78125 42.390625 \r\nQ 38.140625 42.390625 41.71875 45.5625 \r\nQ 45.3125 48.734375 45.3125 54.390625 \r\nQ 45.3125 60.0625 41.71875 63.234375 \r\nQ 38.140625 66.40625 31.78125 66.40625 \r\nQ 25.390625 66.40625 21.84375 63.234375 \r\nQ 18.3125 60.0625 18.3125 54.390625 \r\nz\r\n\" id=\"DejaVuSans-56\"/>\r\n      </defs>\r\n      <g transform=\"translate(7.2 134.649002)scale(0.1 -0.1)\">\r\n       <use xlink:href=\"#DejaVuSans-48\"/>\r\n       <use x=\"63.623047\" xlink:href=\"#DejaVuSans-46\"/>\r\n       <use x=\"95.410156\" xlink:href=\"#DejaVuSans-56\"/>\r\n       <use x=\"159.033203\" xlink:href=\"#DejaVuSans-48\"/>\r\n      </g>\r\n     </g>\r\n    </g>\r\n    <g id=\"ytick_5\">\r\n     <g id=\"line2d_12\">\r\n      <g>\r\n       <use style=\"stroke:#000000;stroke-width:0.8;\" x=\"36.465625\" xlink:href=\"#mb5d1b45b2b\" y=\"100.919918\"/>\r\n      </g>\r\n     </g>\r\n     <g id=\"text_12\">\r\n      <!-- 0.85 -->\r\n      <g transform=\"translate(7.2 104.719137)scale(0.1 -0.1)\">\r\n       <use xlink:href=\"#DejaVuSans-48\"/>\r\n       <use x=\"63.623047\" xlink:href=\"#DejaVuSans-46\"/>\r\n       <use x=\"95.410156\" xlink:href=\"#DejaVuSans-56\"/>\r\n       <use x=\"159.033203\" xlink:href=\"#DejaVuSans-53\"/>\r\n      </g>\r\n     </g>\r\n    </g>\r\n    <g id=\"ytick_6\">\r\n     <g id=\"line2d_13\">\r\n      <g>\r\n       <use style=\"stroke:#000000;stroke-width:0.8;\" x=\"36.465625\" xlink:href=\"#mb5d1b45b2b\" y=\"70.990054\"/>\r\n      </g>\r\n     </g>\r\n     <g id=\"text_13\">\r\n      <!-- 0.90 -->\r\n      <defs>\r\n       <path d=\"M 10.984375 1.515625 \r\nL 10.984375 10.5 \r\nQ 14.703125 8.734375 18.5 7.8125 \r\nQ 22.3125 6.890625 25.984375 6.890625 \r\nQ 35.75 6.890625 40.890625 13.453125 \r\nQ 46.046875 20.015625 46.78125 33.40625 \r\nQ 43.953125 29.203125 39.59375 26.953125 \r\nQ 35.25 24.703125 29.984375 24.703125 \r\nQ 19.046875 24.703125 12.671875 31.3125 \r\nQ 6.296875 37.9375 6.296875 49.421875 \r\nQ 6.296875 60.640625 12.9375 67.421875 \r\nQ 19.578125 74.21875 30.609375 74.21875 \r\nQ 43.265625 74.21875 49.921875 64.515625 \r\nQ 56.59375 54.828125 56.59375 36.375 \r\nQ 56.59375 19.140625 48.40625 8.859375 \r\nQ 40.234375 -1.421875 26.421875 -1.421875 \r\nQ 22.703125 -1.421875 18.890625 -0.6875 \r\nQ 15.09375 0.046875 10.984375 1.515625 \r\nz\r\nM 30.609375 32.421875 \r\nQ 37.25 32.421875 41.125 36.953125 \r\nQ 45.015625 41.5 45.015625 49.421875 \r\nQ 45.015625 57.28125 41.125 61.84375 \r\nQ 37.25 66.40625 30.609375 66.40625 \r\nQ 23.96875 66.40625 20.09375 61.84375 \r\nQ 16.21875 57.28125 16.21875 49.421875 \r\nQ 16.21875 41.5 20.09375 36.953125 \r\nQ 23.96875 32.421875 30.609375 32.421875 \r\nz\r\n\" id=\"DejaVuSans-57\"/>\r\n      </defs>\r\n      <g transform=\"translate(7.2 74.789273)scale(0.1 -0.1)\">\r\n       <use xlink:href=\"#DejaVuSans-48\"/>\r\n       <use x=\"63.623047\" xlink:href=\"#DejaVuSans-46\"/>\r\n       <use x=\"95.410156\" xlink:href=\"#DejaVuSans-57\"/>\r\n       <use x=\"159.033203\" xlink:href=\"#DejaVuSans-48\"/>\r\n      </g>\r\n     </g>\r\n    </g>\r\n    <g id=\"ytick_7\">\r\n     <g id=\"line2d_14\">\r\n      <g>\r\n       <use style=\"stroke:#000000;stroke-width:0.8;\" x=\"36.465625\" xlink:href=\"#mb5d1b45b2b\" y=\"41.060189\"/>\r\n      </g>\r\n     </g>\r\n     <g id=\"text_14\">\r\n      <!-- 0.95 -->\r\n      <g transform=\"translate(7.2 44.859408)scale(0.1 -0.1)\">\r\n       <use xlink:href=\"#DejaVuSans-48\"/>\r\n       <use x=\"63.623047\" xlink:href=\"#DejaVuSans-46\"/>\r\n       <use x=\"95.410156\" xlink:href=\"#DejaVuSans-57\"/>\r\n       <use x=\"159.033203\" xlink:href=\"#DejaVuSans-53\"/>\r\n      </g>\r\n     </g>\r\n    </g>\r\n    <g id=\"ytick_8\">\r\n     <g id=\"line2d_15\">\r\n      <g>\r\n       <use style=\"stroke:#000000;stroke-width:0.8;\" x=\"36.465625\" xlink:href=\"#mb5d1b45b2b\" y=\"11.130324\"/>\r\n      </g>\r\n     </g>\r\n     <g id=\"text_15\">\r\n      <!-- 1.00 -->\r\n      <g transform=\"translate(7.2 14.929543)scale(0.1 -0.1)\">\r\n       <use xlink:href=\"#DejaVuSans-49\"/>\r\n       <use x=\"63.623047\" xlink:href=\"#DejaVuSans-46\"/>\r\n       <use x=\"95.410156\" xlink:href=\"#DejaVuSans-48\"/>\r\n       <use x=\"159.033203\" xlink:href=\"#DejaVuSans-48\"/>\r\n      </g>\r\n     </g>\r\n    </g>\r\n   </g>\r\n   <g id=\"line2d_16\">\r\n    <path clip-path=\"url(#p855c9e7a32)\" d=\"M 51.683807 218.256364 \r\nL 102.41108 100.116842 \r\nL 153.138352 54.222109 \r\nL 203.865625 33.486376 \r\nL 254.592898 55.886785 \r\nL 305.32017 23.400707 \r\nL 356.047443 20.583636 \r\n\" style=\"fill:none;stroke:#1f77b4;stroke-linecap:square;stroke-width:1.5;\"/>\r\n   </g>\r\n   <g id=\"patch_3\">\r\n    <path d=\"M 36.465625 228.14 \r\nL 36.465625 10.7 \r\n\" style=\"fill:none;stroke:#000000;stroke-linecap:square;stroke-linejoin:miter;stroke-width:0.8;\"/>\r\n   </g>\r\n   <g id=\"patch_4\">\r\n    <path d=\"M 371.265625 228.14 \r\nL 371.265625 10.7 \r\n\" style=\"fill:none;stroke:#000000;stroke-linecap:square;stroke-linejoin:miter;stroke-width:0.8;\"/>\r\n   </g>\r\n   <g id=\"patch_5\">\r\n    <path d=\"M 36.465625 228.14 \r\nL 371.265625 228.14 \r\n\" style=\"fill:none;stroke:#000000;stroke-linecap:square;stroke-linejoin:miter;stroke-width:0.8;\"/>\r\n   </g>\r\n   <g id=\"patch_6\">\r\n    <path d=\"M 36.465625 10.7 \r\nL 371.265625 10.7 \r\n\" style=\"fill:none;stroke:#000000;stroke-linecap:square;stroke-linejoin:miter;stroke-width:0.8;\"/>\r\n   </g>\r\n  </g>\r\n </g>\r\n <defs>\r\n  <clipPath id=\"p855c9e7a32\">\r\n   <rect height=\"217.44\" width=\"334.8\" x=\"36.465625\" y=\"10.7\"/>\r\n  </clipPath>\r\n </defs>\r\n</svg>\r\n",
      "image/png": "[encoded data removed]"
     },
     "metadata": {
      "needs_background": "light"
     }
    },
    {
     "output_type": "stream",
     "name": "stdout",
     "text": [
      "Feature ranking: \n",
      "[1 1 1 1 1 1 1]\n",
      "Index([], dtype='object')\n",
      "Fold 1\n",
      "正答率（Accuracy） = 96.036%\n",
      "\n",
      "Fold 2\n",
      "正答率（Accuracy） = 99.123%\n",
      "\n",
      "Fold 3\n",
      "正答率（Accuracy） = 97.471%\n",
      "\n",
      "Fold 4\n",
      "正答率（Accuracy） = 99.099%\n",
      "\n",
      "Fold 5\n",
      "正答率（Accuracy） = 99.095%\n",
      "\n",
      "Cross Validation Accuracy = 98.165%\n"
     ]
    }
   ],
   "source": [
    "selected_df = feature_selection_wrapper(df)\n",
    "X = selected_df.drop('state', axis=1).values\n",
    "y = selected_df['state'].values\n",
    "train_model(X, y, model_name='log_regr', use_scaler=False)"
   ]
  },
  {
   "source": [
    "#### 4.2 GridSearchCVを用いて最適なハイパーパラメータを探索する"
   ],
   "cell_type": "markdown",
   "metadata": {}
  },
  {
   "cell_type": "code",
   "execution_count": 15,
   "metadata": {},
   "outputs": [],
   "source": [
    "def grid_search(X_train, y_train, model, parameters):\n",
    "    clf = GridSearchCV(model, parameters, cv=5, verbose=2, n_jobs=5)\n",
    "    clf.fit(X_train, y_train)\n",
    "    print(clf.best_params_)\n",
    "    return clf.best_params_"
   ]
  },
  {
   "cell_type": "code",
   "execution_count": 16,
   "metadata": {},
   "outputs": [],
   "source": [
    "# データを訓練用とテスト用に分ける。\n",
    "X_train, X_test, y_train, y_test = train_test_split(X, y, test_size=0.2, random_state=2020, shuffle=True)"
   ]
  },
  {
   "cell_type": "code",
   "execution_count": 17,
   "metadata": {},
   "outputs": [
    {
     "output_type": "stream",
     "name": "stdout",
     "text": [
      "Fitting 5 folds for each of 10 candidates, totalling 50 fits\n",
      "[Parallel(n_jobs=5)]: Using backend LokyBackend with 5 concurrent workers.\n",
      "[Parallel(n_jobs=5)]: Done  31 tasks      | elapsed:  1.7min\n",
      "[Parallel(n_jobs=5)]: Done  50 out of  50 | elapsed:  3.0min finished\n",
      "{'alpha': 1, 'penalty': 'l2'}\n"
     ]
    },
    {
     "output_type": "execute_result",
     "data": {
      "text/plain": [
       "SGDClassifier(alpha=1, average=False, class_weight=None, early_stopping=False,\n",
       "       epsilon=0.1, eta0=0.0, fit_intercept=True, l1_ratio=0.15,\n",
       "       learning_rate='optimal', loss='hinge', max_iter=None, n_iter=None,\n",
       "       n_iter_no_change=5, n_jobs=None, penalty='l2', power_t=0.5,\n",
       "       random_state=2020, shuffle=True, tol=0.001, validation_fraction=0.1,\n",
       "       verbose=0, warm_start=False)"
      ]
     },
     "metadata": {},
     "execution_count": 17
    }
   ],
   "source": [
    "# # ロジスティック回帰の最終モデル\n",
    "parameters = {'penalty':['l1', 'l2'], 'alpha':[0.001, 0.01, 0.1, 1, 10]}\n",
    "log_regr = SGDClassifier(fit_intercept=True, tol=1e-3, random_state=2020)\n",
    "best_params = grid_search(X_train, y_train, log_regr, parameters)\n",
    "log_regr = SGDClassifier(**best_params, fit_intercept=True, tol=1e-3, random_state=2020)\n",
    "log_regr.fit(X_train, y_train)"
   ]
  },
  {
   "cell_type": "code",
   "execution_count": 18,
   "metadata": {},
   "outputs": [
    {
     "output_type": "stream",
     "name": "stdout",
     "text": [
      "Fitting 5 folds for each of 4 candidates, totalling 20 fits\n",
      "[Parallel(n_jobs=5)]: Using backend LokyBackend with 5 concurrent workers.\n",
      "[Parallel(n_jobs=5)]: Done  20 out of  20 | elapsed:  3.2min finished\n",
      "{'base_estimator': DecisionTreeClassifier(class_weight=None, criterion='gini', max_depth=5,\n",
      "            max_features=None, max_leaf_nodes=None,\n",
      "            min_impurity_decrease=0.0, min_impurity_split=None,\n",
      "            min_samples_leaf=2, min_samples_split=2,\n",
      "            min_weight_fraction_leaf=0.0, presort=False, random_state=2020,\n",
      "            splitter='best')}\n"
     ]
    },
    {
     "output_type": "execute_result",
     "data": {
      "text/plain": [
       "AdaBoostClassifier(algorithm='SAMME.R',\n",
       "          base_estimator=DecisionTreeClassifier(class_weight=None, criterion='gini', max_depth=5,\n",
       "            max_features=None, max_leaf_nodes=None,\n",
       "            min_impurity_decrease=0.0, min_impurity_split=None,\n",
       "            min_samples_leaf=2, min_samples_split=2,\n",
       "            min_weight_fraction_leaf=0.0, presort=False, random_state=2020,\n",
       "            splitter='best'),\n",
       "          learning_rate=1.0, n_estimators=50, random_state=None)"
      ]
     },
     "metadata": {},
     "execution_count": 18
    }
   ],
   "source": [
    "# アダブーストの最終モデル\n",
    "parameters = {\n",
    "    'base_estimator': [DecisionTreeClassifier(max_depth=x, min_samples_leaf=2, min_samples_split=2, random_state=2020, criterion=\"gini\") for x in [3, 5, 10, 30]]\n",
    "}\n",
    "adaboost = AdaBoostClassifier(DecisionTreeClassifier(max_depth=None, min_samples_leaf=2, min_samples_split=2, random_state=2020, criterion=\"gini\"))\n",
    "best_params = grid_search(X_train, y_train, adaboost, parameters)\n",
    "adaboost = AdaBoostClassifier(**best_params)\n",
    "adaboost.fit(X_train, y_train)"
   ]
  },
  {
   "source": [
    "#### 4.3 モデルの評価"
   ],
   "cell_type": "markdown",
   "metadata": {}
  },
  {
   "cell_type": "code",
   "execution_count": 19,
   "metadata": {},
   "outputs": [],
   "source": [
    "def evaluate_model(model, X_test, y_test):\n",
    "    '''\n",
    "    テストデータに対する評価\n",
    "    '''\n",
    "    # ラベルを予測\n",
    "    y_pred = model.predict(X_test)\n",
    "\n",
    "    # 対数尤度を表示\n",
    "    print('対数尤度 = {:.3f}'.format(-log_loss(y_test, y_pred)))\n",
    "\n",
    "    # 正答率を計算\n",
    "    accuracy =  accuracy_score(y_test, y_pred)\n",
    "    print('正答率（Accuracy） = {:.3f}%'.format(100 * accuracy))\n",
    "\n",
    "    # Precision, Recall, F1-scoreを計算\n",
    "    precision, recall, f1_score, _ = precision_recall_fscore_support(y_test, y_pred)\n",
    "\n",
    "    # Precision, Recall, F1-scoreを表示\n",
    "    print('適合率（Precision） = {:.3f}%'.format(100 * precision[1]))\n",
    "    print('再現率（Recall） = {:.3f}%'.format(100 * recall[1]))\n",
    "    print('F1値（F1-score） = {:.3f}%'.format(100 * f1_score[1]))\n",
    "\n",
    "    # 予測値と正解のクロス集計（混同行列）\n",
    "    conf_mat = confusion_matrix(y_test, y_pred)\n",
    "    conf_mat = pd.DataFrame(conf_mat, index=['正解', '正解'], columns=['予測', '予測'])\n",
    "    display(conf_mat)"
   ]
  },
  {
   "cell_type": "code",
   "execution_count": 20,
   "metadata": {},
   "outputs": [
    {
     "output_type": "stream",
     "name": "stdout",
     "text": [
      "対数尤度 = -0.341\n正答率（Accuracy） = 99.012%\n適合率（Precision） = 97.794%\n再現率（Recall） = 99.447%\nF1値（F1-score） = 98.613%\n"
     ]
    },
    {
     "output_type": "display_data",
     "data": {
      "text/plain": "       予測     予測\n正解  48388    600\n正解    148  26597",
      "text/html": "<div>\n<style scoped>\n    .dataframe tbody tr th:only-of-type {\n        vertical-align: middle;\n    }\n\n    .dataframe tbody tr th {\n        vertical-align: top;\n    }\n\n    .dataframe thead th {\n        text-align: right;\n    }\n</style>\n<table border=\"1\" class=\"dataframe\">\n  <thead>\n    <tr style=\"text-align: right;\">\n      <th></th>\n      <th>予測</th>\n      <th>予測</th>\n    </tr>\n  </thead>\n  <tbody>\n    <tr>\n      <th>正解</th>\n      <td>48388</td>\n      <td>600</td>\n    </tr>\n    <tr>\n      <th>正解</th>\n      <td>148</td>\n      <td>26597</td>\n    </tr>\n  </tbody>\n</table>\n</div>"
     },
     "metadata": {}
    }
   ],
   "source": [
    "evaluate_model(log_regr, X_test, y_test)"
   ]
  },
  {
   "cell_type": "code",
   "execution_count": 21,
   "metadata": {},
   "outputs": [
    {
     "output_type": "stream",
     "name": "stdout",
     "text": [
      "対数尤度 = -0.225\n正答率（Accuracy） = 99.348%\n適合率（Precision） = 98.662%\n再現率（Recall） = 99.503%\nF1値（F1-score） = 99.080%\n"
     ]
    },
    {
     "output_type": "display_data",
     "data": {
      "text/plain": "       予測     予測\n正解  48627    361\n正解    133  26612",
      "text/html": "<div>\n<style scoped>\n    .dataframe tbody tr th:only-of-type {\n        vertical-align: middle;\n    }\n\n    .dataframe tbody tr th {\n        vertical-align: top;\n    }\n\n    .dataframe thead th {\n        text-align: right;\n    }\n</style>\n<table border=\"1\" class=\"dataframe\">\n  <thead>\n    <tr style=\"text-align: right;\">\n      <th></th>\n      <th>予測</th>\n      <th>予測</th>\n    </tr>\n  </thead>\n  <tbody>\n    <tr>\n      <th>正解</th>\n      <td>48627</td>\n      <td>361</td>\n    </tr>\n    <tr>\n      <th>正解</th>\n      <td>133</td>\n      <td>26612</td>\n    </tr>\n  </tbody>\n</table>\n</div>"
     },
     "metadata": {}
    }
   ],
   "source": [
    "evaluate_model(adaboost, X_test, y_test)"
   ]
  }
 ]
}