{
 "metadata": {
  "language_info": {
   "codemirror_mode": {
    "name": "ipython",
    "version": 3
   },
   "file_extension": ".py",
   "mimetype": "text/x-python",
   "name": "python",
   "nbconvert_exporter": "python",
   "pygments_lexer": "ipython3",
   "version": "3.7.9-final"
  },
  "orig_nbformat": 2,
  "kernelspec": {
   "name": "python3",
   "display_name": "Python 3.7.9 64-bit ('suai': conda)",
   "metadata": {
    "interpreter": {
     "hash": "4dc3b3aa06714fbd0824c14c5973976af74c501bf341931c3996a815bd0e0e15"
    }
   }
  }
 },
 "nbformat": 4,
 "nbformat_minor": 2,
 "cells": [
  {
   "source": [
    "## 通し課題➀ クラス分類"
   ],
   "cell_type": "markdown",
   "metadata": {}
  },
  {
   "cell_type": "code",
   "execution_count": 18,
   "metadata": {},
   "outputs": [],
   "source": [
    "import numpy as np\n",
    "import pandas as pd\n",
    "import matplotlib.pyplot as plt\n",
    "import seaborn as sns"
   ]
  },
  {
   "source": [
    "### 1. データの読み込みとデータ表示"
   ],
   "cell_type": "markdown",
   "metadata": {}
  },
  {
   "cell_type": "code",
   "execution_count": 19,
   "metadata": {},
   "outputs": [],
   "source": [
    "df = pd.read_csv('input/ks-projects-201801.csv')"
   ]
  },
  {
   "cell_type": "code",
   "execution_count": 20,
   "metadata": {},
   "outputs": [
    {
     "output_type": "display_data",
     "data": {
      "text/plain": "           ID                                               name  \\\n0  1000002330                    The Songs of Adelaide & Abullah   \n1  1000003930      Greeting From Earth: ZGAC Arts Capsule For ET   \n2  1000004038                                     Where is Hank?   \n3  1000007540  ToshiCapital Rekordz Needs Help to Complete Album   \n4  1000011046  Community Film Project: The Art of Neighborhoo...   \n\n         category main_category currency    deadline     goal  \\\n0          Poetry    Publishing      GBP  2015-10-09   1000.0   \n1  Narrative Film  Film & Video      USD  2017-11-01  30000.0   \n2  Narrative Film  Film & Video      USD  2013-02-26  45000.0   \n3           Music         Music      USD  2012-04-16   5000.0   \n4    Film & Video  Film & Video      USD  2015-08-29  19500.0   \n\n              launched  pledged     state  backers country  usd pledged  \\\n0  2015-08-11 12:12:28      0.0    failed        0      GB          0.0   \n1  2017-09-02 04:43:57   2421.0    failed       15      US        100.0   \n2  2013-01-12 00:20:50    220.0    failed        3      US        220.0   \n3  2012-03-17 03:24:11      1.0    failed        1      US          1.0   \n4  2015-07-04 08:35:03   1283.0  canceled       14      US       1283.0   \n\n   usd_pledged_real  usd_goal_real  \n0               0.0        1533.95  \n1            2421.0       30000.00  \n2             220.0       45000.00  \n3               1.0        5000.00  \n4            1283.0       19500.00  ",
      "text/html": "<div>\n<style scoped>\n    .dataframe tbody tr th:only-of-type {\n        vertical-align: middle;\n    }\n\n    .dataframe tbody tr th {\n        vertical-align: top;\n    }\n\n    .dataframe thead th {\n        text-align: right;\n    }\n</style>\n<table border=\"1\" class=\"dataframe\">\n  <thead>\n    <tr style=\"text-align: right;\">\n      <th></th>\n      <th>ID</th>\n      <th>name</th>\n      <th>category</th>\n      <th>main_category</th>\n      <th>currency</th>\n      <th>deadline</th>\n      <th>goal</th>\n      <th>launched</th>\n      <th>pledged</th>\n      <th>state</th>\n      <th>backers</th>\n      <th>country</th>\n      <th>usd pledged</th>\n      <th>usd_pledged_real</th>\n      <th>usd_goal_real</th>\n    </tr>\n  </thead>\n  <tbody>\n    <tr>\n      <th>0</th>\n      <td>1000002330</td>\n      <td>The Songs of Adelaide &amp; Abullah</td>\n      <td>Poetry</td>\n      <td>Publishing</td>\n      <td>GBP</td>\n      <td>2015-10-09</td>\n      <td>1000.0</td>\n      <td>2015-08-11 12:12:28</td>\n      <td>0.0</td>\n      <td>failed</td>\n      <td>0</td>\n      <td>GB</td>\n      <td>0.0</td>\n      <td>0.0</td>\n      <td>1533.95</td>\n    </tr>\n    <tr>\n      <th>1</th>\n      <td>1000003930</td>\n      <td>Greeting From Earth: ZGAC Arts Capsule For ET</td>\n      <td>Narrative Film</td>\n      <td>Film &amp; Video</td>\n      <td>USD</td>\n      <td>2017-11-01</td>\n      <td>30000.0</td>\n      <td>2017-09-02 04:43:57</td>\n      <td>2421.0</td>\n      <td>failed</td>\n      <td>15</td>\n      <td>US</td>\n      <td>100.0</td>\n      <td>2421.0</td>\n      <td>30000.00</td>\n    </tr>\n    <tr>\n      <th>2</th>\n      <td>1000004038</td>\n      <td>Where is Hank?</td>\n      <td>Narrative Film</td>\n      <td>Film &amp; Video</td>\n      <td>USD</td>\n      <td>2013-02-26</td>\n      <td>45000.0</td>\n      <td>2013-01-12 00:20:50</td>\n      <td>220.0</td>\n      <td>failed</td>\n      <td>3</td>\n      <td>US</td>\n      <td>220.0</td>\n      <td>220.0</td>\n      <td>45000.00</td>\n    </tr>\n    <tr>\n      <th>3</th>\n      <td>1000007540</td>\n      <td>ToshiCapital Rekordz Needs Help to Complete Album</td>\n      <td>Music</td>\n      <td>Music</td>\n      <td>USD</td>\n      <td>2012-04-16</td>\n      <td>5000.0</td>\n      <td>2012-03-17 03:24:11</td>\n      <td>1.0</td>\n      <td>failed</td>\n      <td>1</td>\n      <td>US</td>\n      <td>1.0</td>\n      <td>1.0</td>\n      <td>5000.00</td>\n    </tr>\n    <tr>\n      <th>4</th>\n      <td>1000011046</td>\n      <td>Community Film Project: The Art of Neighborhoo...</td>\n      <td>Film &amp; Video</td>\n      <td>Film &amp; Video</td>\n      <td>USD</td>\n      <td>2015-08-29</td>\n      <td>19500.0</td>\n      <td>2015-07-04 08:35:03</td>\n      <td>1283.0</td>\n      <td>canceled</td>\n      <td>14</td>\n      <td>US</td>\n      <td>1283.0</td>\n      <td>1283.0</td>\n      <td>19500.00</td>\n    </tr>\n  </tbody>\n</table>\n</div>"
     },
     "metadata": {}
    }
   ],
   "source": [
    "display(df.head(5))"
   ]
  },
  {
   "cell_type": "code",
   "execution_count": 21,
   "metadata": {},
   "outputs": [
    {
     "output_type": "display_data",
     "data": {
      "text/plain": "                 ID          goal       pledged        backers   usd pledged  \\\ncount  3.786610e+05  3.786610e+05  3.786610e+05  378661.000000  3.748640e+05   \nmean   1.074731e+09  4.908079e+04  9.682979e+03     105.617476  7.036729e+03   \nstd    6.190862e+08  1.183391e+06  9.563601e+04     907.185035  7.863975e+04   \nmin    5.971000e+03  1.000000e-02  0.000000e+00       0.000000  0.000000e+00   \n25%    5.382635e+08  2.000000e+03  3.000000e+01       2.000000  1.698000e+01   \n50%    1.075276e+09  5.200000e+03  6.200000e+02      12.000000  3.947200e+02   \n75%    1.610149e+09  1.600000e+04  4.076000e+03      56.000000  3.034090e+03   \nmax    2.147476e+09  1.000000e+08  2.033899e+07  219382.000000  2.033899e+07   \n\n       usd_pledged_real  usd_goal_real  \ncount      3.786610e+05   3.786610e+05  \nmean       9.058924e+03   4.545440e+04  \nstd        9.097334e+04   1.152950e+06  \nmin        0.000000e+00   1.000000e-02  \n25%        3.100000e+01   2.000000e+03  \n50%        6.243300e+02   5.500000e+03  \n75%        4.050000e+03   1.550000e+04  \nmax        2.033899e+07   1.663614e+08  ",
      "text/html": "<div>\n<style scoped>\n    .dataframe tbody tr th:only-of-type {\n        vertical-align: middle;\n    }\n\n    .dataframe tbody tr th {\n        vertical-align: top;\n    }\n\n    .dataframe thead th {\n        text-align: right;\n    }\n</style>\n<table border=\"1\" class=\"dataframe\">\n  <thead>\n    <tr style=\"text-align: right;\">\n      <th></th>\n      <th>ID</th>\n      <th>goal</th>\n      <th>pledged</th>\n      <th>backers</th>\n      <th>usd pledged</th>\n      <th>usd_pledged_real</th>\n      <th>usd_goal_real</th>\n    </tr>\n  </thead>\n  <tbody>\n    <tr>\n      <th>count</th>\n      <td>3.786610e+05</td>\n      <td>3.786610e+05</td>\n      <td>3.786610e+05</td>\n      <td>378661.000000</td>\n      <td>3.748640e+05</td>\n      <td>3.786610e+05</td>\n      <td>3.786610e+05</td>\n    </tr>\n    <tr>\n      <th>mean</th>\n      <td>1.074731e+09</td>\n      <td>4.908079e+04</td>\n      <td>9.682979e+03</td>\n      <td>105.617476</td>\n      <td>7.036729e+03</td>\n      <td>9.058924e+03</td>\n      <td>4.545440e+04</td>\n    </tr>\n    <tr>\n      <th>std</th>\n      <td>6.190862e+08</td>\n      <td>1.183391e+06</td>\n      <td>9.563601e+04</td>\n      <td>907.185035</td>\n      <td>7.863975e+04</td>\n      <td>9.097334e+04</td>\n      <td>1.152950e+06</td>\n    </tr>\n    <tr>\n      <th>min</th>\n      <td>5.971000e+03</td>\n      <td>1.000000e-02</td>\n      <td>0.000000e+00</td>\n      <td>0.000000</td>\n      <td>0.000000e+00</td>\n      <td>0.000000e+00</td>\n      <td>1.000000e-02</td>\n    </tr>\n    <tr>\n      <th>25%</th>\n      <td>5.382635e+08</td>\n      <td>2.000000e+03</td>\n      <td>3.000000e+01</td>\n      <td>2.000000</td>\n      <td>1.698000e+01</td>\n      <td>3.100000e+01</td>\n      <td>2.000000e+03</td>\n    </tr>\n    <tr>\n      <th>50%</th>\n      <td>1.075276e+09</td>\n      <td>5.200000e+03</td>\n      <td>6.200000e+02</td>\n      <td>12.000000</td>\n      <td>3.947200e+02</td>\n      <td>6.243300e+02</td>\n      <td>5.500000e+03</td>\n    </tr>\n    <tr>\n      <th>75%</th>\n      <td>1.610149e+09</td>\n      <td>1.600000e+04</td>\n      <td>4.076000e+03</td>\n      <td>56.000000</td>\n      <td>3.034090e+03</td>\n      <td>4.050000e+03</td>\n      <td>1.550000e+04</td>\n    </tr>\n    <tr>\n      <th>max</th>\n      <td>2.147476e+09</td>\n      <td>1.000000e+08</td>\n      <td>2.033899e+07</td>\n      <td>219382.000000</td>\n      <td>2.033899e+07</td>\n      <td>2.033899e+07</td>\n      <td>1.663614e+08</td>\n    </tr>\n  </tbody>\n</table>\n</div>"
     },
     "metadata": {}
    },
    {
     "output_type": "stream",
     "name": "stdout",
     "text": [
      "<class 'pandas.core.frame.DataFrame'>\nRangeIndex: 378661 entries, 0 to 378660\nData columns (total 15 columns):\nID                  378661 non-null int64\nname                378657 non-null object\ncategory            378661 non-null object\nmain_category       378661 non-null object\ncurrency            378661 non-null object\ndeadline            378661 non-null object\ngoal                378661 non-null float64\nlaunched            378661 non-null object\npledged             378661 non-null float64\nstate               378661 non-null object\nbackers             378661 non-null int64\ncountry             378661 non-null object\nusd pledged         374864 non-null float64\nusd_pledged_real    378661 non-null float64\nusd_goal_real       378661 non-null float64\ndtypes: float64(5), int64(2), object(8)\nmemory usage: 43.3+ MB\nNone\nID                     0\nname                   4\ncategory               0\nmain_category          0\ncurrency               0\ndeadline               0\ngoal                   0\nlaunched               0\npledged                0\nstate                  0\nbackers                0\ncountry                0\nusd pledged         3797\nusd_pledged_real       0\nusd_goal_real          0\ndtype: int64\n"
     ]
    }
   ],
   "source": [
    "display(df.describe())\n",
    "print(df.info())\n",
    "print(df.isnull().sum())"
   ]
  },
  {
   "cell_type": "code",
   "execution_count": 22,
   "metadata": {},
   "outputs": [
    {
     "output_type": "execute_result",
     "data": {
      "text/plain": [
       "           ID                                               name  \\\n",
       "0  1000002330                    The Songs of Adelaide & Abullah   \n",
       "1  1000003930      Greeting From Earth: ZGAC Arts Capsule For ET   \n",
       "2  1000004038                                     Where is Hank?   \n",
       "3  1000007540  ToshiCapital Rekordz Needs Help to Complete Album   \n",
       "4  1000011046  Community Film Project: The Art of Neighborhoo...   \n",
       "5  1000014025                               Monarch Espresso Bar   \n",
       "6  1000023410  Support Solar Roasted Coffee & Green Energy!  ...   \n",
       "7  1000030581  Chaser Strips. Our Strips make Shots their B*tch!   \n",
       "\n",
       "         category main_category currency   deadline     goal  \\\n",
       "0          Poetry    Publishing      GBP 2015-10-09   1000.0   \n",
       "1  Narrative Film  Film & Video      USD 2017-11-01  30000.0   \n",
       "2  Narrative Film  Film & Video      USD 2013-02-26  45000.0   \n",
       "3           Music         Music      USD 2012-04-16   5000.0   \n",
       "4    Film & Video  Film & Video      USD 2015-08-29  19500.0   \n",
       "5     Restaurants          Food      USD 2016-04-01  50000.0   \n",
       "6            Food          Food      USD 2014-12-21   1000.0   \n",
       "7          Drinks          Food      USD 2016-03-17  25000.0   \n",
       "\n",
       "             launched  pledged  state  backers country  usd pledged  \\\n",
       "0 2015-08-11 12:12:28      0.0  False        0      GB          0.0   \n",
       "1 2017-09-02 04:43:57   2421.0  False       15      US        100.0   \n",
       "2 2013-01-12 00:20:50    220.0  False        3      US        220.0   \n",
       "3 2012-03-17 03:24:11      1.0  False        1      US          1.0   \n",
       "4 2015-07-04 08:35:03   1283.0  False       14      US       1283.0   \n",
       "5 2016-02-26 13:38:27  52375.0   True      224      US      52375.0   \n",
       "6 2014-12-01 18:30:44   1205.0   True       16      US       1205.0   \n",
       "7 2016-02-01 20:05:12    453.0  False       40      US        453.0   \n",
       "\n",
       "   usd_pledged_real  usd_goal_real  duration  \n",
       "0               0.0        1533.95        58  \n",
       "1            2421.0       30000.00        59  \n",
       "2             220.0       45000.00        44  \n",
       "3               1.0        5000.00        29  \n",
       "4            1283.0       19500.00        55  \n",
       "5           52375.0       50000.00        34  \n",
       "6            1205.0        1000.00        19  \n",
       "7             453.0       25000.00        44  "
      ],
      "text/html": "<div>\n<style scoped>\n    .dataframe tbody tr th:only-of-type {\n        vertical-align: middle;\n    }\n\n    .dataframe tbody tr th {\n        vertical-align: top;\n    }\n\n    .dataframe thead th {\n        text-align: right;\n    }\n</style>\n<table border=\"1\" class=\"dataframe\">\n  <thead>\n    <tr style=\"text-align: right;\">\n      <th></th>\n      <th>ID</th>\n      <th>name</th>\n      <th>category</th>\n      <th>main_category</th>\n      <th>currency</th>\n      <th>deadline</th>\n      <th>goal</th>\n      <th>launched</th>\n      <th>pledged</th>\n      <th>state</th>\n      <th>backers</th>\n      <th>country</th>\n      <th>usd pledged</th>\n      <th>usd_pledged_real</th>\n      <th>usd_goal_real</th>\n      <th>duration</th>\n    </tr>\n  </thead>\n  <tbody>\n    <tr>\n      <th>0</th>\n      <td>1000002330</td>\n      <td>The Songs of Adelaide &amp; Abullah</td>\n      <td>Poetry</td>\n      <td>Publishing</td>\n      <td>GBP</td>\n      <td>2015-10-09</td>\n      <td>1000.0</td>\n      <td>2015-08-11 12:12:28</td>\n      <td>0.0</td>\n      <td>False</td>\n      <td>0</td>\n      <td>GB</td>\n      <td>0.0</td>\n      <td>0.0</td>\n      <td>1533.95</td>\n      <td>58</td>\n    </tr>\n    <tr>\n      <th>1</th>\n      <td>1000003930</td>\n      <td>Greeting From Earth: ZGAC Arts Capsule For ET</td>\n      <td>Narrative Film</td>\n      <td>Film &amp; Video</td>\n      <td>USD</td>\n      <td>2017-11-01</td>\n      <td>30000.0</td>\n      <td>2017-09-02 04:43:57</td>\n      <td>2421.0</td>\n      <td>False</td>\n      <td>15</td>\n      <td>US</td>\n      <td>100.0</td>\n      <td>2421.0</td>\n      <td>30000.00</td>\n      <td>59</td>\n    </tr>\n    <tr>\n      <th>2</th>\n      <td>1000004038</td>\n      <td>Where is Hank?</td>\n      <td>Narrative Film</td>\n      <td>Film &amp; Video</td>\n      <td>USD</td>\n      <td>2013-02-26</td>\n      <td>45000.0</td>\n      <td>2013-01-12 00:20:50</td>\n      <td>220.0</td>\n      <td>False</td>\n      <td>3</td>\n      <td>US</td>\n      <td>220.0</td>\n      <td>220.0</td>\n      <td>45000.00</td>\n      <td>44</td>\n    </tr>\n    <tr>\n      <th>3</th>\n      <td>1000007540</td>\n      <td>ToshiCapital Rekordz Needs Help to Complete Album</td>\n      <td>Music</td>\n      <td>Music</td>\n      <td>USD</td>\n      <td>2012-04-16</td>\n      <td>5000.0</td>\n      <td>2012-03-17 03:24:11</td>\n      <td>1.0</td>\n      <td>False</td>\n      <td>1</td>\n      <td>US</td>\n      <td>1.0</td>\n      <td>1.0</td>\n      <td>5000.00</td>\n      <td>29</td>\n    </tr>\n    <tr>\n      <th>4</th>\n      <td>1000011046</td>\n      <td>Community Film Project: The Art of Neighborhoo...</td>\n      <td>Film &amp; Video</td>\n      <td>Film &amp; Video</td>\n      <td>USD</td>\n      <td>2015-08-29</td>\n      <td>19500.0</td>\n      <td>2015-07-04 08:35:03</td>\n      <td>1283.0</td>\n      <td>False</td>\n      <td>14</td>\n      <td>US</td>\n      <td>1283.0</td>\n      <td>1283.0</td>\n      <td>19500.00</td>\n      <td>55</td>\n    </tr>\n    <tr>\n      <th>5</th>\n      <td>1000014025</td>\n      <td>Monarch Espresso Bar</td>\n      <td>Restaurants</td>\n      <td>Food</td>\n      <td>USD</td>\n      <td>2016-04-01</td>\n      <td>50000.0</td>\n      <td>2016-02-26 13:38:27</td>\n      <td>52375.0</td>\n      <td>True</td>\n      <td>224</td>\n      <td>US</td>\n      <td>52375.0</td>\n      <td>52375.0</td>\n      <td>50000.00</td>\n      <td>34</td>\n    </tr>\n    <tr>\n      <th>6</th>\n      <td>1000023410</td>\n      <td>Support Solar Roasted Coffee &amp; Green Energy!  ...</td>\n      <td>Food</td>\n      <td>Food</td>\n      <td>USD</td>\n      <td>2014-12-21</td>\n      <td>1000.0</td>\n      <td>2014-12-01 18:30:44</td>\n      <td>1205.0</td>\n      <td>True</td>\n      <td>16</td>\n      <td>US</td>\n      <td>1205.0</td>\n      <td>1205.0</td>\n      <td>1000.00</td>\n      <td>19</td>\n    </tr>\n    <tr>\n      <th>7</th>\n      <td>1000030581</td>\n      <td>Chaser Strips. Our Strips make Shots their B*tch!</td>\n      <td>Drinks</td>\n      <td>Food</td>\n      <td>USD</td>\n      <td>2016-03-17</td>\n      <td>25000.0</td>\n      <td>2016-02-01 20:05:12</td>\n      <td>453.0</td>\n      <td>False</td>\n      <td>40</td>\n      <td>US</td>\n      <td>453.0</td>\n      <td>453.0</td>\n      <td>25000.00</td>\n      <td>44</td>\n    </tr>\n  </tbody>\n</table>\n</div>"
     },
     "metadata": {},
     "execution_count": 22
    }
   ],
   "source": [
    "# state列のsuccessfulをTrue、それ以外をFalseに割り振る\n",
    "df['state'] = (df['state'] == 'successful')\n",
    "\n",
    "# deadlineとlaunchedから新しい特徴量durationを作成\n",
    "df['deadline'] = pd.to_datetime(df['deadline'])\n",
    "df['launched'] = pd.to_datetime(df['launched'])\n",
    "df['duration'] = (df['deadline'] - df['launched']).dt.days\n",
    "df.head(8)"
   ]
  },
  {
   "source": [
    "### 2. データの可視化 (省略)"
   ],
   "cell_type": "markdown",
   "metadata": {}
  },
  {
   "source": [
    "### 3. データの前処理"
   ],
   "cell_type": "markdown",
   "metadata": {}
  },
  {
   "cell_type": "code",
   "execution_count": 23,
   "metadata": {},
   "outputs": [],
   "source": [
    "# 不要な列の削除\n",
    "drop_columns_list = ['ID', 'name', 'goal', 'pledged', 'usd pledged', 'deadline', 'launched', 'category']\n",
    "df.drop(drop_columns_list, axis=1, inplace=True)\n",
    "\n",
    "# カテゴリ変数を数値に変換する\n",
    "from sklearn.preprocessing import LabelEncoder\n",
    "encoder = LabelEncoder()\n",
    "categorical_feature = ['main_category', 'currency', 'country']\n",
    "df[categorical_feature] = df[categorical_feature].apply(encoder.fit_transform)\n",
    "\n",
    "base_df = df"
   ]
  },
  {
   "cell_type": "code",
   "execution_count": 24,
   "metadata": {},
   "outputs": [
    {
     "output_type": "display_data",
     "data": {
      "text/plain": "   main_category  currency  state  backers  country  usd_pledged_real  \\\n0             12         5  False        0        9               0.0   \n1              6        13  False       15       22            2421.0   \n2              6        13  False        3       22             220.0   \n3             10        13  False        1       22               1.0   \n4              6        13  False       14       22            1283.0   \n5              7        13   True      224       22           52375.0   \n6              7        13   True       16       22            1205.0   \n7              7        13  False       40       22             453.0   \n\n   usd_goal_real  duration  \n0        1533.95        58  \n1       30000.00        59  \n2       45000.00        44  \n3        5000.00        29  \n4       19500.00        55  \n5       50000.00        34  \n6        1000.00        19  \n7       25000.00        44  ",
      "text/html": "<div>\n<style scoped>\n    .dataframe tbody tr th:only-of-type {\n        vertical-align: middle;\n    }\n\n    .dataframe tbody tr th {\n        vertical-align: top;\n    }\n\n    .dataframe thead th {\n        text-align: right;\n    }\n</style>\n<table border=\"1\" class=\"dataframe\">\n  <thead>\n    <tr style=\"text-align: right;\">\n      <th></th>\n      <th>main_category</th>\n      <th>currency</th>\n      <th>state</th>\n      <th>backers</th>\n      <th>country</th>\n      <th>usd_pledged_real</th>\n      <th>usd_goal_real</th>\n      <th>duration</th>\n    </tr>\n  </thead>\n  <tbody>\n    <tr>\n      <th>0</th>\n      <td>12</td>\n      <td>5</td>\n      <td>False</td>\n      <td>0</td>\n      <td>9</td>\n      <td>0.0</td>\n      <td>1533.95</td>\n      <td>58</td>\n    </tr>\n    <tr>\n      <th>1</th>\n      <td>6</td>\n      <td>13</td>\n      <td>False</td>\n      <td>15</td>\n      <td>22</td>\n      <td>2421.0</td>\n      <td>30000.00</td>\n      <td>59</td>\n    </tr>\n    <tr>\n      <th>2</th>\n      <td>6</td>\n      <td>13</td>\n      <td>False</td>\n      <td>3</td>\n      <td>22</td>\n      <td>220.0</td>\n      <td>45000.00</td>\n      <td>44</td>\n    </tr>\n    <tr>\n      <th>3</th>\n      <td>10</td>\n      <td>13</td>\n      <td>False</td>\n      <td>1</td>\n      <td>22</td>\n      <td>1.0</td>\n      <td>5000.00</td>\n      <td>29</td>\n    </tr>\n    <tr>\n      <th>4</th>\n      <td>6</td>\n      <td>13</td>\n      <td>False</td>\n      <td>14</td>\n      <td>22</td>\n      <td>1283.0</td>\n      <td>19500.00</td>\n      <td>55</td>\n    </tr>\n    <tr>\n      <th>5</th>\n      <td>7</td>\n      <td>13</td>\n      <td>True</td>\n      <td>224</td>\n      <td>22</td>\n      <td>52375.0</td>\n      <td>50000.00</td>\n      <td>34</td>\n    </tr>\n    <tr>\n      <th>6</th>\n      <td>7</td>\n      <td>13</td>\n      <td>True</td>\n      <td>16</td>\n      <td>22</td>\n      <td>1205.0</td>\n      <td>1000.00</td>\n      <td>19</td>\n    </tr>\n    <tr>\n      <th>7</th>\n      <td>7</td>\n      <td>13</td>\n      <td>False</td>\n      <td>40</td>\n      <td>22</td>\n      <td>453.0</td>\n      <td>25000.00</td>\n      <td>44</td>\n    </tr>\n  </tbody>\n</table>\n</div>"
     },
     "metadata": {}
    },
    {
     "output_type": "display_data",
     "data": {
      "text/plain": "       main_category       currency        backers        country  \\\ncount  378661.000000  378661.000000  378661.000000  378661.000000   \nmean        7.513010      11.000578     105.617476      18.850764   \nstd         3.904719       3.944783     907.185035       6.270406   \nmin         0.000000       0.000000       0.000000       0.000000   \n25%         5.000000      13.000000       2.000000      22.000000   \n50%         7.000000      13.000000      12.000000      22.000000   \n75%        10.000000      13.000000      56.000000      22.000000   \nmax        14.000000      13.000000  219382.000000      22.000000   \n\n       usd_pledged_real  usd_goal_real       duration  \ncount      3.786610e+05   3.786610e+05  378661.000000  \nmean       9.058924e+03   4.545440e+04      33.481122  \nstd        9.097334e+04   1.152950e+06      65.909172  \nmin        0.000000e+00   1.000000e-02       0.000000  \n25%        3.100000e+01   2.000000e+03      29.000000  \n50%        6.243300e+02   5.500000e+03      29.000000  \n75%        4.050000e+03   1.550000e+04      36.000000  \nmax        2.033899e+07   1.663614e+08   16738.000000  ",
      "text/html": "<div>\n<style scoped>\n    .dataframe tbody tr th:only-of-type {\n        vertical-align: middle;\n    }\n\n    .dataframe tbody tr th {\n        vertical-align: top;\n    }\n\n    .dataframe thead th {\n        text-align: right;\n    }\n</style>\n<table border=\"1\" class=\"dataframe\">\n  <thead>\n    <tr style=\"text-align: right;\">\n      <th></th>\n      <th>main_category</th>\n      <th>currency</th>\n      <th>backers</th>\n      <th>country</th>\n      <th>usd_pledged_real</th>\n      <th>usd_goal_real</th>\n      <th>duration</th>\n    </tr>\n  </thead>\n  <tbody>\n    <tr>\n      <th>count</th>\n      <td>378661.000000</td>\n      <td>378661.000000</td>\n      <td>378661.000000</td>\n      <td>378661.000000</td>\n      <td>3.786610e+05</td>\n      <td>3.786610e+05</td>\n      <td>378661.000000</td>\n    </tr>\n    <tr>\n      <th>mean</th>\n      <td>7.513010</td>\n      <td>11.000578</td>\n      <td>105.617476</td>\n      <td>18.850764</td>\n      <td>9.058924e+03</td>\n      <td>4.545440e+04</td>\n      <td>33.481122</td>\n    </tr>\n    <tr>\n      <th>std</th>\n      <td>3.904719</td>\n      <td>3.944783</td>\n      <td>907.185035</td>\n      <td>6.270406</td>\n      <td>9.097334e+04</td>\n      <td>1.152950e+06</td>\n      <td>65.909172</td>\n    </tr>\n    <tr>\n      <th>min</th>\n      <td>0.000000</td>\n      <td>0.000000</td>\n      <td>0.000000</td>\n      <td>0.000000</td>\n      <td>0.000000e+00</td>\n      <td>1.000000e-02</td>\n      <td>0.000000</td>\n    </tr>\n    <tr>\n      <th>25%</th>\n      <td>5.000000</td>\n      <td>13.000000</td>\n      <td>2.000000</td>\n      <td>22.000000</td>\n      <td>3.100000e+01</td>\n      <td>2.000000e+03</td>\n      <td>29.000000</td>\n    </tr>\n    <tr>\n      <th>50%</th>\n      <td>7.000000</td>\n      <td>13.000000</td>\n      <td>12.000000</td>\n      <td>22.000000</td>\n      <td>6.243300e+02</td>\n      <td>5.500000e+03</td>\n      <td>29.000000</td>\n    </tr>\n    <tr>\n      <th>75%</th>\n      <td>10.000000</td>\n      <td>13.000000</td>\n      <td>56.000000</td>\n      <td>22.000000</td>\n      <td>4.050000e+03</td>\n      <td>1.550000e+04</td>\n      <td>36.000000</td>\n    </tr>\n    <tr>\n      <th>max</th>\n      <td>14.000000</td>\n      <td>13.000000</td>\n      <td>219382.000000</td>\n      <td>22.000000</td>\n      <td>2.033899e+07</td>\n      <td>1.663614e+08</td>\n      <td>16738.000000</td>\n    </tr>\n  </tbody>\n</table>\n</div>"
     },
     "metadata": {}
    },
    {
     "output_type": "stream",
     "name": "stdout",
     "text": [
      "<class 'pandas.core.frame.DataFrame'>\nRangeIndex: 378661 entries, 0 to 378660\nData columns (total 8 columns):\nmain_category       378661 non-null int32\ncurrency            378661 non-null int32\nstate               378661 non-null bool\nbackers             378661 non-null int64\ncountry             378661 non-null int32\nusd_pledged_real    378661 non-null float64\nusd_goal_real       378661 non-null float64\nduration            378661 non-null int64\ndtypes: bool(1), float64(2), int32(3), int64(2)\nmemory usage: 16.3 MB\n"
     ]
    }
   ],
   "source": [
    "display(base_df.head(8))\n",
    "display(base_df.describe())\n",
    "base_df.info()"
   ]
  },
  {
   "source": [
    "L1正則化による特徴選択（埋め込み法）"
   ],
   "cell_type": "markdown",
   "metadata": {}
  },
  {
   "cell_type": "code",
   "execution_count": 25,
   "metadata": {},
   "outputs": [],
   "source": [
    "from sklearn.linear_model import LassoCV\n",
    "from sklearn.feature_selection import SelectFromModel"
   ]
  },
  {
   "cell_type": "code",
   "execution_count": 26,
   "metadata": {},
   "outputs": [
    {
     "output_type": "execute_result",
     "data": {
      "text/plain": [
       "SelectFromModel(estimator=LassoCV(alphas=None, copy_X=True, cv=5, eps=0.001, fit_intercept=True,\n",
       "    max_iter=1000, n_alphas=100, n_jobs=None, normalize=True,\n",
       "    positive=False, precompute='auto', random_state=None,\n",
       "    selection='cyclic', tol=0.0001, verbose=False),\n",
       "        max_features=None, norm_order=1, prefit=False, threshold=1e-05)"
      ]
     },
     "metadata": {},
     "execution_count": 26
    }
   ],
   "source": [
    "estimator = LassoCV(normalize=True, cv=5)\n",
    "sfm = SelectFromModel(estimator, threshold=1e-5)\n",
    "\n",
    "X_columns = base_df.drop('state', axis=1).columns\n",
    "\n",
    "X = base_df.drop('state', axis=1).values\n",
    "y = base_df['state'].values\n",
    "\n",
    "# fitで特徴選択を実行\n",
    "sfm.fit(X, y)"
   ]
  },
  {
   "cell_type": "code",
   "execution_count": 27,
   "metadata": {},
   "outputs": [
    {
     "output_type": "execute_result",
     "data": {
      "text/plain": [
       "Index(['country', 'usd_pledged_real', 'usd_goal_real'], dtype='object')"
      ]
     },
     "metadata": {},
     "execution_count": 27
    }
   ],
   "source": [
    "# 削除すべき特徴の名前を取得 \n",
    "removed_idx  = ~sfm.get_support()\n",
    "X_columns[removed_idx]"
   ]
  },
  {
   "cell_type": "code",
   "execution_count": 28,
   "metadata": {},
   "outputs": [
    {
     "output_type": "display_data",
     "data": {
      "text/plain": "<Figure size 432x288 with 1 Axes>",
      "image/svg+xml": "<?xml version=\"1.0\" encoding=\"utf-8\" standalone=\"no\"?>\r\n<!DOCTYPE svg PUBLIC \"-//W3C//DTD SVG 1.1//EN\"\r\n  \"http://www.w3.org/Graphics/SVG/1.1/DTD/svg11.dtd\">\r\n<!-- Created with matplotlib (https://matplotlib.org/) -->\r\n<svg height=\"252.018125pt\" version=\"1.1\" viewBox=\"0 0 447.240625 252.018125\" width=\"447.240625pt\" xmlns=\"http://www.w3.org/2000/svg\" xmlns:xlink=\"http://www.w3.org/1999/xlink\">\r\n <defs>\r\n  <style type=\"text/css\">\r\n*{stroke-linecap:butt;stroke-linejoin:round;}\r\n  </style>\r\n </defs>\r\n <g id=\"figure_1\">\r\n  <g id=\"patch_1\">\r\n   <path d=\"M 0 252.018125 \r\nL 447.240625 252.018125 \r\nL 447.240625 0 \r\nL 0 0 \r\nz\r\n\" style=\"fill:none;\"/>\r\n  </g>\r\n  <g id=\"axes_1\">\r\n   <g id=\"patch_2\">\r\n    <path d=\"M 101.740625 228.14 \r\nL 436.540625 228.14 \r\nL 436.540625 10.7 \r\nL 101.740625 10.7 \r\nz\r\n\" style=\"fill:#ffffff;\"/>\r\n   </g>\r\n   <g id=\"patch_3\">\r\n    <path clip-path=\"url(#p71c6c594c6)\" d=\"M 101.740625 218.256364 \r\nL 260.0139 218.256364 \r\nL 260.0139 195.000749 \r\nL 101.740625 195.000749 \r\nz\r\n\" style=\"fill:#1f77b4;\"/>\r\n   </g>\r\n   <g id=\"patch_4\">\r\n    <path clip-path=\"url(#p71c6c594c6)\" d=\"M 101.740625 189.186845 \r\nL 420.597768 189.186845 \r\nL 420.597768 165.93123 \r\nL 101.740625 165.93123 \r\nz\r\n\" style=\"fill:#1f77b4;\"/>\r\n   </g>\r\n   <g id=\"patch_5\">\r\n    <path clip-path=\"url(#p71c6c594c6)\" d=\"M 101.740625 160.117326 \r\nL 104.0416 160.117326 \r\nL 104.0416 136.861711 \r\nL 101.740625 136.861711 \r\nz\r\n\" style=\"fill:#1f77b4;\"/>\r\n   </g>\r\n   <g id=\"patch_6\">\r\n    <path clip-path=\"url(#p71c6c594c6)\" d=\"M 101.740625 131.047807 \r\nL 101.740625 131.047807 \r\nL 101.740625 107.792193 \r\nL 101.740625 107.792193 \r\nz\r\n\" style=\"fill:#1f77b4;\"/>\r\n   </g>\r\n   <g id=\"patch_7\">\r\n    <path clip-path=\"url(#p71c6c594c6)\" d=\"M 101.740625 101.978289 \r\nL 101.747243 101.978289 \r\nL 101.747243 78.722674 \r\nL 101.740625 78.722674 \r\nz\r\n\" style=\"fill:#1f77b4;\"/>\r\n   </g>\r\n   <g id=\"patch_8\">\r\n    <path clip-path=\"url(#p71c6c594c6)\" d=\"M 101.740625 72.90877 \r\nL 101.740975 72.90877 \r\nL 101.740975 49.653155 \r\nL 101.740625 49.653155 \r\nz\r\n\" style=\"fill:#1f77b4;\"/>\r\n   </g>\r\n   <g id=\"patch_9\">\r\n    <path clip-path=\"url(#p71c6c594c6)\" d=\"M 101.740625 43.839251 \r\nL 108.725654 43.839251 \r\nL 108.725654 20.583636 \r\nL 101.740625 20.583636 \r\nz\r\n\" style=\"fill:#1f77b4;\"/>\r\n   </g>\r\n   <g id=\"matplotlib.axis_1\">\r\n    <g id=\"xtick_1\">\r\n     <g id=\"line2d_1\">\r\n      <defs>\r\n       <path d=\"M 0 0 \r\nL 0 3.5 \r\n\" id=\"mf0a0951262\" style=\"stroke:#000000;stroke-width:0.8;\"/>\r\n      </defs>\r\n      <g>\r\n       <use style=\"stroke:#000000;stroke-width:0.8;\" x=\"101.740625\" xlink:href=\"#mf0a0951262\" y=\"228.14\"/>\r\n      </g>\r\n     </g>\r\n     <g id=\"text_1\">\r\n      <!-- 0.000 -->\r\n      <defs>\r\n       <path d=\"M 31.78125 66.40625 \r\nQ 24.171875 66.40625 20.328125 58.90625 \r\nQ 16.5 51.421875 16.5 36.375 \r\nQ 16.5 21.390625 20.328125 13.890625 \r\nQ 24.171875 6.390625 31.78125 6.390625 \r\nQ 39.453125 6.390625 43.28125 13.890625 \r\nQ 47.125 21.390625 47.125 36.375 \r\nQ 47.125 51.421875 43.28125 58.90625 \r\nQ 39.453125 66.40625 31.78125 66.40625 \r\nz\r\nM 31.78125 74.21875 \r\nQ 44.046875 74.21875 50.515625 64.515625 \r\nQ 56.984375 54.828125 56.984375 36.375 \r\nQ 56.984375 17.96875 50.515625 8.265625 \r\nQ 44.046875 -1.421875 31.78125 -1.421875 \r\nQ 19.53125 -1.421875 13.0625 8.265625 \r\nQ 6.59375 17.96875 6.59375 36.375 \r\nQ 6.59375 54.828125 13.0625 64.515625 \r\nQ 19.53125 74.21875 31.78125 74.21875 \r\nz\r\n\" id=\"DejaVuSans-48\"/>\r\n       <path d=\"M 10.6875 12.40625 \r\nL 21 12.40625 \r\nL 21 0 \r\nL 10.6875 0 \r\nz\r\n\" id=\"DejaVuSans-46\"/>\r\n      </defs>\r\n      <g transform=\"translate(87.426562 242.738437)scale(0.1 -0.1)\">\r\n       <use xlink:href=\"#DejaVuSans-48\"/>\r\n       <use x=\"63.623047\" xlink:href=\"#DejaVuSans-46\"/>\r\n       <use x=\"95.410156\" xlink:href=\"#DejaVuSans-48\"/>\r\n       <use x=\"159.033203\" xlink:href=\"#DejaVuSans-48\"/>\r\n       <use x=\"222.65625\" xlink:href=\"#DejaVuSans-48\"/>\r\n      </g>\r\n     </g>\r\n    </g>\r\n    <g id=\"xtick_2\">\r\n     <g id=\"line2d_2\">\r\n      <g>\r\n       <use style=\"stroke:#000000;stroke-width:0.8;\" x=\"144.249794\" xlink:href=\"#mf0a0951262\" y=\"228.14\"/>\r\n      </g>\r\n     </g>\r\n     <g id=\"text_2\">\r\n      <!-- 0.001 -->\r\n      <defs>\r\n       <path d=\"M 12.40625 8.296875 \r\nL 28.515625 8.296875 \r\nL 28.515625 63.921875 \r\nL 10.984375 60.40625 \r\nL 10.984375 69.390625 \r\nL 28.421875 72.90625 \r\nL 38.28125 72.90625 \r\nL 38.28125 8.296875 \r\nL 54.390625 8.296875 \r\nL 54.390625 0 \r\nL 12.40625 0 \r\nz\r\n\" id=\"DejaVuSans-49\"/>\r\n      </defs>\r\n      <g transform=\"translate(129.935732 242.738437)scale(0.1 -0.1)\">\r\n       <use xlink:href=\"#DejaVuSans-48\"/>\r\n       <use x=\"63.623047\" xlink:href=\"#DejaVuSans-46\"/>\r\n       <use x=\"95.410156\" xlink:href=\"#DejaVuSans-48\"/>\r\n       <use x=\"159.033203\" xlink:href=\"#DejaVuSans-48\"/>\r\n       <use x=\"222.65625\" xlink:href=\"#DejaVuSans-49\"/>\r\n      </g>\r\n     </g>\r\n    </g>\r\n    <g id=\"xtick_3\">\r\n     <g id=\"line2d_3\">\r\n      <g>\r\n       <use style=\"stroke:#000000;stroke-width:0.8;\" x=\"186.758964\" xlink:href=\"#mf0a0951262\" y=\"228.14\"/>\r\n      </g>\r\n     </g>\r\n     <g id=\"text_3\">\r\n      <!-- 0.002 -->\r\n      <defs>\r\n       <path d=\"M 19.1875 8.296875 \r\nL 53.609375 8.296875 \r\nL 53.609375 0 \r\nL 7.328125 0 \r\nL 7.328125 8.296875 \r\nQ 12.9375 14.109375 22.625 23.890625 \r\nQ 32.328125 33.6875 34.8125 36.53125 \r\nQ 39.546875 41.84375 41.421875 45.53125 \r\nQ 43.3125 49.21875 43.3125 52.78125 \r\nQ 43.3125 58.59375 39.234375 62.25 \r\nQ 35.15625 65.921875 28.609375 65.921875 \r\nQ 23.96875 65.921875 18.8125 64.3125 \r\nQ 13.671875 62.703125 7.8125 59.421875 \r\nL 7.8125 69.390625 \r\nQ 13.765625 71.78125 18.9375 73 \r\nQ 24.125 74.21875 28.421875 74.21875 \r\nQ 39.75 74.21875 46.484375 68.546875 \r\nQ 53.21875 62.890625 53.21875 53.421875 \r\nQ 53.21875 48.921875 51.53125 44.890625 \r\nQ 49.859375 40.875 45.40625 35.40625 \r\nQ 44.1875 33.984375 37.640625 27.21875 \r\nQ 31.109375 20.453125 19.1875 8.296875 \r\nz\r\n\" id=\"DejaVuSans-50\"/>\r\n      </defs>\r\n      <g transform=\"translate(172.444901 242.738437)scale(0.1 -0.1)\">\r\n       <use xlink:href=\"#DejaVuSans-48\"/>\r\n       <use x=\"63.623047\" xlink:href=\"#DejaVuSans-46\"/>\r\n       <use x=\"95.410156\" xlink:href=\"#DejaVuSans-48\"/>\r\n       <use x=\"159.033203\" xlink:href=\"#DejaVuSans-48\"/>\r\n       <use x=\"222.65625\" xlink:href=\"#DejaVuSans-50\"/>\r\n      </g>\r\n     </g>\r\n    </g>\r\n    <g id=\"xtick_4\">\r\n     <g id=\"line2d_4\">\r\n      <g>\r\n       <use style=\"stroke:#000000;stroke-width:0.8;\" x=\"229.268133\" xlink:href=\"#mf0a0951262\" y=\"228.14\"/>\r\n      </g>\r\n     </g>\r\n     <g id=\"text_4\">\r\n      <!-- 0.003 -->\r\n      <defs>\r\n       <path d=\"M 40.578125 39.3125 \r\nQ 47.65625 37.796875 51.625 33 \r\nQ 55.609375 28.21875 55.609375 21.1875 \r\nQ 55.609375 10.40625 48.1875 4.484375 \r\nQ 40.765625 -1.421875 27.09375 -1.421875 \r\nQ 22.515625 -1.421875 17.65625 -0.515625 \r\nQ 12.796875 0.390625 7.625 2.203125 \r\nL 7.625 11.71875 \r\nQ 11.71875 9.328125 16.59375 8.109375 \r\nQ 21.484375 6.890625 26.8125 6.890625 \r\nQ 36.078125 6.890625 40.9375 10.546875 \r\nQ 45.796875 14.203125 45.796875 21.1875 \r\nQ 45.796875 27.640625 41.28125 31.265625 \r\nQ 36.765625 34.90625 28.71875 34.90625 \r\nL 20.21875 34.90625 \r\nL 20.21875 43.015625 \r\nL 29.109375 43.015625 \r\nQ 36.375 43.015625 40.234375 45.921875 \r\nQ 44.09375 48.828125 44.09375 54.296875 \r\nQ 44.09375 59.90625 40.109375 62.90625 \r\nQ 36.140625 65.921875 28.71875 65.921875 \r\nQ 24.65625 65.921875 20.015625 65.03125 \r\nQ 15.375 64.15625 9.8125 62.3125 \r\nL 9.8125 71.09375 \r\nQ 15.4375 72.65625 20.34375 73.4375 \r\nQ 25.25 74.21875 29.59375 74.21875 \r\nQ 40.828125 74.21875 47.359375 69.109375 \r\nQ 53.90625 64.015625 53.90625 55.328125 \r\nQ 53.90625 49.265625 50.4375 45.09375 \r\nQ 46.96875 40.921875 40.578125 39.3125 \r\nz\r\n\" id=\"DejaVuSans-51\"/>\r\n      </defs>\r\n      <g transform=\"translate(214.95407 242.738437)scale(0.1 -0.1)\">\r\n       <use xlink:href=\"#DejaVuSans-48\"/>\r\n       <use x=\"63.623047\" xlink:href=\"#DejaVuSans-46\"/>\r\n       <use x=\"95.410156\" xlink:href=\"#DejaVuSans-48\"/>\r\n       <use x=\"159.033203\" xlink:href=\"#DejaVuSans-48\"/>\r\n       <use x=\"222.65625\" xlink:href=\"#DejaVuSans-51\"/>\r\n      </g>\r\n     </g>\r\n    </g>\r\n    <g id=\"xtick_5\">\r\n     <g id=\"line2d_5\">\r\n      <g>\r\n       <use style=\"stroke:#000000;stroke-width:0.8;\" x=\"271.777302\" xlink:href=\"#mf0a0951262\" y=\"228.14\"/>\r\n      </g>\r\n     </g>\r\n     <g id=\"text_5\">\r\n      <!-- 0.004 -->\r\n      <defs>\r\n       <path d=\"M 37.796875 64.3125 \r\nL 12.890625 25.390625 \r\nL 37.796875 25.390625 \r\nz\r\nM 35.203125 72.90625 \r\nL 47.609375 72.90625 \r\nL 47.609375 25.390625 \r\nL 58.015625 25.390625 \r\nL 58.015625 17.1875 \r\nL 47.609375 17.1875 \r\nL 47.609375 0 \r\nL 37.796875 0 \r\nL 37.796875 17.1875 \r\nL 4.890625 17.1875 \r\nL 4.890625 26.703125 \r\nz\r\n\" id=\"DejaVuSans-52\"/>\r\n      </defs>\r\n      <g transform=\"translate(257.46324 242.738437)scale(0.1 -0.1)\">\r\n       <use xlink:href=\"#DejaVuSans-48\"/>\r\n       <use x=\"63.623047\" xlink:href=\"#DejaVuSans-46\"/>\r\n       <use x=\"95.410156\" xlink:href=\"#DejaVuSans-48\"/>\r\n       <use x=\"159.033203\" xlink:href=\"#DejaVuSans-48\"/>\r\n       <use x=\"222.65625\" xlink:href=\"#DejaVuSans-52\"/>\r\n      </g>\r\n     </g>\r\n    </g>\r\n    <g id=\"xtick_6\">\r\n     <g id=\"line2d_6\">\r\n      <g>\r\n       <use style=\"stroke:#000000;stroke-width:0.8;\" x=\"314.286471\" xlink:href=\"#mf0a0951262\" y=\"228.14\"/>\r\n      </g>\r\n     </g>\r\n     <g id=\"text_6\">\r\n      <!-- 0.005 -->\r\n      <defs>\r\n       <path d=\"M 10.796875 72.90625 \r\nL 49.515625 72.90625 \r\nL 49.515625 64.59375 \r\nL 19.828125 64.59375 \r\nL 19.828125 46.734375 \r\nQ 21.96875 47.46875 24.109375 47.828125 \r\nQ 26.265625 48.1875 28.421875 48.1875 \r\nQ 40.625 48.1875 47.75 41.5 \r\nQ 54.890625 34.8125 54.890625 23.390625 \r\nQ 54.890625 11.625 47.5625 5.09375 \r\nQ 40.234375 -1.421875 26.90625 -1.421875 \r\nQ 22.3125 -1.421875 17.546875 -0.640625 \r\nQ 12.796875 0.140625 7.71875 1.703125 \r\nL 7.71875 11.625 \r\nQ 12.109375 9.234375 16.796875 8.0625 \r\nQ 21.484375 6.890625 26.703125 6.890625 \r\nQ 35.15625 6.890625 40.078125 11.328125 \r\nQ 45.015625 15.765625 45.015625 23.390625 \r\nQ 45.015625 31 40.078125 35.4375 \r\nQ 35.15625 39.890625 26.703125 39.890625 \r\nQ 22.75 39.890625 18.8125 39.015625 \r\nQ 14.890625 38.140625 10.796875 36.28125 \r\nz\r\n\" id=\"DejaVuSans-53\"/>\r\n      </defs>\r\n      <g transform=\"translate(299.972409 242.738437)scale(0.1 -0.1)\">\r\n       <use xlink:href=\"#DejaVuSans-48\"/>\r\n       <use x=\"63.623047\" xlink:href=\"#DejaVuSans-46\"/>\r\n       <use x=\"95.410156\" xlink:href=\"#DejaVuSans-48\"/>\r\n       <use x=\"159.033203\" xlink:href=\"#DejaVuSans-48\"/>\r\n       <use x=\"222.65625\" xlink:href=\"#DejaVuSans-53\"/>\r\n      </g>\r\n     </g>\r\n    </g>\r\n    <g id=\"xtick_7\">\r\n     <g id=\"line2d_7\">\r\n      <g>\r\n       <use style=\"stroke:#000000;stroke-width:0.8;\" x=\"356.795641\" xlink:href=\"#mf0a0951262\" y=\"228.14\"/>\r\n      </g>\r\n     </g>\r\n     <g id=\"text_7\">\r\n      <!-- 0.006 -->\r\n      <defs>\r\n       <path d=\"M 33.015625 40.375 \r\nQ 26.375 40.375 22.484375 35.828125 \r\nQ 18.609375 31.296875 18.609375 23.390625 \r\nQ 18.609375 15.53125 22.484375 10.953125 \r\nQ 26.375 6.390625 33.015625 6.390625 \r\nQ 39.65625 6.390625 43.53125 10.953125 \r\nQ 47.40625 15.53125 47.40625 23.390625 \r\nQ 47.40625 31.296875 43.53125 35.828125 \r\nQ 39.65625 40.375 33.015625 40.375 \r\nz\r\nM 52.59375 71.296875 \r\nL 52.59375 62.3125 \r\nQ 48.875 64.0625 45.09375 64.984375 \r\nQ 41.3125 65.921875 37.59375 65.921875 \r\nQ 27.828125 65.921875 22.671875 59.328125 \r\nQ 17.53125 52.734375 16.796875 39.40625 \r\nQ 19.671875 43.65625 24.015625 45.921875 \r\nQ 28.375 48.1875 33.59375 48.1875 \r\nQ 44.578125 48.1875 50.953125 41.515625 \r\nQ 57.328125 34.859375 57.328125 23.390625 \r\nQ 57.328125 12.15625 50.6875 5.359375 \r\nQ 44.046875 -1.421875 33.015625 -1.421875 \r\nQ 20.359375 -1.421875 13.671875 8.265625 \r\nQ 6.984375 17.96875 6.984375 36.375 \r\nQ 6.984375 53.65625 15.1875 63.9375 \r\nQ 23.390625 74.21875 37.203125 74.21875 \r\nQ 40.921875 74.21875 44.703125 73.484375 \r\nQ 48.484375 72.75 52.59375 71.296875 \r\nz\r\n\" id=\"DejaVuSans-54\"/>\r\n      </defs>\r\n      <g transform=\"translate(342.481578 242.738437)scale(0.1 -0.1)\">\r\n       <use xlink:href=\"#DejaVuSans-48\"/>\r\n       <use x=\"63.623047\" xlink:href=\"#DejaVuSans-46\"/>\r\n       <use x=\"95.410156\" xlink:href=\"#DejaVuSans-48\"/>\r\n       <use x=\"159.033203\" xlink:href=\"#DejaVuSans-48\"/>\r\n       <use x=\"222.65625\" xlink:href=\"#DejaVuSans-54\"/>\r\n      </g>\r\n     </g>\r\n    </g>\r\n    <g id=\"xtick_8\">\r\n     <g id=\"line2d_8\">\r\n      <g>\r\n       <use style=\"stroke:#000000;stroke-width:0.8;\" x=\"399.30481\" xlink:href=\"#mf0a0951262\" y=\"228.14\"/>\r\n      </g>\r\n     </g>\r\n     <g id=\"text_8\">\r\n      <!-- 0.007 -->\r\n      <defs>\r\n       <path d=\"M 8.203125 72.90625 \r\nL 55.078125 72.90625 \r\nL 55.078125 68.703125 \r\nL 28.609375 0 \r\nL 18.3125 0 \r\nL 43.21875 64.59375 \r\nL 8.203125 64.59375 \r\nz\r\n\" id=\"DejaVuSans-55\"/>\r\n      </defs>\r\n      <g transform=\"translate(384.990747 242.738437)scale(0.1 -0.1)\">\r\n       <use xlink:href=\"#DejaVuSans-48\"/>\r\n       <use x=\"63.623047\" xlink:href=\"#DejaVuSans-46\"/>\r\n       <use x=\"95.410156\" xlink:href=\"#DejaVuSans-48\"/>\r\n       <use x=\"159.033203\" xlink:href=\"#DejaVuSans-48\"/>\r\n       <use x=\"222.65625\" xlink:href=\"#DejaVuSans-55\"/>\r\n      </g>\r\n     </g>\r\n    </g>\r\n   </g>\r\n   <g id=\"matplotlib.axis_2\">\r\n    <g id=\"ytick_1\">\r\n     <g id=\"line2d_9\">\r\n      <defs>\r\n       <path d=\"M 0 0 \r\nL -3.5 0 \r\n\" id=\"m7908516a21\" style=\"stroke:#000000;stroke-width:0.8;\"/>\r\n      </defs>\r\n      <g>\r\n       <use style=\"stroke:#000000;stroke-width:0.8;\" x=\"101.740625\" xlink:href=\"#m7908516a21\" y=\"206.628556\"/>\r\n      </g>\r\n     </g>\r\n     <g id=\"text_9\">\r\n      <!-- main_category -->\r\n      <defs>\r\n       <path d=\"M 52 44.1875 \r\nQ 55.375 50.25 60.0625 53.125 \r\nQ 64.75 56 71.09375 56 \r\nQ 79.640625 56 84.28125 50.015625 \r\nQ 88.921875 44.046875 88.921875 33.015625 \r\nL 88.921875 0 \r\nL 79.890625 0 \r\nL 79.890625 32.71875 \r\nQ 79.890625 40.578125 77.09375 44.375 \r\nQ 74.3125 48.1875 68.609375 48.1875 \r\nQ 61.625 48.1875 57.5625 43.546875 \r\nQ 53.515625 38.921875 53.515625 30.90625 \r\nL 53.515625 0 \r\nL 44.484375 0 \r\nL 44.484375 32.71875 \r\nQ 44.484375 40.625 41.703125 44.40625 \r\nQ 38.921875 48.1875 33.109375 48.1875 \r\nQ 26.21875 48.1875 22.15625 43.53125 \r\nQ 18.109375 38.875 18.109375 30.90625 \r\nL 18.109375 0 \r\nL 9.078125 0 \r\nL 9.078125 54.6875 \r\nL 18.109375 54.6875 \r\nL 18.109375 46.1875 \r\nQ 21.1875 51.21875 25.484375 53.609375 \r\nQ 29.78125 56 35.6875 56 \r\nQ 41.65625 56 45.828125 52.96875 \r\nQ 50 49.953125 52 44.1875 \r\nz\r\n\" id=\"DejaVuSans-109\"/>\r\n       <path d=\"M 34.28125 27.484375 \r\nQ 23.390625 27.484375 19.1875 25 \r\nQ 14.984375 22.515625 14.984375 16.5 \r\nQ 14.984375 11.71875 18.140625 8.90625 \r\nQ 21.296875 6.109375 26.703125 6.109375 \r\nQ 34.1875 6.109375 38.703125 11.40625 \r\nQ 43.21875 16.703125 43.21875 25.484375 \r\nL 43.21875 27.484375 \r\nz\r\nM 52.203125 31.203125 \r\nL 52.203125 0 \r\nL 43.21875 0 \r\nL 43.21875 8.296875 \r\nQ 40.140625 3.328125 35.546875 0.953125 \r\nQ 30.953125 -1.421875 24.3125 -1.421875 \r\nQ 15.921875 -1.421875 10.953125 3.296875 \r\nQ 6 8.015625 6 15.921875 \r\nQ 6 25.140625 12.171875 29.828125 \r\nQ 18.359375 34.515625 30.609375 34.515625 \r\nL 43.21875 34.515625 \r\nL 43.21875 35.40625 \r\nQ 43.21875 41.609375 39.140625 45 \r\nQ 35.0625 48.390625 27.6875 48.390625 \r\nQ 23 48.390625 18.546875 47.265625 \r\nQ 14.109375 46.140625 10.015625 43.890625 \r\nL 10.015625 52.203125 \r\nQ 14.9375 54.109375 19.578125 55.046875 \r\nQ 24.21875 56 28.609375 56 \r\nQ 40.484375 56 46.34375 49.84375 \r\nQ 52.203125 43.703125 52.203125 31.203125 \r\nz\r\n\" id=\"DejaVuSans-97\"/>\r\n       <path d=\"M 9.421875 54.6875 \r\nL 18.40625 54.6875 \r\nL 18.40625 0 \r\nL 9.421875 0 \r\nz\r\nM 9.421875 75.984375 \r\nL 18.40625 75.984375 \r\nL 18.40625 64.59375 \r\nL 9.421875 64.59375 \r\nz\r\n\" id=\"DejaVuSans-105\"/>\r\n       <path d=\"M 54.890625 33.015625 \r\nL 54.890625 0 \r\nL 45.90625 0 \r\nL 45.90625 32.71875 \r\nQ 45.90625 40.484375 42.875 44.328125 \r\nQ 39.84375 48.1875 33.796875 48.1875 \r\nQ 26.515625 48.1875 22.3125 43.546875 \r\nQ 18.109375 38.921875 18.109375 30.90625 \r\nL 18.109375 0 \r\nL 9.078125 0 \r\nL 9.078125 54.6875 \r\nL 18.109375 54.6875 \r\nL 18.109375 46.1875 \r\nQ 21.34375 51.125 25.703125 53.5625 \r\nQ 30.078125 56 35.796875 56 \r\nQ 45.21875 56 50.046875 50.171875 \r\nQ 54.890625 44.34375 54.890625 33.015625 \r\nz\r\n\" id=\"DejaVuSans-110\"/>\r\n       <path d=\"M 50.984375 -16.609375 \r\nL 50.984375 -23.578125 \r\nL -0.984375 -23.578125 \r\nL -0.984375 -16.609375 \r\nz\r\n\" id=\"DejaVuSans-95\"/>\r\n       <path d=\"M 48.78125 52.59375 \r\nL 48.78125 44.1875 \r\nQ 44.96875 46.296875 41.140625 47.34375 \r\nQ 37.3125 48.390625 33.40625 48.390625 \r\nQ 24.65625 48.390625 19.8125 42.84375 \r\nQ 14.984375 37.3125 14.984375 27.296875 \r\nQ 14.984375 17.28125 19.8125 11.734375 \r\nQ 24.65625 6.203125 33.40625 6.203125 \r\nQ 37.3125 6.203125 41.140625 7.25 \r\nQ 44.96875 8.296875 48.78125 10.40625 \r\nL 48.78125 2.09375 \r\nQ 45.015625 0.34375 40.984375 -0.53125 \r\nQ 36.96875 -1.421875 32.421875 -1.421875 \r\nQ 20.0625 -1.421875 12.78125 6.34375 \r\nQ 5.515625 14.109375 5.515625 27.296875 \r\nQ 5.515625 40.671875 12.859375 48.328125 \r\nQ 20.21875 56 33.015625 56 \r\nQ 37.15625 56 41.109375 55.140625 \r\nQ 45.0625 54.296875 48.78125 52.59375 \r\nz\r\n\" id=\"DejaVuSans-99\"/>\r\n       <path d=\"M 18.3125 70.21875 \r\nL 18.3125 54.6875 \r\nL 36.8125 54.6875 \r\nL 36.8125 47.703125 \r\nL 18.3125 47.703125 \r\nL 18.3125 18.015625 \r\nQ 18.3125 11.328125 20.140625 9.421875 \r\nQ 21.96875 7.515625 27.59375 7.515625 \r\nL 36.8125 7.515625 \r\nL 36.8125 0 \r\nL 27.59375 0 \r\nQ 17.1875 0 13.234375 3.875 \r\nQ 9.28125 7.765625 9.28125 18.015625 \r\nL 9.28125 47.703125 \r\nL 2.6875 47.703125 \r\nL 2.6875 54.6875 \r\nL 9.28125 54.6875 \r\nL 9.28125 70.21875 \r\nz\r\n\" id=\"DejaVuSans-116\"/>\r\n       <path d=\"M 56.203125 29.59375 \r\nL 56.203125 25.203125 \r\nL 14.890625 25.203125 \r\nQ 15.484375 15.921875 20.484375 11.0625 \r\nQ 25.484375 6.203125 34.421875 6.203125 \r\nQ 39.59375 6.203125 44.453125 7.46875 \r\nQ 49.3125 8.734375 54.109375 11.28125 \r\nL 54.109375 2.78125 \r\nQ 49.265625 0.734375 44.1875 -0.34375 \r\nQ 39.109375 -1.421875 33.890625 -1.421875 \r\nQ 20.796875 -1.421875 13.15625 6.1875 \r\nQ 5.515625 13.8125 5.515625 26.8125 \r\nQ 5.515625 40.234375 12.765625 48.109375 \r\nQ 20.015625 56 32.328125 56 \r\nQ 43.359375 56 49.78125 48.890625 \r\nQ 56.203125 41.796875 56.203125 29.59375 \r\nz\r\nM 47.21875 32.234375 \r\nQ 47.125 39.59375 43.09375 43.984375 \r\nQ 39.0625 48.390625 32.421875 48.390625 \r\nQ 24.90625 48.390625 20.390625 44.140625 \r\nQ 15.875 39.890625 15.1875 32.171875 \r\nz\r\n\" id=\"DejaVuSans-101\"/>\r\n       <path d=\"M 45.40625 27.984375 \r\nQ 45.40625 37.75 41.375 43.109375 \r\nQ 37.359375 48.484375 30.078125 48.484375 \r\nQ 22.859375 48.484375 18.828125 43.109375 \r\nQ 14.796875 37.75 14.796875 27.984375 \r\nQ 14.796875 18.265625 18.828125 12.890625 \r\nQ 22.859375 7.515625 30.078125 7.515625 \r\nQ 37.359375 7.515625 41.375 12.890625 \r\nQ 45.40625 18.265625 45.40625 27.984375 \r\nz\r\nM 54.390625 6.78125 \r\nQ 54.390625 -7.171875 48.1875 -13.984375 \r\nQ 42 -20.796875 29.203125 -20.796875 \r\nQ 24.46875 -20.796875 20.265625 -20.09375 \r\nQ 16.0625 -19.390625 12.109375 -17.921875 \r\nL 12.109375 -9.1875 \r\nQ 16.0625 -11.328125 19.921875 -12.34375 \r\nQ 23.78125 -13.375 27.78125 -13.375 \r\nQ 36.625 -13.375 41.015625 -8.765625 \r\nQ 45.40625 -4.15625 45.40625 5.171875 \r\nL 45.40625 9.625 \r\nQ 42.625 4.78125 38.28125 2.390625 \r\nQ 33.9375 0 27.875 0 \r\nQ 17.828125 0 11.671875 7.65625 \r\nQ 5.515625 15.328125 5.515625 27.984375 \r\nQ 5.515625 40.671875 11.671875 48.328125 \r\nQ 17.828125 56 27.875 56 \r\nQ 33.9375 56 38.28125 53.609375 \r\nQ 42.625 51.21875 45.40625 46.390625 \r\nL 45.40625 54.6875 \r\nL 54.390625 54.6875 \r\nz\r\n\" id=\"DejaVuSans-103\"/>\r\n       <path d=\"M 30.609375 48.390625 \r\nQ 23.390625 48.390625 19.1875 42.75 \r\nQ 14.984375 37.109375 14.984375 27.296875 \r\nQ 14.984375 17.484375 19.15625 11.84375 \r\nQ 23.34375 6.203125 30.609375 6.203125 \r\nQ 37.796875 6.203125 41.984375 11.859375 \r\nQ 46.1875 17.53125 46.1875 27.296875 \r\nQ 46.1875 37.015625 41.984375 42.703125 \r\nQ 37.796875 48.390625 30.609375 48.390625 \r\nz\r\nM 30.609375 56 \r\nQ 42.328125 56 49.015625 48.375 \r\nQ 55.71875 40.765625 55.71875 27.296875 \r\nQ 55.71875 13.875 49.015625 6.21875 \r\nQ 42.328125 -1.421875 30.609375 -1.421875 \r\nQ 18.84375 -1.421875 12.171875 6.21875 \r\nQ 5.515625 13.875 5.515625 27.296875 \r\nQ 5.515625 40.765625 12.171875 48.375 \r\nQ 18.84375 56 30.609375 56 \r\nz\r\n\" id=\"DejaVuSans-111\"/>\r\n       <path d=\"M 41.109375 46.296875 \r\nQ 39.59375 47.171875 37.8125 47.578125 \r\nQ 36.03125 48 33.890625 48 \r\nQ 26.265625 48 22.1875 43.046875 \r\nQ 18.109375 38.09375 18.109375 28.8125 \r\nL 18.109375 0 \r\nL 9.078125 0 \r\nL 9.078125 54.6875 \r\nL 18.109375 54.6875 \r\nL 18.109375 46.1875 \r\nQ 20.953125 51.171875 25.484375 53.578125 \r\nQ 30.03125 56 36.53125 56 \r\nQ 37.453125 56 38.578125 55.875 \r\nQ 39.703125 55.765625 41.0625 55.515625 \r\nz\r\n\" id=\"DejaVuSans-114\"/>\r\n       <path d=\"M 32.171875 -5.078125 \r\nQ 28.375 -14.84375 24.75 -17.8125 \r\nQ 21.140625 -20.796875 15.09375 -20.796875 \r\nL 7.90625 -20.796875 \r\nL 7.90625 -13.28125 \r\nL 13.1875 -13.28125 \r\nQ 16.890625 -13.28125 18.9375 -11.515625 \r\nQ 21 -9.765625 23.484375 -3.21875 \r\nL 25.09375 0.875 \r\nL 2.984375 54.6875 \r\nL 12.5 54.6875 \r\nL 29.59375 11.921875 \r\nL 46.6875 54.6875 \r\nL 56.203125 54.6875 \r\nz\r\n\" id=\"DejaVuSans-121\"/>\r\n      </defs>\r\n      <g transform=\"translate(20.559375 210.427775)scale(0.1 -0.1)\">\r\n       <use xlink:href=\"#DejaVuSans-109\"/>\r\n       <use x=\"97.412109\" xlink:href=\"#DejaVuSans-97\"/>\r\n       <use x=\"158.691406\" xlink:href=\"#DejaVuSans-105\"/>\r\n       <use x=\"186.474609\" xlink:href=\"#DejaVuSans-110\"/>\r\n       <use x=\"249.853516\" xlink:href=\"#DejaVuSans-95\"/>\r\n       <use x=\"299.853516\" xlink:href=\"#DejaVuSans-99\"/>\r\n       <use x=\"354.833984\" xlink:href=\"#DejaVuSans-97\"/>\r\n       <use x=\"416.113281\" xlink:href=\"#DejaVuSans-116\"/>\r\n       <use x=\"455.322266\" xlink:href=\"#DejaVuSans-101\"/>\r\n       <use x=\"516.845703\" xlink:href=\"#DejaVuSans-103\"/>\r\n       <use x=\"580.322266\" xlink:href=\"#DejaVuSans-111\"/>\r\n       <use x=\"641.503906\" xlink:href=\"#DejaVuSans-114\"/>\r\n       <use x=\"682.617188\" xlink:href=\"#DejaVuSans-121\"/>\r\n      </g>\r\n     </g>\r\n    </g>\r\n    <g id=\"ytick_2\">\r\n     <g id=\"line2d_10\">\r\n      <g>\r\n       <use style=\"stroke:#000000;stroke-width:0.8;\" x=\"101.740625\" xlink:href=\"#m7908516a21\" y=\"177.559037\"/>\r\n      </g>\r\n     </g>\r\n     <g id=\"text_10\">\r\n      <!-- currency -->\r\n      <defs>\r\n       <path d=\"M 8.5 21.578125 \r\nL 8.5 54.6875 \r\nL 17.484375 54.6875 \r\nL 17.484375 21.921875 \r\nQ 17.484375 14.15625 20.5 10.265625 \r\nQ 23.53125 6.390625 29.59375 6.390625 \r\nQ 36.859375 6.390625 41.078125 11.03125 \r\nQ 45.3125 15.671875 45.3125 23.6875 \r\nL 45.3125 54.6875 \r\nL 54.296875 54.6875 \r\nL 54.296875 0 \r\nL 45.3125 0 \r\nL 45.3125 8.40625 \r\nQ 42.046875 3.421875 37.71875 1 \r\nQ 33.40625 -1.421875 27.6875 -1.421875 \r\nQ 18.265625 -1.421875 13.375 4.4375 \r\nQ 8.5 10.296875 8.5 21.578125 \r\nz\r\nM 31.109375 56 \r\nz\r\n\" id=\"DejaVuSans-117\"/>\r\n      </defs>\r\n      <g transform=\"translate(50.779687 181.358256)scale(0.1 -0.1)\">\r\n       <use xlink:href=\"#DejaVuSans-99\"/>\r\n       <use x=\"54.980469\" xlink:href=\"#DejaVuSans-117\"/>\r\n       <use x=\"118.359375\" xlink:href=\"#DejaVuSans-114\"/>\r\n       <use x=\"159.457031\" xlink:href=\"#DejaVuSans-114\"/>\r\n       <use x=\"200.539062\" xlink:href=\"#DejaVuSans-101\"/>\r\n       <use x=\"262.0625\" xlink:href=\"#DejaVuSans-110\"/>\r\n       <use x=\"325.441406\" xlink:href=\"#DejaVuSans-99\"/>\r\n       <use x=\"380.421875\" xlink:href=\"#DejaVuSans-121\"/>\r\n      </g>\r\n     </g>\r\n    </g>\r\n    <g id=\"ytick_3\">\r\n     <g id=\"line2d_11\">\r\n      <g>\r\n       <use style=\"stroke:#000000;stroke-width:0.8;\" x=\"101.740625\" xlink:href=\"#m7908516a21\" y=\"148.489519\"/>\r\n      </g>\r\n     </g>\r\n     <g id=\"text_11\">\r\n      <!-- backers -->\r\n      <defs>\r\n       <path d=\"M 48.6875 27.296875 \r\nQ 48.6875 37.203125 44.609375 42.84375 \r\nQ 40.53125 48.484375 33.40625 48.484375 \r\nQ 26.265625 48.484375 22.1875 42.84375 \r\nQ 18.109375 37.203125 18.109375 27.296875 \r\nQ 18.109375 17.390625 22.1875 11.75 \r\nQ 26.265625 6.109375 33.40625 6.109375 \r\nQ 40.53125 6.109375 44.609375 11.75 \r\nQ 48.6875 17.390625 48.6875 27.296875 \r\nz\r\nM 18.109375 46.390625 \r\nQ 20.953125 51.265625 25.265625 53.625 \r\nQ 29.59375 56 35.59375 56 \r\nQ 45.5625 56 51.78125 48.09375 \r\nQ 58.015625 40.1875 58.015625 27.296875 \r\nQ 58.015625 14.40625 51.78125 6.484375 \r\nQ 45.5625 -1.421875 35.59375 -1.421875 \r\nQ 29.59375 -1.421875 25.265625 0.953125 \r\nQ 20.953125 3.328125 18.109375 8.203125 \r\nL 18.109375 0 \r\nL 9.078125 0 \r\nL 9.078125 75.984375 \r\nL 18.109375 75.984375 \r\nz\r\n\" id=\"DejaVuSans-98\"/>\r\n       <path d=\"M 9.078125 75.984375 \r\nL 18.109375 75.984375 \r\nL 18.109375 31.109375 \r\nL 44.921875 54.6875 \r\nL 56.390625 54.6875 \r\nL 27.390625 29.109375 \r\nL 57.625 0 \r\nL 45.90625 0 \r\nL 18.109375 26.703125 \r\nL 18.109375 0 \r\nL 9.078125 0 \r\nz\r\n\" id=\"DejaVuSans-107\"/>\r\n       <path d=\"M 44.28125 53.078125 \r\nL 44.28125 44.578125 \r\nQ 40.484375 46.53125 36.375 47.5 \r\nQ 32.28125 48.484375 27.875 48.484375 \r\nQ 21.1875 48.484375 17.84375 46.4375 \r\nQ 14.5 44.390625 14.5 40.28125 \r\nQ 14.5 37.15625 16.890625 35.375 \r\nQ 19.28125 33.59375 26.515625 31.984375 \r\nL 29.59375 31.296875 \r\nQ 39.15625 29.25 43.1875 25.515625 \r\nQ 47.21875 21.78125 47.21875 15.09375 \r\nQ 47.21875 7.46875 41.1875 3.015625 \r\nQ 35.15625 -1.421875 24.609375 -1.421875 \r\nQ 20.21875 -1.421875 15.453125 -0.5625 \r\nQ 10.6875 0.296875 5.421875 2 \r\nL 5.421875 11.28125 \r\nQ 10.40625 8.6875 15.234375 7.390625 \r\nQ 20.0625 6.109375 24.8125 6.109375 \r\nQ 31.15625 6.109375 34.5625 8.28125 \r\nQ 37.984375 10.453125 37.984375 14.40625 \r\nQ 37.984375 18.0625 35.515625 20.015625 \r\nQ 33.0625 21.96875 24.703125 23.78125 \r\nL 21.578125 24.515625 \r\nQ 13.234375 26.265625 9.515625 29.90625 \r\nQ 5.8125 33.546875 5.8125 39.890625 \r\nQ 5.8125 47.609375 11.28125 51.796875 \r\nQ 16.75 56 26.8125 56 \r\nQ 31.78125 56 36.171875 55.265625 \r\nQ 40.578125 54.546875 44.28125 53.078125 \r\nz\r\n\" id=\"DejaVuSans-115\"/>\r\n      </defs>\r\n      <g transform=\"translate(55.50625 152.288737)scale(0.1 -0.1)\">\r\n       <use xlink:href=\"#DejaVuSans-98\"/>\r\n       <use x=\"63.476562\" xlink:href=\"#DejaVuSans-97\"/>\r\n       <use x=\"124.755859\" xlink:href=\"#DejaVuSans-99\"/>\r\n       <use x=\"179.736328\" xlink:href=\"#DejaVuSans-107\"/>\r\n       <use x=\"237.599609\" xlink:href=\"#DejaVuSans-101\"/>\r\n       <use x=\"299.123047\" xlink:href=\"#DejaVuSans-114\"/>\r\n       <use x=\"340.236328\" xlink:href=\"#DejaVuSans-115\"/>\r\n      </g>\r\n     </g>\r\n    </g>\r\n    <g id=\"ytick_4\">\r\n     <g id=\"line2d_12\">\r\n      <g>\r\n       <use style=\"stroke:#000000;stroke-width:0.8;\" x=\"101.740625\" xlink:href=\"#m7908516a21\" y=\"119.42\"/>\r\n      </g>\r\n     </g>\r\n     <g id=\"text_12\">\r\n      <!-- country -->\r\n      <g transform=\"translate(56.498437 123.219219)scale(0.1 -0.1)\">\r\n       <use xlink:href=\"#DejaVuSans-99\"/>\r\n       <use x=\"54.980469\" xlink:href=\"#DejaVuSans-111\"/>\r\n       <use x=\"116.162109\" xlink:href=\"#DejaVuSans-117\"/>\r\n       <use x=\"179.541016\" xlink:href=\"#DejaVuSans-110\"/>\r\n       <use x=\"242.919922\" xlink:href=\"#DejaVuSans-116\"/>\r\n       <use x=\"282.128906\" xlink:href=\"#DejaVuSans-114\"/>\r\n       <use x=\"323.242188\" xlink:href=\"#DejaVuSans-121\"/>\r\n      </g>\r\n     </g>\r\n    </g>\r\n    <g id=\"ytick_5\">\r\n     <g id=\"line2d_13\">\r\n      <g>\r\n       <use style=\"stroke:#000000;stroke-width:0.8;\" x=\"101.740625\" xlink:href=\"#m7908516a21\" y=\"90.350481\"/>\r\n      </g>\r\n     </g>\r\n     <g id=\"text_13\">\r\n      <!-- usd_pledged_real -->\r\n      <defs>\r\n       <path d=\"M 45.40625 46.390625 \r\nL 45.40625 75.984375 \r\nL 54.390625 75.984375 \r\nL 54.390625 0 \r\nL 45.40625 0 \r\nL 45.40625 8.203125 \r\nQ 42.578125 3.328125 38.25 0.953125 \r\nQ 33.9375 -1.421875 27.875 -1.421875 \r\nQ 17.96875 -1.421875 11.734375 6.484375 \r\nQ 5.515625 14.40625 5.515625 27.296875 \r\nQ 5.515625 40.1875 11.734375 48.09375 \r\nQ 17.96875 56 27.875 56 \r\nQ 33.9375 56 38.25 53.625 \r\nQ 42.578125 51.265625 45.40625 46.390625 \r\nz\r\nM 14.796875 27.296875 \r\nQ 14.796875 17.390625 18.875 11.75 \r\nQ 22.953125 6.109375 30.078125 6.109375 \r\nQ 37.203125 6.109375 41.296875 11.75 \r\nQ 45.40625 17.390625 45.40625 27.296875 \r\nQ 45.40625 37.203125 41.296875 42.84375 \r\nQ 37.203125 48.484375 30.078125 48.484375 \r\nQ 22.953125 48.484375 18.875 42.84375 \r\nQ 14.796875 37.203125 14.796875 27.296875 \r\nz\r\n\" id=\"DejaVuSans-100\"/>\r\n       <path d=\"M 18.109375 8.203125 \r\nL 18.109375 -20.796875 \r\nL 9.078125 -20.796875 \r\nL 9.078125 54.6875 \r\nL 18.109375 54.6875 \r\nL 18.109375 46.390625 \r\nQ 20.953125 51.265625 25.265625 53.625 \r\nQ 29.59375 56 35.59375 56 \r\nQ 45.5625 56 51.78125 48.09375 \r\nQ 58.015625 40.1875 58.015625 27.296875 \r\nQ 58.015625 14.40625 51.78125 6.484375 \r\nQ 45.5625 -1.421875 35.59375 -1.421875 \r\nQ 29.59375 -1.421875 25.265625 0.953125 \r\nQ 20.953125 3.328125 18.109375 8.203125 \r\nz\r\nM 48.6875 27.296875 \r\nQ 48.6875 37.203125 44.609375 42.84375 \r\nQ 40.53125 48.484375 33.40625 48.484375 \r\nQ 26.265625 48.484375 22.1875 42.84375 \r\nQ 18.109375 37.203125 18.109375 27.296875 \r\nQ 18.109375 17.390625 22.1875 11.75 \r\nQ 26.265625 6.109375 33.40625 6.109375 \r\nQ 40.53125 6.109375 44.609375 11.75 \r\nQ 48.6875 17.390625 48.6875 27.296875 \r\nz\r\n\" id=\"DejaVuSans-112\"/>\r\n       <path d=\"M 9.421875 75.984375 \r\nL 18.40625 75.984375 \r\nL 18.40625 0 \r\nL 9.421875 0 \r\nz\r\n\" id=\"DejaVuSans-108\"/>\r\n      </defs>\r\n      <g transform=\"translate(7.2 94.1497)scale(0.1 -0.1)\">\r\n       <use xlink:href=\"#DejaVuSans-117\"/>\r\n       <use x=\"63.378906\" xlink:href=\"#DejaVuSans-115\"/>\r\n       <use x=\"115.478516\" xlink:href=\"#DejaVuSans-100\"/>\r\n       <use x=\"178.955078\" xlink:href=\"#DejaVuSans-95\"/>\r\n       <use x=\"228.955078\" xlink:href=\"#DejaVuSans-112\"/>\r\n       <use x=\"292.431641\" xlink:href=\"#DejaVuSans-108\"/>\r\n       <use x=\"320.214844\" xlink:href=\"#DejaVuSans-101\"/>\r\n       <use x=\"381.738281\" xlink:href=\"#DejaVuSans-100\"/>\r\n       <use x=\"445.214844\" xlink:href=\"#DejaVuSans-103\"/>\r\n       <use x=\"508.691406\" xlink:href=\"#DejaVuSans-101\"/>\r\n       <use x=\"570.214844\" xlink:href=\"#DejaVuSans-100\"/>\r\n       <use x=\"633.691406\" xlink:href=\"#DejaVuSans-95\"/>\r\n       <use x=\"683.691406\" xlink:href=\"#DejaVuSans-114\"/>\r\n       <use x=\"724.773438\" xlink:href=\"#DejaVuSans-101\"/>\r\n       <use x=\"786.296875\" xlink:href=\"#DejaVuSans-97\"/>\r\n       <use x=\"847.576172\" xlink:href=\"#DejaVuSans-108\"/>\r\n      </g>\r\n     </g>\r\n    </g>\r\n    <g id=\"ytick_6\">\r\n     <g id=\"line2d_14\">\r\n      <g>\r\n       <use style=\"stroke:#000000;stroke-width:0.8;\" x=\"101.740625\" xlink:href=\"#m7908516a21\" y=\"61.280963\"/>\r\n      </g>\r\n     </g>\r\n     <g id=\"text_14\">\r\n      <!-- usd_goal_real -->\r\n      <g transform=\"translate(26.304687 65.080181)scale(0.1 -0.1)\">\r\n       <use xlink:href=\"#DejaVuSans-117\"/>\r\n       <use x=\"63.378906\" xlink:href=\"#DejaVuSans-115\"/>\r\n       <use x=\"115.478516\" xlink:href=\"#DejaVuSans-100\"/>\r\n       <use x=\"178.955078\" xlink:href=\"#DejaVuSans-95\"/>\r\n       <use x=\"228.955078\" xlink:href=\"#DejaVuSans-103\"/>\r\n       <use x=\"292.431641\" xlink:href=\"#DejaVuSans-111\"/>\r\n       <use x=\"353.613281\" xlink:href=\"#DejaVuSans-97\"/>\r\n       <use x=\"414.892578\" xlink:href=\"#DejaVuSans-108\"/>\r\n       <use x=\"442.675781\" xlink:href=\"#DejaVuSans-95\"/>\r\n       <use x=\"492.675781\" xlink:href=\"#DejaVuSans-114\"/>\r\n       <use x=\"533.757812\" xlink:href=\"#DejaVuSans-101\"/>\r\n       <use x=\"595.28125\" xlink:href=\"#DejaVuSans-97\"/>\r\n       <use x=\"656.560547\" xlink:href=\"#DejaVuSans-108\"/>\r\n      </g>\r\n     </g>\r\n    </g>\r\n    <g id=\"ytick_7\">\r\n     <g id=\"line2d_15\">\r\n      <g>\r\n       <use style=\"stroke:#000000;stroke-width:0.8;\" x=\"101.740625\" xlink:href=\"#m7908516a21\" y=\"32.211444\"/>\r\n      </g>\r\n     </g>\r\n     <g id=\"text_15\">\r\n      <!-- duration -->\r\n      <g transform=\"translate(52.660937 36.010663)scale(0.1 -0.1)\">\r\n       <use xlink:href=\"#DejaVuSans-100\"/>\r\n       <use x=\"63.476562\" xlink:href=\"#DejaVuSans-117\"/>\r\n       <use x=\"126.855469\" xlink:href=\"#DejaVuSans-114\"/>\r\n       <use x=\"167.96875\" xlink:href=\"#DejaVuSans-97\"/>\r\n       <use x=\"229.248047\" xlink:href=\"#DejaVuSans-116\"/>\r\n       <use x=\"268.457031\" xlink:href=\"#DejaVuSans-105\"/>\r\n       <use x=\"296.240234\" xlink:href=\"#DejaVuSans-111\"/>\r\n       <use x=\"357.421875\" xlink:href=\"#DejaVuSans-110\"/>\r\n      </g>\r\n     </g>\r\n    </g>\r\n   </g>\r\n   <g id=\"patch_10\">\r\n    <path d=\"M 101.740625 228.14 \r\nL 101.740625 10.7 \r\n\" style=\"fill:none;stroke:#000000;stroke-linecap:square;stroke-linejoin:miter;stroke-width:0.8;\"/>\r\n   </g>\r\n   <g id=\"patch_11\">\r\n    <path d=\"M 436.540625 228.14 \r\nL 436.540625 10.7 \r\n\" style=\"fill:none;stroke:#000000;stroke-linecap:square;stroke-linejoin:miter;stroke-width:0.8;\"/>\r\n   </g>\r\n   <g id=\"patch_12\">\r\n    <path d=\"M 101.740625 228.14 \r\nL 436.540625 228.14 \r\n\" style=\"fill:none;stroke:#000000;stroke-linecap:square;stroke-linejoin:miter;stroke-width:0.8;\"/>\r\n   </g>\r\n   <g id=\"patch_13\">\r\n    <path d=\"M 101.740625 10.7 \r\nL 436.540625 10.7 \r\n\" style=\"fill:none;stroke:#000000;stroke-linecap:square;stroke-linejoin:miter;stroke-width:0.8;\"/>\r\n   </g>\r\n  </g>\r\n </g>\r\n <defs>\r\n  <clipPath id=\"p71c6c594c6\">\r\n   <rect height=\"217.44\" width=\"334.8\" x=\"101.740625\" y=\"10.7\"/>\r\n  </clipPath>\r\n </defs>\r\n</svg>\r\n",
      "image/png": "[encoded data removed]"
     },
     "metadata": {
      "needs_background": "light"
     }
    }
   ],
   "source": [
    "# LASSOで得た各特徴の係数の値を確認してみよう\n",
    "# 係数の絶対値を取得\n",
    "abs_coef = np.abs(sfm.estimator_.coef_)\n",
    "# 係数を棒グラフで表示\n",
    "plt.barh(np.arange(0, len(abs_coef)), abs_coef, tick_label=X_columns.values)\n",
    "plt.show()"
   ]
  },
  {
   "cell_type": "code",
   "execution_count": 30,
   "metadata": {},
   "outputs": [
    {
     "output_type": "execute_result",
     "data": {
      "text/plain": [
       "   main_category  currency  state  backers  duration\n",
       "0             12         5  False        0        58\n",
       "1              6        13  False       15        59\n",
       "2              6        13  False        3        44\n",
       "3             10        13  False        1        29\n",
       "4              6        13  False       14        55"
      ],
      "text/html": "<div>\n<style scoped>\n    .dataframe tbody tr th:only-of-type {\n        vertical-align: middle;\n    }\n\n    .dataframe tbody tr th {\n        vertical-align: top;\n    }\n\n    .dataframe thead th {\n        text-align: right;\n    }\n</style>\n<table border=\"1\" class=\"dataframe\">\n  <thead>\n    <tr style=\"text-align: right;\">\n      <th></th>\n      <th>main_category</th>\n      <th>currency</th>\n      <th>state</th>\n      <th>backers</th>\n      <th>duration</th>\n    </tr>\n  </thead>\n  <tbody>\n    <tr>\n      <th>0</th>\n      <td>12</td>\n      <td>5</td>\n      <td>False</td>\n      <td>0</td>\n      <td>58</td>\n    </tr>\n    <tr>\n      <th>1</th>\n      <td>6</td>\n      <td>13</td>\n      <td>False</td>\n      <td>15</td>\n      <td>59</td>\n    </tr>\n    <tr>\n      <th>2</th>\n      <td>6</td>\n      <td>13</td>\n      <td>False</td>\n      <td>3</td>\n      <td>44</td>\n    </tr>\n    <tr>\n      <th>3</th>\n      <td>10</td>\n      <td>13</td>\n      <td>False</td>\n      <td>1</td>\n      <td>29</td>\n    </tr>\n    <tr>\n      <th>4</th>\n      <td>6</td>\n      <td>13</td>\n      <td>False</td>\n      <td>14</td>\n      <td>55</td>\n    </tr>\n  </tbody>\n</table>\n</div>"
     },
     "metadata": {},
     "execution_count": 30
    }
   ],
   "source": [
    "feature_selection_df = base_df.drop(list(X_columns[removed_idx]), axis=1)\n",
    "feature_selection_df.head(5)"
   ]
  },
  {
   "source": [
    "### 4. モデルの評価\n",
    "#### 4.1 ロジスティック回帰の学習"
   ],
   "cell_type": "markdown",
   "metadata": {}
  },
  {
   "source": [
    "base_dfとfeature_selection_dfのどちらがよい説明変数になっているか比較する"
   ],
   "cell_type": "markdown",
   "metadata": {}
  },
  {
   "cell_type": "code",
   "execution_count": 31,
   "metadata": {},
   "outputs": [],
   "source": [
    "from sklearn.preprocessing import StandardScaler\n",
    "from sklearn.model_selection import KFold\n",
    "from sklearn.linear_model import SGDClassifier\n",
    "from sklearn.ensemble import RandomForestClassifier, AdaBoostClassifier\n",
    "from sklearn.tree import DecisionTreeClassifier\n",
    "from sklearn.svm import SVC\n",
    "from sklearn.metrics import log_loss, accuracy_score, confusion_matrix, precision_recall_fscore_support"
   ]
  },
  {
   "cell_type": "code",
   "execution_count": 32,
   "metadata": {},
   "outputs": [],
   "source": [
    "def train_model(X, y, model_name='svm', use_scaler=False):\n",
    "    '''\n",
    "    k-交差検証法によるモデル評価\n",
    "    '''\n",
    "    n_split = 5\n",
    "\n",
    "    cross_valid_accuracy = 0\n",
    "    split_num = 1\n",
    "\n",
    "    for train_idx, test_idx in KFold(n_splits=n_split, shuffle=True, random_state=2020).split(X, y):\n",
    "        X_train, y_train = X[train_idx], y[train_idx]\n",
    "        X_test, y_test = X[test_idx], y[test_idx]\n",
    "\n",
    "        if use_scaler:\n",
    "            scaler = StandardScaler()\n",
    "            X_train = scaler.fit_transform(X_train)\n",
    "            X_test = scaler.transform(X_test)\n",
    "        \n",
    "        if model_name == 'svm':\n",
    "            model = SVC(C=10, kernel='rbf', gamma='scale')\n",
    "        elif model_name == 'rf':\n",
    "            clf = RandomForestClassifier(n_estimators=10, max_depth=2, criterion=\"gini\", min_samples_leaf=2, min_samples_split=2, random_state=2020)\n",
    "        elif model_name == 'ada':\n",
    "            clf = AdaBoostClassifier(DecisionTreeClassifier(max_depth=3, min_samples_leaf=2, min_samples_split=2, random_state=2020, criterion=\"gini\"), n_estimators=10, random_state=1234)\n",
    "        else:\n",
    "            model = SGDClassifier(loss='log', penalty='l2', max_iter=10000, fit_intercept=True, random_state=2020, tol=1e-3)\n",
    "        \n",
    "        model.fit(X_train, y_train)\n",
    "\n",
    "        # テストデータに対する予測\n",
    "        y_pred_test = model.predict(X_test)\n",
    "        \n",
    "        # テストデータに対する正答率を計算\n",
    "        accuracy =  accuracy_score(y_test, y_pred_test)\n",
    "        print(\"Fold %s\"%split_num)\n",
    "        print('正答率（Accuracy） = {:.3f}%\\n'.format(100 * accuracy))\n",
    "        \n",
    "        cross_valid_accuracy += accuracy\n",
    "        split_num += 1\n",
    "\n",
    "    # 平均正答率を最終的な汎化誤差値とする\n",
    "    final_accuracy = cross_valid_accuracy / n_split\n",
    "    print('Cross Validation Accuracy = {:.3f}%'.format(100 * final_accuracy))"
   ]
  },
  {
   "cell_type": "code",
   "execution_count": 33,
   "metadata": {},
   "outputs": [
    {
     "output_type": "stream",
     "name": "stdout",
     "text": [
      "Fold 1\n",
      "正答率（Accuracy） = 96.036%\n",
      "\n",
      "Fold 2\n",
      "正答率（Accuracy） = 99.123%\n",
      "\n",
      "Fold 3\n",
      "正答率（Accuracy） = 97.471%\n",
      "\n",
      "Fold 4\n",
      "正答率（Accuracy） = 99.099%\n",
      "\n",
      "Fold 5\n",
      "正答率（Accuracy） = 99.095%\n",
      "\n",
      "Cross Validation Accuracy = 98.165%\n"
     ]
    }
   ],
   "source": [
    "# base_df\n",
    "X = base_df.drop('state', axis=1).values\n",
    "y = base_df['state'].values\n",
    "train_model(X, y, model_name='log_regr', use_scaler=False)"
   ]
  },
  {
   "cell_type": "code",
   "execution_count": 34,
   "metadata": {},
   "outputs": [
    {
     "output_type": "stream",
     "name": "stdout",
     "text": [
      "Fold 1\n",
      "正答率（Accuracy） = 79.605%\n",
      "\n",
      "Fold 2\n",
      "正答率（Accuracy） = 82.037%\n",
      "\n",
      "Fold 3\n",
      "正答率（Accuracy） = 84.400%\n",
      "\n",
      "Fold 4\n",
      "正答率（Accuracy） = 76.272%\n",
      "\n",
      "Fold 5\n",
      "正答率（Accuracy） = 83.547%\n",
      "\n",
      "Cross Validation Accuracy = 81.172%\n"
     ]
    }
   ],
   "source": [
    "# feature_section_df\n",
    "X = feature_selection_df.drop('state', axis=1).values\n",
    "y = feature_selection_df['state'].values\n",
    "train_model(X, y, model_name='log_regr', use_scaler=False)"
   ]
  },
  {
   "source": [
    "base_dfの方が優れた説明変数であることが分かる。  \n",
    "したがって、これまで通りbase_dfを使ってモデルを学習させる。"
   ],
   "cell_type": "markdown",
   "metadata": {}
  },
  {
   "source": [
    "グリッド探索で精度が上がるハイパーパラメータを探す。"
   ],
   "cell_type": "markdown",
   "metadata": {}
  },
  {
   "cell_type": "code",
   "execution_count": 18,
   "metadata": {},
   "outputs": [],
   "source": [
    "from sklearn.model_selection import train_test_split\n",
    "from sklearn.model_selection import GridSearchCV"
   ]
  },
  {
   "cell_type": "code",
   "execution_count": 19,
   "metadata": {},
   "outputs": [
    {
     "output_type": "stream",
     "name": "stdout",
     "text": [
      "Fitting 5 folds for each of 10 candidates, totalling 50 fits\n",
      "[Parallel(n_jobs=8)]: Using backend LokyBackend with 8 concurrent workers.\n",
      "[Parallel(n_jobs=8)]: Done  25 tasks      | elapsed:    2.4s\n",
      "[Parallel(n_jobs=8)]: Done  50 out of  50 | elapsed:    3.3s finished\n",
      "{'alpha': 0.001, 'loss': 'log', 'penalty': 'l1'}\n"
     ]
    }
   ],
   "source": [
    "X_train, X_test, y_train, y_test = train_test_split(X, y, test_size=0.2, random_state=2020, shuffle=True)\n",
    "parameters = {'penalty':['l1', 'l2'], 'alpha':[0.001, 0.01, 0.1, 1, 10],'loss':['log']}\n",
    "model = SGDClassifier(random_state=2020)\n",
    "clf = GridSearchCV(model, parameters, cv=5, verbose=2, n_jobs=8)\n",
    "clf.fit(X_train, y_train)\n",
    "print(clf.best_params_)"
   ]
  },
  {
   "cell_type": "code",
   "execution_count": 20,
   "metadata": {},
   "outputs": [
    {
     "output_type": "execute_result",
     "data": {
      "text/plain": [
       "SGDClassifier(alpha=0.001, average=False, class_weight=None,\n",
       "       early_stopping=False, epsilon=0.1, eta0=0.0, fit_intercept=True,\n",
       "       l1_ratio=0.15, learning_rate='optimal', loss='log', max_iter=10000,\n",
       "       n_iter=None, n_iter_no_change=5, n_jobs=None, penalty='l1',\n",
       "       power_t=0.5, random_state=None, shuffle=True, tol=0.001,\n",
       "       validation_fraction=0.1, verbose=0, warm_start=False)"
      ]
     },
     "metadata": {},
     "execution_count": 20
    }
   ],
   "source": [
    "# ロジスティック回帰の最終モデル\n",
    "model = SGDClassifier(**clf.best_params_, max_iter=10000, fit_intercept=True, tol=1e-3)\n",
    "model.fit(X_train, y_train)"
   ]
  },
  {
   "cell_type": "code",
   "execution_count": 21,
   "metadata": {},
   "outputs": [],
   "source": [
    "def evaluate_model(model, X, y):\n",
    "    '''\n",
    "    モデルを評価する\n",
    "    '''\n",
    "    # ラベルを予測\n",
    "    y_pred = model.predict(X)\n",
    "\n",
    "    # 対数尤度を表示\n",
    "    print('対数尤度 = {:.3f}'.format(-log_loss(y, y_pred)))\n",
    "\n",
    "    # 正答率を計算\n",
    "    accuracy =  accuracy_score(y, y_pred)\n",
    "    print('正答率（Accuracy） = {:.3f}%'.format(100 * accuracy))\n",
    "\n",
    "    # Precision, Recall, F1-scoreを計算\n",
    "    precision, recall, f1_score, _ = precision_recall_fscore_support(y, y_pred)\n",
    "\n",
    "    # Precision, Recall, F1-scoreを表示\n",
    "    print('適合率（Precision） = {:.3f}%'.format(100 * precision[1]))\n",
    "    print('再現率（Recall） = {:.3f}%'.format(100 * recall[1]))\n",
    "    print('F1値（F1-score） = {:.3f}%'.format(100 * f1_score[1]))\n",
    "\n",
    "    # 予測値と正解のクロス集計（混同行列）\n",
    "    conf_mat = confusion_matrix(y, y_pred)\n",
    "    conf_mat = pd.DataFrame(conf_mat, index=['正解', '正解'], columns=['予測', '予測'])\n",
    "    display(conf_mat)"
   ]
  },
  {
   "cell_type": "code",
   "execution_count": 22,
   "metadata": {},
   "outputs": [
    {
     "output_type": "stream",
     "name": "stdout",
     "text": [
      "対数尤度 = -8.096\n正答率（Accuracy） = 76.558%\n適合率（Precision） = 86.165%\n再現率（Recall） = 40.223%\nF1値（F1-score） = 54.845%\n"
     ]
    },
    {
     "output_type": "display_data",
     "data": {
      "text/plain": "        予測     予測\n正解  188793   6924\n正解   64087  43124",
      "text/html": "<div>\n<style scoped>\n    .dataframe tbody tr th:only-of-type {\n        vertical-align: middle;\n    }\n\n    .dataframe tbody tr th {\n        vertical-align: top;\n    }\n\n    .dataframe thead th {\n        text-align: right;\n    }\n</style>\n<table border=\"1\" class=\"dataframe\">\n  <thead>\n    <tr style=\"text-align: right;\">\n      <th></th>\n      <th>予測</th>\n      <th>予測</th>\n    </tr>\n  </thead>\n  <tbody>\n    <tr>\n      <th>正解</th>\n      <td>188793</td>\n      <td>6924</td>\n    </tr>\n    <tr>\n      <th>正解</th>\n      <td>64087</td>\n      <td>43124</td>\n    </tr>\n  </tbody>\n</table>\n</div>"
     },
     "metadata": {}
    }
   ],
   "source": [
    "# 訓練データに対する評価\n",
    "evaluate_model(model, X_train, y_train)"
   ]
  },
  {
   "cell_type": "code",
   "execution_count": 23,
   "metadata": {},
   "outputs": [
    {
     "output_type": "stream",
     "name": "stdout",
     "text": [
      "対数尤度 = -8.093\n正答率（Accuracy） = 76.569%\n適合率（Precision） = 86.081%\n再現率（Recall） = 40.142%\nF1値（F1-score） = 54.752%\n"
     ]
    },
    {
     "output_type": "display_data",
     "data": {
      "text/plain": "       予測     予測\n正解  47252   1736\n正解  16009  10736",
      "text/html": "<div>\n<style scoped>\n    .dataframe tbody tr th:only-of-type {\n        vertical-align: middle;\n    }\n\n    .dataframe tbody tr th {\n        vertical-align: top;\n    }\n\n    .dataframe thead th {\n        text-align: right;\n    }\n</style>\n<table border=\"1\" class=\"dataframe\">\n  <thead>\n    <tr style=\"text-align: right;\">\n      <th></th>\n      <th>予測</th>\n      <th>予測</th>\n    </tr>\n  </thead>\n  <tbody>\n    <tr>\n      <th>正解</th>\n      <td>47252</td>\n      <td>1736</td>\n    </tr>\n    <tr>\n      <th>正解</th>\n      <td>16009</td>\n      <td>10736</td>\n    </tr>\n  </tbody>\n</table>\n</div>"
     },
     "metadata": {}
    }
   ],
   "source": [
    "# テストデータに対する評価\n",
    "evaluate_model(model, X_test, y_test)"
   ]
  },
  {
   "source": [
    "#### 4.2 SVMの学習"
   ],
   "cell_type": "markdown",
   "metadata": {}
  },
  {
   "cell_type": "code",
   "execution_count": 24,
   "metadata": {},
   "outputs": [],
   "source": [
    "X_train, X_test, y_train, y_test = train_test_split(X, y, test_size=0.2, random_state=2020, shuffle=True)\n",
    "use_size = int(len(X) / 2)"
   ]
  },
  {
   "source": [
    "k-交差検証法で標準化するべきか確認する。"
   ],
   "cell_type": "markdown",
   "metadata": {}
  },
  {
   "cell_type": "code",
   "execution_count": 25,
   "metadata": {},
   "outputs": [],
   "source": [
    "train_model(X[:use_size], y[:use_size], model_name='svm', use_scaler=False)"
   ]
  },
  {
   "cell_type": "code",
   "execution_count": 30,
   "metadata": {},
   "outputs": [
    {
     "output_type": "stream",
     "name": "stdout",
     "text": [
      "Fold 1\n",
      "正答率（Accuracy） = 90.554%\n",
      "\n",
      "Fold 2\n",
      "正答率（Accuracy） = 89.867%\n",
      "\n",
      "Fold 3\n",
      "正答率（Accuracy） = 90.065%\n",
      "\n",
      "Fold 4\n",
      "正答率（Accuracy） = 89.814%\n",
      "\n",
      "Fold 5\n",
      "正答率（Accuracy） = 89.613%\n",
      "\n",
      "Cross Validation Accuracy = 89.983%\n"
     ]
    }
   ],
   "source": [
    "train_model(X[:use_size], y[:use_size], model_name='svm', use_scaler=True)"
   ]
  },
  {
   "source": [
    "SVMモデルの場合も標準化をしないほうが精度が良い。よって、標準化をしない方針をとる。  \n",
    "次に、良いペナルティ項を探す。"
   ],
   "cell_type": "markdown",
   "metadata": {}
  },
  {
   "cell_type": "code",
   "execution_count": 31,
   "metadata": {},
   "outputs": [
    {
     "output_type": "stream",
     "name": "stdout",
     "text": [
      "Fitting 5 folds for each of 4 candidates, totalling 20 fits\n",
      "[Parallel(n_jobs=8)]: Using backend LokyBackend with 8 concurrent workers.\n",
      "[Parallel(n_jobs=8)]: Done  16 out of  20 | elapsed:  6.0min remaining:  1.5min\n",
      "[Parallel(n_jobs=8)]: Done  20 out of  20 | elapsed:  6.9min finished\n",
      "{'C': 100}\n"
     ]
    }
   ],
   "source": [
    "parameters = {'C': [5, 10, 50, 100]}\n",
    "model = SVC(kernel='rbf', gamma='scale')\n",
    "clf = GridSearchCV(model, parameters, cv=5, verbose=2, n_jobs=8)\n",
    "\n",
    "# 実行時間が長くなるため、使用するデータ数を四分の一にして最適なハイパーパラメータを探索する\n",
    "use_size = int(len(X_train) / 4)\n",
    "clf.fit(X_train[:use_size], y_train[:use_size])\n",
    "print(clf.best_params_)"
   ]
  },
  {
   "cell_type": "code",
   "execution_count": 32,
   "metadata": {},
   "outputs": [
    {
     "output_type": "stream",
     "name": "stdout",
     "text": [
      "識別精度= 0.9694056752010353\n"
     ]
    }
   ],
   "source": [
    "# SVMの最終モデル\n",
    "model = SVC(**clf.best_params_, kernel='rbf', gamma=\"scale\")\n",
    "model.fit(X_train, y_train)\n",
    "print(\"識別精度=\", model.score(X_test, y_test))"
   ]
  },
  {
   "cell_type": "code",
   "execution_count": 33,
   "metadata": {},
   "outputs": [
    {
     "output_type": "stream",
     "name": "stdout",
     "text": [
      "対数尤度 = -1.073\n正答率（Accuracy） = 96.894%\n適合率（Precision） = 91.936%\n再現率（Recall） = 99.995%\nF1値（F1-score） = 95.797%\n"
     ]
    },
    {
     "output_type": "display_data",
     "data": {
      "text/plain": "        予測      予測\n正解  186314    9403\n正解       5  107206",
      "text/html": "<div>\n<style scoped>\n    .dataframe tbody tr th:only-of-type {\n        vertical-align: middle;\n    }\n\n    .dataframe tbody tr th {\n        vertical-align: top;\n    }\n\n    .dataframe thead th {\n        text-align: right;\n    }\n</style>\n<table border=\"1\" class=\"dataframe\">\n  <thead>\n    <tr style=\"text-align: right;\">\n      <th></th>\n      <th>予測</th>\n      <th>予測</th>\n    </tr>\n  </thead>\n  <tbody>\n    <tr>\n      <th>正解</th>\n      <td>186314</td>\n      <td>9403</td>\n    </tr>\n    <tr>\n      <th>正解</th>\n      <td>5</td>\n      <td>107206</td>\n    </tr>\n  </tbody>\n</table>\n</div>"
     },
     "metadata": {}
    }
   ],
   "source": [
    "# 訓練データに対する評価\n",
    "evaluate_model(model, X_train, y_train)"
   ]
  },
  {
   "cell_type": "code",
   "execution_count": 34,
   "metadata": {},
   "outputs": [
    {
     "output_type": "stream",
     "name": "stdout",
     "text": [
      "対数尤度 = -1.057\n正答率（Accuracy） = 96.941%\n適合率（Precision） = 92.036%\n再現率（Recall） = 99.989%\nF1値（F1-score） = 95.848%\n"
     ]
    },
    {
     "output_type": "display_data",
     "data": {
      "text/plain": "       予測     予測\n正解  46674   2314\n正解      3  26742",
      "text/html": "<div>\n<style scoped>\n    .dataframe tbody tr th:only-of-type {\n        vertical-align: middle;\n    }\n\n    .dataframe tbody tr th {\n        vertical-align: top;\n    }\n\n    .dataframe thead th {\n        text-align: right;\n    }\n</style>\n<table border=\"1\" class=\"dataframe\">\n  <thead>\n    <tr style=\"text-align: right;\">\n      <th></th>\n      <th>予測</th>\n      <th>予測</th>\n    </tr>\n  </thead>\n  <tbody>\n    <tr>\n      <th>正解</th>\n      <td>46674</td>\n      <td>2314</td>\n    </tr>\n    <tr>\n      <th>正解</th>\n      <td>3</td>\n      <td>26742</td>\n    </tr>\n  </tbody>\n</table>\n</div>"
     },
     "metadata": {}
    }
   ],
   "source": [
    "# テストデータに対する評価\n",
    "evaluate_model(model, X_test, y_test)"
   ]
  }
 ]
}